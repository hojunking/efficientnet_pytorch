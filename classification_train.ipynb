{
 "cells": [
  {
   "cell_type": "code",
   "execution_count": 1,
   "id": "32c4ea0f",
   "metadata": {},
   "outputs": [],
   "source": [
    "import os, re, magic, shutil\n",
    "from glob import glob\n",
    "import time, datetime\n",
    "import random\n",
    "import pandas as pd\n",
    "import numpy as np\n",
    "from tqdm import tqdm\n",
    "import shutil\n",
    "import warnings\n",
    "import joblib\n",
    "\n",
    "import cv2\n",
    "from PIL import Image\n",
    "import matplotlib.pyplot as plt\n",
    "import torch, gc\n",
    "from torch import nn\n",
    "from torch.utils.data import Dataset,DataLoader\n",
    "from torch.utils.data.sampler import SequentialSampler, RandomSampler\n",
    "from torch.cuda.amp import autocast, GradScaler\n",
    "from torch.nn.modules.loss import _WeightedLoss\n",
    "import torch.nn.functional as F\n",
    "import torchvision\n",
    "from torchvision import transforms\n",
    "\n",
    "import sklearn\n",
    "#from skimage import io\n",
    "from sklearn.model_selection import GroupKFold, StratifiedKFold\n",
    "from sklearn.metrics import roc_auc_score, log_loss\n",
    "from sklearn import metrics\n",
    "from sklearn.metrics import confusion_matrix\n",
    "from sklearn.metrics import classification_report\n",
    "from scipy.ndimage import zoom\n",
    "\n",
    "import timm\n",
    "from timm.data import resolve_data_config\n",
    "from timm.data.transforms_factory import create_transform\n",
    "\n",
    "import wandb"
   ]
  },
  {
   "cell_type": "code",
   "execution_count": null,
   "id": "4fa4b3c7",
   "metadata": {},
   "outputs": [],
   "source": [
    " "
   ]
  },
  {
   "cell_type": "code",
   "execution_count": 17,
   "id": "1550fb41",
   "metadata": {},
   "outputs": [],
   "source": [
    "#cecum = 1, else = 0\n",
    "\n",
    "label_path = 'Data/라벨링데이터/'\n",
    "img_path = 'Data/원천데이터/'"
   ]
  },
  {
   "cell_type": "code",
   "execution_count": null,
   "id": "d7ca7fe7",
   "metadata": {},
   "outputs": [],
   "source": []
  },
  {
   "cell_type": "code",
   "execution_count": 22,
   "id": "065e7321",
   "metadata": {},
   "outputs": [],
   "source": [
    "label_dir = [label_path + x for x in os.listdir(label_path) if '.json' not in x]\n",
    "img_dir = [img_path + x for x in os.listdir(img_path) if '.json' not in x]"
   ]
  },
  {
   "cell_type": "markdown",
   "id": "31a6b466",
   "metadata": {},
   "source": []
  },
  {
   "cell_type": "code",
   "execution_count": 23,
   "id": "91331c94",
   "metadata": {},
   "outputs": [
    {
     "data": {
      "text/plain": [
       "['Data/라벨링데이터/KI_기아',\n",
       " 'Data/라벨링데이터/RS_르노삼성',\n",
       " 'Data/라벨링데이터/CH_쉐보레',\n",
       " 'Data/라벨링데이터/SS_쌍용',\n",
       " 'Data/라벨링데이터/AU_아우디',\n",
       " 'Data/라벨링데이터/RE_르노',\n",
       " 'Data/라벨링데이터/BE_벤츠',\n",
       " 'Data/라벨링데이터/HY_현대',\n",
       " 'Data/라벨링데이터/KG_한국지엠',\n",
       " 'Data/라벨링데이터/BM_BMW']"
      ]
     },
     "execution_count": 23,
     "metadata": {},
     "output_type": "execute_result"
    }
   ],
   "source": [
    "label_dir"
   ]
  },
  {
   "cell_type": "code",
   "execution_count": 15,
   "id": "73051fe5",
   "metadata": {},
   "outputs": [],
   "source": [
    "random.shuffle(true_dir)\n",
    "random.shuffle(false_dir)"
   ]
  },
  {
   "cell_type": "code",
   "execution_count": 16,
   "id": "2b7fdcb0",
   "metadata": {},
   "outputs": [
    {
     "name": "stdout",
     "output_type": "stream",
     "text": [
      "10\n"
     ]
    }
   ],
   "source": [
    "print(len(true_dir))"
   ]
  },
  {
   "cell_type": "code",
   "execution_count": 8,
   "id": "723e3f23",
   "metadata": {},
   "outputs": [],
   "source": [
    "true_label = [1]*int(len(true_dir))"
   ]
  },
  {
   "cell_type": "code",
   "execution_count": 9,
   "id": "0f238962",
   "metadata": {},
   "outputs": [
    {
     "name": "stdout",
     "output_type": "stream",
     "text": [
      "[1, 1, 1, 1, 1, 1, 1, 1, 1, 1]\n"
     ]
    }
   ],
   "source": [
    "print(true_label[:10])"
   ]
  },
  {
   "cell_type": "code",
   "execution_count": 10,
   "id": "6903a49f",
   "metadata": {},
   "outputs": [
    {
     "name": "stdout",
     "output_type": "stream",
     "text": [
      "10\n"
     ]
    }
   ],
   "source": [
    "print(len(true_label))"
   ]
  },
  {
   "cell_type": "code",
   "execution_count": null,
   "id": "6fb9e790",
   "metadata": {},
   "outputs": [],
   "source": []
  },
  {
   "cell_type": "code",
   "execution_count": 9,
   "id": "47cfa4f3",
   "metadata": {},
   "outputs": [
    {
     "name": "stdout",
     "output_type": "stream",
     "text": [
      "11250\n"
     ]
    }
   ],
   "source": [
    "print(len(false_dir))"
   ]
  },
  {
   "cell_type": "code",
   "execution_count": 10,
   "id": "36dc6237",
   "metadata": {},
   "outputs": [],
   "source": [
    "false_label = [0]*int(len(false_dir))"
   ]
  },
  {
   "cell_type": "code",
   "execution_count": 11,
   "id": "4d41c047",
   "metadata": {},
   "outputs": [
    {
     "name": "stdout",
     "output_type": "stream",
     "text": [
      "[0, 0, 0, 0, 0, 0, 0, 0, 0, 0]\n"
     ]
    }
   ],
   "source": [
    "print(false_label[:10])"
   ]
  },
  {
   "cell_type": "code",
   "execution_count": 12,
   "id": "e0212eaf",
   "metadata": {},
   "outputs": [
    {
     "name": "stdout",
     "output_type": "stream",
     "text": [
      "11250\n"
     ]
    }
   ],
   "source": [
    "print(len(false_label))"
   ]
  },
  {
   "cell_type": "code",
   "execution_count": null,
   "id": "b3cf3092",
   "metadata": {},
   "outputs": [],
   "source": []
  },
  {
   "cell_type": "code",
   "execution_count": 13,
   "id": "efd59d51",
   "metadata": {},
   "outputs": [],
   "source": [
    "whole_dir = true_dir + false_dir"
   ]
  },
  {
   "cell_type": "code",
   "execution_count": 14,
   "id": "3d55bae1",
   "metadata": {},
   "outputs": [],
   "source": [
    "whole_label = true_label + false_label"
   ]
  },
  {
   "cell_type": "code",
   "execution_count": 15,
   "id": "0cbe7423",
   "metadata": {},
   "outputs": [
    {
     "name": "stdout",
     "output_type": "stream",
     "text": [
      "12524\n"
     ]
    }
   ],
   "source": [
    "print(len(whole_dir))"
   ]
  },
  {
   "cell_type": "code",
   "execution_count": 16,
   "id": "fa257365",
   "metadata": {},
   "outputs": [
    {
     "name": "stdout",
     "output_type": "stream",
     "text": [
      "12524\n"
     ]
    }
   ],
   "source": [
    "print(len(whole_label))"
   ]
  },
  {
   "cell_type": "code",
   "execution_count": null,
   "id": "d4f5d3e4",
   "metadata": {},
   "outputs": [],
   "source": []
  },
  {
   "cell_type": "code",
   "execution_count": 17,
   "id": "412c68f0",
   "metadata": {},
   "outputs": [
    {
     "data": {
      "text/html": [
       "<div>\n",
       "<style scoped>\n",
       "    .dataframe tbody tr th:only-of-type {\n",
       "        vertical-align: middle;\n",
       "    }\n",
       "\n",
       "    .dataframe tbody tr th {\n",
       "        vertical-align: top;\n",
       "    }\n",
       "\n",
       "    .dataframe thead th {\n",
       "        text-align: right;\n",
       "    }\n",
       "</style>\n",
       "<table border=\"1\" class=\"dataframe\">\n",
       "  <thead>\n",
       "    <tr style=\"text-align: right;\">\n",
       "      <th></th>\n",
       "      <th>image_id</th>\n",
       "      <th>dir</th>\n",
       "      <th>label</th>\n",
       "    </tr>\n",
       "  </thead>\n",
       "  <tbody>\n",
       "    <tr>\n",
       "      <th>0</th>\n",
       "      <td>V0337_0110.png</td>\n",
       "      <td>/Data/data/data_gsun/Cecum/experiment/train/cecum</td>\n",
       "      <td>1</td>\n",
       "    </tr>\n",
       "    <tr>\n",
       "      <th>1</th>\n",
       "      <td>V0461_0017.png</td>\n",
       "      <td>/Data/data/data_gsun/Cecum/experiment/train/cecum</td>\n",
       "      <td>1</td>\n",
       "    </tr>\n",
       "    <tr>\n",
       "      <th>2</th>\n",
       "      <td>V0404_0016.png</td>\n",
       "      <td>/Data/data/data_gsun/Cecum/experiment/train/cecum</td>\n",
       "      <td>1</td>\n",
       "    </tr>\n",
       "    <tr>\n",
       "      <th>3</th>\n",
       "      <td>V0609_0027.png</td>\n",
       "      <td>/Data/data/data_gsun/Cecum/experiment/train/cecum</td>\n",
       "      <td>1</td>\n",
       "    </tr>\n",
       "    <tr>\n",
       "      <th>4</th>\n",
       "      <td>V0313_0066.png</td>\n",
       "      <td>/Data/data/data_gsun/Cecum/experiment/train/cecum</td>\n",
       "      <td>1</td>\n",
       "    </tr>\n",
       "    <tr>\n",
       "      <th>...</th>\n",
       "      <td>...</td>\n",
       "      <td>...</td>\n",
       "      <td>...</td>\n",
       "    </tr>\n",
       "    <tr>\n",
       "      <th>12519</th>\n",
       "      <td>V1589_2021_0139_003491.png</td>\n",
       "      <td>/Data/data/data_gsun/Cecum/experiment/train/no...</td>\n",
       "      <td>0</td>\n",
       "    </tr>\n",
       "    <tr>\n",
       "      <th>12520</th>\n",
       "      <td>V1829_2021_0379_003616.png</td>\n",
       "      <td>/Data/data/data_gsun/Cecum/experiment/train/no...</td>\n",
       "      <td>0</td>\n",
       "    </tr>\n",
       "    <tr>\n",
       "      <th>12521</th>\n",
       "      <td>V1589_2021_0139_002625.png</td>\n",
       "      <td>/Data/data/data_gsun/Cecum/experiment/train/no...</td>\n",
       "      <td>0</td>\n",
       "    </tr>\n",
       "    <tr>\n",
       "      <th>12522</th>\n",
       "      <td>V1589_2021_0139_002070.png</td>\n",
       "      <td>/Data/data/data_gsun/Cecum/experiment/train/no...</td>\n",
       "      <td>0</td>\n",
       "    </tr>\n",
       "    <tr>\n",
       "      <th>12523</th>\n",
       "      <td>V1485_2021_0035_001624.png</td>\n",
       "      <td>/Data/data/data_gsun/Cecum/experiment/train/no...</td>\n",
       "      <td>0</td>\n",
       "    </tr>\n",
       "  </tbody>\n",
       "</table>\n",
       "<p>12524 rows × 3 columns</p>\n",
       "</div>"
      ],
      "text/plain": [
       "                         image_id  \\\n",
       "0                  V0337_0110.png   \n",
       "1                  V0461_0017.png   \n",
       "2                  V0404_0016.png   \n",
       "3                  V0609_0027.png   \n",
       "4                  V0313_0066.png   \n",
       "...                           ...   \n",
       "12519  V1589_2021_0139_003491.png   \n",
       "12520  V1829_2021_0379_003616.png   \n",
       "12521  V1589_2021_0139_002625.png   \n",
       "12522  V1589_2021_0139_002070.png   \n",
       "12523  V1485_2021_0035_001624.png   \n",
       "\n",
       "                                                     dir  label  \n",
       "0      /Data/data/data_gsun/Cecum/experiment/train/cecum      1  \n",
       "1      /Data/data/data_gsun/Cecum/experiment/train/cecum      1  \n",
       "2      /Data/data/data_gsun/Cecum/experiment/train/cecum      1  \n",
       "3      /Data/data/data_gsun/Cecum/experiment/train/cecum      1  \n",
       "4      /Data/data/data_gsun/Cecum/experiment/train/cecum      1  \n",
       "...                                                  ...    ...  \n",
       "12519  /Data/data/data_gsun/Cecum/experiment/train/no...      0  \n",
       "12520  /Data/data/data_gsun/Cecum/experiment/train/no...      0  \n",
       "12521  /Data/data/data_gsun/Cecum/experiment/train/no...      0  \n",
       "12522  /Data/data/data_gsun/Cecum/experiment/train/no...      0  \n",
       "12523  /Data/data/data_gsun/Cecum/experiment/train/no...      0  \n",
       "\n",
       "[12524 rows x 3 columns]"
      ]
     },
     "execution_count": 17,
     "metadata": {},
     "output_type": "execute_result"
    }
   ],
   "source": [
    "trn_df = pd.DataFrame(whole_dir, columns=['image_id'])\n",
    "trn_df['dir'] = trn_df['image_id'].apply(lambda x: os.path.dirname(x))\n",
    "trn_df['image_id'] = trn_df['image_id'].apply(lambda x: os.path.basename(x))\n",
    "trn_df['label'] = whole_label\n",
    "train = trn_df\n",
    "train"
   ]
  },
  {
   "cell_type": "code",
   "execution_count": 18,
   "id": "ad855580",
   "metadata": {},
   "outputs": [
    {
     "data": {
      "text/plain": [
       "0    11250\n",
       "1     1274\n",
       "Name: label, dtype: int64"
      ]
     },
     "execution_count": 18,
     "metadata": {},
     "output_type": "execute_result"
    }
   ],
   "source": [
    "train.label.value_counts()"
   ]
  },
  {
   "cell_type": "code",
   "execution_count": null,
   "id": "e17c2a70",
   "metadata": {},
   "outputs": [],
   "source": []
  },
  {
   "cell_type": "code",
   "execution_count": null,
   "id": "b2233a60",
   "metadata": {},
   "outputs": [],
   "source": []
  },
  {
   "cell_type": "code",
   "execution_count": 19,
   "id": "28646fd4",
   "metadata": {},
   "outputs": [],
   "source": [
    "project_name = 'cecum_classification'\n",
    "user = 'honbul'\n",
    "run_name = 'cecum_classification_efficientnet_lite0_size192'"
   ]
  },
  {
   "cell_type": "code",
   "execution_count": null,
   "id": "4b291a13",
   "metadata": {},
   "outputs": [],
   "source": []
  },
  {
   "cell_type": "code",
   "execution_count": null,
   "id": "d55ac184",
   "metadata": {},
   "outputs": [],
   "source": []
  },
  {
   "cell_type": "code",
   "execution_count": null,
   "id": "ec9cac17",
   "metadata": {},
   "outputs": [
    {
     "name": "stderr",
     "output_type": "stream",
     "text": [
      "Failed to detect the name of this notebook, you can set it manually with the WANDB_NOTEBOOK_NAME environment variable to enable code saving.\n",
      "\u001b[34m\u001b[1mwandb\u001b[0m: Currently logged in as: \u001b[33mhonbul\u001b[0m. Use \u001b[1m`wandb login --relogin`\u001b[0m to force relogin\n"
     ]
    },
    {
     "data": {
      "text/html": [
       "wandb version 0.13.3 is available!  To upgrade, please run:\n",
       " $ pip install wandb --upgrade"
      ],
      "text/plain": [
       "<IPython.core.display.HTML object>"
      ]
     },
     "metadata": {},
     "output_type": "display_data"
    },
    {
     "data": {
      "text/html": [
       "Tracking run with wandb version 0.13.2"
      ],
      "text/plain": [
       "<IPython.core.display.HTML object>"
      ]
     },
     "metadata": {},
     "output_type": "display_data"
    },
    {
     "data": {
      "text/html": [
       "Run data is saved locally in <code>/home/super/endo_venv/gsun/cecum/wandb/run-20220930_164228-2b1hmj37</code>"
      ],
      "text/plain": [
       "<IPython.core.display.HTML object>"
      ]
     },
     "metadata": {},
     "output_type": "display_data"
    },
    {
     "data": {
      "text/html": [
       "Syncing run <strong><a href=\"https://wandb.ai/honbul/cecum_classification/runs/2b1hmj37\" target=\"_blank\">dark-paper-11</a></strong> to <a href=\"https://wandb.ai/honbul/cecum_classification\" target=\"_blank\">Weights & Biases</a> (<a href=\"https://wandb.me/run\" target=\"_blank\">docs</a>)<br/>"
      ],
      "text/plain": [
       "<IPython.core.display.HTML object>"
      ]
     },
     "metadata": {},
     "output_type": "display_data"
    },
    {
     "name": "stdout",
     "output_type": "stream",
     "text": [
      "Training start with epoch 50 \n",
      "\n"
     ]
    },
    {
     "name": "stderr",
     "output_type": "stream",
     "text": [
      "/home/super/endo_venv/lib/python3.8/site-packages/albumentations/augmentations/dropout/cutout.py:50: FutureWarning: Cutout has been deprecated. Please use CoarseDropout\n",
      "  warnings.warn(\n",
      "epoch 0 loss: 0.0271: 100%|█████████████████████████████████████████████████████████| 1800/1800 [06:15<00:00,  4.80it/s]\n"
     ]
    },
    {
     "name": "stdout",
     "output_type": "stream",
     "text": [
      "train accuracy = 0.96706\n",
      "[[8753  247]\n",
      " [ 346 8654]]\n"
     ]
    },
    {
     "name": "stderr",
     "output_type": "stream",
     "text": [
      "epoch 0 loss: 0.0093: 100%|███████████████████████████████████████████████████████████| 251/251 [00:42<00:00,  5.93it/s]\n"
     ]
    },
    {
     "name": "stdout",
     "output_type": "stream",
     "text": [
      "validation accuracy = 0.99760\n",
      "[[2246    4]\n",
      " [   2  253]]\n"
     ]
    },
    {
     "data": {
      "image/png": "[encoded data removed]",
      "text/plain": [
       "<Figure size 432x288 with 1 Axes>"
      ]
     },
     "metadata": {
      "needs_background": "light"
     },
     "output_type": "display_data"
    },
    {
     "name": "stderr",
     "output_type": "stream",
     "text": [
      "epoch 1 loss: 0.0175: 100%|█████████████████████████████████████████████████████████| 1800/1800 [06:13<00:00,  4.82it/s]\n"
     ]
    },
    {
     "name": "stdout",
     "output_type": "stream",
     "text": [
      "train accuracy = 0.99344\n",
      "[[8951   49]\n",
      " [  69 8931]]\n"
     ]
    },
    {
     "name": "stderr",
     "output_type": "stream",
     "text": [
      "epoch 1 loss: 0.0088: 100%|███████████████████████████████████████████████████████████| 251/251 [00:42<00:00,  5.90it/s]\n"
     ]
    },
    {
     "name": "stdout",
     "output_type": "stream",
     "text": [
      "validation accuracy = 0.99840\n",
      "[[2246    4]\n",
      " [   0  255]]\n"
     ]
    },
    {
     "data": {
      "image/png": "[encoded data removed]",
      "text/plain": [
       "<Figure size 432x288 with 1 Axes>"
      ]
     },
     "metadata": {
      "needs_background": "light"
     },
     "output_type": "display_data"
    },
    {
     "name": "stderr",
     "output_type": "stream",
     "text": [
      "epoch 2 loss: 0.0127: 100%|█████████████████████████████████████████████████████████| 1800/1800 [06:15<00:00,  4.79it/s]\n"
     ]
    },
    {
     "name": "stdout",
     "output_type": "stream",
     "text": [
      "train accuracy = 0.99672\n",
      "[[8974   26]\n",
      " [  33 8967]]\n"
     ]
    },
    {
     "name": "stderr",
     "output_type": "stream",
     "text": [
      "epoch 2 loss: 0.0043: 100%|███████████████████████████████████████████████████████████| 251/251 [00:42<00:00,  5.88it/s]\n"
     ]
    },
    {
     "name": "stdout",
     "output_type": "stream",
     "text": [
      "validation accuracy = 0.99960\n",
      "[[2250    0]\n",
      " [   1  254]]\n"
     ]
    },
    {
     "data": {
      "image/png": "[encoded data removed]",
      "text/plain": [
       "<Figure size 432x288 with 1 Axes>"
      ]
     },
     "metadata": {
      "needs_background": "light"
     },
     "output_type": "display_data"
    },
    {
     "name": "stderr",
     "output_type": "stream",
     "text": [
      "epoch 3 loss: 0.0186: 100%|█████████████████████████████████████████████████████████| 1800/1800 [06:16<00:00,  4.78it/s]\n"
     ]
    },
    {
     "name": "stdout",
     "output_type": "stream",
     "text": [
      "train accuracy = 0.99694\n",
      "[[8978   22]\n",
      " [  33 8967]]\n"
     ]
    },
    {
     "name": "stderr",
     "output_type": "stream",
     "text": [
      "epoch 3 loss: 0.0049: 100%|███████████████████████████████████████████████████████████| 251/251 [00:42<00:00,  5.87it/s]\n"
     ]
    },
    {
     "name": "stdout",
     "output_type": "stream",
     "text": [
      "validation accuracy = 0.99840\n",
      "[[2249    1]\n",
      " [   3  252]]\n"
     ]
    },
    {
     "data": {
      "image/png": "[encoded data removed]",
      "text/plain": [
       "<Figure size 432x288 with 1 Axes>"
      ]
     },
     "metadata": {
      "needs_background": "light"
     },
     "output_type": "display_data"
    },
    {
     "name": "stderr",
     "output_type": "stream",
     "text": [
      "epoch 4 loss: 0.0033:  82%|██████████████████████████████████████████████▋          | 1476/1800 [05:11<01:05,  4.93it/s]"
     ]
    }
   ],
   "source": [
    "%run classification_train_efficientnet.ipynb"
   ]
  },
  {
   "cell_type": "code",
   "execution_count": null,
   "id": "b8b77866",
   "metadata": {},
   "outputs": [],
   "source": []
  },
  {
   "cell_type": "code",
   "execution_count": null,
   "id": "ab5408f3",
   "metadata": {},
   "outputs": [],
   "source": [
    "#for train, val separately"
   ]
  },
  {
   "cell_type": "code",
   "execution_count": null,
   "id": "15a0cdae",
   "metadata": {},
   "outputs": [],
   "source": []
  },
  {
   "cell_type": "code",
   "execution_count": null,
   "id": "f44029c2",
   "metadata": {},
   "outputs": [],
   "source": []
  },
  {
   "cell_type": "code",
   "execution_count": 2,
   "id": "eedb5001",
   "metadata": {},
   "outputs": [],
   "source": [
    "#cecum = 1, else = 0\n",
    "\n",
    "true_path = '/Data/data/data_gsun/Cecum/experiment/train/cecum/'\n",
    "false_path = '/Data/data/data_gsun/Cecum/experiment/train/non_cecum/'"
   ]
  },
  {
   "cell_type": "code",
   "execution_count": null,
   "id": "d50be3b6",
   "metadata": {},
   "outputs": [],
   "source": []
  },
  {
   "cell_type": "code",
   "execution_count": 3,
   "id": "bad73e14",
   "metadata": {},
   "outputs": [],
   "source": [
    "true_dir = [true_path + x for x in os.listdir(true_path) if '.txt' not in x]\n",
    "false_dir = [false_path + x for x in os.listdir(false_path) if '.txt' not in x]"
   ]
  },
  {
   "cell_type": "code",
   "execution_count": 4,
   "id": "4b7811cd",
   "metadata": {},
   "outputs": [],
   "source": [
    "random.shuffle(true_dir)\n",
    "random.shuffle(false_dir)"
   ]
  },
  {
   "cell_type": "code",
   "execution_count": 5,
   "id": "423801d0",
   "metadata": {},
   "outputs": [
    {
     "name": "stdout",
     "output_type": "stream",
     "text": [
      "1274\n"
     ]
    }
   ],
   "source": [
    "print(len(true_dir))"
   ]
  },
  {
   "cell_type": "code",
   "execution_count": 6,
   "id": "7bba1452",
   "metadata": {},
   "outputs": [],
   "source": [
    "true_label = [1]*int(len(true_dir))"
   ]
  },
  {
   "cell_type": "code",
   "execution_count": 7,
   "id": "a9a5bad7",
   "metadata": {},
   "outputs": [
    {
     "name": "stdout",
     "output_type": "stream",
     "text": [
      "[1, 1, 1, 1, 1, 1, 1, 1, 1, 1]\n"
     ]
    }
   ],
   "source": [
    "print(true_label[:10])"
   ]
  },
  {
   "cell_type": "code",
   "execution_count": 8,
   "id": "bf596f88",
   "metadata": {},
   "outputs": [
    {
     "name": "stdout",
     "output_type": "stream",
     "text": [
      "1274\n"
     ]
    }
   ],
   "source": [
    "print(len(true_label))"
   ]
  },
  {
   "cell_type": "code",
   "execution_count": null,
   "id": "9f19ce88",
   "metadata": {},
   "outputs": [],
   "source": []
  },
  {
   "cell_type": "code",
   "execution_count": 9,
   "id": "95b74668",
   "metadata": {},
   "outputs": [
    {
     "name": "stdout",
     "output_type": "stream",
     "text": [
      "15000\n"
     ]
    }
   ],
   "source": [
    "print(len(false_dir))"
   ]
  },
  {
   "cell_type": "code",
   "execution_count": 10,
   "id": "6e94431d",
   "metadata": {},
   "outputs": [],
   "source": [
    "false_label = [0]*int(len(false_dir))"
   ]
  },
  {
   "cell_type": "code",
   "execution_count": 11,
   "id": "482a36ca",
   "metadata": {},
   "outputs": [
    {
     "name": "stdout",
     "output_type": "stream",
     "text": [
      "[0, 0, 0, 0, 0, 0, 0, 0, 0, 0]\n"
     ]
    }
   ],
   "source": [
    "print(false_label[:10])"
   ]
  },
  {
   "cell_type": "code",
   "execution_count": 12,
   "id": "30701b6f",
   "metadata": {},
   "outputs": [
    {
     "name": "stdout",
     "output_type": "stream",
     "text": [
      "15000\n"
     ]
    }
   ],
   "source": [
    "print(len(false_label))"
   ]
  },
  {
   "cell_type": "code",
   "execution_count": null,
   "id": "8f149017",
   "metadata": {},
   "outputs": [],
   "source": []
  },
  {
   "cell_type": "code",
   "execution_count": 13,
   "id": "65fb82ce",
   "metadata": {},
   "outputs": [],
   "source": [
    "whole_dir = true_dir + false_dir"
   ]
  },
  {
   "cell_type": "code",
   "execution_count": 14,
   "id": "cb37855b",
   "metadata": {},
   "outputs": [],
   "source": [
    "whole_label = true_label + false_label"
   ]
  },
  {
   "cell_type": "code",
   "execution_count": 15,
   "id": "b67b93ed",
   "metadata": {},
   "outputs": [
    {
     "name": "stdout",
     "output_type": "stream",
     "text": [
      "16274\n"
     ]
    }
   ],
   "source": [
    "print(len(whole_dir))"
   ]
  },
  {
   "cell_type": "code",
   "execution_count": 16,
   "id": "de8bca6e",
   "metadata": {},
   "outputs": [
    {
     "name": "stdout",
     "output_type": "stream",
     "text": [
      "16274\n"
     ]
    }
   ],
   "source": [
    "print(len(whole_label))"
   ]
  },
  {
   "cell_type": "code",
   "execution_count": null,
   "id": "6fc21caf",
   "metadata": {},
   "outputs": [],
   "source": []
  },
  {
   "cell_type": "code",
   "execution_count": 17,
   "id": "b985c72c",
   "metadata": {},
   "outputs": [
    {
     "data": {
      "text/html": [
       "<div>\n",
       "<style scoped>\n",
       "    .dataframe tbody tr th:only-of-type {\n",
       "        vertical-align: middle;\n",
       "    }\n",
       "\n",
       "    .dataframe tbody tr th {\n",
       "        vertical-align: top;\n",
       "    }\n",
       "\n",
       "    .dataframe thead th {\n",
       "        text-align: right;\n",
       "    }\n",
       "</style>\n",
       "<table border=\"1\" class=\"dataframe\">\n",
       "  <thead>\n",
       "    <tr style=\"text-align: right;\">\n",
       "      <th></th>\n",
       "      <th>image_id</th>\n",
       "      <th>dir</th>\n",
       "      <th>label</th>\n",
       "    </tr>\n",
       "  </thead>\n",
       "  <tbody>\n",
       "    <tr>\n",
       "      <th>0</th>\n",
       "      <td>V0480_0024.png</td>\n",
       "      <td>/Data/data/data_gsun/Cecum/experiment/train/cecum</td>\n",
       "      <td>1</td>\n",
       "    </tr>\n",
       "    <tr>\n",
       "      <th>1</th>\n",
       "      <td>V0376_0079.png</td>\n",
       "      <td>/Data/data/data_gsun/Cecum/experiment/train/cecum</td>\n",
       "      <td>1</td>\n",
       "    </tr>\n",
       "    <tr>\n",
       "      <th>2</th>\n",
       "      <td>V0670_0048.png</td>\n",
       "      <td>/Data/data/data_gsun/Cecum/experiment/train/cecum</td>\n",
       "      <td>1</td>\n",
       "    </tr>\n",
       "    <tr>\n",
       "      <th>3</th>\n",
       "      <td>V0307_0073.png</td>\n",
       "      <td>/Data/data/data_gsun/Cecum/experiment/train/cecum</td>\n",
       "      <td>1</td>\n",
       "    </tr>\n",
       "    <tr>\n",
       "      <th>4</th>\n",
       "      <td>V0612_0022.png</td>\n",
       "      <td>/Data/data/data_gsun/Cecum/experiment/train/cecum</td>\n",
       "      <td>1</td>\n",
       "    </tr>\n",
       "    <tr>\n",
       "      <th>...</th>\n",
       "      <td>...</td>\n",
       "      <td>...</td>\n",
       "      <td>...</td>\n",
       "    </tr>\n",
       "    <tr>\n",
       "      <th>16269</th>\n",
       "      <td>V1743_2021_0293_000738.png</td>\n",
       "      <td>/Data/data/data_gsun/Cecum/experiment/train/no...</td>\n",
       "      <td>0</td>\n",
       "    </tr>\n",
       "    <tr>\n",
       "      <th>16270</th>\n",
       "      <td>V1485_2021_0035_001495.png</td>\n",
       "      <td>/Data/data/data_gsun/Cecum/experiment/train/no...</td>\n",
       "      <td>0</td>\n",
       "    </tr>\n",
       "    <tr>\n",
       "      <th>16271</th>\n",
       "      <td>V1880_2021_0430_003530.png</td>\n",
       "      <td>/Data/data/data_gsun/Cecum/experiment/train/no...</td>\n",
       "      <td>0</td>\n",
       "    </tr>\n",
       "    <tr>\n",
       "      <th>16272</th>\n",
       "      <td>V1732_2021_0282_003544.png</td>\n",
       "      <td>/Data/data/data_gsun/Cecum/experiment/train/no...</td>\n",
       "      <td>0</td>\n",
       "    </tr>\n",
       "    <tr>\n",
       "      <th>16273</th>\n",
       "      <td>V1880_2021_0430_001680.png</td>\n",
       "      <td>/Data/data/data_gsun/Cecum/experiment/train/no...</td>\n",
       "      <td>0</td>\n",
       "    </tr>\n",
       "  </tbody>\n",
       "</table>\n",
       "<p>16274 rows × 3 columns</p>\n",
       "</div>"
      ],
      "text/plain": [
       "                         image_id  \\\n",
       "0                  V0480_0024.png   \n",
       "1                  V0376_0079.png   \n",
       "2                  V0670_0048.png   \n",
       "3                  V0307_0073.png   \n",
       "4                  V0612_0022.png   \n",
       "...                           ...   \n",
       "16269  V1743_2021_0293_000738.png   \n",
       "16270  V1485_2021_0035_001495.png   \n",
       "16271  V1880_2021_0430_003530.png   \n",
       "16272  V1732_2021_0282_003544.png   \n",
       "16273  V1880_2021_0430_001680.png   \n",
       "\n",
       "                                                     dir  label  \n",
       "0      /Data/data/data_gsun/Cecum/experiment/train/cecum      1  \n",
       "1      /Data/data/data_gsun/Cecum/experiment/train/cecum      1  \n",
       "2      /Data/data/data_gsun/Cecum/experiment/train/cecum      1  \n",
       "3      /Data/data/data_gsun/Cecum/experiment/train/cecum      1  \n",
       "4      /Data/data/data_gsun/Cecum/experiment/train/cecum      1  \n",
       "...                                                  ...    ...  \n",
       "16269  /Data/data/data_gsun/Cecum/experiment/train/no...      0  \n",
       "16270  /Data/data/data_gsun/Cecum/experiment/train/no...      0  \n",
       "16271  /Data/data/data_gsun/Cecum/experiment/train/no...      0  \n",
       "16272  /Data/data/data_gsun/Cecum/experiment/train/no...      0  \n",
       "16273  /Data/data/data_gsun/Cecum/experiment/train/no...      0  \n",
       "\n",
       "[16274 rows x 3 columns]"
      ]
     },
     "execution_count": 17,
     "metadata": {},
     "output_type": "execute_result"
    }
   ],
   "source": [
    "trn_df = pd.DataFrame(whole_dir, columns=['image_id'])\n",
    "trn_df['dir'] = trn_df['image_id'].apply(lambda x: os.path.dirname(x))\n",
    "trn_df['image_id'] = trn_df['image_id'].apply(lambda x: os.path.basename(x))\n",
    "trn_df['label'] = whole_label\n",
    "train = trn_df\n",
    "train"
   ]
  },
  {
   "cell_type": "code",
   "execution_count": 18,
   "id": "f17cb437",
   "metadata": {},
   "outputs": [
    {
     "data": {
      "text/plain": [
       "0    15000\n",
       "1     1274\n",
       "Name: label, dtype: int64"
      ]
     },
     "execution_count": 18,
     "metadata": {},
     "output_type": "execute_result"
    }
   ],
   "source": [
    "train.label.value_counts()"
   ]
  },
  {
   "cell_type": "code",
   "execution_count": null,
   "id": "0051687b",
   "metadata": {},
   "outputs": [],
   "source": []
  },
  {
   "cell_type": "code",
   "execution_count": null,
   "id": "c25c40ee",
   "metadata": {},
   "outputs": [],
   "source": []
  },
  {
   "cell_type": "code",
   "execution_count": null,
   "id": "06afe8fe",
   "metadata": {},
   "outputs": [],
   "source": []
  },
  {
   "cell_type": "code",
   "execution_count": 19,
   "id": "b4aac666",
   "metadata": {},
   "outputs": [],
   "source": [
    "#cecum = 1, else = 0\n",
    "\n",
    "true_val_path = '/Data/data/data_gsun/Cecum/experiment/val/cecum/'\n",
    "false_val_path = '/Data/data/data_gsun/Cecum/experiment/val/non_cecum/'"
   ]
  },
  {
   "cell_type": "code",
   "execution_count": null,
   "id": "5100a1a8",
   "metadata": {},
   "outputs": [],
   "source": []
  },
  {
   "cell_type": "code",
   "execution_count": 20,
   "id": "9f6859b7",
   "metadata": {},
   "outputs": [],
   "source": [
    "true_val_dir = [true_val_path + x for x in os.listdir(true_val_path) if '.txt' not in x]\n",
    "false_val_dir = [false_val_path + x for x in os.listdir(false_val_path) if '.txt' not in x]"
   ]
  },
  {
   "cell_type": "code",
   "execution_count": 21,
   "id": "ce3dfd4f",
   "metadata": {},
   "outputs": [],
   "source": [
    "random.shuffle(true_val_dir)\n",
    "random.shuffle(false_val_dir)"
   ]
  },
  {
   "cell_type": "code",
   "execution_count": 22,
   "id": "122b917c",
   "metadata": {},
   "outputs": [
    {
     "name": "stdout",
     "output_type": "stream",
     "text": [
      "71\n"
     ]
    }
   ],
   "source": [
    "print(len(true_val_dir))"
   ]
  },
  {
   "cell_type": "code",
   "execution_count": 23,
   "id": "287bf415",
   "metadata": {},
   "outputs": [],
   "source": [
    "true_val_label = [1]*int(len(true_val_dir))"
   ]
  },
  {
   "cell_type": "code",
   "execution_count": 24,
   "id": "fc599742",
   "metadata": {},
   "outputs": [
    {
     "name": "stdout",
     "output_type": "stream",
     "text": [
      "[1, 1, 1, 1, 1, 1, 1, 1, 1, 1]\n"
     ]
    }
   ],
   "source": [
    "print(true_val_label[:10])"
   ]
  },
  {
   "cell_type": "code",
   "execution_count": 25,
   "id": "b1f32a54",
   "metadata": {},
   "outputs": [
    {
     "name": "stdout",
     "output_type": "stream",
     "text": [
      "71\n"
     ]
    }
   ],
   "source": [
    "print(len(true_val_label))"
   ]
  },
  {
   "cell_type": "code",
   "execution_count": null,
   "id": "4b76daff",
   "metadata": {},
   "outputs": [],
   "source": []
  },
  {
   "cell_type": "code",
   "execution_count": 26,
   "id": "bec4c21f",
   "metadata": {},
   "outputs": [
    {
     "name": "stdout",
     "output_type": "stream",
     "text": [
      "639\n"
     ]
    }
   ],
   "source": [
    "print(len(false_val_dir))"
   ]
  },
  {
   "cell_type": "code",
   "execution_count": 27,
   "id": "0e5098ce",
   "metadata": {},
   "outputs": [],
   "source": [
    "false_val_label = [0]*int(len(false_val_dir))"
   ]
  },
  {
   "cell_type": "code",
   "execution_count": 28,
   "id": "80972cdd",
   "metadata": {},
   "outputs": [
    {
     "name": "stdout",
     "output_type": "stream",
     "text": [
      "[0, 0, 0, 0, 0, 0, 0, 0, 0, 0]\n"
     ]
    }
   ],
   "source": [
    "print(false_val_label[:10])"
   ]
  },
  {
   "cell_type": "code",
   "execution_count": 29,
   "id": "963558e3",
   "metadata": {},
   "outputs": [
    {
     "name": "stdout",
     "output_type": "stream",
     "text": [
      "639\n"
     ]
    }
   ],
   "source": [
    "print(len(false_val_label))"
   ]
  },
  {
   "cell_type": "code",
   "execution_count": null,
   "id": "e009a731",
   "metadata": {},
   "outputs": [],
   "source": []
  },
  {
   "cell_type": "code",
   "execution_count": 30,
   "id": "35c033c7",
   "metadata": {},
   "outputs": [],
   "source": [
    "whole_val_dir = true_val_dir + false_val_dir"
   ]
  },
  {
   "cell_type": "code",
   "execution_count": 31,
   "id": "cd021ad2",
   "metadata": {},
   "outputs": [],
   "source": [
    "whole_val_label = true_val_label + false_val_label"
   ]
  },
  {
   "cell_type": "code",
   "execution_count": 32,
   "id": "cce524ae",
   "metadata": {},
   "outputs": [
    {
     "name": "stdout",
     "output_type": "stream",
     "text": [
      "710\n"
     ]
    }
   ],
   "source": [
    "print(len(whole_val_dir))"
   ]
  },
  {
   "cell_type": "code",
   "execution_count": 33,
   "id": "110699fa",
   "metadata": {},
   "outputs": [
    {
     "name": "stdout",
     "output_type": "stream",
     "text": [
      "710\n"
     ]
    }
   ],
   "source": [
    "print(len(whole_val_label))"
   ]
  },
  {
   "cell_type": "code",
   "execution_count": null,
   "id": "759faedd",
   "metadata": {},
   "outputs": [],
   "source": []
  },
  {
   "cell_type": "code",
   "execution_count": 34,
   "id": "fc1d1eef",
   "metadata": {},
   "outputs": [
    {
     "data": {
      "text/html": [
       "<div>\n",
       "<style scoped>\n",
       "    .dataframe tbody tr th:only-of-type {\n",
       "        vertical-align: middle;\n",
       "    }\n",
       "\n",
       "    .dataframe tbody tr th {\n",
       "        vertical-align: top;\n",
       "    }\n",
       "\n",
       "    .dataframe thead th {\n",
       "        text-align: right;\n",
       "    }\n",
       "</style>\n",
       "<table border=\"1\" class=\"dataframe\">\n",
       "  <thead>\n",
       "    <tr style=\"text-align: right;\">\n",
       "      <th></th>\n",
       "      <th>image_id</th>\n",
       "      <th>dir</th>\n",
       "      <th>label</th>\n",
       "    </tr>\n",
       "  </thead>\n",
       "  <tbody>\n",
       "    <tr>\n",
       "      <th>0</th>\n",
       "      <td>V1824_2021_0374_000004.png</td>\n",
       "      <td>/Data/data/data_gsun/Cecum/experiment/val/cecum</td>\n",
       "      <td>1</td>\n",
       "    </tr>\n",
       "    <tr>\n",
       "      <th>1</th>\n",
       "      <td>V1533_2021_0083_000723.png</td>\n",
       "      <td>/Data/data/data_gsun/Cecum/experiment/val/cecum</td>\n",
       "      <td>1</td>\n",
       "    </tr>\n",
       "    <tr>\n",
       "      <th>2</th>\n",
       "      <td>V1533_2021_0083_000742.png</td>\n",
       "      <td>/Data/data/data_gsun/Cecum/experiment/val/cecum</td>\n",
       "      <td>1</td>\n",
       "    </tr>\n",
       "    <tr>\n",
       "      <th>3</th>\n",
       "      <td>V1434_2020_1204_000377.png</td>\n",
       "      <td>/Data/data/data_gsun/Cecum/experiment/val/cecum</td>\n",
       "      <td>1</td>\n",
       "    </tr>\n",
       "    <tr>\n",
       "      <th>4</th>\n",
       "      <td>V1533_2021_0083_000750.png</td>\n",
       "      <td>/Data/data/data_gsun/Cecum/experiment/val/cecum</td>\n",
       "      <td>1</td>\n",
       "    </tr>\n",
       "    <tr>\n",
       "      <th>...</th>\n",
       "      <td>...</td>\n",
       "      <td>...</td>\n",
       "      <td>...</td>\n",
       "    </tr>\n",
       "    <tr>\n",
       "      <th>705</th>\n",
       "      <td>V1434_2020_1204_001067.png</td>\n",
       "      <td>/Data/data/data_gsun/Cecum/experiment/val/non_...</td>\n",
       "      <td>0</td>\n",
       "    </tr>\n",
       "    <tr>\n",
       "      <th>706</th>\n",
       "      <td>V0042_2019_0042_002852.png</td>\n",
       "      <td>/Data/data/data_gsun/Cecum/experiment/val/non_...</td>\n",
       "      <td>0</td>\n",
       "    </tr>\n",
       "    <tr>\n",
       "      <th>707</th>\n",
       "      <td>V1373_2020_1143_002984.png</td>\n",
       "      <td>/Data/data/data_gsun/Cecum/experiment/val/non_...</td>\n",
       "      <td>0</td>\n",
       "    </tr>\n",
       "    <tr>\n",
       "      <th>708</th>\n",
       "      <td>V0042_2019_0042_003166.png</td>\n",
       "      <td>/Data/data/data_gsun/Cecum/experiment/val/non_...</td>\n",
       "      <td>0</td>\n",
       "    </tr>\n",
       "    <tr>\n",
       "      <th>709</th>\n",
       "      <td>V1373_2020_1143_001426.png</td>\n",
       "      <td>/Data/data/data_gsun/Cecum/experiment/val/non_...</td>\n",
       "      <td>0</td>\n",
       "    </tr>\n",
       "  </tbody>\n",
       "</table>\n",
       "<p>710 rows × 3 columns</p>\n",
       "</div>"
      ],
      "text/plain": [
       "                       image_id  \\\n",
       "0    V1824_2021_0374_000004.png   \n",
       "1    V1533_2021_0083_000723.png   \n",
       "2    V1533_2021_0083_000742.png   \n",
       "3    V1434_2020_1204_000377.png   \n",
       "4    V1533_2021_0083_000750.png   \n",
       "..                          ...   \n",
       "705  V1434_2020_1204_001067.png   \n",
       "706  V0042_2019_0042_002852.png   \n",
       "707  V1373_2020_1143_002984.png   \n",
       "708  V0042_2019_0042_003166.png   \n",
       "709  V1373_2020_1143_001426.png   \n",
       "\n",
       "                                                   dir  label  \n",
       "0      /Data/data/data_gsun/Cecum/experiment/val/cecum      1  \n",
       "1      /Data/data/data_gsun/Cecum/experiment/val/cecum      1  \n",
       "2      /Data/data/data_gsun/Cecum/experiment/val/cecum      1  \n",
       "3      /Data/data/data_gsun/Cecum/experiment/val/cecum      1  \n",
       "4      /Data/data/data_gsun/Cecum/experiment/val/cecum      1  \n",
       "..                                                 ...    ...  \n",
       "705  /Data/data/data_gsun/Cecum/experiment/val/non_...      0  \n",
       "706  /Data/data/data_gsun/Cecum/experiment/val/non_...      0  \n",
       "707  /Data/data/data_gsun/Cecum/experiment/val/non_...      0  \n",
       "708  /Data/data/data_gsun/Cecum/experiment/val/non_...      0  \n",
       "709  /Data/data/data_gsun/Cecum/experiment/val/non_...      0  \n",
       "\n",
       "[710 rows x 3 columns]"
      ]
     },
     "execution_count": 34,
     "metadata": {},
     "output_type": "execute_result"
    }
   ],
   "source": [
    "val_df = pd.DataFrame(whole_val_dir, columns=['image_id'])\n",
    "val_df['dir'] = val_df['image_id'].apply(lambda x: os.path.dirname(x))\n",
    "val_df['image_id'] = val_df['image_id'].apply(lambda x: os.path.basename(x))\n",
    "val_df['label'] = whole_val_label\n",
    "val = val_df\n",
    "val"
   ]
  },
  {
   "cell_type": "code",
   "execution_count": 35,
   "id": "cdc6e2fe",
   "metadata": {},
   "outputs": [
    {
     "data": {
      "text/plain": [
       "0    639\n",
       "1     71\n",
       "Name: label, dtype: int64"
      ]
     },
     "execution_count": 35,
     "metadata": {},
     "output_type": "execute_result"
    }
   ],
   "source": [
    "val.label.value_counts()"
   ]
  },
  {
   "cell_type": "code",
   "execution_count": null,
   "id": "bcfb85b9",
   "metadata": {},
   "outputs": [],
   "source": []
  },
  {
   "cell_type": "code",
   "execution_count": null,
   "id": "7b79cd6c",
   "metadata": {},
   "outputs": [],
   "source": []
  },
  {
   "cell_type": "code",
   "execution_count": null,
   "id": "38b11a97",
   "metadata": {},
   "outputs": [],
   "source": []
  },
  {
   "cell_type": "code",
   "execution_count": null,
   "id": "e3bb6170",
   "metadata": {},
   "outputs": [],
   "source": []
  },
  {
   "cell_type": "code",
   "execution_count": null,
   "id": "d6b9a5f8",
   "metadata": {},
   "outputs": [],
   "source": []
  },
  {
   "cell_type": "code",
   "execution_count": null,
   "id": "1823178e",
   "metadata": {},
   "outputs": [],
   "source": []
  },
  {
   "cell_type": "code",
   "execution_count": null,
   "id": "4292a58d",
   "metadata": {},
   "outputs": [],
   "source": []
  },
  {
   "cell_type": "code",
   "execution_count": 36,
   "id": "efc3e362",
   "metadata": {},
   "outputs": [],
   "source": [
    "project_name = 'cecum_classification'\n",
    "user = 'honbul'\n",
    "run_name = 'cecum_classification_efficientnet_lite0_size192'"
   ]
  },
  {
   "cell_type": "code",
   "execution_count": null,
   "id": "1658ffc2",
   "metadata": {},
   "outputs": [],
   "source": []
  },
  {
   "cell_type": "code",
   "execution_count": null,
   "id": "529ba0e2",
   "metadata": {},
   "outputs": [],
   "source": []
  },
  {
   "cell_type": "code",
   "execution_count": null,
   "id": "1424261b",
   "metadata": {},
   "outputs": [
    {
     "name": "stderr",
     "output_type": "stream",
     "text": [
      "Failed to detect the name of this notebook, you can set it manually with the WANDB_NOTEBOOK_NAME environment variable to enable code saving.\n",
      "\u001b[34m\u001b[1mwandb\u001b[0m: Currently logged in as: \u001b[33mhonbul\u001b[0m. Use \u001b[1m`wandb login --relogin`\u001b[0m to force relogin\n"
     ]
    },
    {
     "data": {
      "text/html": [
       "wandb version 0.13.3 is available!  To upgrade, please run:\n",
       " $ pip install wandb --upgrade"
      ],
      "text/plain": [
       "<IPython.core.display.HTML object>"
      ]
     },
     "metadata": {},
     "output_type": "display_data"
    },
    {
     "data": {
      "text/html": [
       "Tracking run with wandb version 0.13.2"
      ],
      "text/plain": [
       "<IPython.core.display.HTML object>"
      ]
     },
     "metadata": {},
     "output_type": "display_data"
    },
    {
     "data": {
      "text/html": [
       "Run data is saved locally in <code>/home/super/endo_venv/gsun/cecum/wandb/run-20221004_194011-2z21ejof</code>"
      ],
      "text/plain": [
       "<IPython.core.display.HTML object>"
      ]
     },
     "metadata": {},
     "output_type": "display_data"
    },
    {
     "data": {
      "text/html": [
       "Syncing run <strong><a href=\"https://wandb.ai/honbul/cecum_classification/runs/2z21ejof\" target=\"_blank\">lively-smoke-15</a></strong> to <a href=\"https://wandb.ai/honbul/cecum_classification\" target=\"_blank\">Weights & Biases</a> (<a href=\"https://wandb.me/run\" target=\"_blank\">docs</a>)<br/>"
      ],
      "text/plain": [
       "<IPython.core.display.HTML object>"
      ]
     },
     "metadata": {},
     "output_type": "display_data"
    },
    {
     "name": "stderr",
     "output_type": "stream",
     "text": [
      "/home/super/endo_venv/lib/python3.8/site-packages/albumentations/augmentations/dropout/cutout.py:50: FutureWarning: Cutout has been deprecated. Please use CoarseDropout\n",
      "  warnings.warn(\n",
      "epoch 0 loss: 0.0238: 100%|█████████████████████████████████████████████████████████| 3000/3000 [10:26<00:00,  4.79it/s]\n"
     ]
    },
    {
     "name": "stdout",
     "output_type": "stream",
     "text": [
      "train accuracy = 0.98053\n",
      "[[14778   222]\n",
      " [  362 14638]]\n"
     ]
    },
    {
     "name": "stderr",
     "output_type": "stream",
     "text": [
      "epoch 0 loss: 0.5145: 100%|█████████████████████████████████████████████████████████████| 71/71 [00:03<00:00, 20.92it/s]\n"
     ]
    },
    {
     "name": "stdout",
     "output_type": "stream",
     "text": [
      "validation accuracy = 0.81408\n",
      "[[512 127]\n",
      " [  5  66]]\n"
     ]
    },
    {
     "data": {
      "image/png": "[encoded data removed]",
      "text/plain": [
       "<Figure size 432x288 with 1 Axes>"
      ]
     },
     "metadata": {
      "needs_background": "light"
     },
     "output_type": "display_data"
    },
    {
     "name": "stderr",
     "output_type": "stream",
     "text": [
      "epoch 1 loss: 0.0124: 100%|█████████████████████████████████████████████████████████| 3000/3000 [10:25<00:00,  4.79it/s]\n"
     ]
    },
    {
     "name": "stdout",
     "output_type": "stream",
     "text": [
      "train accuracy = 0.99637\n",
      "[[14946    54]\n",
      " [   55 14945]]\n"
     ]
    },
    {
     "name": "stderr",
     "output_type": "stream",
     "text": [
      "epoch 1 loss: 0.7367: 100%|█████████████████████████████████████████████████████████████| 71/71 [00:03<00:00, 21.10it/s]\n"
     ]
    },
    {
     "name": "stdout",
     "output_type": "stream",
     "text": [
      "validation accuracy = 0.70704\n",
      "[[431 208]\n",
      " [  0  71]]\n"
     ]
    },
    {
     "data": {
      "image/png": "[encoded data removed]",
      "text/plain": [
       "<Figure size 432x288 with 1 Axes>"
      ]
     },
     "metadata": {
      "needs_background": "light"
     },
     "output_type": "display_data"
    },
    {
     "name": "stderr",
     "output_type": "stream",
     "text": [
      "epoch 2 loss: 0.0020: 100%|█████████████████████████████████████████████████████████| 3000/3000 [10:30<00:00,  4.76it/s]\n"
     ]
    },
    {
     "name": "stdout",
     "output_type": "stream",
     "text": [
      "train accuracy = 0.99767\n",
      "[[14959    41]\n",
      " [   29 14971]]\n"
     ]
    },
    {
     "name": "stderr",
     "output_type": "stream",
     "text": [
      "epoch 2 loss: 0.6676: 100%|█████████████████████████████████████████████████████████████| 71/71 [00:03<00:00, 21.18it/s]\n"
     ]
    },
    {
     "name": "stdout",
     "output_type": "stream",
     "text": [
      "validation accuracy = 0.80563\n",
      "[[509 130]\n",
      " [  8  63]]\n"
     ]
    },
    {
     "data": {
      "image/png": "[encoded data removed]",
      "text/plain": [
       "<Figure size 432x288 with 1 Axes>"
      ]
     },
     "metadata": {
      "needs_background": "light"
     },
     "output_type": "display_data"
    },
    {
     "name": "stderr",
     "output_type": "stream",
     "text": [
      "epoch 3 loss: 0.0028: 100%|█████████████████████████████████████████████████████████| 3000/3000 [10:31<00:00,  4.75it/s]\n"
     ]
    },
    {
     "name": "stdout",
     "output_type": "stream",
     "text": [
      "train accuracy = 0.99870\n",
      "[[14980    20]\n",
      " [   19 14981]]\n"
     ]
    },
    {
     "name": "stderr",
     "output_type": "stream",
     "text": [
      "epoch 3 loss: 0.3945: 100%|█████████████████████████████████████████████████████████████| 71/71 [00:03<00:00, 20.96it/s]\n"
     ]
    },
    {
     "name": "stdout",
     "output_type": "stream",
     "text": [
      "validation accuracy = 0.85915\n",
      "[[546  93]\n",
      " [  7  64]]\n"
     ]
    },
    {
     "data": {
      "image/png": "[encoded data removed]",
      "text/plain": [
       "<Figure size 432x288 with 1 Axes>"
      ]
     },
     "metadata": {
      "needs_background": "light"
     },
     "output_type": "display_data"
    },
    {
     "name": "stderr",
     "output_type": "stream",
     "text": [
      "epoch 4 loss: 0.0052: 100%|█████████████████████████████████████████████████████████| 3000/3000 [10:32<00:00,  4.74it/s]\n"
     ]
    },
    {
     "name": "stdout",
     "output_type": "stream",
     "text": [
      "train accuracy = 0.99773\n",
      "[[14961    39]\n",
      " [   29 14971]]\n"
     ]
    },
    {
     "name": "stderr",
     "output_type": "stream",
     "text": [
      "epoch 4 loss: 0.3124: 100%|█████████████████████████████████████████████████████████████| 71/71 [00:03<00:00, 21.07it/s]\n"
     ]
    },
    {
     "name": "stdout",
     "output_type": "stream",
     "text": [
      "validation accuracy = 0.88169\n",
      "[[569  70]\n",
      " [ 14  57]]\n"
     ]
    },
    {
     "data": {
      "image/png": "[encoded data removed]",
      "text/plain": [
       "<Figure size 432x288 with 1 Axes>"
      ]
     },
     "metadata": {
      "needs_background": "light"
     },
     "output_type": "display_data"
    },
    {
     "name": "stderr",
     "output_type": "stream",
     "text": [
      "epoch 5 loss: 0.0049:  47%|██████████████████████████▊                              | 1413/3000 [04:58<05:23,  4.90it/s]"
     ]
    }
   ],
   "source": [
    "%run classification_train_val_separate_efficientnet.ipynb"
   ]
  },
  {
   "cell_type": "code",
   "execution_count": null,
   "id": "43b952e1",
   "metadata": {},
   "outputs": [],
   "source": []
  },
  {
   "cell_type": "code",
   "execution_count": null,
   "id": "e64f3824",
   "metadata": {},
   "outputs": [],
   "source": []
  },
  {
   "cell_type": "code",
   "execution_count": null,
   "id": "9b101835",
   "metadata": {},
   "outputs": [],
   "source": []
  }
 ],
 "metadata": {
  "kernelspec": {
   "display_name": "torch-gpu",
   "language": "python",
   "name": "torch"
  },
  "language_info": {
   "codemirror_mode": {
    "name": "ipython",
    "version": 3
   },
   "file_extension": ".py",
   "mimetype": "text/x-python",
   "name": "python",
   "nbconvert_exporter": "python",
   "pygments_lexer": "ipython3",
   "version": "3.10.4"
  }
 },
 "nbformat": 4,
 "nbformat_minor": 5
}
