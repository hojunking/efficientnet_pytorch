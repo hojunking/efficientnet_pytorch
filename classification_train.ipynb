{
 "cells": [
  {
   "cell_type": "code",
   "execution_count": 1,
   "id": "32c4ea0f",
   "metadata": {},
   "outputs": [],
   "source": [
    "import os, re, magic, shutil\n",
    "from glob import glob\n",
    "import time, datetime\n",
    "import random\n",
    "import pandas as pd\n",
    "import numpy as np\n",
    "from tqdm import tqdm\n",
    "import shutil\n",
    "import warnings\n",
    "import joblib\n",
    "\n",
    "import cv2\n",
    "from PIL import Image\n",
    "import matplotlib.pyplot as plt\n",
    "import torch, gc\n",
    "from torch import nn\n",
    "from torch.utils.data import Dataset,DataLoader\n",
    "from torch.utils.data.sampler import SequentialSampler, RandomSampler\n",
    "from torch.cuda.amp import autocast, GradScaler\n",
    "from torch.nn.modules.loss import _WeightedLoss\n",
    "import torch.nn.functional as F\n",
    "import torchvision\n",
    "from torchvision import transforms\n",
    "\n",
    "import sklearn\n",
    "#from skimage import io\n",
    "from sklearn.model_selection import GroupKFold, StratifiedKFold\n",
    "from sklearn.metrics import roc_auc_score, log_loss\n",
    "from sklearn import metrics\n",
    "from sklearn.metrics import confusion_matrix\n",
    "from sklearn.metrics import classification_report\n",
    "from scipy.ndimage import zoom\n",
    "\n",
    "import timm\n",
    "from timm.data import resolve_data_config\n",
    "from timm.data.transforms_factory import create_transform\n",
    "\n",
    "import wandb"
   ]
  },
  {
   "cell_type": "code",
   "execution_count": 2,
   "id": "3290c053",
   "metadata": {},
   "outputs": [
    {
     "name": "stdout",
     "output_type": "stream",
     "text": [
      "Images:  1897\n",
      "Image_labels: 1897\n"
     ]
    }
   ],
   "source": [
    "#path = '../../Data/Training/원천데이터/'\n",
    "path = 'Data/car_dataset_sample/'\n",
    "img_names = []\n",
    "img_labels = []\n",
    "\n",
    "for folder, subfolders, filenames in os.walk(path):\n",
    "    for img in filenames:\n",
    "        img_names.append(folder+'/'+img)\n",
    "        img_labels.append(img[9:18])\n",
    "\n",
    "print('Images: ',len(img_names))\n",
    "print(\"Image_labels:\", len(img_labels))"
   ]
  },
  {
   "cell_type": "markdown",
   "id": "31a6b466",
   "metadata": {},
   "source": []
  },
  {
   "cell_type": "code",
   "execution_count": 4,
   "id": "b3cf3092",
   "metadata": {},
   "outputs": [
    {
     "data": {
      "text/html": [
       "<div>\n",
       "<style scoped>\n",
       "    .dataframe tbody tr th:only-of-type {\n",
       "        vertical-align: middle;\n",
       "    }\n",
       "\n",
       "    .dataframe tbody tr th {\n",
       "        vertical-align: top;\n",
       "    }\n",
       "\n",
       "    .dataframe thead th {\n",
       "        text-align: right;\n",
       "    }\n",
       "</style>\n",
       "<table border=\"1\" class=\"dataframe\">\n",
       "  <thead>\n",
       "    <tr style=\"text-align: right;\">\n",
       "      <th></th>\n",
       "      <th>result</th>\n",
       "    </tr>\n",
       "  </thead>\n",
       "  <tbody>\n",
       "    <tr>\n",
       "      <th>0</th>\n",
       "      <td>0</td>\n",
       "    </tr>\n",
       "    <tr>\n",
       "      <th>1</th>\n",
       "      <td>0</td>\n",
       "    </tr>\n",
       "    <tr>\n",
       "      <th>2</th>\n",
       "      <td>0</td>\n",
       "    </tr>\n",
       "    <tr>\n",
       "      <th>3</th>\n",
       "      <td>0</td>\n",
       "    </tr>\n",
       "    <tr>\n",
       "      <th>4</th>\n",
       "      <td>0</td>\n",
       "    </tr>\n",
       "    <tr>\n",
       "      <th>...</th>\n",
       "      <td>...</td>\n",
       "    </tr>\n",
       "    <tr>\n",
       "      <th>1892</th>\n",
       "      <td>143</td>\n",
       "    </tr>\n",
       "    <tr>\n",
       "      <th>1893</th>\n",
       "      <td>143</td>\n",
       "    </tr>\n",
       "    <tr>\n",
       "      <th>1894</th>\n",
       "      <td>143</td>\n",
       "    </tr>\n",
       "    <tr>\n",
       "      <th>1895</th>\n",
       "      <td>143</td>\n",
       "    </tr>\n",
       "    <tr>\n",
       "      <th>1896</th>\n",
       "      <td>143</td>\n",
       "    </tr>\n",
       "  </tbody>\n",
       "</table>\n",
       "<p>1897 rows × 1 columns</p>\n",
       "</div>"
      ],
      "text/plain": [
       "      result\n",
       "0          0\n",
       "1          0\n",
       "2          0\n",
       "3          0\n",
       "4          0\n",
       "...      ...\n",
       "1892     143\n",
       "1893     143\n",
       "1894     143\n",
       "1895     143\n",
       "1896     143\n",
       "\n",
       "[1897 rows x 1 columns]"
      ]
     },
     "execution_count": 4,
     "metadata": {},
     "output_type": "execute_result"
    }
   ],
   "source": [
    "from sklearn.preprocessing import LabelEncoder\n",
    "\n",
    "# 라벨인코더 선언 및 Fitting\n",
    "le = LabelEncoder()\n",
    "le.fit(img_labels)\n",
    "\n",
    "# 인코딩한 데이터로 변환\n",
    "le_encoded = le.transform(img_labels)\n",
    "\n",
    "# 결과물을 확인하면 array 형태로 나옵니다.\n",
    "# 아래는 라벨 인코딩으로 만들어낸 데이터를 데이터 프레임으로 만들어주는 코드입니다.\n",
    "new_cat = pd.DataFrame(le_encoded, columns = ['result'])\n",
    "\n",
    "# 아래 코드를 실행시키면 인코딩된 class를 확인할 수 있습니다.\n",
    "new_cat\n"
   ]
  },
  {
   "cell_type": "code",
   "execution_count": 7,
   "id": "58dceffc",
   "metadata": {},
   "outputs": [
    {
     "data": {
      "text/plain": [
       "array(['VO_078_18'], dtype='<U9')"
      ]
     },
     "execution_count": 7,
     "metadata": {},
     "output_type": "execute_result"
    }
   ],
   "source": [
    "first = le.inverse_transform([360])\n",
    "first"
   ]
  },
  {
   "cell_type": "code",
   "execution_count": null,
   "id": "af8df8d7",
   "metadata": {},
   "outputs": [],
   "source": []
  },
  {
   "cell_type": "code",
   "execution_count": 4,
   "id": "412c68f0",
   "metadata": {},
   "outputs": [
    {
     "data": {
      "text/html": [
       "<div>\n",
       "<style scoped>\n",
       "    .dataframe tbody tr th:only-of-type {\n",
       "        vertical-align: middle;\n",
       "    }\n",
       "\n",
       "    .dataframe tbody tr th {\n",
       "        vertical-align: top;\n",
       "    }\n",
       "\n",
       "    .dataframe thead th {\n",
       "        text-align: right;\n",
       "    }\n",
       "</style>\n",
       "<table border=\"1\" class=\"dataframe\">\n",
       "  <thead>\n",
       "    <tr style=\"text-align: right;\">\n",
       "      <th></th>\n",
       "      <th>image_id</th>\n",
       "      <th>dir</th>\n",
       "      <th>label</th>\n",
       "    </tr>\n",
       "  </thead>\n",
       "  <tbody>\n",
       "    <tr>\n",
       "      <th>0</th>\n",
       "      <td>C_211222_AU_006_17_BK_A_P_01_054.jpg</td>\n",
       "      <td>Data/car_dataset_sample/AU_아우디/006_A4/2017_검정_트림A</td>\n",
       "      <td>0</td>\n",
       "    </tr>\n",
       "    <tr>\n",
       "      <th>1</th>\n",
       "      <td>C_211222_AU_006_17_BK_A_P_01_061.jpg</td>\n",
       "      <td>Data/car_dataset_sample/AU_아우디/006_A4/2017_검정_트림A</td>\n",
       "      <td>0</td>\n",
       "    </tr>\n",
       "    <tr>\n",
       "      <th>2</th>\n",
       "      <td>C_211222_AU_006_17_BK_A_T_03_021.jpg</td>\n",
       "      <td>Data/car_dataset_sample/AU_아우디/006_A4/2017_검정_트림A</td>\n",
       "      <td>0</td>\n",
       "    </tr>\n",
       "    <tr>\n",
       "      <th>3</th>\n",
       "      <td>C_211223_AU_006_17_BK_B_P_01_003.jpg</td>\n",
       "      <td>Data/car_dataset_sample/AU_아우디/006_A4/2017_검정_트림B</td>\n",
       "      <td>0</td>\n",
       "    </tr>\n",
       "    <tr>\n",
       "      <th>4</th>\n",
       "      <td>C_211223_AU_006_17_BK_B_P_01_048.jpg</td>\n",
       "      <td>Data/car_dataset_sample/AU_아우디/006_A4/2017_검정_트림B</td>\n",
       "      <td>0</td>\n",
       "    </tr>\n",
       "    <tr>\n",
       "      <th>...</th>\n",
       "      <td>...</td>\n",
       "      <td>...</td>\n",
       "      <td>...</td>\n",
       "    </tr>\n",
       "    <tr>\n",
       "      <th>1892</th>\n",
       "      <td>C_211111_SS_097_21_RE_A_P_01_031.jpg</td>\n",
       "      <td>Data/car_dataset_sample/SS_쌍용/097_티볼리/2021_빨강_트림A</td>\n",
       "      <td>143</td>\n",
       "    </tr>\n",
       "    <tr>\n",
       "      <th>1893</th>\n",
       "      <td>C_211111_SS_097_21_RE_A_P_01_057.jpg</td>\n",
       "      <td>Data/car_dataset_sample/SS_쌍용/097_티볼리/2021_빨강_트림A</td>\n",
       "      <td>143</td>\n",
       "    </tr>\n",
       "    <tr>\n",
       "      <th>1894</th>\n",
       "      <td>C_211111_SS_097_21_RE_B_P_01_031.jpg</td>\n",
       "      <td>Data/car_dataset_sample/SS_쌍용/097_티볼리/2021_빨강_트림B</td>\n",
       "      <td>143</td>\n",
       "    </tr>\n",
       "    <tr>\n",
       "      <th>1895</th>\n",
       "      <td>C_211111_SS_097_21_RE_B_P_01_058.jpg</td>\n",
       "      <td>Data/car_dataset_sample/SS_쌍용/097_티볼리/2021_빨강_트림B</td>\n",
       "      <td>143</td>\n",
       "    </tr>\n",
       "    <tr>\n",
       "      <th>1896</th>\n",
       "      <td>C_211111_SS_097_21_RE_B_T_03_013.jpg</td>\n",
       "      <td>Data/car_dataset_sample/SS_쌍용/097_티볼리/2021_빨강_트림B</td>\n",
       "      <td>143</td>\n",
       "    </tr>\n",
       "  </tbody>\n",
       "</table>\n",
       "<p>1897 rows × 3 columns</p>\n",
       "</div>"
      ],
      "text/plain": [
       "                                  image_id  \\\n",
       "0     C_211222_AU_006_17_BK_A_P_01_054.jpg   \n",
       "1     C_211222_AU_006_17_BK_A_P_01_061.jpg   \n",
       "2     C_211222_AU_006_17_BK_A_T_03_021.jpg   \n",
       "3     C_211223_AU_006_17_BK_B_P_01_003.jpg   \n",
       "4     C_211223_AU_006_17_BK_B_P_01_048.jpg   \n",
       "...                                    ...   \n",
       "1892  C_211111_SS_097_21_RE_A_P_01_031.jpg   \n",
       "1893  C_211111_SS_097_21_RE_A_P_01_057.jpg   \n",
       "1894  C_211111_SS_097_21_RE_B_P_01_031.jpg   \n",
       "1895  C_211111_SS_097_21_RE_B_P_01_058.jpg   \n",
       "1896  C_211111_SS_097_21_RE_B_T_03_013.jpg   \n",
       "\n",
       "                                                    dir  label  \n",
       "0     Data/car_dataset_sample/AU_아우디/006_A4/2017_검정_트림A      0  \n",
       "1     Data/car_dataset_sample/AU_아우디/006_A4/2017_검정_트림A      0  \n",
       "2     Data/car_dataset_sample/AU_아우디/006_A4/2017_검정_트림A      0  \n",
       "3     Data/car_dataset_sample/AU_아우디/006_A4/2017_검정_트림B      0  \n",
       "4     Data/car_dataset_sample/AU_아우디/006_A4/2017_검정_트림B      0  \n",
       "...                                                 ...    ...  \n",
       "1892  Data/car_dataset_sample/SS_쌍용/097_티볼리/2021_빨강_트림A    143  \n",
       "1893  Data/car_dataset_sample/SS_쌍용/097_티볼리/2021_빨강_트림A    143  \n",
       "1894  Data/car_dataset_sample/SS_쌍용/097_티볼리/2021_빨강_트림B    143  \n",
       "1895  Data/car_dataset_sample/SS_쌍용/097_티볼리/2021_빨강_트림B    143  \n",
       "1896  Data/car_dataset_sample/SS_쌍용/097_티볼리/2021_빨강_트림B    143  \n",
       "\n",
       "[1897 rows x 3 columns]"
      ]
     },
     "execution_count": 4,
     "metadata": {},
     "output_type": "execute_result"
    }
   ],
   "source": [
    "trn_df = pd.DataFrame(img_names, columns=['image_id'])\n",
    "trn_df['dir'] = trn_df['image_id'].apply(lambda x: os.path.dirname(x))\n",
    "trn_df['image_id'] = trn_df['image_id'].apply(lambda x: os.path.basename(x))\n",
    "trn_df['label'] = new_cat\n",
    "train = trn_df\n",
    "train"
   ]
  },
  {
   "cell_type": "code",
   "execution_count": 5,
   "id": "ad855580",
   "metadata": {},
   "outputs": [
    {
     "data": {
      "text/plain": [
       "23     69\n",
       "10     51\n",
       "18     45\n",
       "43     42\n",
       "95     39\n",
       "       ..\n",
       "28      3\n",
       "29      3\n",
       "111     3\n",
       "34      3\n",
       "33      3\n",
       "Name: label, Length: 144, dtype: int64"
      ]
     },
     "execution_count": 5,
     "metadata": {},
     "output_type": "execute_result"
    }
   ],
   "source": [
    "train.label.value_counts()"
   ]
  },
  {
   "cell_type": "code",
   "execution_count": 8,
   "id": "e17c2a70",
   "metadata": {},
   "outputs": [
    {
     "name": "stdout",
     "output_type": "stream",
     "text": [
      "257740\n"
     ]
    }
   ],
   "source": [
    "print(len(train.label))"
   ]
  },
  {
   "cell_type": "code",
   "execution_count": 10,
   "id": "b2233a60",
   "metadata": {},
   "outputs": [
    {
     "data": {
      "text/plain": [
       "array(['Data/car_data/car/1.Training/원천데이터/VO_폭스바겐/078_파사트/2018_흰색_트림B',\n",
       "       'Data/car_data/car/1.Training/원천데이터/VO_폭스바겐/078_파사트/2018_흰색_트림B',\n",
       "       'Data/car_data/car/1.Training/원천데이터/VO_폭스바겐/078_파사트/2018_흰색_트림B',\n",
       "       ...,\n",
       "       'Data/car_data/car/1.Training/원천데이터/BM_BMW/039_X5/2021_검정_트림A',\n",
       "       'Data/car_data/car/1.Training/원천데이터/BM_BMW/039_X5/2021_검정_트림A',\n",
       "       'Data/car_data/car/1.Training/원천데이터/BM_BMW/039_X5/2021_검정_트림A'],\n",
       "      dtype=object)"
      ]
     },
     "execution_count": 10,
     "metadata": {},
     "output_type": "execute_result"
    }
   ],
   "source": [
    "train.dir.values"
   ]
  },
  {
   "cell_type": "code",
   "execution_count": 62,
   "id": "c18f8308",
   "metadata": {},
   "outputs": [
    {
     "name": "stdout",
     "output_type": "stream",
     "text": [
      "Data/car_data/car/1.Training/원천데이터/VO_폭스바겐/078_파사트/2018_흰색_트림B\n"
     ]
    }
   ],
   "source": [
    "print(train.dir.values[0])"
   ]
  },
  {
   "cell_type": "code",
   "execution_count": 60,
   "id": "6f0fe9a2",
   "metadata": {},
   "outputs": [
    {
     "name": "stdout",
     "output_type": "stream",
     "text": [
      "0st : trn: [     0      1      2 ... 257734 257735 257739]\n",
      "0st : val: [     6      7     26 ... 257736 257737 257738]\n",
      "1st : trn: [     0      2      4 ... 257737 257738 257739]\n",
      "1st : val: [     1      3      5 ... 257728 257733 257735]\n",
      "2st : trn: [     0      1      2 ... 257737 257738 257739]\n",
      "2st : val: [     4      8     11 ... 257713 257723 257729]\n",
      "3st : trn: [     0      1      3 ... 257736 257737 257738]\n",
      "3st : val: [     2     20     21 ... 257732 257734 257739]\n",
      "4st : trn: [     1      2      3 ... 257737 257738 257739]\n",
      "4st : val: [     0      9     12 ... 257716 257717 257724]\n"
     ]
    },
    {
     "data": {
      "text/plain": [
       "array(['Data/car_data/car/1.Training/원천데이터/VO_폭스바겐/078_파사트/2018_흰색_트림B',\n",
       "       'Data/car_data/car/1.Training/원천데이터/VO_폭스바겐/078_파사트/2018_흰색_트림B',\n",
       "       'Data/car_data/car/1.Training/원천데이터/VO_폭스바겐/078_파사트/2018_흰색_트림B',\n",
       "       ...,\n",
       "       'Data/car_data/car/1.Training/원천데이터/BM_BMW/039_X5/2021_검정_트림A',\n",
       "       'Data/car_data/car/1.Training/원천데이터/BM_BMW/039_X5/2021_검정_트림A',\n",
       "       'Data/car_data/car/1.Training/원천데이터/BM_BMW/039_X5/2021_검정_트림A'],\n",
       "      dtype=object)"
      ]
     },
     "execution_count": 60,
     "metadata": {},
     "output_type": "execute_result"
    }
   ],
   "source": [
    "folds = StratifiedKFold(n_splits=5, shuffle=True, random_state=0)\n",
    "folds_split = folds.split(np.arange(train.shape[0]), train.label.values)\n",
    "for fold, (trn_idx, val_idx) in enumerate(folds_split):\n",
    "#print(f'trn_idx:{trn_idx}, val_idx: {val_idx}, fold: {fold}')\n",
    "    print(f'{fold}st : trn: {trn_idx}')\n",
    "    print(f'{fold}st : val: {val_idx}')\n",
    "\n",
    "train_ = train.loc[trn_idx,:].reset_index(drop=True)\n",
    "valid_ = train.loc[val_idx,:].reset_index(drop=True)\n",
    "train_data_root = train.dir.values[trn_idx] #trn_idx에 맞는 dir 뽑기\n",
    "valid_data_root = train.dir.values[val_idx]\n",
    "#print(train_)\n"
   ]
  },
  {
   "cell_type": "code",
   "execution_count": 10,
   "id": "707084aa",
   "metadata": {},
   "outputs": [
    {
     "data": {
      "text/plain": [
       "370"
      ]
     },
     "execution_count": 10,
     "metadata": {},
     "output_type": "execute_result"
    }
   ],
   "source": [
    "train.label.nunique()"
   ]
  },
  {
   "cell_type": "code",
   "execution_count": 50,
   "id": "87c1ea8a",
   "metadata": {},
   "outputs": [
    {
     "name": "stdout",
     "output_type": "stream",
     "text": [
      "257740\n"
     ]
    },
    {
     "data": {
      "text/plain": [
       "array([     0,      1,      2, ..., 257737, 257738, 257739])"
      ]
     },
     "execution_count": 50,
     "metadata": {},
     "output_type": "execute_result"
    }
   ],
   "source": [
    "print(train.shape[0])\n",
    "k = np.arange(train.shape[0])\n",
    "k"
   ]
  },
  {
   "cell_type": "code",
   "execution_count": 33,
   "id": "5cc8b13f",
   "metadata": {},
   "outputs": [
    {
     "name": "stdout",
     "output_type": "stream",
     "text": [
      "2\n",
      "TRAIN: [1 3] TEST: [0 2]\n",
      "TRAIN: [0 2] TEST: [1 3]\n"
     ]
    }
   ],
   "source": [
    "import numpy as np\n",
    "from sklearn.model_selection import StratifiedKFold\n",
    "X = np.array([[10, 20], [30, 40], [11, 22], [33, 44]])\n",
    "y = np.array([1, 1, 0, 0])\n",
    "skf = StratifiedKFold(n_splits=2)\n",
    "skf.get_n_splits(X, y)\n",
    "\n",
    "print(skf.get_n_splits(X, y))\n",
    "\n",
    "for train_index, test_index in skf.split(X, y):\n",
    "    print(\"TRAIN:\", train_index, \"TEST:\", test_index)\n",
    "    X_train, X_test = X[train_index], X[test_index]\n",
    "    y_train, y_test = y[train_index], y[test_index]"
   ]
  },
  {
   "cell_type": "code",
   "execution_count": 20,
   "id": "60b7d372",
   "metadata": {},
   "outputs": [
    {
     "data": {
      "text/plain": [
       "<generator object _BaseKFold.split at 0x7f91a06f2ce0>"
      ]
     },
     "execution_count": 20,
     "metadata": {},
     "output_type": "execute_result"
    }
   ],
   "source": [
    "folds"
   ]
  },
  {
   "cell_type": "code",
   "execution_count": 74,
   "id": "4b291a13",
   "metadata": {},
   "outputs": [
    {
     "data": {
      "text/plain": [
       "pandas.core.series.Series"
      ]
     },
     "execution_count": 74,
     "metadata": {},
     "output_type": "execute_result"
    }
   ],
   "source": [
    "type(train.label)"
   ]
  },
  {
   "cell_type": "code",
   "execution_count": 20,
   "id": "ab269827",
   "metadata": {},
   "outputs": [
    {
     "data": {
      "text/plain": [
       "370"
      ]
     },
     "execution_count": 20,
     "metadata": {},
     "output_type": "execute_result"
    }
   ],
   "source": [
    "#train['label'].max()+1\n",
    "temp = np.eye(train['label'].max()+1)\n",
    "len(temp)"
   ]
  },
  {
   "cell_type": "code",
   "execution_count": 78,
   "id": "553b6ea5",
   "metadata": {},
   "outputs": [
    {
     "ename": "TypeError",
     "evalue": "can only concatenate str (not \"int\") to str",
     "output_type": "error",
     "traceback": [
      "\u001b[0;31m---------------------------------------------------------------------------\u001b[0m",
      "\u001b[0;31mTypeError\u001b[0m                                 Traceback (most recent call last)",
      "\u001b[1;32m/home/hojun/git/efficientnet_pytorch/classification_train.ipynb Cell 22\u001b[0m in \u001b[0;36m<cell line: 1>\u001b[0;34m()\u001b[0m\n\u001b[0;32m----> <a href='vscode-notebook-cell://ssh-remote%2B7b22686f73744e616d65223a2231302e382e302e36222c2275736572223a22686f6a756e222c22706f7274223a33333039377d/home/hojun/git/efficientnet_pytorch/classification_train.ipynb#Y201sdnNjb2RlLXJlbW90ZQ%3D%3D?line=0'>1</a>\u001b[0m train\u001b[39m.\u001b[39mlabels \u001b[39m=\u001b[39m np\u001b[39m.\u001b[39meye(train[\u001b[39m'\u001b[39;49m\u001b[39mlabel\u001b[39;49m\u001b[39m'\u001b[39;49m]\u001b[39m.\u001b[39;49mmax()\u001b[39m+\u001b[39;49m\u001b[39m1\u001b[39;49m)\n",
      "\u001b[0;31mTypeError\u001b[0m: can only concatenate str (not \"int\") to str"
     ]
    }
   ],
   "source": [
    "train.labels = np.eye(train['label'].max()+1)\n"
   ]
  },
  {
   "cell_type": "code",
   "execution_count": null,
   "id": "d55ac184",
   "metadata": {},
   "outputs": [],
   "source": []
  },
  {
   "cell_type": "code",
   "execution_count": 5,
   "id": "28646fd4",
   "metadata": {},
   "outputs": [],
   "source": [
    "project_name = 'test32_car_classification'\n",
    "user = 'hojunking'\n",
    "run_name = 'test32_car_classification_efficientnet_lite0_size192'"
   ]
  },
  {
   "cell_type": "code",
   "execution_count": 6,
   "id": "ec9cac17",
   "metadata": {},
   "outputs": [
    {
     "ename": "NameError",
     "evalue": "name 'train' is not defined",
     "output_type": "error",
     "traceback": [
      "\u001b[0;31m---------------------------------------------------------------------------\u001b[0m",
      "\u001b[0;31mNameError\u001b[0m                                 Traceback (most recent call last)",
      "File \u001b[0;32m/tmp/ipykernel_1369/3865360135.py:1\u001b[0m, in \u001b[0;36m<cell line: 1>\u001b[0;34m()\u001b[0m\n\u001b[0;32m----> 1\u001b[0m \u001b[39mdef\u001b[39;00m \u001b[39mprepare_dataloader\u001b[39m(df, trn_idx, val_idx, data_root\u001b[39m=\u001b[39mtrain\u001b[39m.\u001b[39mdir\u001b[39m.\u001b[39mvalues):\n\u001b[1;32m      3\u001b[0m     \u001b[39mfrom\u001b[39;00m \u001b[39mcatalyst\u001b[39;00m\u001b[39m.\u001b[39;00m\u001b[39mdata\u001b[39;00m\u001b[39m.\u001b[39;00m\u001b[39msampler\u001b[39;00m \u001b[39mimport\u001b[39;00m BalanceClassSampler\n\u001b[1;32m      5\u001b[0m     train_ \u001b[39m=\u001b[39m df\u001b[39m.\u001b[39mloc[trn_idx,:]\u001b[39m.\u001b[39mreset_index(drop\u001b[39m=\u001b[39m\u001b[39mTrue\u001b[39;00m)\n",
      "\u001b[0;31mNameError\u001b[0m: name 'train' is not defined"
     ]
    },
    {
     "ename": "NameError",
     "evalue": "name 'train' is not defined",
     "output_type": "error",
     "traceback": [
      "\u001b[0;31m---------------------------------------------------------------------------\u001b[0m",
      "\u001b[0;31mNameError\u001b[0m                                 Traceback (most recent call last)",
      "\u001b[1;32m/home/hojun/git/efficientnet_pytorch/classification_train.ipynb Cell 22\u001b[0m in \u001b[0;36m<cell line: 1>\u001b[0;34m()\u001b[0m\n\u001b[0;32m----> <a href='vscode-notebook-cell://ssh-remote%2B7b22686f73744e616d65223a2231302e382e302e36222c2275736572223a22686f6a756e222c22706f7274223a33333039377d/home/hojun/git/efficientnet_pytorch/classification_train.ipynb#X30sdnNjb2RlLXJlbW90ZQ%3D%3D?line=0'>1</a>\u001b[0m get_ipython()\u001b[39m.\u001b[39;49mrun_line_magic(\u001b[39m'\u001b[39;49m\u001b[39mrun\u001b[39;49m\u001b[39m'\u001b[39;49m, \u001b[39m'\u001b[39;49m\u001b[39mclassification_train_efficientnet.ipynb\u001b[39;49m\u001b[39m'\u001b[39;49m)\n",
      "File \u001b[0;32m~/miniconda3/envs/torch/lib/python3.10/site-packages/IPython/core/interactiveshell.py:2305\u001b[0m, in \u001b[0;36mInteractiveShell.run_line_magic\u001b[0;34m(self, magic_name, line, _stack_depth)\u001b[0m\n\u001b[1;32m   2303\u001b[0m     kwargs[\u001b[39m'\u001b[39m\u001b[39mlocal_ns\u001b[39m\u001b[39m'\u001b[39m] \u001b[39m=\u001b[39m \u001b[39mself\u001b[39m\u001b[39m.\u001b[39mget_local_scope(stack_depth)\n\u001b[1;32m   2304\u001b[0m \u001b[39mwith\u001b[39;00m \u001b[39mself\u001b[39m\u001b[39m.\u001b[39mbuiltin_trap:\n\u001b[0;32m-> 2305\u001b[0m     result \u001b[39m=\u001b[39m fn(\u001b[39m*\u001b[39;49margs, \u001b[39m*\u001b[39;49m\u001b[39m*\u001b[39;49mkwargs)\n\u001b[1;32m   2306\u001b[0m \u001b[39mreturn\u001b[39;00m result\n",
      "File \u001b[0;32m~/miniconda3/envs/torch/lib/python3.10/site-packages/IPython/core/magics/execution.py:717\u001b[0m, in \u001b[0;36mExecutionMagics.run\u001b[0;34m(self, parameter_s, runner, file_finder)\u001b[0m\n\u001b[1;32m    715\u001b[0m     \u001b[39mwith\u001b[39;00m preserve_keys(\u001b[39mself\u001b[39m\u001b[39m.\u001b[39mshell\u001b[39m.\u001b[39muser_ns, \u001b[39m'\u001b[39m\u001b[39m__file__\u001b[39m\u001b[39m'\u001b[39m):\n\u001b[1;32m    716\u001b[0m         \u001b[39mself\u001b[39m\u001b[39m.\u001b[39mshell\u001b[39m.\u001b[39muser_ns[\u001b[39m'\u001b[39m\u001b[39m__file__\u001b[39m\u001b[39m'\u001b[39m] \u001b[39m=\u001b[39m filename\n\u001b[0;32m--> 717\u001b[0m         \u001b[39mself\u001b[39;49m\u001b[39m.\u001b[39;49mshell\u001b[39m.\u001b[39;49msafe_execfile_ipy(filename, raise_exceptions\u001b[39m=\u001b[39;49m\u001b[39mTrue\u001b[39;49;00m)\n\u001b[1;32m    718\u001b[0m     \u001b[39mreturn\u001b[39;00m\n\u001b[1;32m    720\u001b[0m \u001b[39m# Control the response to exit() calls made by the script being run\u001b[39;00m\n",
      "File \u001b[0;32m~/miniconda3/envs/torch/lib/python3.10/site-packages/IPython/core/interactiveshell.py:2811\u001b[0m, in \u001b[0;36mInteractiveShell.safe_execfile_ipy\u001b[0;34m(self, fname, shell_futures, raise_exceptions)\u001b[0m\n\u001b[1;32m   2809\u001b[0m result \u001b[39m=\u001b[39m \u001b[39mself\u001b[39m\u001b[39m.\u001b[39mrun_cell(cell, silent\u001b[39m=\u001b[39m\u001b[39mTrue\u001b[39;00m, shell_futures\u001b[39m=\u001b[39mshell_futures)\n\u001b[1;32m   2810\u001b[0m \u001b[39mif\u001b[39;00m raise_exceptions:\n\u001b[0;32m-> 2811\u001b[0m     result\u001b[39m.\u001b[39;49mraise_error()\n\u001b[1;32m   2812\u001b[0m \u001b[39melif\u001b[39;00m \u001b[39mnot\u001b[39;00m result\u001b[39m.\u001b[39msuccess:\n\u001b[1;32m   2813\u001b[0m     \u001b[39mbreak\u001b[39;00m\n",
      "File \u001b[0;32m~/miniconda3/envs/torch/lib/python3.10/site-packages/IPython/core/interactiveshell.py:251\u001b[0m, in \u001b[0;36mExecutionResult.raise_error\u001b[0;34m(self)\u001b[0m\n\u001b[1;32m    249\u001b[0m     \u001b[39mraise\u001b[39;00m \u001b[39mself\u001b[39m\u001b[39m.\u001b[39merror_before_exec\n\u001b[1;32m    250\u001b[0m \u001b[39mif\u001b[39;00m \u001b[39mself\u001b[39m\u001b[39m.\u001b[39merror_in_exec \u001b[39mis\u001b[39;00m \u001b[39mnot\u001b[39;00m \u001b[39mNone\u001b[39;00m:\n\u001b[0;32m--> 251\u001b[0m     \u001b[39mraise\u001b[39;00m \u001b[39mself\u001b[39m\u001b[39m.\u001b[39merror_in_exec\n",
      "    \u001b[0;31m[... skipping hidden 1 frame]\u001b[0m\n",
      "File \u001b[0;32m/tmp/ipykernel_1369/3865360135.py:1\u001b[0m, in \u001b[0;36m<cell line: 1>\u001b[0;34m()\u001b[0m\n\u001b[0;32m----> 1\u001b[0m \u001b[39mdef\u001b[39;00m \u001b[39mprepare_dataloader\u001b[39m(df, trn_idx, val_idx, data_root\u001b[39m=\u001b[39mtrain\u001b[39m.\u001b[39mdir\u001b[39m.\u001b[39mvalues):\n\u001b[1;32m      3\u001b[0m     \u001b[39mfrom\u001b[39;00m \u001b[39mcatalyst\u001b[39;00m\u001b[39m.\u001b[39;00m\u001b[39mdata\u001b[39;00m\u001b[39m.\u001b[39;00m\u001b[39msampler\u001b[39;00m \u001b[39mimport\u001b[39;00m BalanceClassSampler\n\u001b[1;32m      5\u001b[0m     train_ \u001b[39m=\u001b[39m df\u001b[39m.\u001b[39mloc[trn_idx,:]\u001b[39m.\u001b[39mreset_index(drop\u001b[39m=\u001b[39m\u001b[39mTrue\u001b[39;00m)\n",
      "\u001b[0;31mNameError\u001b[0m: name 'train' is not defined"
     ]
    }
   ],
   "source": [
    "%run classification_train_efficientnet.ipynb"
   ]
  },
  {
   "cell_type": "code",
   "execution_count": null,
   "id": "b8b77866",
   "metadata": {},
   "outputs": [],
   "source": []
  },
  {
   "cell_type": "code",
   "execution_count": null,
   "id": "ab5408f3",
   "metadata": {},
   "outputs": [],
   "source": [
    "#for train, val separately"
   ]
  },
  {
   "cell_type": "code",
   "execution_count": null,
   "id": "15a0cdae",
   "metadata": {},
   "outputs": [],
   "source": []
  },
  {
   "cell_type": "code",
   "execution_count": null,
   "id": "f44029c2",
   "metadata": {},
   "outputs": [],
   "source": []
  },
  {
   "cell_type": "code",
   "execution_count": 2,
   "id": "eedb5001",
   "metadata": {},
   "outputs": [],
   "source": [
    "#cecum = 1, else = 0\n",
    "\n",
    "true_path = '/Data/data/data_gsun/Cecum/experiment/train/cecum/'\n",
    "false_path = '/Data/data/data_gsun/Cecum/experiment/train/non_cecum/'"
   ]
  },
  {
   "cell_type": "code",
   "execution_count": null,
   "id": "d50be3b6",
   "metadata": {},
   "outputs": [],
   "source": []
  },
  {
   "cell_type": "code",
   "execution_count": 3,
   "id": "bad73e14",
   "metadata": {},
   "outputs": [],
   "source": [
    "true_dir = [true_path + x for x in os.listdir(true_path) if '.txt' not in x]\n",
    "false_dir = [false_path + x for x in os.listdir(false_path) if '.txt' not in x]"
   ]
  },
  {
   "cell_type": "code",
   "execution_count": 4,
   "id": "4b7811cd",
   "metadata": {},
   "outputs": [],
   "source": [
    "random.shuffle(true_dir)\n",
    "random.shuffle(false_dir)"
   ]
  },
  {
   "cell_type": "code",
   "execution_count": 5,
   "id": "423801d0",
   "metadata": {},
   "outputs": [
    {
     "name": "stdout",
     "output_type": "stream",
     "text": [
      "1274\n"
     ]
    }
   ],
   "source": [
    "print(len(true_dir))"
   ]
  },
  {
   "cell_type": "code",
   "execution_count": 6,
   "id": "7bba1452",
   "metadata": {},
   "outputs": [],
   "source": [
    "true_label = [1]*int(len(true_dir))"
   ]
  },
  {
   "cell_type": "code",
   "execution_count": 7,
   "id": "a9a5bad7",
   "metadata": {},
   "outputs": [
    {
     "name": "stdout",
     "output_type": "stream",
     "text": [
      "[1, 1, 1, 1, 1, 1, 1, 1, 1, 1]\n"
     ]
    }
   ],
   "source": [
    "print(true_label[:10])"
   ]
  },
  {
   "cell_type": "code",
   "execution_count": 8,
   "id": "bf596f88",
   "metadata": {},
   "outputs": [
    {
     "name": "stdout",
     "output_type": "stream",
     "text": [
      "1274\n"
     ]
    }
   ],
   "source": [
    "print(len(true_label))"
   ]
  },
  {
   "cell_type": "code",
   "execution_count": null,
   "id": "9f19ce88",
   "metadata": {},
   "outputs": [],
   "source": []
  },
  {
   "cell_type": "code",
   "execution_count": 9,
   "id": "95b74668",
   "metadata": {},
   "outputs": [
    {
     "name": "stdout",
     "output_type": "stream",
     "text": [
      "15000\n"
     ]
    }
   ],
   "source": [
    "print(len(false_dir))"
   ]
  },
  {
   "cell_type": "code",
   "execution_count": 10,
   "id": "6e94431d",
   "metadata": {},
   "outputs": [],
   "source": [
    "false_label = [0]*int(len(false_dir))"
   ]
  },
  {
   "cell_type": "code",
   "execution_count": 11,
   "id": "482a36ca",
   "metadata": {},
   "outputs": [
    {
     "name": "stdout",
     "output_type": "stream",
     "text": [
      "[0, 0, 0, 0, 0, 0, 0, 0, 0, 0]\n"
     ]
    }
   ],
   "source": [
    "print(false_label[:10])"
   ]
  },
  {
   "cell_type": "code",
   "execution_count": 12,
   "id": "30701b6f",
   "metadata": {},
   "outputs": [
    {
     "name": "stdout",
     "output_type": "stream",
     "text": [
      "15000\n"
     ]
    }
   ],
   "source": [
    "print(len(false_label))"
   ]
  },
  {
   "cell_type": "code",
   "execution_count": null,
   "id": "8f149017",
   "metadata": {},
   "outputs": [],
   "source": []
  },
  {
   "cell_type": "code",
   "execution_count": 13,
   "id": "65fb82ce",
   "metadata": {},
   "outputs": [],
   "source": [
    "whole_dir = true_dir + false_dir"
   ]
  },
  {
   "cell_type": "code",
   "execution_count": 14,
   "id": "cb37855b",
   "metadata": {},
   "outputs": [],
   "source": [
    "whole_label = true_label + false_label"
   ]
  },
  {
   "cell_type": "code",
   "execution_count": 15,
   "id": "b67b93ed",
   "metadata": {},
   "outputs": [
    {
     "name": "stdout",
     "output_type": "stream",
     "text": [
      "16274\n"
     ]
    }
   ],
   "source": [
    "print(len(whole_dir))"
   ]
  },
  {
   "cell_type": "code",
   "execution_count": 16,
   "id": "de8bca6e",
   "metadata": {},
   "outputs": [
    {
     "name": "stdout",
     "output_type": "stream",
     "text": [
      "16274\n"
     ]
    }
   ],
   "source": [
    "print(len(whole_label))"
   ]
  },
  {
   "cell_type": "code",
   "execution_count": null,
   "id": "6fc21caf",
   "metadata": {},
   "outputs": [],
   "source": []
  },
  {
   "cell_type": "code",
   "execution_count": 17,
   "id": "b985c72c",
   "metadata": {},
   "outputs": [
    {
     "data": {
      "text/html": [
       "<div>\n",
       "<style scoped>\n",
       "    .dataframe tbody tr th:only-of-type {\n",
       "        vertical-align: middle;\n",
       "    }\n",
       "\n",
       "    .dataframe tbody tr th {\n",
       "        vertical-align: top;\n",
       "    }\n",
       "\n",
       "    .dataframe thead th {\n",
       "        text-align: right;\n",
       "    }\n",
       "</style>\n",
       "<table border=\"1\" class=\"dataframe\">\n",
       "  <thead>\n",
       "    <tr style=\"text-align: right;\">\n",
       "      <th></th>\n",
       "      <th>image_id</th>\n",
       "      <th>dir</th>\n",
       "      <th>label</th>\n",
       "    </tr>\n",
       "  </thead>\n",
       "  <tbody>\n",
       "    <tr>\n",
       "      <th>0</th>\n",
       "      <td>V0480_0024.png</td>\n",
       "      <td>/Data/data/data_gsun/Cecum/experiment/train/cecum</td>\n",
       "      <td>1</td>\n",
       "    </tr>\n",
       "    <tr>\n",
       "      <th>1</th>\n",
       "      <td>V0376_0079.png</td>\n",
       "      <td>/Data/data/data_gsun/Cecum/experiment/train/cecum</td>\n",
       "      <td>1</td>\n",
       "    </tr>\n",
       "    <tr>\n",
       "      <th>2</th>\n",
       "      <td>V0670_0048.png</td>\n",
       "      <td>/Data/data/data_gsun/Cecum/experiment/train/cecum</td>\n",
       "      <td>1</td>\n",
       "    </tr>\n",
       "    <tr>\n",
       "      <th>3</th>\n",
       "      <td>V0307_0073.png</td>\n",
       "      <td>/Data/data/data_gsun/Cecum/experiment/train/cecum</td>\n",
       "      <td>1</td>\n",
       "    </tr>\n",
       "    <tr>\n",
       "      <th>4</th>\n",
       "      <td>V0612_0022.png</td>\n",
       "      <td>/Data/data/data_gsun/Cecum/experiment/train/cecum</td>\n",
       "      <td>1</td>\n",
       "    </tr>\n",
       "    <tr>\n",
       "      <th>...</th>\n",
       "      <td>...</td>\n",
       "      <td>...</td>\n",
       "      <td>...</td>\n",
       "    </tr>\n",
       "    <tr>\n",
       "      <th>16269</th>\n",
       "      <td>V1743_2021_0293_000738.png</td>\n",
       "      <td>/Data/data/data_gsun/Cecum/experiment/train/no...</td>\n",
       "      <td>0</td>\n",
       "    </tr>\n",
       "    <tr>\n",
       "      <th>16270</th>\n",
       "      <td>V1485_2021_0035_001495.png</td>\n",
       "      <td>/Data/data/data_gsun/Cecum/experiment/train/no...</td>\n",
       "      <td>0</td>\n",
       "    </tr>\n",
       "    <tr>\n",
       "      <th>16271</th>\n",
       "      <td>V1880_2021_0430_003530.png</td>\n",
       "      <td>/Data/data/data_gsun/Cecum/experiment/train/no...</td>\n",
       "      <td>0</td>\n",
       "    </tr>\n",
       "    <tr>\n",
       "      <th>16272</th>\n",
       "      <td>V1732_2021_0282_003544.png</td>\n",
       "      <td>/Data/data/data_gsun/Cecum/experiment/train/no...</td>\n",
       "      <td>0</td>\n",
       "    </tr>\n",
       "    <tr>\n",
       "      <th>16273</th>\n",
       "      <td>V1880_2021_0430_001680.png</td>\n",
       "      <td>/Data/data/data_gsun/Cecum/experiment/train/no...</td>\n",
       "      <td>0</td>\n",
       "    </tr>\n",
       "  </tbody>\n",
       "</table>\n",
       "<p>16274 rows × 3 columns</p>\n",
       "</div>"
      ],
      "text/plain": [
       "                         image_id  \\\n",
       "0                  V0480_0024.png   \n",
       "1                  V0376_0079.png   \n",
       "2                  V0670_0048.png   \n",
       "3                  V0307_0073.png   \n",
       "4                  V0612_0022.png   \n",
       "...                           ...   \n",
       "16269  V1743_2021_0293_000738.png   \n",
       "16270  V1485_2021_0035_001495.png   \n",
       "16271  V1880_2021_0430_003530.png   \n",
       "16272  V1732_2021_0282_003544.png   \n",
       "16273  V1880_2021_0430_001680.png   \n",
       "\n",
       "                                                     dir  label  \n",
       "0      /Data/data/data_gsun/Cecum/experiment/train/cecum      1  \n",
       "1      /Data/data/data_gsun/Cecum/experiment/train/cecum      1  \n",
       "2      /Data/data/data_gsun/Cecum/experiment/train/cecum      1  \n",
       "3      /Data/data/data_gsun/Cecum/experiment/train/cecum      1  \n",
       "4      /Data/data/data_gsun/Cecum/experiment/train/cecum      1  \n",
       "...                                                  ...    ...  \n",
       "16269  /Data/data/data_gsun/Cecum/experiment/train/no...      0  \n",
       "16270  /Data/data/data_gsun/Cecum/experiment/train/no...      0  \n",
       "16271  /Data/data/data_gsun/Cecum/experiment/train/no...      0  \n",
       "16272  /Data/data/data_gsun/Cecum/experiment/train/no...      0  \n",
       "16273  /Data/data/data_gsun/Cecum/experiment/train/no...      0  \n",
       "\n",
       "[16274 rows x 3 columns]"
      ]
     },
     "execution_count": 17,
     "metadata": {},
     "output_type": "execute_result"
    }
   ],
   "source": [
    "trn_df = pd.DataFrame(whole_dir, columns=['image_id'])\n",
    "trn_df['dir'] = trn_df['image_id'].apply(lambda x: os.path.dirname(x))\n",
    "trn_df['image_id'] = trn_df['image_id'].apply(lambda x: os.path.basename(x))\n",
    "trn_df['label'] = whole_label\n",
    "train = trn_df\n",
    "train"
   ]
  },
  {
   "cell_type": "code",
   "execution_count": 18,
   "id": "f17cb437",
   "metadata": {},
   "outputs": [
    {
     "data": {
      "text/plain": [
       "0    15000\n",
       "1     1274\n",
       "Name: label, dtype: int64"
      ]
     },
     "execution_count": 18,
     "metadata": {},
     "output_type": "execute_result"
    }
   ],
   "source": [
    "train.label.value_counts()"
   ]
  },
  {
   "cell_type": "code",
   "execution_count": null,
   "id": "0051687b",
   "metadata": {},
   "outputs": [],
   "source": []
  },
  {
   "cell_type": "code",
   "execution_count": null,
   "id": "c25c40ee",
   "metadata": {},
   "outputs": [],
   "source": []
  },
  {
   "cell_type": "code",
   "execution_count": null,
   "id": "06afe8fe",
   "metadata": {},
   "outputs": [],
   "source": []
  },
  {
   "cell_type": "code",
   "execution_count": 19,
   "id": "b4aac666",
   "metadata": {},
   "outputs": [],
   "source": [
    "#cecum = 1, else = 0\n",
    "\n",
    "true_val_path = '/Data/data/data_gsun/Cecum/experiment/val/cecum/'\n",
    "false_val_path = '/Data/data/data_gsun/Cecum/experiment/val/non_cecum/'"
   ]
  },
  {
   "cell_type": "code",
   "execution_count": null,
   "id": "5100a1a8",
   "metadata": {},
   "outputs": [],
   "source": []
  },
  {
   "cell_type": "code",
   "execution_count": 20,
   "id": "9f6859b7",
   "metadata": {},
   "outputs": [],
   "source": [
    "true_val_dir = [true_val_path + x for x in os.listdir(true_val_path) if '.txt' not in x]\n",
    "false_val_dir = [false_val_path + x for x in os.listdir(false_val_path) if '.txt' not in x]"
   ]
  },
  {
   "cell_type": "code",
   "execution_count": 21,
   "id": "ce3dfd4f",
   "metadata": {},
   "outputs": [],
   "source": [
    "random.shuffle(true_val_dir)\n",
    "random.shuffle(false_val_dir)"
   ]
  },
  {
   "cell_type": "code",
   "execution_count": 22,
   "id": "122b917c",
   "metadata": {},
   "outputs": [
    {
     "name": "stdout",
     "output_type": "stream",
     "text": [
      "71\n"
     ]
    }
   ],
   "source": [
    "print(len(true_val_dir))"
   ]
  },
  {
   "cell_type": "code",
   "execution_count": 23,
   "id": "287bf415",
   "metadata": {},
   "outputs": [],
   "source": [
    "true_val_label = [1]*int(len(true_val_dir))"
   ]
  },
  {
   "cell_type": "code",
   "execution_count": 24,
   "id": "fc599742",
   "metadata": {},
   "outputs": [
    {
     "name": "stdout",
     "output_type": "stream",
     "text": [
      "[1, 1, 1, 1, 1, 1, 1, 1, 1, 1]\n"
     ]
    }
   ],
   "source": [
    "print(true_val_label[:10])"
   ]
  },
  {
   "cell_type": "code",
   "execution_count": 25,
   "id": "b1f32a54",
   "metadata": {},
   "outputs": [
    {
     "name": "stdout",
     "output_type": "stream",
     "text": [
      "71\n"
     ]
    }
   ],
   "source": [
    "print(len(true_val_label))"
   ]
  },
  {
   "cell_type": "code",
   "execution_count": null,
   "id": "4b76daff",
   "metadata": {},
   "outputs": [],
   "source": []
  },
  {
   "cell_type": "code",
   "execution_count": 26,
   "id": "bec4c21f",
   "metadata": {},
   "outputs": [
    {
     "name": "stdout",
     "output_type": "stream",
     "text": [
      "639\n"
     ]
    }
   ],
   "source": [
    "print(len(false_val_dir))"
   ]
  },
  {
   "cell_type": "code",
   "execution_count": 27,
   "id": "0e5098ce",
   "metadata": {},
   "outputs": [],
   "source": [
    "false_val_label = [0]*int(len(false_val_dir))"
   ]
  },
  {
   "cell_type": "code",
   "execution_count": 28,
   "id": "80972cdd",
   "metadata": {},
   "outputs": [
    {
     "name": "stdout",
     "output_type": "stream",
     "text": [
      "[0, 0, 0, 0, 0, 0, 0, 0, 0, 0]\n"
     ]
    }
   ],
   "source": [
    "print(false_val_label[:10])"
   ]
  },
  {
   "cell_type": "code",
   "execution_count": 29,
   "id": "963558e3",
   "metadata": {},
   "outputs": [
    {
     "name": "stdout",
     "output_type": "stream",
     "text": [
      "639\n"
     ]
    }
   ],
   "source": [
    "print(len(false_val_label))"
   ]
  },
  {
   "cell_type": "code",
   "execution_count": null,
   "id": "e009a731",
   "metadata": {},
   "outputs": [],
   "source": []
  },
  {
   "cell_type": "code",
   "execution_count": 30,
   "id": "35c033c7",
   "metadata": {},
   "outputs": [],
   "source": [
    "whole_val_dir = true_val_dir + false_val_dir"
   ]
  },
  {
   "cell_type": "code",
   "execution_count": 31,
   "id": "cd021ad2",
   "metadata": {},
   "outputs": [],
   "source": [
    "whole_val_label = true_val_label + false_val_label"
   ]
  },
  {
   "cell_type": "code",
   "execution_count": 32,
   "id": "cce524ae",
   "metadata": {},
   "outputs": [
    {
     "name": "stdout",
     "output_type": "stream",
     "text": [
      "710\n"
     ]
    }
   ],
   "source": [
    "print(len(whole_val_dir))"
   ]
  },
  {
   "cell_type": "code",
   "execution_count": 33,
   "id": "110699fa",
   "metadata": {},
   "outputs": [
    {
     "name": "stdout",
     "output_type": "stream",
     "text": [
      "710\n"
     ]
    }
   ],
   "source": [
    "print(len(whole_val_label))"
   ]
  },
  {
   "cell_type": "code",
   "execution_count": null,
   "id": "759faedd",
   "metadata": {},
   "outputs": [],
   "source": []
  },
  {
   "cell_type": "code",
   "execution_count": 34,
   "id": "fc1d1eef",
   "metadata": {},
   "outputs": [
    {
     "data": {
      "text/html": [
       "<div>\n",
       "<style scoped>\n",
       "    .dataframe tbody tr th:only-of-type {\n",
       "        vertical-align: middle;\n",
       "    }\n",
       "\n",
       "    .dataframe tbody tr th {\n",
       "        vertical-align: top;\n",
       "    }\n",
       "\n",
       "    .dataframe thead th {\n",
       "        text-align: right;\n",
       "    }\n",
       "</style>\n",
       "<table border=\"1\" class=\"dataframe\">\n",
       "  <thead>\n",
       "    <tr style=\"text-align: right;\">\n",
       "      <th></th>\n",
       "      <th>image_id</th>\n",
       "      <th>dir</th>\n",
       "      <th>label</th>\n",
       "    </tr>\n",
       "  </thead>\n",
       "  <tbody>\n",
       "    <tr>\n",
       "      <th>0</th>\n",
       "      <td>V1824_2021_0374_000004.png</td>\n",
       "      <td>/Data/data/data_gsun/Cecum/experiment/val/cecum</td>\n",
       "      <td>1</td>\n",
       "    </tr>\n",
       "    <tr>\n",
       "      <th>1</th>\n",
       "      <td>V1533_2021_0083_000723.png</td>\n",
       "      <td>/Data/data/data_gsun/Cecum/experiment/val/cecum</td>\n",
       "      <td>1</td>\n",
       "    </tr>\n",
       "    <tr>\n",
       "      <th>2</th>\n",
       "      <td>V1533_2021_0083_000742.png</td>\n",
       "      <td>/Data/data/data_gsun/Cecum/experiment/val/cecum</td>\n",
       "      <td>1</td>\n",
       "    </tr>\n",
       "    <tr>\n",
       "      <th>3</th>\n",
       "      <td>V1434_2020_1204_000377.png</td>\n",
       "      <td>/Data/data/data_gsun/Cecum/experiment/val/cecum</td>\n",
       "      <td>1</td>\n",
       "    </tr>\n",
       "    <tr>\n",
       "      <th>4</th>\n",
       "      <td>V1533_2021_0083_000750.png</td>\n",
       "      <td>/Data/data/data_gsun/Cecum/experiment/val/cecum</td>\n",
       "      <td>1</td>\n",
       "    </tr>\n",
       "    <tr>\n",
       "      <th>...</th>\n",
       "      <td>...</td>\n",
       "      <td>...</td>\n",
       "      <td>...</td>\n",
       "    </tr>\n",
       "    <tr>\n",
       "      <th>705</th>\n",
       "      <td>V1434_2020_1204_001067.png</td>\n",
       "      <td>/Data/data/data_gsun/Cecum/experiment/val/non_...</td>\n",
       "      <td>0</td>\n",
       "    </tr>\n",
       "    <tr>\n",
       "      <th>706</th>\n",
       "      <td>V0042_2019_0042_002852.png</td>\n",
       "      <td>/Data/data/data_gsun/Cecum/experiment/val/non_...</td>\n",
       "      <td>0</td>\n",
       "    </tr>\n",
       "    <tr>\n",
       "      <th>707</th>\n",
       "      <td>V1373_2020_1143_002984.png</td>\n",
       "      <td>/Data/data/data_gsun/Cecum/experiment/val/non_...</td>\n",
       "      <td>0</td>\n",
       "    </tr>\n",
       "    <tr>\n",
       "      <th>708</th>\n",
       "      <td>V0042_2019_0042_003166.png</td>\n",
       "      <td>/Data/data/data_gsun/Cecum/experiment/val/non_...</td>\n",
       "      <td>0</td>\n",
       "    </tr>\n",
       "    <tr>\n",
       "      <th>709</th>\n",
       "      <td>V1373_2020_1143_001426.png</td>\n",
       "      <td>/Data/data/data_gsun/Cecum/experiment/val/non_...</td>\n",
       "      <td>0</td>\n",
       "    </tr>\n",
       "  </tbody>\n",
       "</table>\n",
       "<p>710 rows × 3 columns</p>\n",
       "</div>"
      ],
      "text/plain": [
       "                       image_id  \\\n",
       "0    V1824_2021_0374_000004.png   \n",
       "1    V1533_2021_0083_000723.png   \n",
       "2    V1533_2021_0083_000742.png   \n",
       "3    V1434_2020_1204_000377.png   \n",
       "4    V1533_2021_0083_000750.png   \n",
       "..                          ...   \n",
       "705  V1434_2020_1204_001067.png   \n",
       "706  V0042_2019_0042_002852.png   \n",
       "707  V1373_2020_1143_002984.png   \n",
       "708  V0042_2019_0042_003166.png   \n",
       "709  V1373_2020_1143_001426.png   \n",
       "\n",
       "                                                   dir  label  \n",
       "0      /Data/data/data_gsun/Cecum/experiment/val/cecum      1  \n",
       "1      /Data/data/data_gsun/Cecum/experiment/val/cecum      1  \n",
       "2      /Data/data/data_gsun/Cecum/experiment/val/cecum      1  \n",
       "3      /Data/data/data_gsun/Cecum/experiment/val/cecum      1  \n",
       "4      /Data/data/data_gsun/Cecum/experiment/val/cecum      1  \n",
       "..                                                 ...    ...  \n",
       "705  /Data/data/data_gsun/Cecum/experiment/val/non_...      0  \n",
       "706  /Data/data/data_gsun/Cecum/experiment/val/non_...      0  \n",
       "707  /Data/data/data_gsun/Cecum/experiment/val/non_...      0  \n",
       "708  /Data/data/data_gsun/Cecum/experiment/val/non_...      0  \n",
       "709  /Data/data/data_gsun/Cecum/experiment/val/non_...      0  \n",
       "\n",
       "[710 rows x 3 columns]"
      ]
     },
     "execution_count": 34,
     "metadata": {},
     "output_type": "execute_result"
    }
   ],
   "source": [
    "val_df = pd.DataFrame(whole_val_dir, columns=['image_id'])\n",
    "val_df['dir'] = val_df['image_id'].apply(lambda x: os.path.dirname(x))\n",
    "val_df['image_id'] = val_df['image_id'].apply(lambda x: os.path.basename(x))\n",
    "val_df['label'] = whole_val_label\n",
    "val = val_df\n",
    "val"
   ]
  },
  {
   "cell_type": "code",
   "execution_count": 35,
   "id": "cdc6e2fe",
   "metadata": {},
   "outputs": [
    {
     "data": {
      "text/plain": [
       "0    639\n",
       "1     71\n",
       "Name: label, dtype: int64"
      ]
     },
     "execution_count": 35,
     "metadata": {},
     "output_type": "execute_result"
    }
   ],
   "source": [
    "val.label.value_counts()"
   ]
  },
  {
   "cell_type": "code",
   "execution_count": null,
   "id": "bcfb85b9",
   "metadata": {},
   "outputs": [],
   "source": []
  },
  {
   "cell_type": "code",
   "execution_count": null,
   "id": "7b79cd6c",
   "metadata": {},
   "outputs": [],
   "source": []
  },
  {
   "cell_type": "code",
   "execution_count": null,
   "id": "38b11a97",
   "metadata": {},
   "outputs": [],
   "source": []
  },
  {
   "cell_type": "code",
   "execution_count": null,
   "id": "e3bb6170",
   "metadata": {},
   "outputs": [],
   "source": []
  },
  {
   "cell_type": "code",
   "execution_count": null,
   "id": "d6b9a5f8",
   "metadata": {},
   "outputs": [],
   "source": []
  },
  {
   "cell_type": "code",
   "execution_count": null,
   "id": "1823178e",
   "metadata": {},
   "outputs": [],
   "source": []
  },
  {
   "cell_type": "code",
   "execution_count": null,
   "id": "4292a58d",
   "metadata": {},
   "outputs": [],
   "source": []
  },
  {
   "cell_type": "code",
   "execution_count": 36,
   "id": "efc3e362",
   "metadata": {},
   "outputs": [],
   "source": [
    "project_name = 'cecum_classification'\n",
    "user = 'honbul'\n",
    "run_name = 'cecum_classification_efficientnet_lite0_size192'"
   ]
  },
  {
   "cell_type": "code",
   "execution_count": null,
   "id": "1658ffc2",
   "metadata": {},
   "outputs": [],
   "source": []
  },
  {
   "cell_type": "code",
   "execution_count": null,
   "id": "529ba0e2",
   "metadata": {},
   "outputs": [],
   "source": []
  },
  {
   "cell_type": "code",
   "execution_count": null,
   "id": "1424261b",
   "metadata": {},
   "outputs": [
    {
     "name": "stderr",
     "output_type": "stream",
     "text": [
      "Failed to detect the name of this notebook, you can set it manually with the WANDB_NOTEBOOK_NAME environment variable to enable code saving.\n",
      "\u001b[34m\u001b[1mwandb\u001b[0m: Currently logged in as: \u001b[33mhonbul\u001b[0m. Use \u001b[1m`wandb login --relogin`\u001b[0m to force relogin\n"
     ]
    },
    {
     "data": {
      "text/html": [
       "wandb version 0.13.3 is available!  To upgrade, please run:\n",
       " $ pip install wandb --upgrade"
      ],
      "text/plain": [
       "<IPython.core.display.HTML object>"
      ]
     },
     "metadata": {},
     "output_type": "display_data"
    },
    {
     "data": {
      "text/html": [
       "Tracking run with wandb version 0.13.2"
      ],
      "text/plain": [
       "<IPython.core.display.HTML object>"
      ]
     },
     "metadata": {},
     "output_type": "display_data"
    },
    {
     "data": {
      "text/html": [
       "Run data is saved locally in <code>/home/super/endo_venv/gsun/cecum/wandb/run-20221004_194011-2z21ejof</code>"
      ],
      "text/plain": [
       "<IPython.core.display.HTML object>"
      ]
     },
     "metadata": {},
     "output_type": "display_data"
    },
    {
     "data": {
      "text/html": [
       "Syncing run <strong><a href=\"https://wandb.ai/honbul/cecum_classification/runs/2z21ejof\" target=\"_blank\">lively-smoke-15</a></strong> to <a href=\"https://wandb.ai/honbul/cecum_classification\" target=\"_blank\">Weights & Biases</a> (<a href=\"https://wandb.me/run\" target=\"_blank\">docs</a>)<br/>"
      ],
      "text/plain": [
       "<IPython.core.display.HTML object>"
      ]
     },
     "metadata": {},
     "output_type": "display_data"
    },
    {
     "name": "stderr",
     "output_type": "stream",
     "text": [
      "/home/super/endo_venv/lib/python3.8/site-packages/albumentations/augmentations/dropout/cutout.py:50: FutureWarning: Cutout has been deprecated. Please use CoarseDropout\n",
      "  warnings.warn(\n",
      "epoch 0 loss: 0.0238: 100%|█████████████████████████████████████████████████████████| 3000/3000 [10:26<00:00,  4.79it/s]\n"
     ]
    },
    {
     "name": "stdout",
     "output_type": "stream",
     "text": [
      "train accuracy = 0.98053\n",
      "[[14778   222]\n",
      " [  362 14638]]\n"
     ]
    },
    {
     "name": "stderr",
     "output_type": "stream",
     "text": [
      "epoch 0 loss: 0.5145: 100%|█████████████████████████████████████████████████████████████| 71/71 [00:03<00:00, 20.92it/s]\n"
     ]
    },
    {
     "name": "stdout",
     "output_type": "stream",
     "text": [
      "validation accuracy = 0.81408\n",
      "[[512 127]\n",
      " [  5  66]]\n"
     ]
    },
    {
     "data": {
      "image/png": "[encoded data removed]",
      "text/plain": [
       "<Figure size 432x288 with 1 Axes>"
      ]
     },
     "metadata": {
      "needs_background": "light"
     },
     "output_type": "display_data"
    },
    {
     "name": "stderr",
     "output_type": "stream",
     "text": [
      "epoch 1 loss: 0.0124: 100%|█████████████████████████████████████████████████████████| 3000/3000 [10:25<00:00,  4.79it/s]\n"
     ]
    },
    {
     "name": "stdout",
     "output_type": "stream",
     "text": [
      "train accuracy = 0.99637\n",
      "[[14946    54]\n",
      " [   55 14945]]\n"
     ]
    },
    {
     "name": "stderr",
     "output_type": "stream",
     "text": [
      "epoch 1 loss: 0.7367: 100%|█████████████████████████████████████████████████████████████| 71/71 [00:03<00:00, 21.10it/s]\n"
     ]
    },
    {
     "name": "stdout",
     "output_type": "stream",
     "text": [
      "validation accuracy = 0.70704\n",
      "[[431 208]\n",
      " [  0  71]]\n"
     ]
    },
    {
     "data": {
      "image/png": "[encoded data removed]",
      "text/plain": [
       "<Figure size 432x288 with 1 Axes>"
      ]
     },
     "metadata": {
      "needs_background": "light"
     },
     "output_type": "display_data"
    },
    {
     "name": "stderr",
     "output_type": "stream",
     "text": [
      "epoch 2 loss: 0.0020: 100%|█████████████████████████████████████████████████████████| 3000/3000 [10:30<00:00,  4.76it/s]\n"
     ]
    },
    {
     "name": "stdout",
     "output_type": "stream",
     "text": [
      "train accuracy = 0.99767\n",
      "[[14959    41]\n",
      " [   29 14971]]\n"
     ]
    },
    {
     "name": "stderr",
     "output_type": "stream",
     "text": [
      "epoch 2 loss: 0.6676: 100%|█████████████████████████████████████████████████████████████| 71/71 [00:03<00:00, 21.18it/s]\n"
     ]
    },
    {
     "name": "stdout",
     "output_type": "stream",
     "text": [
      "validation accuracy = 0.80563\n",
      "[[509 130]\n",
      " [  8  63]]\n"
     ]
    },
    {
     "data": {
      "image/png": "[encoded data removed]",
      "text/plain": [
       "<Figure size 432x288 with 1 Axes>"
      ]
     },
     "metadata": {
      "needs_background": "light"
     },
     "output_type": "display_data"
    },
    {
     "name": "stderr",
     "output_type": "stream",
     "text": [
      "epoch 3 loss: 0.0028: 100%|█████████████████████████████████████████████████████████| 3000/3000 [10:31<00:00,  4.75it/s]\n"
     ]
    },
    {
     "name": "stdout",
     "output_type": "stream",
     "text": [
      "train accuracy = 0.99870\n",
      "[[14980    20]\n",
      " [   19 14981]]\n"
     ]
    },
    {
     "name": "stderr",
     "output_type": "stream",
     "text": [
      "epoch 3 loss: 0.3945: 100%|█████████████████████████████████████████████████████████████| 71/71 [00:03<00:00, 20.96it/s]\n"
     ]
    },
    {
     "name": "stdout",
     "output_type": "stream",
     "text": [
      "validation accuracy = 0.85915\n",
      "[[546  93]\n",
      " [  7  64]]\n"
     ]
    },
    {
     "data": {
      "image/png": "[encoded data removed]",
      "text/plain": [
       "<Figure size 432x288 with 1 Axes>"
      ]
     },
     "metadata": {
      "needs_background": "light"
     },
     "output_type": "display_data"
    },
    {
     "name": "stderr",
     "output_type": "stream",
     "text": [
      "epoch 4 loss: 0.0052: 100%|█████████████████████████████████████████████████████████| 3000/3000 [10:32<00:00,  4.74it/s]\n"
     ]
    },
    {
     "name": "stdout",
     "output_type": "stream",
     "text": [
      "train accuracy = 0.99773\n",
      "[[14961    39]\n",
      " [   29 14971]]\n"
     ]
    },
    {
     "name": "stderr",
     "output_type": "stream",
     "text": [
      "epoch 4 loss: 0.3124: 100%|█████████████████████████████████████████████████████████████| 71/71 [00:03<00:00, 21.07it/s]\n"
     ]
    },
    {
     "name": "stdout",
     "output_type": "stream",
     "text": [
      "validation accuracy = 0.88169\n",
      "[[569  70]\n",
      " [ 14  57]]\n"
     ]
    },
    {
     "data": {
      "image/png": "[encoded data removed]",
      "text/plain": [
       "<Figure size 432x288 with 1 Axes>"
      ]
     },
     "metadata": {
      "needs_background": "light"
     },
     "output_type": "display_data"
    },
    {
     "name": "stderr",
     "output_type": "stream",
     "text": [
      "epoch 5 loss: 0.0049:  47%|██████████████████████████▊                              | 1413/3000 [04:58<05:23,  4.90it/s]"
     ]
    }
   ],
   "source": [
    "%run classification_train_val_separate_efficientnet.ipynb"
   ]
  },
  {
   "cell_type": "code",
   "execution_count": null,
   "id": "43b952e1",
   "metadata": {},
   "outputs": [],
   "source": []
  },
  {
   "cell_type": "code",
   "execution_count": null,
   "id": "e64f3824",
   "metadata": {},
   "outputs": [],
   "source": []
  },
  {
   "cell_type": "code",
   "execution_count": null,
   "id": "9b101835",
   "metadata": {},
   "outputs": [],
   "source": []
  }
 ],
 "metadata": {
  "kernelspec": {
   "display_name": "torch-gpu",
   "language": "python",
   "name": "torch"
  },
  "language_info": {
   "codemirror_mode": {
    "name": "ipython",
    "version": 3
   },
   "file_extension": ".py",
   "mimetype": "text/x-python",
   "name": "python",
   "nbconvert_exporter": "python",
   "pygments_lexer": "ipython3",
   "version": "3.10.6"
  },
  "vscode": {
   "interpreter": {
    "hash": "1b142fc85a54351beba7c0167d35ed8d59c399b35758b06d45967d8219577567"
   }
  }
 },
 "nbformat": 4,
 "nbformat_minor": 5
}
