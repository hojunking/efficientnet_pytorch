{
 "cells": [
  {
   "cell_type": "code",
   "execution_count": 1,
   "id": "2137dbd4",
   "metadata": {},
   "outputs": [],
   "source": [
    "import torch\n",
    "from glob import glob\n",
    "from sklearn.model_selection import GroupKFold, StratifiedKFold\n",
    "import cv2\n",
    "from skimage import io\n",
    "import torch\n",
    "from torch import nn\n",
    "import os\n",
    "from datetime import datetime\n",
    "import time\n",
    "import random\n",
    "import cv2\n",
    "import torchvision\n",
    "from torchvision import transforms\n",
    "import pandas as pd\n",
    "import numpy as np\n",
    "from tqdm import tqdm\n",
    "import re, magic\n",
    "\n",
    "import matplotlib.pyplot as plt\n",
    "from torch.utils.data import Dataset,DataLoader\n",
    "from torch.utils.data.sampler import SequentialSampler, RandomSampler\n",
    "from  torch.cuda.amp import autocast, GradScaler\n",
    "\n",
    "import sklearn\n",
    "import warnings\n",
    "import joblib\n",
    "from sklearn.metrics import roc_auc_score, log_loss\n",
    "from sklearn import metrics\n",
    "import warnings\n",
    "import cv2\n",
    "#import pydicom\n",
    "import timm #from efficientnet_pytorch import EfficientNet\n",
    "from scipy.ndimage import zoom\n",
    "from sklearn.metrics import log_loss\n",
    "from sklearn.metrics import confusion_matrix\n",
    "\n",
    "#vit\n",
    "from timm.data import resolve_data_config\n",
    "from timm.data.transforms_factory import create_transform\n",
    "import os"
   ]
  },
  {
   "cell_type": "code",
   "execution_count": null,
   "id": "f1699bc0",
   "metadata": {},
   "outputs": [],
   "source": []
  },
  {
   "cell_type": "code",
   "execution_count": null,
   "id": "57cd0bb8",
   "metadata": {},
   "outputs": [],
   "source": []
  },
  {
   "cell_type": "code",
   "execution_count": 2,
   "id": "f6d37cba",
   "metadata": {},
   "outputs": [],
   "source": [
    "#for whole inference (without label)\n",
    "test_imgs = os.listdir('/home/super/endo_venv/gsun/blur_classification/inferenced_data/clean/')"
   ]
  },
  {
   "cell_type": "code",
   "execution_count": 3,
   "id": "111deccc",
   "metadata": {},
   "outputs": [
    {
     "name": "stdout",
     "output_type": "stream",
     "text": [
      "2055\n"
     ]
    }
   ],
   "source": [
    "print(len(test_imgs))"
   ]
  },
  {
   "cell_type": "code",
   "execution_count": 4,
   "id": "4283dadc",
   "metadata": {},
   "outputs": [
    {
     "name": "stdout",
     "output_type": "stream",
     "text": [
      "['V1492_2021_0042_002196.png', 'V1492_2021_0042_000279.png', 'V1492_2021_0042_003584.png', 'V1492_2021_0042_002230.png', 'V1492_2021_0042_000013.png', 'V1492_2021_0042_004370.png', 'V1492_2021_0042_003993.png', 'V1492_2021_0042_000096.png', 'V1492_2021_0042_004724.png', 'V1492_2021_0042_000993.png']\n"
     ]
    }
   ],
   "source": [
    "print(test_imgs[:10])"
   ]
  },
  {
   "cell_type": "code",
   "execution_count": null,
   "id": "fff9337e",
   "metadata": {},
   "outputs": [],
   "source": []
  },
  {
   "cell_type": "code",
   "execution_count": null,
   "id": "8e306411",
   "metadata": {},
   "outputs": [],
   "source": []
  },
  {
   "cell_type": "code",
   "execution_count": 3,
   "id": "f1b01966",
   "metadata": {},
   "outputs": [],
   "source": [
    "#for inference with labeled data\n",
    "true_imgs = os.listdir('/Data/data/data_gsun/data/cecum/cecum_test_frames/cecum/')\n",
    "\n",
    "false_imgs = os.listdir('/Data/data/data_gsun/data/cecum/cecum_test_frames/non_cecum/')"
   ]
  },
  {
   "cell_type": "code",
   "execution_count": 4,
   "id": "b6270d98",
   "metadata": {},
   "outputs": [
    {
     "name": "stdout",
     "output_type": "stream",
     "text": [
      "465\n"
     ]
    }
   ],
   "source": [
    "print(len(true_imgs))"
   ]
  },
  {
   "cell_type": "code",
   "execution_count": 5,
   "id": "dc5fff0f",
   "metadata": {},
   "outputs": [
    {
     "name": "stdout",
     "output_type": "stream",
     "text": [
      "['V0246_2020_0016_001613.png', 'V0246_2020_0016_001435.png', 'V0246_2020_0016_001430.png', 'V0246_2020_0016_001425.png', 'V0244_2020_0014_001780.png', 'V0244_2020_0014_001709.png', 'V0242_2020_0012_002368.png', 'V0242_2020_0012_002363.png', 'V0242_2020_0012_002064.png', 'V0242_2020_0012_002021.png']\n"
     ]
    }
   ],
   "source": [
    "print(true_imgs[:10])"
   ]
  },
  {
   "cell_type": "code",
   "execution_count": null,
   "id": "e6eeaa7c",
   "metadata": {},
   "outputs": [],
   "source": []
  },
  {
   "cell_type": "code",
   "execution_count": null,
   "id": "c13482db",
   "metadata": {},
   "outputs": [],
   "source": []
  },
  {
   "cell_type": "code",
   "execution_count": 6,
   "id": "55b8595d",
   "metadata": {},
   "outputs": [],
   "source": [
    "#for whole inference (without label)\n",
    "df_test = pd.DataFrame(columns = ['image_id'])"
   ]
  },
  {
   "cell_type": "code",
   "execution_count": 7,
   "id": "ae25fb1c",
   "metadata": {},
   "outputs": [
    {
     "ename": "NameError",
     "evalue": "name 'test_imgs' is not defined",
     "output_type": "error",
     "traceback": [
      "\u001b[0;31m---------------------------------------------------------------------------\u001b[0m",
      "\u001b[0;31mNameError\u001b[0m                                 Traceback (most recent call last)",
      "Input \u001b[0;32mIn [7]\u001b[0m, in \u001b[0;36m<cell line: 1>\u001b[0;34m()\u001b[0m\n\u001b[0;32m----> 1\u001b[0m df_test[\u001b[38;5;124m'\u001b[39m\u001b[38;5;124mimage_id\u001b[39m\u001b[38;5;124m'\u001b[39m] \u001b[38;5;241m=\u001b[39m \u001b[43mtest_imgs\u001b[49m\n",
      "\u001b[0;31mNameError\u001b[0m: name 'test_imgs' is not defined"
     ]
    }
   ],
   "source": [
    "df_test['image_id'] = test_imgs"
   ]
  },
  {
   "cell_type": "code",
   "execution_count": 8,
   "id": "7655a1df",
   "metadata": {},
   "outputs": [],
   "source": [
    "df_test['image_id'] = df_test['image_id'].apply(lambda x: '/clean/' + x)"
   ]
  },
  {
   "cell_type": "code",
   "execution_count": 8,
   "id": "5fc93aac",
   "metadata": {},
   "outputs": [
    {
     "data": {
      "text/html": [
       "<div>\n",
       "<style scoped>\n",
       "    .dataframe tbody tr th:only-of-type {\n",
       "        vertical-align: middle;\n",
       "    }\n",
       "\n",
       "    .dataframe tbody tr th {\n",
       "        vertical-align: top;\n",
       "    }\n",
       "\n",
       "    .dataframe thead th {\n",
       "        text-align: right;\n",
       "    }\n",
       "</style>\n",
       "<table border=\"1\" class=\"dataframe\">\n",
       "  <thead>\n",
       "    <tr style=\"text-align: right;\">\n",
       "      <th></th>\n",
       "      <th>image_id</th>\n",
       "    </tr>\n",
       "  </thead>\n",
       "  <tbody>\n",
       "    <tr>\n",
       "      <th>0</th>\n",
       "      <td>/clean/V1492_2021_0042_002196.png</td>\n",
       "    </tr>\n",
       "    <tr>\n",
       "      <th>1</th>\n",
       "      <td>/clean/V1492_2021_0042_000279.png</td>\n",
       "    </tr>\n",
       "    <tr>\n",
       "      <th>2</th>\n",
       "      <td>/clean/V1492_2021_0042_003584.png</td>\n",
       "    </tr>\n",
       "  </tbody>\n",
       "</table>\n",
       "</div>"
      ],
      "text/plain": [
       "                            image_id\n",
       "0  /clean/V1492_2021_0042_002196.png\n",
       "1  /clean/V1492_2021_0042_000279.png\n",
       "2  /clean/V1492_2021_0042_003584.png"
      ]
     },
     "execution_count": 8,
     "metadata": {},
     "output_type": "execute_result"
    }
   ],
   "source": [
    "df_test.head(3)"
   ]
  },
  {
   "cell_type": "code",
   "execution_count": null,
   "id": "8e80d147",
   "metadata": {},
   "outputs": [],
   "source": []
  },
  {
   "cell_type": "code",
   "execution_count": null,
   "id": "0ce772be",
   "metadata": {},
   "outputs": [],
   "source": []
  },
  {
   "cell_type": "code",
   "execution_count": 6,
   "id": "b1ae1cfa",
   "metadata": {},
   "outputs": [],
   "source": [
    "#for inference with labeled data\n",
    "df_true = pd.DataFrame(columns = ['image_id', 'label'])"
   ]
  },
  {
   "cell_type": "code",
   "execution_count": 7,
   "id": "0bf2ec3d",
   "metadata": {},
   "outputs": [],
   "source": [
    "df_true['image_id'] = true_imgs\n",
    "df_true['label'] = 1"
   ]
  },
  {
   "cell_type": "code",
   "execution_count": 8,
   "id": "e04a970d",
   "metadata": {},
   "outputs": [],
   "source": [
    "df_true['image_id'] = df_true['image_id'].apply(lambda x: '/cecum/' + x)"
   ]
  },
  {
   "cell_type": "code",
   "execution_count": 9,
   "id": "eb8eb04c",
   "metadata": {},
   "outputs": [
    {
     "data": {
      "text/html": [
       "<div>\n",
       "<style scoped>\n",
       "    .dataframe tbody tr th:only-of-type {\n",
       "        vertical-align: middle;\n",
       "    }\n",
       "\n",
       "    .dataframe tbody tr th {\n",
       "        vertical-align: top;\n",
       "    }\n",
       "\n",
       "    .dataframe thead th {\n",
       "        text-align: right;\n",
       "    }\n",
       "</style>\n",
       "<table border=\"1\" class=\"dataframe\">\n",
       "  <thead>\n",
       "    <tr style=\"text-align: right;\">\n",
       "      <th></th>\n",
       "      <th>image_id</th>\n",
       "      <th>label</th>\n",
       "    </tr>\n",
       "  </thead>\n",
       "  <tbody>\n",
       "    <tr>\n",
       "      <th>0</th>\n",
       "      <td>/cecum/V0246_2020_0016_001613.png</td>\n",
       "      <td>1</td>\n",
       "    </tr>\n",
       "    <tr>\n",
       "      <th>1</th>\n",
       "      <td>/cecum/V0246_2020_0016_001435.png</td>\n",
       "      <td>1</td>\n",
       "    </tr>\n",
       "    <tr>\n",
       "      <th>2</th>\n",
       "      <td>/cecum/V0246_2020_0016_001430.png</td>\n",
       "      <td>1</td>\n",
       "    </tr>\n",
       "  </tbody>\n",
       "</table>\n",
       "</div>"
      ],
      "text/plain": [
       "                            image_id  label\n",
       "0  /cecum/V0246_2020_0016_001613.png      1\n",
       "1  /cecum/V0246_2020_0016_001435.png      1\n",
       "2  /cecum/V0246_2020_0016_001430.png      1"
      ]
     },
     "execution_count": 9,
     "metadata": {},
     "output_type": "execute_result"
    }
   ],
   "source": [
    "df_true.head(3)"
   ]
  },
  {
   "cell_type": "code",
   "execution_count": 10,
   "id": "dd01b252",
   "metadata": {},
   "outputs": [],
   "source": [
    "df_false = pd.DataFrame(columns = ['image_id', 'label'])"
   ]
  },
  {
   "cell_type": "code",
   "execution_count": 11,
   "id": "59754cb6",
   "metadata": {},
   "outputs": [],
   "source": [
    "df_false['image_id'] = false_imgs\n",
    "df_false['label'] = 0"
   ]
  },
  {
   "cell_type": "code",
   "execution_count": 12,
   "id": "cc1961dd",
   "metadata": {},
   "outputs": [],
   "source": [
    "df_false['image_id'] = df_false['image_id'].apply(lambda x: '/non_cecum/' + x)"
   ]
  },
  {
   "cell_type": "code",
   "execution_count": 13,
   "id": "f9ccfdeb",
   "metadata": {},
   "outputs": [
    {
     "data": {
      "text/html": [
       "<div>\n",
       "<style scoped>\n",
       "    .dataframe tbody tr th:only-of-type {\n",
       "        vertical-align: middle;\n",
       "    }\n",
       "\n",
       "    .dataframe tbody tr th {\n",
       "        vertical-align: top;\n",
       "    }\n",
       "\n",
       "    .dataframe thead th {\n",
       "        text-align: right;\n",
       "    }\n",
       "</style>\n",
       "<table border=\"1\" class=\"dataframe\">\n",
       "  <thead>\n",
       "    <tr style=\"text-align: right;\">\n",
       "      <th></th>\n",
       "      <th>image_id</th>\n",
       "      <th>label</th>\n",
       "    </tr>\n",
       "  </thead>\n",
       "  <tbody>\n",
       "    <tr>\n",
       "      <th>0</th>\n",
       "      <td>/non_cecum/V0681_3_TC_00753.png</td>\n",
       "      <td>0</td>\n",
       "    </tr>\n",
       "    <tr>\n",
       "      <th>1</th>\n",
       "      <td>/non_cecum/V0681_3_TC_00538.png</td>\n",
       "      <td>0</td>\n",
       "    </tr>\n",
       "    <tr>\n",
       "      <th>2</th>\n",
       "      <td>/non_cecum/V0318_3_TC_00743.png</td>\n",
       "      <td>0</td>\n",
       "    </tr>\n",
       "  </tbody>\n",
       "</table>\n",
       "</div>"
      ],
      "text/plain": [
       "                          image_id  label\n",
       "0  /non_cecum/V0681_3_TC_00753.png      0\n",
       "1  /non_cecum/V0681_3_TC_00538.png      0\n",
       "2  /non_cecum/V0318_3_TC_00743.png      0"
      ]
     },
     "execution_count": 13,
     "metadata": {},
     "output_type": "execute_result"
    }
   ],
   "source": [
    "df_false.head(3)"
   ]
  },
  {
   "cell_type": "code",
   "execution_count": 14,
   "id": "feb97a8f",
   "metadata": {},
   "outputs": [],
   "source": [
    "df_test = pd.concat([df_true, df_false], axis = 0)"
   ]
  },
  {
   "cell_type": "code",
   "execution_count": 15,
   "id": "94642336",
   "metadata": {},
   "outputs": [
    {
     "data": {
      "text/html": [
       "<div>\n",
       "<style scoped>\n",
       "    .dataframe tbody tr th:only-of-type {\n",
       "        vertical-align: middle;\n",
       "    }\n",
       "\n",
       "    .dataframe tbody tr th {\n",
       "        vertical-align: top;\n",
       "    }\n",
       "\n",
       "    .dataframe thead th {\n",
       "        text-align: right;\n",
       "    }\n",
       "</style>\n",
       "<table border=\"1\" class=\"dataframe\">\n",
       "  <thead>\n",
       "    <tr style=\"text-align: right;\">\n",
       "      <th></th>\n",
       "      <th>image_id</th>\n",
       "      <th>label</th>\n",
       "    </tr>\n",
       "  </thead>\n",
       "  <tbody>\n",
       "    <tr>\n",
       "      <th>0</th>\n",
       "      <td>/cecum/V0246_2020_0016_001613.png</td>\n",
       "      <td>1</td>\n",
       "    </tr>\n",
       "    <tr>\n",
       "      <th>1</th>\n",
       "      <td>/cecum/V0246_2020_0016_001435.png</td>\n",
       "      <td>1</td>\n",
       "    </tr>\n",
       "    <tr>\n",
       "      <th>2</th>\n",
       "      <td>/cecum/V0246_2020_0016_001430.png</td>\n",
       "      <td>1</td>\n",
       "    </tr>\n",
       "  </tbody>\n",
       "</table>\n",
       "</div>"
      ],
      "text/plain": [
       "                            image_id  label\n",
       "0  /cecum/V0246_2020_0016_001613.png      1\n",
       "1  /cecum/V0246_2020_0016_001435.png      1\n",
       "2  /cecum/V0246_2020_0016_001430.png      1"
      ]
     },
     "execution_count": 15,
     "metadata": {},
     "output_type": "execute_result"
    }
   ],
   "source": [
    "df_test.head(3)"
   ]
  },
  {
   "cell_type": "code",
   "execution_count": 16,
   "id": "1d72765a",
   "metadata": {},
   "outputs": [
    {
     "data": {
      "text/plain": [
       "(2325, 2)"
      ]
     },
     "execution_count": 16,
     "metadata": {},
     "output_type": "execute_result"
    }
   ],
   "source": [
    "df_test.shape"
   ]
  },
  {
   "cell_type": "code",
   "execution_count": null,
   "id": "c8e04382",
   "metadata": {},
   "outputs": [],
   "source": []
  },
  {
   "cell_type": "code",
   "execution_count": 17,
   "id": "5ca5d5b0",
   "metadata": {},
   "outputs": [],
   "source": [
    "test = df_test.copy()"
   ]
  },
  {
   "cell_type": "code",
   "execution_count": null,
   "id": "1df42675",
   "metadata": {},
   "outputs": [],
   "source": []
  },
  {
   "cell_type": "code",
   "execution_count": 18,
   "id": "fe18008a",
   "metadata": {},
   "outputs": [
    {
     "data": {
      "text/plain": [
       "(2325, 2)"
      ]
     },
     "execution_count": 18,
     "metadata": {},
     "output_type": "execute_result"
    }
   ],
   "source": [
    "test.shape"
   ]
  },
  {
   "cell_type": "code",
   "execution_count": 19,
   "id": "d54ca5dd",
   "metadata": {},
   "outputs": [
    {
     "data": {
      "text/html": [
       "<div>\n",
       "<style scoped>\n",
       "    .dataframe tbody tr th:only-of-type {\n",
       "        vertical-align: middle;\n",
       "    }\n",
       "\n",
       "    .dataframe tbody tr th {\n",
       "        vertical-align: top;\n",
       "    }\n",
       "\n",
       "    .dataframe thead th {\n",
       "        text-align: right;\n",
       "    }\n",
       "</style>\n",
       "<table border=\"1\" class=\"dataframe\">\n",
       "  <thead>\n",
       "    <tr style=\"text-align: right;\">\n",
       "      <th></th>\n",
       "      <th>image_id</th>\n",
       "      <th>label</th>\n",
       "    </tr>\n",
       "  </thead>\n",
       "  <tbody>\n",
       "    <tr>\n",
       "      <th>0</th>\n",
       "      <td>/cecum/V0246_2020_0016_001613.png</td>\n",
       "      <td>1</td>\n",
       "    </tr>\n",
       "    <tr>\n",
       "      <th>1</th>\n",
       "      <td>/cecum/V0246_2020_0016_001435.png</td>\n",
       "      <td>1</td>\n",
       "    </tr>\n",
       "    <tr>\n",
       "      <th>2</th>\n",
       "      <td>/cecum/V0246_2020_0016_001430.png</td>\n",
       "      <td>1</td>\n",
       "    </tr>\n",
       "  </tbody>\n",
       "</table>\n",
       "</div>"
      ],
      "text/plain": [
       "                            image_id  label\n",
       "0  /cecum/V0246_2020_0016_001613.png      1\n",
       "1  /cecum/V0246_2020_0016_001435.png      1\n",
       "2  /cecum/V0246_2020_0016_001430.png      1"
      ]
     },
     "execution_count": 19,
     "metadata": {},
     "output_type": "execute_result"
    }
   ],
   "source": [
    "test.head(3)"
   ]
  },
  {
   "cell_type": "code",
   "execution_count": 20,
   "id": "625653cb",
   "metadata": {},
   "outputs": [
    {
     "data": {
      "text/html": [
       "<div>\n",
       "<style scoped>\n",
       "    .dataframe tbody tr th:only-of-type {\n",
       "        vertical-align: middle;\n",
       "    }\n",
       "\n",
       "    .dataframe tbody tr th {\n",
       "        vertical-align: top;\n",
       "    }\n",
       "\n",
       "    .dataframe thead th {\n",
       "        text-align: right;\n",
       "    }\n",
       "</style>\n",
       "<table border=\"1\" class=\"dataframe\">\n",
       "  <thead>\n",
       "    <tr style=\"text-align: right;\">\n",
       "      <th></th>\n",
       "      <th>image_id</th>\n",
       "      <th>label</th>\n",
       "    </tr>\n",
       "  </thead>\n",
       "  <tbody>\n",
       "    <tr>\n",
       "      <th>1857</th>\n",
       "      <td>/non_cecum/V0681_6_Rectum_00013.png</td>\n",
       "      <td>0</td>\n",
       "    </tr>\n",
       "    <tr>\n",
       "      <th>1858</th>\n",
       "      <td>/non_cecum/V0548_6_Rectum_00139.png</td>\n",
       "      <td>0</td>\n",
       "    </tr>\n",
       "    <tr>\n",
       "      <th>1859</th>\n",
       "      <td>/non_cecum/V0259_6_Rectum_00013.png</td>\n",
       "      <td>0</td>\n",
       "    </tr>\n",
       "  </tbody>\n",
       "</table>\n",
       "</div>"
      ],
      "text/plain": [
       "                                 image_id  label\n",
       "1857  /non_cecum/V0681_6_Rectum_00013.png      0\n",
       "1858  /non_cecum/V0548_6_Rectum_00139.png      0\n",
       "1859  /non_cecum/V0259_6_Rectum_00013.png      0"
      ]
     },
     "execution_count": 20,
     "metadata": {},
     "output_type": "execute_result"
    }
   ],
   "source": [
    "test.tail(3)"
   ]
  },
  {
   "cell_type": "code",
   "execution_count": null,
   "id": "71b54d9f",
   "metadata": {},
   "outputs": [],
   "source": []
  },
  {
   "cell_type": "code",
   "execution_count": null,
   "id": "b904135c",
   "metadata": {},
   "outputs": [],
   "source": []
  },
  {
   "cell_type": "code",
   "execution_count": 27,
   "id": "3fdf016b",
   "metadata": {},
   "outputs": [
    {
     "name": "stderr",
     "output_type": "stream",
     "text": [
      "100%|█████████████████████████████████████████████████████████████████████████████████| 233/233 [00:12<00:00, 18.84it/s]\n"
     ]
    }
   ],
   "source": [
    "%run classification_inference_efficientnet.ipynb"
   ]
  },
  {
   "cell_type": "code",
   "execution_count": null,
   "id": "42d369aa",
   "metadata": {},
   "outputs": [],
   "source": []
  },
  {
   "cell_type": "code",
   "execution_count": 127,
   "id": "9ca214e1",
   "metadata": {
    "scrolled": true
   },
   "outputs": [
    {
     "name": "stdout",
     "output_type": "stream",
     "text": [
      "20%_drop_efficientnet_lite0_0 0\n"
     ]
    },
    {
     "name": "stderr",
     "output_type": "stream",
     "text": [
      "100%|█████████████████████████████████████████████████████████████████████████████████| 233/233 [00:12<00:00, 18.02it/s]\n"
     ]
    },
    {
     "name": "stdout",
     "output_type": "stream",
     "text": [
      "0.7204301075268817\n",
      "[[1221  639]\n",
      " [  11  454]]\n",
      "---------------------------------------\n",
      "20%_drop_efficientnet_lite0_1 1\n"
     ]
    },
    {
     "name": "stderr",
     "output_type": "stream",
     "text": [
      "100%|█████████████████████████████████████████████████████████████████████████████████| 233/233 [00:11<00:00, 19.75it/s]\n"
     ]
    },
    {
     "name": "stdout",
     "output_type": "stream",
     "text": [
      "0.7363440860215054\n",
      "[[1251  609]\n",
      " [   4  461]]\n",
      "---------------------------------------\n",
      "20%_drop_efficientnet_lite0_10 2\n"
     ]
    },
    {
     "name": "stderr",
     "output_type": "stream",
     "text": [
      "100%|█████████████████████████████████████████████████████████████████████████████████| 233/233 [00:11<00:00, 19.94it/s]\n"
     ]
    },
    {
     "name": "stdout",
     "output_type": "stream",
     "text": [
      "0.6387096774193548\n",
      "[[1044  816]\n",
      " [  24  441]]\n",
      "---------------------------------------\n",
      "20%_drop_efficientnet_lite0_11 3\n"
     ]
    },
    {
     "name": "stderr",
     "output_type": "stream",
     "text": [
      "100%|█████████████████████████████████████████████████████████████████████████████████| 233/233 [00:11<00:00, 19.78it/s]\n"
     ]
    },
    {
     "name": "stdout",
     "output_type": "stream",
     "text": [
      "0.6167741935483871\n",
      "[[983 877]\n",
      " [ 14 451]]\n",
      "---------------------------------------\n",
      "20%_drop_efficientnet_lite0_12 4\n"
     ]
    },
    {
     "name": "stderr",
     "output_type": "stream",
     "text": [
      "100%|█████████████████████████████████████████████████████████████████████████████████| 233/233 [00:11<00:00, 19.81it/s]\n"
     ]
    },
    {
     "name": "stdout",
     "output_type": "stream",
     "text": [
      "0.5767741935483871\n",
      "[[898 962]\n",
      " [ 22 443]]\n",
      "---------------------------------------\n",
      "20%_drop_efficientnet_lite0_13 5\n"
     ]
    },
    {
     "name": "stderr",
     "output_type": "stream",
     "text": [
      "100%|█████████████████████████████████████████████████████████████████████████████████| 233/233 [00:11<00:00, 19.86it/s]\n"
     ]
    },
    {
     "name": "stdout",
     "output_type": "stream",
     "text": [
      "0.7608602150537634\n",
      "[[1339  521]\n",
      " [  35  430]]\n",
      "---------------------------------------\n",
      "20%_drop_efficientnet_lite0_14 6\n"
     ]
    },
    {
     "name": "stderr",
     "output_type": "stream",
     "text": [
      "100%|█████████████████████████████████████████████████████████████████████████████████| 233/233 [00:11<00:00, 19.73it/s]\n"
     ]
    },
    {
     "name": "stdout",
     "output_type": "stream",
     "text": [
      "0.5341935483870968\n",
      "[[ 780 1080]\n",
      " [   3  462]]\n",
      "---------------------------------------\n",
      "20%_drop_efficientnet_lite0_15 7\n"
     ]
    },
    {
     "name": "stderr",
     "output_type": "stream",
     "text": [
      "100%|█████████████████████████████████████████████████████████████████████████████████| 233/233 [00:11<00:00, 19.68it/s]\n"
     ]
    },
    {
     "name": "stdout",
     "output_type": "stream",
     "text": [
      "0.6701075268817205\n",
      "[[1120  740]\n",
      " [  27  438]]\n",
      "---------------------------------------\n",
      "20%_drop_efficientnet_lite0_16 8\n"
     ]
    },
    {
     "name": "stderr",
     "output_type": "stream",
     "text": [
      "100%|█████████████████████████████████████████████████████████████████████████████████| 233/233 [00:11<00:00, 20.09it/s]\n"
     ]
    },
    {
     "name": "stdout",
     "output_type": "stream",
     "text": [
      "0.5552688172043011\n",
      "[[ 832 1028]\n",
      " [   6  459]]\n",
      "---------------------------------------\n",
      "20%_drop_efficientnet_lite0_17 9\n"
     ]
    },
    {
     "name": "stderr",
     "output_type": "stream",
     "text": [
      "100%|█████████████████████████████████████████████████████████████████████████████████| 233/233 [00:11<00:00, 20.02it/s]\n"
     ]
    },
    {
     "name": "stdout",
     "output_type": "stream",
     "text": [
      "0.5853763440860215\n",
      "[[924 936]\n",
      " [ 28 437]]\n",
      "---------------------------------------\n",
      "20%_drop_efficientnet_lite0_18 10\n"
     ]
    },
    {
     "name": "stderr",
     "output_type": "stream",
     "text": [
      "100%|█████████████████████████████████████████████████████████████████████████████████| 233/233 [00:11<00:00, 19.86it/s]\n"
     ]
    },
    {
     "name": "stdout",
     "output_type": "stream",
     "text": [
      "0.6098924731182795\n",
      "[[964 896]\n",
      " [ 11 454]]\n",
      "---------------------------------------\n",
      "20%_drop_efficientnet_lite0_19 11\n"
     ]
    },
    {
     "name": "stderr",
     "output_type": "stream",
     "text": [
      "100%|█████████████████████████████████████████████████████████████████████████████████| 233/233 [00:11<00:00, 20.07it/s]\n"
     ]
    },
    {
     "name": "stdout",
     "output_type": "stream",
     "text": [
      "0.6438709677419355\n",
      "[[1041  819]\n",
      " [   9  456]]\n",
      "---------------------------------------\n",
      "20%_drop_efficientnet_lite0_2 12\n"
     ]
    },
    {
     "name": "stderr",
     "output_type": "stream",
     "text": [
      "100%|█████████████████████████████████████████████████████████████████████████████████| 233/233 [00:11<00:00, 19.75it/s]\n"
     ]
    },
    {
     "name": "stdout",
     "output_type": "stream",
     "text": [
      "0.7316129032258064\n",
      "[[1247  613]\n",
      " [  11  454]]\n",
      "---------------------------------------\n",
      "20%_drop_efficientnet_lite0_20 13\n"
     ]
    },
    {
     "name": "stderr",
     "output_type": "stream",
     "text": [
      "100%|█████████████████████████████████████████████████████████████████████████████████| 233/233 [00:11<00:00, 19.60it/s]\n"
     ]
    },
    {
     "name": "stdout",
     "output_type": "stream",
     "text": [
      "0.7462365591397849\n",
      "[[1306  554]\n",
      " [  36  429]]\n",
      "---------------------------------------\n",
      "20%_drop_efficientnet_lite0_21 14\n"
     ]
    },
    {
     "name": "stderr",
     "output_type": "stream",
     "text": [
      "100%|█████████████████████████████████████████████████████████████████████████████████| 233/233 [00:11<00:00, 19.74it/s]\n"
     ]
    },
    {
     "name": "stdout",
     "output_type": "stream",
     "text": [
      "0.6219354838709678\n",
      "[[989 871]\n",
      " [  8 457]]\n",
      "---------------------------------------\n",
      "20%_drop_efficientnet_lite0_22 15\n"
     ]
    },
    {
     "name": "stderr",
     "output_type": "stream",
     "text": [
      "100%|█████████████████████████████████████████████████████████████████████████████████| 233/233 [00:11<00:00, 19.89it/s]\n"
     ]
    },
    {
     "name": "stdout",
     "output_type": "stream",
     "text": [
      "0.7548387096774194\n",
      "[[1297  563]\n",
      " [   7  458]]\n",
      "---------------------------------------\n",
      "20%_drop_efficientnet_lite0_23 16\n"
     ]
    },
    {
     "name": "stderr",
     "output_type": "stream",
     "text": [
      "100%|█████████████████████████████████████████████████████████████████████████████████| 233/233 [00:11<00:00, 19.71it/s]\n"
     ]
    },
    {
     "name": "stdout",
     "output_type": "stream",
     "text": [
      "0.7961290322580645\n",
      "[[1417  443]\n",
      " [  31  434]]\n",
      "---------------------------------------\n",
      "20%_drop_efficientnet_lite0_24 17\n"
     ]
    },
    {
     "name": "stderr",
     "output_type": "stream",
     "text": [
      "100%|█████████████████████████████████████████████████████████████████████████████████| 233/233 [00:11<00:00, 19.66it/s]\n"
     ]
    },
    {
     "name": "stdout",
     "output_type": "stream",
     "text": [
      "0.610752688172043\n",
      "[[965 895]\n",
      " [ 10 455]]\n",
      "---------------------------------------\n",
      "20%_drop_efficientnet_lite0_25 18\n"
     ]
    },
    {
     "name": "stderr",
     "output_type": "stream",
     "text": [
      "100%|█████████████████████████████████████████████████████████████████████████████████| 233/233 [00:11<00:00, 19.95it/s]\n"
     ]
    },
    {
     "name": "stdout",
     "output_type": "stream",
     "text": [
      "0.4989247311827957\n",
      "[[ 699 1161]\n",
      " [   4  461]]\n",
      "---------------------------------------\n",
      "20%_drop_efficientnet_lite0_26 19\n"
     ]
    },
    {
     "name": "stderr",
     "output_type": "stream",
     "text": [
      "100%|█████████████████████████████████████████████████████████████████████████████████| 233/233 [00:11<00:00, 19.81it/s]\n"
     ]
    },
    {
     "name": "stdout",
     "output_type": "stream",
     "text": [
      "0.5105376344086021\n",
      "[[ 734 1126]\n",
      " [  12  453]]\n",
      "---------------------------------------\n",
      "20%_drop_efficientnet_lite0_27 20\n"
     ]
    },
    {
     "name": "stderr",
     "output_type": "stream",
     "text": [
      "100%|█████████████████████████████████████████████████████████████████████████████████| 233/233 [00:11<00:00, 20.03it/s]\n"
     ]
    },
    {
     "name": "stdout",
     "output_type": "stream",
     "text": [
      "0.6335483870967742\n",
      "[[1036  824]\n",
      " [  28  437]]\n",
      "---------------------------------------\n",
      "20%_drop_efficientnet_lite0_28 21\n"
     ]
    },
    {
     "name": "stderr",
     "output_type": "stream",
     "text": [
      "100%|█████████████████████████████████████████████████████████████████████████████████| 233/233 [00:11<00:00, 19.96it/s]\n"
     ]
    },
    {
     "name": "stdout",
     "output_type": "stream",
     "text": [
      "0.5827956989247312\n",
      "[[908 952]\n",
      " [ 18 447]]\n",
      "---------------------------------------\n",
      "20%_drop_efficientnet_lite0_29 22\n"
     ]
    },
    {
     "name": "stderr",
     "output_type": "stream",
     "text": [
      "100%|█████████████████████████████████████████████████████████████████████████████████| 233/233 [00:11<00:00, 19.78it/s]\n"
     ]
    },
    {
     "name": "stdout",
     "output_type": "stream",
     "text": [
      "0.6627956989247312\n",
      "[[1109  751]\n",
      " [  33  432]]\n",
      "---------------------------------------\n",
      "20%_drop_efficientnet_lite0_3 23\n"
     ]
    },
    {
     "name": "stderr",
     "output_type": "stream",
     "text": [
      "100%|█████████████████████████████████████████████████████████████████████████████████| 233/233 [00:11<00:00, 20.05it/s]\n"
     ]
    },
    {
     "name": "stdout",
     "output_type": "stream",
     "text": [
      "0.7574193548387097\n",
      "[[1307  553]\n",
      " [  11  454]]\n",
      "---------------------------------------\n",
      "20%_drop_efficientnet_lite0_30 24\n"
     ]
    },
    {
     "name": "stderr",
     "output_type": "stream",
     "text": [
      "100%|█████████████████████████████████████████████████████████████████████████████████| 233/233 [00:11<00:00, 19.93it/s]\n"
     ]
    },
    {
     "name": "stdout",
     "output_type": "stream",
     "text": [
      "0.6748387096774193\n",
      "[[1183  677]\n",
      " [  79  386]]\n",
      "---------------------------------------\n",
      "20%_drop_efficientnet_lite0_31 25\n"
     ]
    },
    {
     "name": "stderr",
     "output_type": "stream",
     "text": [
      "100%|█████████████████████████████████████████████████████████████████████████████████| 233/233 [00:11<00:00, 19.86it/s]\n"
     ]
    },
    {
     "name": "stdout",
     "output_type": "stream",
     "text": [
      "0.5264516129032258\n",
      "[[ 798 1062]\n",
      " [  39  426]]\n",
      "---------------------------------------\n",
      "20%_drop_efficientnet_lite0_32 26\n"
     ]
    },
    {
     "name": "stderr",
     "output_type": "stream",
     "text": [
      "100%|█████████████████████████████████████████████████████████████████████████████████| 233/233 [00:11<00:00, 20.03it/s]\n"
     ]
    },
    {
     "name": "stdout",
     "output_type": "stream",
     "text": [
      "0.64\n",
      "[[1071  789]\n",
      " [  48  417]]\n",
      "---------------------------------------\n",
      "20%_drop_efficientnet_lite0_33 27\n"
     ]
    },
    {
     "name": "stderr",
     "output_type": "stream",
     "text": [
      "100%|█████████████████████████████████████████████████████████████████████████████████| 233/233 [00:11<00:00, 19.91it/s]\n"
     ]
    },
    {
     "name": "stdout",
     "output_type": "stream",
     "text": [
      "0.7156989247311828\n",
      "[[1236  624]\n",
      " [  37  428]]\n",
      "---------------------------------------\n",
      "20%_drop_efficientnet_lite0_34 28\n"
     ]
    },
    {
     "name": "stderr",
     "output_type": "stream",
     "text": [
      "100%|█████████████████████████████████████████████████████████████████████████████████| 233/233 [00:11<00:00, 19.84it/s]\n"
     ]
    },
    {
     "name": "stdout",
     "output_type": "stream",
     "text": [
      "0.629247311827957\n",
      "[[1015  845]\n",
      " [  17  448]]\n",
      "---------------------------------------\n",
      "20%_drop_efficientnet_lite0_35 29\n"
     ]
    },
    {
     "name": "stderr",
     "output_type": "stream",
     "text": [
      "100%|█████████████████████████████████████████████████████████████████████████████████| 233/233 [00:11<00:00, 20.15it/s]\n"
     ]
    },
    {
     "name": "stdout",
     "output_type": "stream",
     "text": [
      "0.6589247311827957\n",
      "[[1089  771]\n",
      " [  22  443]]\n",
      "---------------------------------------\n",
      "20%_drop_efficientnet_lite0_36 30\n"
     ]
    },
    {
     "name": "stderr",
     "output_type": "stream",
     "text": [
      "100%|█████████████████████████████████████████████████████████████████████████████████| 233/233 [00:11<00:00, 19.97it/s]\n"
     ]
    },
    {
     "name": "stdout",
     "output_type": "stream",
     "text": [
      "0.7858064516129032\n",
      "[[1395  465]\n",
      " [  33  432]]\n",
      "---------------------------------------\n",
      "20%_drop_efficientnet_lite0_37 31\n"
     ]
    },
    {
     "name": "stderr",
     "output_type": "stream",
     "text": [
      "100%|█████████████████████████████████████████████████████████████████████████████████| 233/233 [00:11<00:00, 19.99it/s]\n"
     ]
    },
    {
     "name": "stdout",
     "output_type": "stream",
     "text": [
      "0.7294623655913979\n",
      "[[1259  601]\n",
      " [  28  437]]\n",
      "---------------------------------------\n",
      "20%_drop_efficientnet_lite0_38 32\n"
     ]
    },
    {
     "name": "stderr",
     "output_type": "stream",
     "text": [
      "100%|█████████████████████████████████████████████████████████████████████████████████| 233/233 [00:11<00:00, 20.06it/s]\n"
     ]
    },
    {
     "name": "stdout",
     "output_type": "stream",
     "text": [
      "0.5548387096774193\n",
      "[[ 827 1033]\n",
      " [   2  463]]\n",
      "---------------------------------------\n",
      "20%_drop_efficientnet_lite0_39 33\n"
     ]
    },
    {
     "name": "stderr",
     "output_type": "stream",
     "text": [
      "100%|█████████████████████████████████████████████████████████████████████████████████| 233/233 [00:11<00:00, 19.88it/s]\n"
     ]
    },
    {
     "name": "stdout",
     "output_type": "stream",
     "text": [
      "0.6541935483870968\n",
      "[[1067  793]\n",
      " [  11  454]]\n",
      "---------------------------------------\n",
      "20%_drop_efficientnet_lite0_4 34\n"
     ]
    },
    {
     "name": "stderr",
     "output_type": "stream",
     "text": [
      "100%|█████████████████████████████████████████████████████████████████████████████████| 233/233 [00:11<00:00, 19.73it/s]\n"
     ]
    },
    {
     "name": "stdout",
     "output_type": "stream",
     "text": [
      "0.7737634408602151\n",
      "[[1355  505]\n",
      " [  21  444]]\n",
      "---------------------------------------\n",
      "20%_drop_efficientnet_lite0_40 35\n"
     ]
    },
    {
     "name": "stderr",
     "output_type": "stream",
     "text": [
      "100%|█████████████████████████████████████████████████████████████████████████████████| 233/233 [00:11<00:00, 19.80it/s]\n"
     ]
    },
    {
     "name": "stdout",
     "output_type": "stream",
     "text": [
      "0.6993548387096774\n",
      "[[1182  678]\n",
      " [  21  444]]\n",
      "---------------------------------------\n",
      "20%_drop_efficientnet_lite0_41 36\n"
     ]
    },
    {
     "name": "stderr",
     "output_type": "stream",
     "text": [
      "100%|█████████████████████████████████████████████████████████████████████████████████| 233/233 [00:11<00:00, 19.67it/s]\n"
     ]
    },
    {
     "name": "stdout",
     "output_type": "stream",
     "text": [
      "0.7023655913978495\n",
      "[[1188  672]\n",
      " [  20  445]]\n",
      "---------------------------------------\n",
      "20%_drop_efficientnet_lite0_42 37\n"
     ]
    },
    {
     "name": "stderr",
     "output_type": "stream",
     "text": [
      "100%|█████████████████████████████████████████████████████████████████████████████████| 233/233 [00:11<00:00, 19.94it/s]\n"
     ]
    },
    {
     "name": "stdout",
     "output_type": "stream",
     "text": [
      "0.5440860215053763\n",
      "[[ 806 1054]\n",
      " [   6  459]]\n",
      "---------------------------------------\n",
      "20%_drop_efficientnet_lite0_43 38\n"
     ]
    },
    {
     "name": "stderr",
     "output_type": "stream",
     "text": [
      "100%|█████████████████████████████████████████████████████████████████████████████████| 233/233 [00:11<00:00, 19.78it/s]\n"
     ]
    },
    {
     "name": "stdout",
     "output_type": "stream",
     "text": [
      "0.7002150537634408\n",
      "[[1168  692]\n",
      " [   5  460]]\n",
      "---------------------------------------\n",
      "20%_drop_efficientnet_lite0_44 39\n"
     ]
    },
    {
     "name": "stderr",
     "output_type": "stream",
     "text": [
      "100%|█████████████████████████████████████████████████████████████████████████████████| 233/233 [00:11<00:00, 19.99it/s]\n"
     ]
    },
    {
     "name": "stdout",
     "output_type": "stream",
     "text": [
      "0.6597849462365591\n",
      "[[1085  775]\n",
      " [  16  449]]\n",
      "---------------------------------------\n",
      "20%_drop_efficientnet_lite0_45 40\n"
     ]
    },
    {
     "name": "stderr",
     "output_type": "stream",
     "text": [
      "100%|█████████████████████████████████████████████████████████████████████████████████| 233/233 [00:11<00:00, 19.91it/s]\n"
     ]
    },
    {
     "name": "stdout",
     "output_type": "stream",
     "text": [
      "0.6679569892473118\n",
      "[[1102  758]\n",
      " [  14  451]]\n",
      "---------------------------------------\n",
      "20%_drop_efficientnet_lite0_46 41\n"
     ]
    },
    {
     "name": "stderr",
     "output_type": "stream",
     "text": [
      "100%|█████████████████████████████████████████████████████████████████████████████████| 233/233 [00:11<00:00, 19.86it/s]\n"
     ]
    },
    {
     "name": "stdout",
     "output_type": "stream",
     "text": [
      "0.704516129032258\n",
      "[[1212  648]\n",
      " [  39  426]]\n",
      "---------------------------------------\n",
      "20%_drop_efficientnet_lite0_47 42\n"
     ]
    },
    {
     "name": "stderr",
     "output_type": "stream",
     "text": [
      "100%|█████████████████████████████████████████████████████████████████████████████████| 233/233 [00:11<00:00, 19.94it/s]\n"
     ]
    },
    {
     "name": "stdout",
     "output_type": "stream",
     "text": [
      "0.7389247311827957\n",
      "[[1272  588]\n",
      " [  19  446]]\n",
      "---------------------------------------\n",
      "20%_drop_efficientnet_lite0_48 43\n"
     ]
    },
    {
     "name": "stderr",
     "output_type": "stream",
     "text": [
      "100%|█████████████████████████████████████████████████████████████████████████████████| 233/233 [00:11<00:00, 20.07it/s]\n"
     ]
    },
    {
     "name": "stdout",
     "output_type": "stream",
     "text": [
      "0.6640860215053763\n",
      "[[1092  768]\n",
      " [  13  452]]\n",
      "---------------------------------------\n",
      "20%_drop_efficientnet_lite0_49 44\n"
     ]
    },
    {
     "name": "stderr",
     "output_type": "stream",
     "text": [
      "100%|█████████████████████████████████████████████████████████████████████████████████| 233/233 [00:11<00:00, 20.06it/s]\n"
     ]
    },
    {
     "name": "stdout",
     "output_type": "stream",
     "text": [
      "0.6262365591397849\n",
      "[[1004  856]\n",
      " [  13  452]]\n",
      "---------------------------------------\n",
      "20%_drop_efficientnet_lite0_5 45\n"
     ]
    },
    {
     "name": "stderr",
     "output_type": "stream",
     "text": [
      "100%|█████████████████████████████████████████████████████████████████████████████████| 233/233 [00:11<00:00, 19.67it/s]\n"
     ]
    },
    {
     "name": "stdout",
     "output_type": "stream",
     "text": [
      "0.6012903225806452\n",
      "[[943 917]\n",
      " [ 10 455]]\n",
      "---------------------------------------\n",
      "20%_drop_efficientnet_lite0_6 46\n"
     ]
    },
    {
     "name": "stderr",
     "output_type": "stream",
     "text": [
      "100%|█████████████████████████████████████████████████████████████████████████████████| 233/233 [00:11<00:00, 19.84it/s]\n"
     ]
    },
    {
     "name": "stdout",
     "output_type": "stream",
     "text": [
      "0.6438709677419355\n",
      "[[1039  821]\n",
      " [   7  458]]\n",
      "---------------------------------------\n",
      "20%_drop_efficientnet_lite0_7 47\n"
     ]
    },
    {
     "name": "stderr",
     "output_type": "stream",
     "text": [
      "100%|█████████████████████████████████████████████████████████████████████████████████| 233/233 [00:11<00:00, 19.79it/s]\n"
     ]
    },
    {
     "name": "stdout",
     "output_type": "stream",
     "text": [
      "0.6498924731182796\n",
      "[[1056  804]\n",
      " [  10  455]]\n",
      "---------------------------------------\n",
      "20%_drop_efficientnet_lite0_8 48\n"
     ]
    },
    {
     "name": "stderr",
     "output_type": "stream",
     "text": [
      "100%|█████████████████████████████████████████████████████████████████████████████████| 233/233 [00:11<00:00, 19.82it/s]\n"
     ]
    },
    {
     "name": "stdout",
     "output_type": "stream",
     "text": [
      "0.535483870967742\n",
      "[[ 785 1075]\n",
      " [   5  460]]\n",
      "---------------------------------------\n",
      "20%_drop_efficientnet_lite0_9 49\n"
     ]
    },
    {
     "name": "stderr",
     "output_type": "stream",
     "text": [
      "100%|█████████████████████████████████████████████████████████████████████████████████| 233/233 [00:11<00:00, 19.92it/s]"
     ]
    },
    {
     "name": "stdout",
     "output_type": "stream",
     "text": [
      "0.730752688172043\n",
      "[[1281  579]\n",
      " [  47  418]]\n",
      "---------------------------------------\n"
     ]
    },
    {
     "name": "stderr",
     "output_type": "stream",
     "text": [
      "\n"
     ]
    }
   ],
   "source": [
    "#model performance check by epoch\n",
    "test_dir = '/Data/data/data_gsun/data/cecum/cecum_test_frames'\n",
    "\n",
    "list_models = os.listdir('efficientnet_lite0/')\n",
    "# list_models = os.listdir('8th_epoch_11/')\n",
    "list_models = sorted(list_models)\n",
    "box_acc = []\n",
    "box_conf = []\n",
    "for i,model in enumerate(list_models):\n",
    "    print(model, i)\n",
    "    perf = []\n",
    "    model_dir = 'efficientnet_lite0/' + model\n",
    "#     model_dir = '8th_epoch_11/' + model\n",
    "    %run classification_inference_efficientnet.ipynb\n",
    "    \n",
    "    test['pred'] = np.argmax(tst_preds, axis=1)\n",
    "    test_acc = np.sum(test.label == test.pred) / len(test)\n",
    "    test_matrix = confusion_matrix(test['label'], test['pred'])\n",
    "    box_acc.append(test_acc)\n",
    "    box_conf.append(test_matrix)\n",
    "    \n",
    "    print(test_acc)\n",
    "    print(test_matrix)\n",
    "    print('---------------------------------------')\n"
   ]
  },
  {
   "cell_type": "code",
   "execution_count": null,
   "id": "28777efb",
   "metadata": {},
   "outputs": [],
   "source": []
  },
  {
   "cell_type": "code",
   "execution_count": 128,
   "id": "2ffa63e0",
   "metadata": {},
   "outputs": [
    {
     "name": "stdout",
     "output_type": "stream",
     "text": [
      "0.7961290322580645 16\n"
     ]
    }
   ],
   "source": [
    "print(max(box_acc), box_acc.index(max(box_acc)))"
   ]
  },
  {
   "cell_type": "code",
   "execution_count": 126,
   "id": "934e6d44",
   "metadata": {
    "scrolled": true
   },
   "outputs": [
    {
     "name": "stdout",
     "output_type": "stream",
     "text": [
      "0 0.7445161290322581 \n",
      " [[1304  556]\n",
      " [  38  427]]\n",
      "1 0.7359139784946237 \n",
      " [[1263  597]\n",
      " [  17  448]]\n",
      "2 0.5324731182795699 \n",
      " [[ 779 1081]\n",
      " [   6  459]]\n",
      "3 0.6365591397849463 \n",
      " [[1020  840]\n",
      " [   5  460]]\n",
      "4 0.6103225806451613 \n",
      " [[972 888]\n",
      " [ 18 447]]\n",
      "5 0.6305376344086021 \n",
      " [[1010  850]\n",
      " [   9  456]]\n",
      "6 0.6365591397849463 \n",
      " [[1025  835]\n",
      " [  10  455]]\n",
      "7 0.7832258064516129 \n",
      " [[1393  467]\n",
      " [  37  428]]\n",
      "8 0.7604301075268817 \n",
      " [[1397  463]\n",
      " [  94  371]]\n",
      "9 0.8473118279569892 \n",
      " [[1527  333]\n",
      " [  22  443]]\n",
      "10 0.704516129032258 \n",
      " [[1184  676]\n",
      " [  11  454]]\n",
      "11 0.6116129032258064 \n",
      " [[973 887]\n",
      " [ 16 449]]\n",
      "12 0.6640860215053763 \n",
      " [[1098  762]\n",
      " [  19  446]]\n",
      "13 0.5604301075268817 \n",
      " [[ 845 1015]\n",
      " [   7  458]]\n",
      "14 0.7845161290322581 \n",
      " [[1392  468]\n",
      " [  33  432]]\n",
      "15 0.6163440860215054 \n",
      " [[980 880]\n",
      " [ 12 453]]\n",
      "16 0.6159139784946237 \n",
      " [[970 890]\n",
      " [  3 462]]\n",
      "17 0.6692473118279569 \n",
      " [[1101  759]\n",
      " [  10  455]]\n",
      "18 0.501505376344086 \n",
      " [[ 703 1157]\n",
      " [   2  463]]\n",
      "19 0.6404301075268817 \n",
      " [[1054  806]\n",
      " [  30  435]]\n",
      "20 0.7664516129032258 \n",
      " [[1329  531]\n",
      " [  12  453]]\n",
      "21 0.7316129032258064 \n",
      " [[1248  612]\n",
      " [  12  453]]\n",
      "22 0.6851612903225807 \n",
      " [[1132  728]\n",
      " [   4  461]]\n",
      "23 0.7427956989247312 \n",
      " [[1284  576]\n",
      " [  22  443]]\n",
      "24 0.6516129032258065 \n",
      " [[1060  800]\n",
      " [  10  455]]\n",
      "25 0.6180645161290322 \n",
      " [[976 884]\n",
      " [  4 461]]\n",
      "26 0.7255913978494624 \n",
      " [[1228  632]\n",
      " [   6  459]]\n",
      "27 0.6477419354838709 \n",
      " [[1043  817]\n",
      " [   2  463]]\n",
      "28 0.621505376344086 \n",
      " [[983 877]\n",
      " [  3 462]]\n",
      "29 0.6159139784946237 \n",
      " [[970 890]\n",
      " [  3 462]]\n",
      "30 0.6236559139784946 \n",
      " [[990 870]\n",
      " [  5 460]]\n",
      "31 0.7767741935483871 \n",
      " [[1367  493]\n",
      " [  26  439]]\n",
      "32 0.7406451612903225 \n",
      " [[1273  587]\n",
      " [  16  449]]\n",
      "33 0.5913978494623656 \n",
      " [[911 949]\n",
      " [  1 464]]\n",
      "34 0.7324731182795698 \n",
      " [[1249  611]\n",
      " [  11  454]]\n",
      "35 0.6129032258064516 \n",
      " [[960 900]\n",
      " [  0 465]]\n",
      "36 0.6524731182795699 \n",
      " [[1063  797]\n",
      " [  11  454]]\n",
      "37 0.6352688172043011 \n",
      " [[1030  830]\n",
      " [  18  447]]\n",
      "38 0.7144086021505376 \n",
      " [[1206  654]\n",
      " [  10  455]]\n",
      "39 0.7019354838709677 \n",
      " [[1181  679]\n",
      " [  14  451]]\n",
      "40 0.730752688172043 \n",
      " [[1251  609]\n",
      " [  17  448]]\n"
     ]
    }
   ],
   "source": [
    "for i,e in enumerate(box_acc):\n",
    "    print(i, e, '\\n', box_conf[i])"
   ]
  },
  {
   "cell_type": "code",
   "execution_count": null,
   "id": "d7880fb8",
   "metadata": {},
   "outputs": [],
   "source": []
  },
  {
   "cell_type": "code",
   "execution_count": null,
   "id": "c8ca603e",
   "metadata": {},
   "outputs": [],
   "source": []
  },
  {
   "cell_type": "code",
   "execution_count": 15,
   "id": "19742036",
   "metadata": {},
   "outputs": [],
   "source": [
    "#for whole inference (without label)\n",
    "test_dir = '/home/super/endo_venv/gsun/blur_classification/inferenced_data/'\n",
    "model_dir = '3rd_epoch_44/20%_drop_efficientnet_lite0_44'"
   ]
  },
  {
   "cell_type": "code",
   "execution_count": null,
   "id": "8fad71b2",
   "metadata": {},
   "outputs": [],
   "source": []
  },
  {
   "cell_type": "code",
   "execution_count": 114,
   "id": "5ae5c002",
   "metadata": {},
   "outputs": [],
   "source": [
    "#for inference with labeled data\n",
    "test_dir = '/Data/data/data_gsun/data/cecum/cecum_test_frames'\n",
    "model_dir = '7th_epoch_0/20%_drop_efficientnet_lite0_0'"
   ]
  },
  {
   "cell_type": "code",
   "execution_count": null,
   "id": "b628b133",
   "metadata": {},
   "outputs": [],
   "source": []
  },
  {
   "cell_type": "code",
   "execution_count": 115,
   "id": "5265c595",
   "metadata": {},
   "outputs": [
    {
     "name": "stderr",
     "output_type": "stream",
     "text": [
      "100%|█████████████████████████████████████████████████████████████████████████████████| 233/233 [00:13<00:00, 17.02it/s]\n"
     ]
    }
   ],
   "source": [
    "%run classification_inference_efficientnet.ipynb"
   ]
  },
  {
   "cell_type": "code",
   "execution_count": null,
   "id": "efbd0f89",
   "metadata": {},
   "outputs": [],
   "source": []
  },
  {
   "cell_type": "code",
   "execution_count": null,
   "id": "bd0de2f5",
   "metadata": {},
   "outputs": [],
   "source": []
  },
  {
   "cell_type": "code",
   "execution_count": null,
   "id": "dab3e079",
   "metadata": {},
   "outputs": [],
   "source": []
  },
  {
   "cell_type": "code",
   "execution_count": 17,
   "id": "447a97d9",
   "metadata": {},
   "outputs": [],
   "source": [
    "# test\n",
    "# test['label'] = test['image_id'].apply(lambda x : 0 if 'cancer' in x else 1)\n",
    "test['pred'] = np.argmax(tst_preds, axis=1)\n",
    "test['confidence score'] =np.max(tst_preds, axis=1)\n",
    "# test_acc = np.sum(test.label == test.pred) / len(test)\n",
    "# test_matrix = confusion_matrix(test['label'], test['pred'])\n",
    "# print(round(test_acc, 5))\n",
    "# print(test_matrix)"
   ]
  },
  {
   "cell_type": "code",
   "execution_count": null,
   "id": "db57b665",
   "metadata": {},
   "outputs": [],
   "source": []
  },
  {
   "cell_type": "code",
   "execution_count": 18,
   "id": "5bbc40a7",
   "metadata": {},
   "outputs": [
    {
     "data": {
      "text/html": [
       "<div>\n",
       "<style scoped>\n",
       "    .dataframe tbody tr th:only-of-type {\n",
       "        vertical-align: middle;\n",
       "    }\n",
       "\n",
       "    .dataframe tbody tr th {\n",
       "        vertical-align: top;\n",
       "    }\n",
       "\n",
       "    .dataframe thead th {\n",
       "        text-align: right;\n",
       "    }\n",
       "</style>\n",
       "<table border=\"1\" class=\"dataframe\">\n",
       "  <thead>\n",
       "    <tr style=\"text-align: right;\">\n",
       "      <th></th>\n",
       "      <th>image_id</th>\n",
       "      <th>pred</th>\n",
       "      <th>confidence score</th>\n",
       "    </tr>\n",
       "  </thead>\n",
       "  <tbody>\n",
       "    <tr>\n",
       "      <th>0</th>\n",
       "      <td>/clean/V1492_2021_0042_002196.png</td>\n",
       "      <td>0</td>\n",
       "      <td>0.999430</td>\n",
       "    </tr>\n",
       "    <tr>\n",
       "      <th>1</th>\n",
       "      <td>/clean/V1492_2021_0042_000279.png</td>\n",
       "      <td>0</td>\n",
       "      <td>0.990559</td>\n",
       "    </tr>\n",
       "    <tr>\n",
       "      <th>2</th>\n",
       "      <td>/clean/V1492_2021_0042_003584.png</td>\n",
       "      <td>0</td>\n",
       "      <td>0.999930</td>\n",
       "    </tr>\n",
       "    <tr>\n",
       "      <th>3</th>\n",
       "      <td>/clean/V1492_2021_0042_002230.png</td>\n",
       "      <td>0</td>\n",
       "      <td>0.983210</td>\n",
       "    </tr>\n",
       "    <tr>\n",
       "      <th>4</th>\n",
       "      <td>/clean/V1492_2021_0042_000013.png</td>\n",
       "      <td>0</td>\n",
       "      <td>0.993555</td>\n",
       "    </tr>\n",
       "    <tr>\n",
       "      <th>5</th>\n",
       "      <td>/clean/V1492_2021_0042_004370.png</td>\n",
       "      <td>0</td>\n",
       "      <td>0.999907</td>\n",
       "    </tr>\n",
       "    <tr>\n",
       "      <th>6</th>\n",
       "      <td>/clean/V1492_2021_0042_003993.png</td>\n",
       "      <td>0</td>\n",
       "      <td>0.999983</td>\n",
       "    </tr>\n",
       "    <tr>\n",
       "      <th>7</th>\n",
       "      <td>/clean/V1492_2021_0042_000096.png</td>\n",
       "      <td>0</td>\n",
       "      <td>0.999649</td>\n",
       "    </tr>\n",
       "    <tr>\n",
       "      <th>8</th>\n",
       "      <td>/clean/V1492_2021_0042_004724.png</td>\n",
       "      <td>0</td>\n",
       "      <td>0.972563</td>\n",
       "    </tr>\n",
       "    <tr>\n",
       "      <th>9</th>\n",
       "      <td>/clean/V1492_2021_0042_000993.png</td>\n",
       "      <td>0</td>\n",
       "      <td>0.866875</td>\n",
       "    </tr>\n",
       "  </tbody>\n",
       "</table>\n",
       "</div>"
      ],
      "text/plain": [
       "                            image_id  pred  confidence score\n",
       "0  /clean/V1492_2021_0042_002196.png     0          0.999430\n",
       "1  /clean/V1492_2021_0042_000279.png     0          0.990559\n",
       "2  /clean/V1492_2021_0042_003584.png     0          0.999930\n",
       "3  /clean/V1492_2021_0042_002230.png     0          0.983210\n",
       "4  /clean/V1492_2021_0042_000013.png     0          0.993555\n",
       "5  /clean/V1492_2021_0042_004370.png     0          0.999907\n",
       "6  /clean/V1492_2021_0042_003993.png     0          0.999983\n",
       "7  /clean/V1492_2021_0042_000096.png     0          0.999649\n",
       "8  /clean/V1492_2021_0042_004724.png     0          0.972563\n",
       "9  /clean/V1492_2021_0042_000993.png     0          0.866875"
      ]
     },
     "execution_count": 18,
     "metadata": {},
     "output_type": "execute_result"
    }
   ],
   "source": [
    "test.head(10)"
   ]
  },
  {
   "cell_type": "code",
   "execution_count": 19,
   "id": "ed2bd136",
   "metadata": {},
   "outputs": [
    {
     "data": {
      "text/plain": [
       "(2055, 3)"
      ]
     },
     "execution_count": 19,
     "metadata": {},
     "output_type": "execute_result"
    }
   ],
   "source": [
    "test.shape"
   ]
  },
  {
   "cell_type": "code",
   "execution_count": 20,
   "id": "415a0f0f",
   "metadata": {},
   "outputs": [
    {
     "data": {
      "text/plain": [
       "0    2037\n",
       "1      18\n",
       "Name: pred, dtype: int64"
      ]
     },
     "execution_count": 20,
     "metadata": {},
     "output_type": "execute_result"
    }
   ],
   "source": [
    "test.pred.value_counts()"
   ]
  },
  {
   "cell_type": "code",
   "execution_count": 21,
   "id": "327fb72e",
   "metadata": {},
   "outputs": [
    {
     "data": {
      "text/plain": [
       "<AxesSubplot:>"
      ]
     },
     "execution_count": 21,
     "metadata": {},
     "output_type": "execute_result"
    },
    {
     "data": {
      "image/png": "[encoded data removed]",
      "text/plain": [
       "<Figure size 432x288 with 1 Axes>"
      ]
     },
     "metadata": {
      "needs_background": "light"
     },
     "output_type": "display_data"
    }
   ],
   "source": [
    "test['confidence score'].hist()"
   ]
  },
  {
   "cell_type": "code",
   "execution_count": null,
   "id": "edc83c9d",
   "metadata": {},
   "outputs": [],
   "source": []
  },
  {
   "cell_type": "code",
   "execution_count": null,
   "id": "2c91285f",
   "metadata": {},
   "outputs": [],
   "source": []
  },
  {
   "cell_type": "code",
   "execution_count": 22,
   "id": "1d056878",
   "metadata": {},
   "outputs": [],
   "source": [
    "test_true = test.loc[(test.pred == 1) & (test['confidence score'] >= 0.975)].copy()"
   ]
  },
  {
   "cell_type": "code",
   "execution_count": 23,
   "id": "c2c64980",
   "metadata": {},
   "outputs": [],
   "source": [
    "test_true = test.loc[test.pred == 1].copy()"
   ]
  },
  {
   "cell_type": "code",
   "execution_count": null,
   "id": "bdb1c97a",
   "metadata": {},
   "outputs": [],
   "source": []
  },
  {
   "cell_type": "code",
   "execution_count": 24,
   "id": "adca52c3",
   "metadata": {},
   "outputs": [
    {
     "data": {
      "text/plain": [
       "(18, 3)"
      ]
     },
     "execution_count": 24,
     "metadata": {},
     "output_type": "execute_result"
    }
   ],
   "source": [
    "test_true.shape"
   ]
  },
  {
   "cell_type": "code",
   "execution_count": 25,
   "id": "838cdfe1",
   "metadata": {},
   "outputs": [
    {
     "data": {
      "text/html": [
       "<div>\n",
       "<style scoped>\n",
       "    .dataframe tbody tr th:only-of-type {\n",
       "        vertical-align: middle;\n",
       "    }\n",
       "\n",
       "    .dataframe tbody tr th {\n",
       "        vertical-align: top;\n",
       "    }\n",
       "\n",
       "    .dataframe thead th {\n",
       "        text-align: right;\n",
       "    }\n",
       "</style>\n",
       "<table border=\"1\" class=\"dataframe\">\n",
       "  <thead>\n",
       "    <tr style=\"text-align: right;\">\n",
       "      <th></th>\n",
       "      <th>image_id</th>\n",
       "      <th>pred</th>\n",
       "      <th>confidence score</th>\n",
       "    </tr>\n",
       "  </thead>\n",
       "  <tbody>\n",
       "    <tr>\n",
       "      <th>296</th>\n",
       "      <td>/clean/V1492_2021_0042_001225.png</td>\n",
       "      <td>1</td>\n",
       "      <td>0.848870</td>\n",
       "    </tr>\n",
       "    <tr>\n",
       "      <th>303</th>\n",
       "      <td>/clean/V1492_2021_0042_001879.png</td>\n",
       "      <td>1</td>\n",
       "      <td>0.684942</td>\n",
       "    </tr>\n",
       "    <tr>\n",
       "      <th>361</th>\n",
       "      <td>/clean/V1492_2021_0042_001227.png</td>\n",
       "      <td>1</td>\n",
       "      <td>0.934809</td>\n",
       "    </tr>\n",
       "  </tbody>\n",
       "</table>\n",
       "</div>"
      ],
      "text/plain": [
       "                              image_id  pred  confidence score\n",
       "296  /clean/V1492_2021_0042_001225.png     1          0.848870\n",
       "303  /clean/V1492_2021_0042_001879.png     1          0.684942\n",
       "361  /clean/V1492_2021_0042_001227.png     1          0.934809"
      ]
     },
     "execution_count": 25,
     "metadata": {},
     "output_type": "execute_result"
    }
   ],
   "source": [
    "test_true.head(3)"
   ]
  },
  {
   "cell_type": "code",
   "execution_count": 26,
   "id": "7075873b",
   "metadata": {},
   "outputs": [],
   "source": [
    "true_names = test_true.image_id.tolist()"
   ]
  },
  {
   "cell_type": "code",
   "execution_count": 27,
   "id": "14b11f6d",
   "metadata": {},
   "outputs": [
    {
     "name": "stdout",
     "output_type": "stream",
     "text": [
      "18\n"
     ]
    }
   ],
   "source": [
    "print(len(true_names))"
   ]
  },
  {
   "cell_type": "code",
   "execution_count": null,
   "id": "760e7e5b",
   "metadata": {},
   "outputs": [],
   "source": []
  },
  {
   "cell_type": "code",
   "execution_count": 28,
   "id": "5dc646bb",
   "metadata": {},
   "outputs": [],
   "source": [
    "from shutil import copyfile\n",
    "for e in true_names:\n",
    "    copyfile('/home/super/endo_venv/gsun/blur_classification/inferenced_data' + e, '/Data/data/data_gsun/Cecum/inferenced/cecum/' + e.split('/')[2])"
   ]
  },
  {
   "cell_type": "code",
   "execution_count": null,
   "id": "803aa0d4",
   "metadata": {},
   "outputs": [],
   "source": []
  },
  {
   "cell_type": "code",
   "execution_count": null,
   "id": "bdf8a42f",
   "metadata": {},
   "outputs": [],
   "source": []
  },
  {
   "cell_type": "code",
   "execution_count": 29,
   "id": "bb040eff",
   "metadata": {},
   "outputs": [],
   "source": [
    "test_false = test.loc[test.pred == 0].copy()"
   ]
  },
  {
   "cell_type": "code",
   "execution_count": null,
   "id": "3a043d73",
   "metadata": {},
   "outputs": [],
   "source": []
  },
  {
   "cell_type": "code",
   "execution_count": 30,
   "id": "3f358e83",
   "metadata": {},
   "outputs": [],
   "source": [
    "false_names = test_false.image_id.tolist()"
   ]
  },
  {
   "cell_type": "code",
   "execution_count": 31,
   "id": "8f02e8f5",
   "metadata": {},
   "outputs": [],
   "source": [
    "from shutil import copyfile\n",
    "for e in false_names:\n",
    "    copyfile('/home/super/endo_venv/gsun/blur_classification/inferenced_data' + e, '/Data/data/data_gsun/Cecum/inferenced/non_cecum/' + e.split('/')[2])"
   ]
  },
  {
   "cell_type": "code",
   "execution_count": null,
   "id": "4a968664",
   "metadata": {},
   "outputs": [],
   "source": []
  },
  {
   "cell_type": "code",
   "execution_count": null,
   "id": "92cd47c4",
   "metadata": {},
   "outputs": [],
   "source": []
  },
  {
   "cell_type": "code",
   "execution_count": null,
   "id": "fa472108",
   "metadata": {},
   "outputs": [],
   "source": []
  },
  {
   "cell_type": "code",
   "execution_count": 39,
   "id": "f44ab996",
   "metadata": {},
   "outputs": [],
   "source": [
    "test_clean = test.loc[(test.pred == 0) & (test['confidence score'] >= 0.975)].copy()"
   ]
  },
  {
   "cell_type": "code",
   "execution_count": 40,
   "id": "89af641e",
   "metadata": {},
   "outputs": [
    {
     "data": {
      "text/plain": [
       "(4037, 3)"
      ]
     },
     "execution_count": 40,
     "metadata": {},
     "output_type": "execute_result"
    }
   ],
   "source": [
    "test_clean.shape"
   ]
  },
  {
   "cell_type": "code",
   "execution_count": 41,
   "id": "d48a9bed",
   "metadata": {},
   "outputs": [
    {
     "data": {
      "text/html": [
       "<div>\n",
       "<style scoped>\n",
       "    .dataframe tbody tr th:only-of-type {\n",
       "        vertical-align: middle;\n",
       "    }\n",
       "\n",
       "    .dataframe tbody tr th {\n",
       "        vertical-align: top;\n",
       "    }\n",
       "\n",
       "    .dataframe thead th {\n",
       "        text-align: right;\n",
       "    }\n",
       "</style>\n",
       "<table border=\"1\" class=\"dataframe\">\n",
       "  <thead>\n",
       "    <tr style=\"text-align: right;\">\n",
       "      <th></th>\n",
       "      <th>image_id</th>\n",
       "      <th>pred</th>\n",
       "      <th>confidence score</th>\n",
       "    </tr>\n",
       "  </thead>\n",
       "  <tbody>\n",
       "    <tr>\n",
       "      <th>7</th>\n",
       "      <td>/1732/V1732_00008.png</td>\n",
       "      <td>0</td>\n",
       "      <td>0.985698</td>\n",
       "    </tr>\n",
       "    <tr>\n",
       "      <th>16</th>\n",
       "      <td>/1732/V1732_00017.png</td>\n",
       "      <td>0</td>\n",
       "      <td>0.981278</td>\n",
       "    </tr>\n",
       "    <tr>\n",
       "      <th>17</th>\n",
       "      <td>/1732/V1732_00018.png</td>\n",
       "      <td>0</td>\n",
       "      <td>0.992170</td>\n",
       "    </tr>\n",
       "  </tbody>\n",
       "</table>\n",
       "</div>"
      ],
      "text/plain": [
       "                 image_id  pred  confidence score\n",
       "7   /1732/V1732_00008.png     0          0.985698\n",
       "16  /1732/V1732_00017.png     0          0.981278\n",
       "17  /1732/V1732_00018.png     0          0.992170"
      ]
     },
     "execution_count": 41,
     "metadata": {},
     "output_type": "execute_result"
    }
   ],
   "source": [
    "test_clean.head(3)"
   ]
  },
  {
   "cell_type": "code",
   "execution_count": 42,
   "id": "c656e7fc",
   "metadata": {},
   "outputs": [],
   "source": [
    "clean_names = test_clean.image_id.tolist()"
   ]
  },
  {
   "cell_type": "code",
   "execution_count": null,
   "id": "e6f43e49",
   "metadata": {},
   "outputs": [],
   "source": []
  },
  {
   "cell_type": "code",
   "execution_count": 43,
   "id": "1cb2b7d9",
   "metadata": {},
   "outputs": [],
   "source": [
    "names = blur_names + clean_names"
   ]
  },
  {
   "cell_type": "code",
   "execution_count": 44,
   "id": "e6d094b7",
   "metadata": {},
   "outputs": [
    {
     "name": "stdout",
     "output_type": "stream",
     "text": [
      "6943\n"
     ]
    }
   ],
   "source": [
    "print(len(names))"
   ]
  },
  {
   "cell_type": "code",
   "execution_count": null,
   "id": "8054e079",
   "metadata": {},
   "outputs": [],
   "source": []
  },
  {
   "cell_type": "code",
   "execution_count": 45,
   "id": "98df1f52",
   "metadata": {},
   "outputs": [],
   "source": [
    "from shutil import copyfile"
   ]
  },
  {
   "cell_type": "code",
   "execution_count": 46,
   "id": "7048052f",
   "metadata": {},
   "outputs": [],
   "source": [
    "for i,e in enumerate(names):\n",
    "    if i < len(blur_names):\n",
    "        copyfile('/Data/data/blur_detection' + e, '/Data/data/blur_detection/result_1732_blur' + e[5:])\n",
    "    else:\n",
    "        copyfile('/Data/data/blur_detection' + e, '/Data/data/blur_detection/result_1732_clean' + e[5:])\n",
    "# copyfile('/Data/data/blur_detection','C:\\\\test\\\\test_copy.txt')"
   ]
  },
  {
   "cell_type": "code",
   "execution_count": null,
   "id": "ed5577d6",
   "metadata": {},
   "outputs": [],
   "source": []
  },
  {
   "cell_type": "code",
   "execution_count": null,
   "id": "ed6e47f2",
   "metadata": {},
   "outputs": [],
   "source": []
  },
  {
   "cell_type": "code",
   "execution_count": null,
   "id": "3107892b",
   "metadata": {},
   "outputs": [],
   "source": []
  },
  {
   "cell_type": "code",
   "execution_count": 86,
   "id": "1484ab12",
   "metadata": {},
   "outputs": [],
   "source": [
    "def segger(x):\n",
    "    y = None\n",
    "    if type(x) == str:\n",
    "        xx = x.split('/')[-1]\n",
    "        if 'AC' in xx:\n",
    "            y = 'AC'\n",
    "        elif 'TC' in xx:\n",
    "            y = 'TC'\n",
    "        elif 'DC' in xx:\n",
    "            y = 'DC'\n",
    "        elif 'SC' in xx:\n",
    "            y = 'SC'\n",
    "        elif 'Rec' in xx:\n",
    "            y = 'Rectum'\n",
    "        else:\n",
    "            y = 'Cecum'\n",
    "            \n",
    "    return y"
   ]
  },
  {
   "cell_type": "code",
   "execution_count": null,
   "id": "6e07199d",
   "metadata": {},
   "outputs": [],
   "source": []
  },
  {
   "cell_type": "code",
   "execution_count": 116,
   "id": "391ce109",
   "metadata": {},
   "outputs": [
    {
     "name": "stdout",
     "output_type": "stream",
     "text": [
      "0.81505\n",
      "[[1484  376]\n",
      " [  54  411]]\n"
     ]
    }
   ],
   "source": [
    "# test\n",
    "# test['label'] = test['image_id'].apply(lambda x : 0 if 'cancer' in x else 1)\n",
    "test['pred'] = np.argmax(tst_preds, axis=1)\n",
    "#test['confidence score'] =np.max(tst_preds, axis=1)\n",
    "test_acc = np.sum(test.label == test.pred) / len(test)\n",
    "test_matrix = confusion_matrix(test['label'], test['pred'])\n",
    "print(round(test_acc, 5))\n",
    "print(test_matrix)"
   ]
  },
  {
   "cell_type": "code",
   "execution_count": null,
   "id": "88d83e26",
   "metadata": {},
   "outputs": [],
   "source": []
  },
  {
   "cell_type": "code",
   "execution_count": 117,
   "id": "24d66f47",
   "metadata": {},
   "outputs": [
    {
     "data": {
      "text/html": [
       "<div>\n",
       "<style scoped>\n",
       "    .dataframe tbody tr th:only-of-type {\n",
       "        vertical-align: middle;\n",
       "    }\n",
       "\n",
       "    .dataframe tbody tr th {\n",
       "        vertical-align: top;\n",
       "    }\n",
       "\n",
       "    .dataframe thead th {\n",
       "        text-align: right;\n",
       "    }\n",
       "</style>\n",
       "<table border=\"1\" class=\"dataframe\">\n",
       "  <thead>\n",
       "    <tr style=\"text-align: right;\">\n",
       "      <th></th>\n",
       "      <th>image_id</th>\n",
       "      <th>label</th>\n",
       "      <th>pred</th>\n",
       "      <th>confidence score</th>\n",
       "      <th>segment</th>\n",
       "    </tr>\n",
       "  </thead>\n",
       "  <tbody>\n",
       "    <tr>\n",
       "      <th>0</th>\n",
       "      <td>/cecum/V0246_2020_0016_001613.png</td>\n",
       "      <td>1</td>\n",
       "      <td>1</td>\n",
       "      <td>0.960615</td>\n",
       "      <td>Cecum</td>\n",
       "    </tr>\n",
       "    <tr>\n",
       "      <th>1</th>\n",
       "      <td>/cecum/V0246_2020_0016_001435.png</td>\n",
       "      <td>1</td>\n",
       "      <td>1</td>\n",
       "      <td>0.998785</td>\n",
       "      <td>Cecum</td>\n",
       "    </tr>\n",
       "    <tr>\n",
       "      <th>2</th>\n",
       "      <td>/cecum/V0246_2020_0016_001430.png</td>\n",
       "      <td>1</td>\n",
       "      <td>1</td>\n",
       "      <td>0.997008</td>\n",
       "      <td>Cecum</td>\n",
       "    </tr>\n",
       "    <tr>\n",
       "      <th>3</th>\n",
       "      <td>/cecum/V0246_2020_0016_001425.png</td>\n",
       "      <td>1</td>\n",
       "      <td>1</td>\n",
       "      <td>0.999448</td>\n",
       "      <td>Cecum</td>\n",
       "    </tr>\n",
       "    <tr>\n",
       "      <th>4</th>\n",
       "      <td>/cecum/V0244_2020_0014_001780.png</td>\n",
       "      <td>1</td>\n",
       "      <td>1</td>\n",
       "      <td>0.961064</td>\n",
       "      <td>Cecum</td>\n",
       "    </tr>\n",
       "  </tbody>\n",
       "</table>\n",
       "</div>"
      ],
      "text/plain": [
       "                            image_id  label  pred  confidence score segment\n",
       "0  /cecum/V0246_2020_0016_001613.png      1     1          0.960615   Cecum\n",
       "1  /cecum/V0246_2020_0016_001435.png      1     1          0.998785   Cecum\n",
       "2  /cecum/V0246_2020_0016_001430.png      1     1          0.997008   Cecum\n",
       "3  /cecum/V0246_2020_0016_001425.png      1     1          0.999448   Cecum\n",
       "4  /cecum/V0244_2020_0014_001780.png      1     1          0.961064   Cecum"
      ]
     },
     "execution_count": 117,
     "metadata": {},
     "output_type": "execute_result"
    }
   ],
   "source": [
    "test.head(5)"
   ]
  },
  {
   "cell_type": "code",
   "execution_count": null,
   "id": "3021819b",
   "metadata": {},
   "outputs": [],
   "source": []
  },
  {
   "cell_type": "code",
   "execution_count": 118,
   "id": "6608556e",
   "metadata": {},
   "outputs": [],
   "source": [
    "test['segment'] = test['image_id'].apply(segger)"
   ]
  },
  {
   "cell_type": "code",
   "execution_count": 119,
   "id": "7d607662",
   "metadata": {},
   "outputs": [
    {
     "data": {
      "text/html": [
       "<div>\n",
       "<style scoped>\n",
       "    .dataframe tbody tr th:only-of-type {\n",
       "        vertical-align: middle;\n",
       "    }\n",
       "\n",
       "    .dataframe tbody tr th {\n",
       "        vertical-align: top;\n",
       "    }\n",
       "\n",
       "    .dataframe thead th {\n",
       "        text-align: right;\n",
       "    }\n",
       "</style>\n",
       "<table border=\"1\" class=\"dataframe\">\n",
       "  <thead>\n",
       "    <tr style=\"text-align: right;\">\n",
       "      <th></th>\n",
       "      <th>image_id</th>\n",
       "      <th>label</th>\n",
       "      <th>pred</th>\n",
       "      <th>confidence score</th>\n",
       "      <th>segment</th>\n",
       "    </tr>\n",
       "  </thead>\n",
       "  <tbody>\n",
       "    <tr>\n",
       "      <th>0</th>\n",
       "      <td>/cecum/V0246_2020_0016_001613.png</td>\n",
       "      <td>1</td>\n",
       "      <td>1</td>\n",
       "      <td>0.960615</td>\n",
       "      <td>Cecum</td>\n",
       "    </tr>\n",
       "    <tr>\n",
       "      <th>1</th>\n",
       "      <td>/cecum/V0246_2020_0016_001435.png</td>\n",
       "      <td>1</td>\n",
       "      <td>1</td>\n",
       "      <td>0.998785</td>\n",
       "      <td>Cecum</td>\n",
       "    </tr>\n",
       "    <tr>\n",
       "      <th>2</th>\n",
       "      <td>/cecum/V0246_2020_0016_001430.png</td>\n",
       "      <td>1</td>\n",
       "      <td>1</td>\n",
       "      <td>0.997008</td>\n",
       "      <td>Cecum</td>\n",
       "    </tr>\n",
       "    <tr>\n",
       "      <th>3</th>\n",
       "      <td>/cecum/V0246_2020_0016_001425.png</td>\n",
       "      <td>1</td>\n",
       "      <td>1</td>\n",
       "      <td>0.999448</td>\n",
       "      <td>Cecum</td>\n",
       "    </tr>\n",
       "    <tr>\n",
       "      <th>4</th>\n",
       "      <td>/cecum/V0244_2020_0014_001780.png</td>\n",
       "      <td>1</td>\n",
       "      <td>1</td>\n",
       "      <td>0.961064</td>\n",
       "      <td>Cecum</td>\n",
       "    </tr>\n",
       "    <tr>\n",
       "      <th>5</th>\n",
       "      <td>/cecum/V0244_2020_0014_001709.png</td>\n",
       "      <td>1</td>\n",
       "      <td>1</td>\n",
       "      <td>0.977875</td>\n",
       "      <td>Cecum</td>\n",
       "    </tr>\n",
       "    <tr>\n",
       "      <th>6</th>\n",
       "      <td>/cecum/V0242_2020_0012_002368.png</td>\n",
       "      <td>1</td>\n",
       "      <td>1</td>\n",
       "      <td>0.997580</td>\n",
       "      <td>Cecum</td>\n",
       "    </tr>\n",
       "    <tr>\n",
       "      <th>7</th>\n",
       "      <td>/cecum/V0242_2020_0012_002363.png</td>\n",
       "      <td>1</td>\n",
       "      <td>1</td>\n",
       "      <td>0.907787</td>\n",
       "      <td>Cecum</td>\n",
       "    </tr>\n",
       "    <tr>\n",
       "      <th>8</th>\n",
       "      <td>/cecum/V0242_2020_0012_002064.png</td>\n",
       "      <td>1</td>\n",
       "      <td>1</td>\n",
       "      <td>0.997911</td>\n",
       "      <td>Cecum</td>\n",
       "    </tr>\n",
       "    <tr>\n",
       "      <th>9</th>\n",
       "      <td>/cecum/V0242_2020_0012_002021.png</td>\n",
       "      <td>1</td>\n",
       "      <td>1</td>\n",
       "      <td>0.999396</td>\n",
       "      <td>Cecum</td>\n",
       "    </tr>\n",
       "  </tbody>\n",
       "</table>\n",
       "</div>"
      ],
      "text/plain": [
       "                            image_id  label  pred  confidence score segment\n",
       "0  /cecum/V0246_2020_0016_001613.png      1     1          0.960615   Cecum\n",
       "1  /cecum/V0246_2020_0016_001435.png      1     1          0.998785   Cecum\n",
       "2  /cecum/V0246_2020_0016_001430.png      1     1          0.997008   Cecum\n",
       "3  /cecum/V0246_2020_0016_001425.png      1     1          0.999448   Cecum\n",
       "4  /cecum/V0244_2020_0014_001780.png      1     1          0.961064   Cecum\n",
       "5  /cecum/V0244_2020_0014_001709.png      1     1          0.977875   Cecum\n",
       "6  /cecum/V0242_2020_0012_002368.png      1     1          0.997580   Cecum\n",
       "7  /cecum/V0242_2020_0012_002363.png      1     1          0.907787   Cecum\n",
       "8  /cecum/V0242_2020_0012_002064.png      1     1          0.997911   Cecum\n",
       "9  /cecum/V0242_2020_0012_002021.png      1     1          0.999396   Cecum"
      ]
     },
     "execution_count": 119,
     "metadata": {},
     "output_type": "execute_result"
    }
   ],
   "source": [
    "test.head(10)"
   ]
  },
  {
   "cell_type": "code",
   "execution_count": null,
   "id": "d072e943",
   "metadata": {},
   "outputs": [],
   "source": []
  },
  {
   "cell_type": "code",
   "execution_count": 120,
   "id": "0bbc95aa",
   "metadata": {},
   "outputs": [],
   "source": [
    "test_unmatch = test.loc[test['label'] != test['pred']].copy()"
   ]
  },
  {
   "cell_type": "code",
   "execution_count": 121,
   "id": "97980b1f",
   "metadata": {},
   "outputs": [
    {
     "data": {
      "text/plain": [
       "segment\n",
       "Cecum     465\n",
       "DC        465\n",
       "Rectum    465\n",
       "SC        465\n",
       "TC        465\n",
       "dtype: int64"
      ]
     },
     "execution_count": 121,
     "metadata": {},
     "output_type": "execute_result"
    }
   ],
   "source": [
    "test.groupby('segment').size()"
   ]
  },
  {
   "cell_type": "code",
   "execution_count": 122,
   "id": "1bb38196",
   "metadata": {},
   "outputs": [
    {
     "data": {
      "text/plain": [
       "segment\n",
       "Cecum      54\n",
       "DC         88\n",
       "Rectum    125\n",
       "SC         79\n",
       "TC         84\n",
       "dtype: int64"
      ]
     },
     "execution_count": 122,
     "metadata": {},
     "output_type": "execute_result"
    }
   ],
   "source": [
    "test_unmatch.groupby('segment').size()"
   ]
  },
  {
   "cell_type": "code",
   "execution_count": null,
   "id": "c45a2120",
   "metadata": {},
   "outputs": [],
   "source": []
  },
  {
   "cell_type": "code",
   "execution_count": null,
   "id": "ce080fab",
   "metadata": {},
   "outputs": [],
   "source": []
  },
  {
   "cell_type": "code",
   "execution_count": null,
   "id": "0e87d431",
   "metadata": {},
   "outputs": [],
   "source": []
  },
  {
   "cell_type": "code",
   "execution_count": 97,
   "id": "4bbae1c0",
   "metadata": {},
   "outputs": [],
   "source": [
    "test.to_csv('test_6th_epoch_1.csv')"
   ]
  },
  {
   "cell_type": "code",
   "execution_count": null,
   "id": "c400710c",
   "metadata": {},
   "outputs": [],
   "source": []
  },
  {
   "cell_type": "code",
   "execution_count": null,
   "id": "c5d41f64",
   "metadata": {},
   "outputs": [],
   "source": []
  },
  {
   "cell_type": "code",
   "execution_count": null,
   "id": "25214362",
   "metadata": {},
   "outputs": [],
   "source": []
  },
  {
   "cell_type": "code",
   "execution_count": 30,
   "id": "b982f184",
   "metadata": {},
   "outputs": [],
   "source": [
    "unmatch_names = test_unmatch['image_id'].tolist()"
   ]
  },
  {
   "cell_type": "code",
   "execution_count": null,
   "id": "43bd9fc1",
   "metadata": {},
   "outputs": [],
   "source": []
  },
  {
   "cell_type": "code",
   "execution_count": 29,
   "id": "bd794752",
   "metadata": {},
   "outputs": [],
   "source": [
    "from shutil import copyfile\n",
    "for e in unmatch_names:\n",
    "    copyfile('test_data/V0672_p1_SSL' + e, 'inferenced_data/3rd_epoch_48/V0672_p1_SSL' + e)"
   ]
  },
  {
   "cell_type": "code",
   "execution_count": null,
   "id": "86104379",
   "metadata": {},
   "outputs": [],
   "source": []
  },
  {
   "cell_type": "code",
   "execution_count": null,
   "id": "6522825d",
   "metadata": {},
   "outputs": [],
   "source": []
  },
  {
   "cell_type": "code",
   "execution_count": null,
   "id": "780ceff0",
   "metadata": {},
   "outputs": [],
   "source": [
    "!kill -9 3181316"
   ]
  },
  {
   "cell_type": "code",
   "execution_count": null,
   "id": "1126ef54",
   "metadata": {},
   "outputs": [],
   "source": []
  },
  {
   "cell_type": "code",
   "execution_count": null,
   "id": "e30b28e2",
   "metadata": {},
   "outputs": [],
   "source": []
  },
  {
   "cell_type": "code",
   "execution_count": null,
   "id": "b41db0d5",
   "metadata": {},
   "outputs": [],
   "source": []
  },
  {
   "cell_type": "code",
   "execution_count": 43,
   "id": "a0744faf",
   "metadata": {},
   "outputs": [
    {
     "name": "stdout",
     "output_type": "stream",
     "text": [
      "0.95745\n",
      "[[122  10]\n",
      " [  2 148]]\n"
     ]
    }
   ],
   "source": [
    "# test\n",
    "# test['label'] = test['image_id'].apply(lambda x : 0 if 'cancer' in x else 1)\n",
    "test['pred'] = np.argmax(tst_preds, axis=1)\n",
    "#test['confidence score'] =np.max(tst_preds, axis=1)\n",
    "test_acc = np.sum(test.label == test.pred) / len(test)\n",
    "test_matrix = confusion_matrix(test['label'], test['pred'])\n",
    "print(round(test_acc, 5))\n",
    "print(test_matrix)"
   ]
  },
  {
   "cell_type": "code",
   "execution_count": 44,
   "id": "16c5736c",
   "metadata": {},
   "outputs": [
    {
     "data": {
      "text/html": [
       "<div>\n",
       "<style scoped>\n",
       "    .dataframe tbody tr th:only-of-type {\n",
       "        vertical-align: middle;\n",
       "    }\n",
       "\n",
       "    .dataframe tbody tr th {\n",
       "        vertical-align: top;\n",
       "    }\n",
       "\n",
       "    .dataframe thead th {\n",
       "        text-align: right;\n",
       "    }\n",
       "</style>\n",
       "<table border=\"1\" class=\"dataframe\">\n",
       "  <thead>\n",
       "    <tr style=\"text-align: right;\">\n",
       "      <th></th>\n",
       "      <th>image_id</th>\n",
       "      <th>label</th>\n",
       "      <th>pred</th>\n",
       "    </tr>\n",
       "  </thead>\n",
       "  <tbody>\n",
       "    <tr>\n",
       "      <th>0</th>\n",
       "      <td>/blur_1732/V1732_09834.png</td>\n",
       "      <td>1</td>\n",
       "      <td>1</td>\n",
       "    </tr>\n",
       "    <tr>\n",
       "      <th>1</th>\n",
       "      <td>/blur_1732/V1732_09835.png</td>\n",
       "      <td>1</td>\n",
       "      <td>1</td>\n",
       "    </tr>\n",
       "    <tr>\n",
       "      <th>2</th>\n",
       "      <td>/blur_1732/V1732_09836.png</td>\n",
       "      <td>1</td>\n",
       "      <td>1</td>\n",
       "    </tr>\n",
       "    <tr>\n",
       "      <th>3</th>\n",
       "      <td>/blur_1732/V1732_09805.png</td>\n",
       "      <td>1</td>\n",
       "      <td>1</td>\n",
       "    </tr>\n",
       "    <tr>\n",
       "      <th>5</th>\n",
       "      <td>/blur_1732/V1732_09806.png</td>\n",
       "      <td>1</td>\n",
       "      <td>1</td>\n",
       "    </tr>\n",
       "    <tr>\n",
       "      <th>...</th>\n",
       "      <td>...</td>\n",
       "      <td>...</td>\n",
       "      <td>...</td>\n",
       "    </tr>\n",
       "    <tr>\n",
       "      <th>105</th>\n",
       "      <td>/clean_1732/V1732_01843.png</td>\n",
       "      <td>0</td>\n",
       "      <td>1</td>\n",
       "    </tr>\n",
       "    <tr>\n",
       "      <th>106</th>\n",
       "      <td>/clean_1732/V1732_01841.png</td>\n",
       "      <td>0</td>\n",
       "      <td>1</td>\n",
       "    </tr>\n",
       "    <tr>\n",
       "      <th>107</th>\n",
       "      <td>/clean_1732/V1732_01835.png</td>\n",
       "      <td>0</td>\n",
       "      <td>1</td>\n",
       "    </tr>\n",
       "    <tr>\n",
       "      <th>108</th>\n",
       "      <td>/clean_1732/V1732_01834.png</td>\n",
       "      <td>0</td>\n",
       "      <td>1</td>\n",
       "    </tr>\n",
       "    <tr>\n",
       "      <th>109</th>\n",
       "      <td>/clean_1732/V1732_01833.png</td>\n",
       "      <td>0</td>\n",
       "      <td>1</td>\n",
       "    </tr>\n",
       "  </tbody>\n",
       "</table>\n",
       "<p>158 rows × 3 columns</p>\n",
       "</div>"
      ],
      "text/plain": [
       "                        image_id  label  pred\n",
       "0     /blur_1732/V1732_09834.png      1     1\n",
       "1     /blur_1732/V1732_09835.png      1     1\n",
       "2     /blur_1732/V1732_09836.png      1     1\n",
       "3     /blur_1732/V1732_09805.png      1     1\n",
       "5     /blur_1732/V1732_09806.png      1     1\n",
       "..                           ...    ...   ...\n",
       "105  /clean_1732/V1732_01843.png      0     1\n",
       "106  /clean_1732/V1732_01841.png      0     1\n",
       "107  /clean_1732/V1732_01835.png      0     1\n",
       "108  /clean_1732/V1732_01834.png      0     1\n",
       "109  /clean_1732/V1732_01833.png      0     1\n",
       "\n",
       "[158 rows x 3 columns]"
      ]
     },
     "execution_count": 44,
     "metadata": {},
     "output_type": "execute_result"
    }
   ],
   "source": [
    "test[test.pred == 1]"
   ]
  },
  {
   "cell_type": "code",
   "execution_count": null,
   "id": "fab55bfb",
   "metadata": {},
   "outputs": [],
   "source": []
  },
  {
   "cell_type": "code",
   "execution_count": null,
   "id": "254aba35",
   "metadata": {},
   "outputs": [],
   "source": []
  },
  {
   "cell_type": "code",
   "execution_count": 52,
   "id": "548199ce",
   "metadata": {
    "scrolled": true
   },
   "outputs": [],
   "source": [
    "test['Conf_scroe']=np.max(tst_preds, axis=1)"
   ]
  },
  {
   "cell_type": "code",
   "execution_count": 47,
   "id": "bf2cdc5e",
   "metadata": {},
   "outputs": [],
   "source": [
    "import shutil"
   ]
  },
  {
   "cell_type": "code",
   "execution_count": 49,
   "id": "a23dd740",
   "metadata": {},
   "outputs": [],
   "source": [
    "for image in test[test.pred == 0].image_id.values :\n",
    "    shutil.copy('/mnt/d/@diagnosis/NBI_same/'+image, '/mnt/d/@diagnosis/NBI_same_0/'+image)\n",
    "    #print(image)"
   ]
  },
  {
   "cell_type": "code",
   "execution_count": 54,
   "id": "713c0486",
   "metadata": {},
   "outputs": [],
   "source": [
    "test.to_csv('iq.csv',index=False)"
   ]
  },
  {
   "cell_type": "code",
   "execution_count": null,
   "id": "bd3d7d29",
   "metadata": {},
   "outputs": [],
   "source": []
  },
  {
   "cell_type": "code",
   "execution_count": null,
   "id": "9425db45",
   "metadata": {},
   "outputs": [],
   "source": []
  },
  {
   "cell_type": "code",
   "execution_count": null,
   "id": "a4e74a66",
   "metadata": {},
   "outputs": [],
   "source": []
  },
  {
   "cell_type": "code",
   "execution_count": null,
   "id": "e1db3776",
   "metadata": {},
   "outputs": [],
   "source": []
  },
  {
   "cell_type": "code",
   "execution_count": null,
   "id": "8522392b",
   "metadata": {},
   "outputs": [],
   "source": []
  },
  {
   "cell_type": "code",
   "execution_count": 42,
   "id": "6f21ec1a",
   "metadata": {},
   "outputs": [
    {
     "name": "stdout",
     "output_type": "stream",
     "text": [
      "0.98007\n",
      "[[ 880   29]\n",
      " [  12 1136]]\n"
     ]
    }
   ],
   "source": [
    "# train\n",
    "train_ = train.loc[trn_idx,:]\n",
    "train_['pred'] = np.argmax(trn_preds, axis=1)\n",
    "\n",
    "trn_acc = (train_.label.values==np.argmax(trn_preds, axis=1)).mean()\n",
    "trn_matrix = confusion_matrix(train_['label'], train_['pred'])\n",
    "print(round(trn_acc, 5))\n",
    "print(trn_matrix)"
   ]
  },
  {
   "cell_type": "code",
   "execution_count": 43,
   "id": "a0da9dc1",
   "metadata": {},
   "outputs": [
    {
     "data": {
      "text/plain": [
       "1    1148\n",
       "0     909\n",
       "Name: label, dtype: int64"
      ]
     },
     "execution_count": 43,
     "metadata": {},
     "output_type": "execute_result"
    }
   ],
   "source": [
    "train_.label.value_counts()"
   ]
  },
  {
   "cell_type": "code",
   "execution_count": 44,
   "id": "44ddfd54",
   "metadata": {},
   "outputs": [
    {
     "name": "stdout",
     "output_type": "stream",
     "text": [
      "0.97476\n",
      "[[222   6]\n",
      " [  7 280]]\n"
     ]
    }
   ],
   "source": [
    "# valid\n",
    "valid_['pred'] = np.argmax(val_preds, axis=1)\n",
    "\n",
    "# np.sum(train.label == train.pred) / len(train)\n",
    "val_acc = (valid_.label.values==np.argmax(val_preds, axis=1)).mean()\n",
    "val_matrix = confusion_matrix(valid_['label'], valid_['pred'])\n",
    "print(round(val_acc, 5))\n",
    "print(val_matrix)"
   ]
  },
  {
   "cell_type": "code",
   "execution_count": 52,
   "id": "d1893a03",
   "metadata": {},
   "outputs": [
    {
     "name": "stdout",
     "output_type": "stream",
     "text": [
      "0.97356\n",
      "[[ 121   11]\n",
      " [  29 1352]]\n"
     ]
    }
   ],
   "source": [
    "# test\n",
    "# test['label'] = test['image_id'].apply(lambda x : 0 if 'cancer' in x else 1)\n",
    "test['pred'] = np.argmax(tst_preds, axis=1)\n",
    "test['confidence score'] =np.max(tst_preds, axis=1)\n",
    "test_acc = np.sum(test.label == test.pred) / len(test)\n",
    "test_matrix = confusion_matrix(test['label'], test['pred'])\n",
    "print(round(test_acc, 5))\n",
    "print(test_matrix)"
   ]
  },
  {
   "cell_type": "code",
   "execution_count": 98,
   "id": "0e223bdd",
   "metadata": {},
   "outputs": [],
   "source": [
    "def score(df):\n",
    "    TP=len(df.query(\"label==1 and pred==1 \"))\n",
    "    TN=len(df.query(\"label==0 and pred==0 \"))\n",
    "    FP=len(df.query(\"label==0 and pred==1 \"))\n",
    "    FN=len(df.query(\"label==1 and pred==0 \"))\n",
    "    Sen=round(TP/(TP+FN),4)\n",
    "    Spe=round(TN/(TN+FP),4) if TN+FP != 0 else 0\n",
    "    PPV=round(TP/(TP+FP),4)\n",
    "    NPV=round(TN/(TN+FN),4) if TN+FN != 0 else 0\n",
    "    ACC=round((TP+TN)/(TP+TN+FP+FN),4)\n",
    "    print(\"TP:\",TP)\n",
    "    print(\"FP:\",FP)\n",
    "    print(\"TN:\",TN)\n",
    "    print(\"FN:\",FN)\n",
    "    print(\"Sen:\",Sen)\n",
    "    print(\"Spe:\",Spe)\n",
    "    print(\"PPV:\",PPV)\n",
    "    print(\"NPV:\",NPV)\n",
    "    print(\"ACC:\",ACC)"
   ]
  },
  {
   "cell_type": "code",
   "execution_count": 47,
   "id": "a3d47d62",
   "metadata": {},
   "outputs": [
    {
     "name": "stdout",
     "output_type": "stream",
     "text": [
      "TP: 1136\n",
      "FP: 29\n",
      "TN: 880\n",
      "FN: 12\n",
      "Sen: 0.9895\n",
      "Spe: 0.9681\n",
      "PPV: 0.9751\n",
      "NPV: 0.9865\n",
      "ACC: 0.9801\n"
     ]
    }
   ],
   "source": [
    "score(train_)"
   ]
  },
  {
   "cell_type": "code",
   "execution_count": 48,
   "id": "d572bf59",
   "metadata": {},
   "outputs": [
    {
     "name": "stdout",
     "output_type": "stream",
     "text": [
      "TP: 280\n",
      "FP: 6\n",
      "TN: 222\n",
      "FN: 7\n",
      "Sen: 0.9756\n",
      "Spe: 0.9737\n",
      "PPV: 0.979\n",
      "NPV: 0.9694\n",
      "ACC: 0.9748\n"
     ]
    }
   ],
   "source": [
    "score(valid_)"
   ]
  },
  {
   "cell_type": "code",
   "execution_count": 123,
   "id": "097b56bc",
   "metadata": {},
   "outputs": [
    {
     "name": "stdout",
     "output_type": "stream",
     "text": [
      "TP: 411\n",
      "FP: 376\n",
      "TN: 1484\n",
      "FN: 54\n",
      "Sen: 0.8839\n",
      "Spe: 0.7978\n",
      "PPV: 0.5222\n",
      "NPV: 0.9649\n",
      "ACC: 0.8151\n"
     ]
    }
   ],
   "source": [
    "score(test)"
   ]
  },
  {
   "cell_type": "code",
   "execution_count": 55,
   "id": "15c51c78",
   "metadata": {},
   "outputs": [
    {
     "data": {
      "text/html": [
       "<div>\n",
       "<style scoped>\n",
       "    .dataframe tbody tr th:only-of-type {\n",
       "        vertical-align: middle;\n",
       "    }\n",
       "\n",
       "    .dataframe tbody tr th {\n",
       "        vertical-align: top;\n",
       "    }\n",
       "\n",
       "    .dataframe thead th {\n",
       "        text-align: right;\n",
       "    }\n",
       "</style>\n",
       "<table border=\"1\" class=\"dataframe\">\n",
       "  <thead>\n",
       "    <tr style=\"text-align: right;\">\n",
       "      <th></th>\n",
       "      <th>image_id</th>\n",
       "      <th>label</th>\n",
       "      <th>pred</th>\n",
       "      <th>confidence score</th>\n",
       "    </tr>\n",
       "  </thead>\n",
       "  <tbody>\n",
       "    <tr>\n",
       "      <th>0</th>\n",
       "      <td>/blur_1732/V1732_09834.png</td>\n",
       "      <td>1</td>\n",
       "      <td>1</td>\n",
       "      <td>0.999997</td>\n",
       "    </tr>\n",
       "    <tr>\n",
       "      <th>1</th>\n",
       "      <td>/blur_1732/V1732_09835.png</td>\n",
       "      <td>1</td>\n",
       "      <td>1</td>\n",
       "      <td>1.000000</td>\n",
       "    </tr>\n",
       "    <tr>\n",
       "      <th>2</th>\n",
       "      <td>/blur_1732/V1732_09836.png</td>\n",
       "      <td>1</td>\n",
       "      <td>1</td>\n",
       "      <td>0.999225</td>\n",
       "    </tr>\n",
       "    <tr>\n",
       "      <th>3</th>\n",
       "      <td>/blur_1732/V1732_09805.png</td>\n",
       "      <td>1</td>\n",
       "      <td>1</td>\n",
       "      <td>1.000000</td>\n",
       "    </tr>\n",
       "    <tr>\n",
       "      <th>4</th>\n",
       "      <td>/blur_1732/V1732_09804.png</td>\n",
       "      <td>1</td>\n",
       "      <td>1</td>\n",
       "      <td>0.999984</td>\n",
       "    </tr>\n",
       "    <tr>\n",
       "      <th>...</th>\n",
       "      <td>...</td>\n",
       "      <td>...</td>\n",
       "      <td>...</td>\n",
       "      <td>...</td>\n",
       "    </tr>\n",
       "    <tr>\n",
       "      <th>127</th>\n",
       "      <td>/clean_1732/V1732_00899.png</td>\n",
       "      <td>0</td>\n",
       "      <td>0</td>\n",
       "      <td>0.997530</td>\n",
       "    </tr>\n",
       "    <tr>\n",
       "      <th>128</th>\n",
       "      <td>/clean_1732/V1732_00898.png</td>\n",
       "      <td>0</td>\n",
       "      <td>0</td>\n",
       "      <td>0.999677</td>\n",
       "    </tr>\n",
       "    <tr>\n",
       "      <th>129</th>\n",
       "      <td>/clean_1732/V1732_00897.png</td>\n",
       "      <td>0</td>\n",
       "      <td>0</td>\n",
       "      <td>0.999659</td>\n",
       "    </tr>\n",
       "    <tr>\n",
       "      <th>130</th>\n",
       "      <td>/clean_1732/V1732_00896.png</td>\n",
       "      <td>0</td>\n",
       "      <td>0</td>\n",
       "      <td>0.998792</td>\n",
       "    </tr>\n",
       "    <tr>\n",
       "      <th>131</th>\n",
       "      <td>/clean_1732/V1732_00873.png</td>\n",
       "      <td>0</td>\n",
       "      <td>0</td>\n",
       "      <td>0.999992</td>\n",
       "    </tr>\n",
       "  </tbody>\n",
       "</table>\n",
       "<p>1513 rows × 4 columns</p>\n",
       "</div>"
      ],
      "text/plain": [
       "                        image_id  label  pred  confidence score\n",
       "0     /blur_1732/V1732_09834.png      1     1          0.999997\n",
       "1     /blur_1732/V1732_09835.png      1     1          1.000000\n",
       "2     /blur_1732/V1732_09836.png      1     1          0.999225\n",
       "3     /blur_1732/V1732_09805.png      1     1          1.000000\n",
       "4     /blur_1732/V1732_09804.png      1     1          0.999984\n",
       "..                           ...    ...   ...               ...\n",
       "127  /clean_1732/V1732_00899.png      0     0          0.997530\n",
       "128  /clean_1732/V1732_00898.png      0     0          0.999677\n",
       "129  /clean_1732/V1732_00897.png      0     0          0.999659\n",
       "130  /clean_1732/V1732_00896.png      0     0          0.998792\n",
       "131  /clean_1732/V1732_00873.png      0     0          0.999992\n",
       "\n",
       "[1513 rows x 4 columns]"
      ]
     },
     "execution_count": 55,
     "metadata": {},
     "output_type": "execute_result"
    }
   ],
   "source": [
    "test"
   ]
  },
  {
   "cell_type": "code",
   "execution_count": 60,
   "id": "c1be8a13",
   "metadata": {},
   "outputs": [],
   "source": [
    "test.to_csv(\"blur_classification_model_106_21_test_1732.xlsx\",index=False)"
   ]
  },
  {
   "cell_type": "markdown",
   "id": "4942c632",
   "metadata": {},
   "source": [
    "## Roc Score, Precision, Recal"
   ]
  },
  {
   "cell_type": "code",
   "execution_count": 56,
   "id": "73c0fb36",
   "metadata": {},
   "outputs": [],
   "source": [
    "from sklearn.metrics import *"
   ]
  },
  {
   "cell_type": "code",
   "execution_count": 31,
   "id": "fd351c82",
   "metadata": {},
   "outputs": [],
   "source": [
    "def softmax(x):\n",
    "    \n",
    "    max = np.max(x,axis=1,keepdims=True) #returns max of each row and keeps same dims\n",
    "    e_x = np.exp(x - max) #subtracts each row with its max value\n",
    "    sum = np.sum(e_x,axis=1,keepdims=True) #returns sum of each row and keeps same dims\n",
    "    f_x = e_x / sum \n",
    "    return f_x\n",
    "\n",
    "def get_clf_eval(y_test, pred=None, pred_proba=None):\n",
    "    confusion = confusion_matrix(y_test, pred)\n",
    "    accuracy = accuracy_score(y_test, pred)\n",
    "    precision = precision_score(y_test, pred)\n",
    "    recall = recall_score(y_test, pred)\n",
    "    f1 = f1_score(y_test, pred)\n",
    "    \n",
    "    # ROC AUC\n",
    "    roc_auc = roc_auc_score(y_test, pred_proba)\n",
    "    print('Confusion Matrix')\n",
    "    print(confusion)\n",
    "    \n",
    "    print('accuracy: {0:.5f}, roc_auc: {1:.5f}, precision: {2:.5f}, recall: {3:.5f}, f1: {4:.5f}'.format(\n",
    "         accuracy, roc_auc, precision, recall, f1))"
   ]
  },
  {
   "cell_type": "code",
   "execution_count": 52,
   "id": "1c2e9061",
   "metadata": {},
   "outputs": [
    {
     "name": "stdout",
     "output_type": "stream",
     "text": [
      "Confusion Matrix\n",
      "[[ 880   29]\n",
      " [  12 1136]]\n",
      "accuracy: 0.98007, roc_auc: 0.99743, precision: 0.97511, recall: 0.98955, f1: 0.98227\n"
     ]
    }
   ],
   "source": [
    "train_eval = get_clf_eval(train_.label, pred=train_.pred, pred_proba=softmax(trn_preds)[:, 1])\n",
    "train_eval"
   ]
  },
  {
   "cell_type": "code",
   "execution_count": 53,
   "id": "875936ba",
   "metadata": {},
   "outputs": [
    {
     "name": "stdout",
     "output_type": "stream",
     "text": [
      "Confusion Matrix\n",
      "[[222   6]\n",
      " [  7 280]]\n",
      "accuracy: 0.97476, roc_auc: 0.99621, precision: 0.97902, recall: 0.97561, f1: 0.97731\n"
     ]
    }
   ],
   "source": [
    "valid_eval = get_clf_eval(valid_.label, pred=valid_.pred, pred_proba=softmax(val_preds)[:, 1])\n",
    "valid_eval"
   ]
  },
  {
   "cell_type": "code",
   "execution_count": 32,
   "id": "46ac393c",
   "metadata": {},
   "outputs": [
    {
     "ename": "NameError",
     "evalue": "name 'accuracy_score' is not defined",
     "output_type": "error",
     "traceback": [
      "\u001b[0;31m---------------------------------------------------------------------------\u001b[0m",
      "\u001b[0;31mNameError\u001b[0m                                 Traceback (most recent call last)",
      "Input \u001b[0;32mIn [32]\u001b[0m, in \u001b[0;36m<cell line: 1>\u001b[0;34m()\u001b[0m\n\u001b[0;32m----> 1\u001b[0m test_eval \u001b[38;5;241m=\u001b[39m \u001b[43mget_clf_eval\u001b[49m\u001b[43m(\u001b[49m\u001b[43mtest\u001b[49m\u001b[38;5;241;43m.\u001b[39;49m\u001b[43mlabel\u001b[49m\u001b[43m,\u001b[49m\u001b[43m \u001b[49m\u001b[43mpred\u001b[49m\u001b[38;5;241;43m=\u001b[39;49m\u001b[43mtest\u001b[49m\u001b[38;5;241;43m.\u001b[39;49m\u001b[43mpred\u001b[49m\u001b[43m,\u001b[49m\u001b[43m \u001b[49m\u001b[43mpred_proba\u001b[49m\u001b[38;5;241;43m=\u001b[39;49m\u001b[43msoftmax\u001b[49m\u001b[43m(\u001b[49m\u001b[43mtst_preds\u001b[49m\u001b[43m)\u001b[49m\u001b[43m[\u001b[49m\u001b[43m:\u001b[49m\u001b[43m,\u001b[49m\u001b[43m \u001b[49m\u001b[38;5;241;43m1\u001b[39;49m\u001b[43m]\u001b[49m\u001b[43m)\u001b[49m\n\u001b[1;32m      2\u001b[0m test_eval\n",
      "Input \u001b[0;32mIn [31]\u001b[0m, in \u001b[0;36mget_clf_eval\u001b[0;34m(y_test, pred, pred_proba)\u001b[0m\n\u001b[1;32m      9\u001b[0m \u001b[38;5;28;01mdef\u001b[39;00m \u001b[38;5;21mget_clf_eval\u001b[39m(y_test, pred\u001b[38;5;241m=\u001b[39m\u001b[38;5;28;01mNone\u001b[39;00m, pred_proba\u001b[38;5;241m=\u001b[39m\u001b[38;5;28;01mNone\u001b[39;00m):\n\u001b[1;32m     10\u001b[0m     confusion \u001b[38;5;241m=\u001b[39m confusion_matrix(y_test, pred)\n\u001b[0;32m---> 11\u001b[0m     accuracy \u001b[38;5;241m=\u001b[39m \u001b[43maccuracy_score\u001b[49m(y_test, pred)\n\u001b[1;32m     12\u001b[0m     precision \u001b[38;5;241m=\u001b[39m precision_score(y_test, pred)\n\u001b[1;32m     13\u001b[0m     recall \u001b[38;5;241m=\u001b[39m recall_score(y_test, pred)\n",
      "\u001b[0;31mNameError\u001b[0m: name 'accuracy_score' is not defined"
     ]
    }
   ],
   "source": [
    "test_eval = get_clf_eval(test.label, pred=test.pred, pred_proba=softmax(tst_preds)[:, 1])\n",
    "test_eval"
   ]
  },
  {
   "cell_type": "code",
   "execution_count": null,
   "id": "e572e130",
   "metadata": {},
   "outputs": [],
   "source": []
  }
 ],
 "metadata": {
  "kernelspec": {
   "display_name": "torch-gpu",
   "language": "python",
   "name": "torch"
  },
  "language_info": {
   "codemirror_mode": {
    "name": "ipython",
    "version": 3
   },
   "file_extension": ".py",
   "mimetype": "text/x-python",
   "name": "python",
   "nbconvert_exporter": "python",
   "pygments_lexer": "ipython3",
   "version": "3.10.4"
  }
 },
 "nbformat": 4,
 "nbformat_minor": 5
}
