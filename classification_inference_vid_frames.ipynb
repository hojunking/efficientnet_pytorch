{
 "cells": [
  {
   "cell_type": "code",
   "execution_count": 1,
   "id": "2137dbd4",
   "metadata": {},
   "outputs": [],
   "source": [
    "import torch\n",
    "from glob import glob\n",
    "from sklearn.model_selection import GroupKFold, StratifiedKFold\n",
    "import cv2\n",
    "from skimage import io\n",
    "from torch import nn\n",
    "import os\n",
    "from datetime import datetime\n",
    "import time\n",
    "import random\n",
    "import cv2\n",
    "import torchvision\n",
    "from torchvision import transforms\n",
    "import pandas as pd\n",
    "import numpy as np\n",
    "from tqdm import tqdm\n",
    "import re, magic\n",
    "\n",
    "import matplotlib.pyplot as plt\n",
    "from torch.utils.data import Dataset,DataLoader\n",
    "from torch.utils.data.sampler import SequentialSampler, RandomSampler\n",
    "from  torch.cuda.amp import autocast, GradScaler\n",
    "\n",
    "import sklearn\n",
    "import warnings\n",
    "import joblib\n",
    "from sklearn.metrics import roc_auc_score, log_loss\n",
    "from sklearn import metrics\n",
    "import warnings\n",
    "#import pydicom\n",
    "import timm #from efficientnet_pytorch import EfficientNet\n",
    "from scipy.ndimage import zoom\n",
    "from sklearn.metrics import log_loss\n",
    "from sklearn.metrics import confusion_matrix\n",
    "\n",
    "#vit\n",
    "from timm.data import resolve_data_config\n",
    "from timm.data.transforms_factory import create_transform"
   ]
  },
  {
   "cell_type": "code",
   "execution_count": 2,
   "id": "066f894e-9a1f-4967-9ed0-3d3ca9207330",
   "metadata": {},
   "outputs": [
    {
     "name": "stdout",
     "output_type": "stream",
     "text": [
      "Images:  290400\n",
      "Image_labels: 290400\n"
     ]
    }
   ],
   "source": [
    "#path = '../Data/car_dataset_sample/'\n",
    "path = '../Data/car_dataset/'\n",
    "#path = '../../disk/data/car_dataset/'\n",
    "img_names = []\n",
    "img_labels = []\n",
    "\n",
    "for folder, subfolders, filenames in os.walk(path):\n",
    "    for img in filenames:\n",
    "        img_names.append(folder+'/'+img)\n",
    "        img_labels.append(img[9:18])\n",
    "\n",
    "print('Images: ',len(img_names))\n",
    "print(\"Image_labels:\", len(img_labels))\n"
   ]
  },
  {
   "cell_type": "code",
   "execution_count": 3,
   "id": "5ef2839f-a6e6-4ab1-94f4-bb49b046532f",
   "metadata": {},
   "outputs": [
    {
     "data": {
      "text/plain": [
       "Index(['BMW/3시리즈/2019', 'BMW/3시리즈/2020', 'BMW/5시리즈/2019', 'BMW/5시리즈/2020',\n",
       "       'BMW/5시리즈/2021', 'BMW/7시리즈/2017', 'BMW/7시리즈/2018', 'BMW/7시리즈/2019',\n",
       "       'BMW/7시리즈/2020', 'BMW/X3/2017',\n",
       "       ...\n",
       "       '현대/코나/2021', '현대/투싼/2021', '현대/포터2/2018', '현대/포터2/2019', '현대/포터2/2020',\n",
       "       '현대/포터2/2021', '혼다/CR-V/2017', '혼다/CR-V/2021', '혼다/어코드/2017',\n",
       "       '혼다/어코드/2021'],\n",
       "      dtype='object', length=236)"
      ]
     },
     "execution_count": 3,
     "metadata": {},
     "output_type": "execute_result"
    }
   ],
   "source": [
    "from sklearn.preprocessing import LabelEncoder\n",
    "\n",
    "\n",
    "trn_df = pd.DataFrame(img_names, columns=['image_id'])\n",
    "trn_df['dir'] = trn_df['image_id'].apply(lambda x: os.path.dirname(x))\n",
    "trn_df['image_id'] = trn_df['image_id'].apply(lambda x: os.path.basename(x))\n",
    "#trn_df['label'] = img_labels\n",
    "\n",
    "label_value = []\n",
    "for i, di in enumerate(trn_df['dir']):\n",
    "    dir_l = di[23:-7].split('_')\n",
    "    dir_v = dir_l[0][:-3] + dir_l[1]\n",
    "    label_value.append(dir_v)\n",
    "\n",
    "trn_df['label'] = label_value\n",
    "train = trn_df\n",
    "\n",
    "low_data = train['label'].value_counts().loc[lambda x : x < 900].index\n",
    "\n",
    "low_data = low_data.sort_values()\n",
    "low_data"
   ]
  },
  {
   "cell_type": "code",
   "execution_count": 4,
   "id": "98770e67-0904-4dbd-b8e2-1632ea0e550f",
   "metadata": {},
   "outputs": [
    {
     "data": {
      "text/html": [
       "<div>\n",
       "<style scoped>\n",
       "    .dataframe tbody tr th:only-of-type {\n",
       "        vertical-align: middle;\n",
       "    }\n",
       "\n",
       "    .dataframe tbody tr th {\n",
       "        vertical-align: top;\n",
       "    }\n",
       "\n",
       "    .dataframe thead th {\n",
       "        text-align: right;\n",
       "    }\n",
       "</style>\n",
       "<table border=\"1\" class=\"dataframe\">\n",
       "  <thead>\n",
       "    <tr style=\"text-align: right;\">\n",
       "      <th></th>\n",
       "      <th>image_id</th>\n",
       "      <th>dir</th>\n",
       "      <th>label</th>\n",
       "    </tr>\n",
       "  </thead>\n",
       "  <tbody>\n",
       "    <tr>\n",
       "      <th>0</th>\n",
       "      <td>C_210813_SS_097_18_BL_A_P_01_031.jpg</td>\n",
       "      <td>../Data/car_dataset/SS_쌍용/097_티볼리/2018_파랑_트림A</td>\n",
       "      <td>쌍용/티볼리/2018</td>\n",
       "    </tr>\n",
       "    <tr>\n",
       "      <th>1</th>\n",
       "      <td>C_211217_SS_097_18_BL_A_P_01_057.jpg</td>\n",
       "      <td>../Data/car_dataset/SS_쌍용/097_티볼리/2018_파랑_트림A</td>\n",
       "      <td>쌍용/티볼리/2018</td>\n",
       "    </tr>\n",
       "    <tr>\n",
       "      <th>2</th>\n",
       "      <td>C_211217_SS_097_18_BL_A_P_01_011.jpg</td>\n",
       "      <td>../Data/car_dataset/SS_쌍용/097_티볼리/2018_파랑_트림A</td>\n",
       "      <td>쌍용/티볼리/2018</td>\n",
       "    </tr>\n",
       "    <tr>\n",
       "      <th>3</th>\n",
       "      <td>C_211217_SS_097_18_BL_A_P_01_065.jpg</td>\n",
       "      <td>../Data/car_dataset/SS_쌍용/097_티볼리/2018_파랑_트림A</td>\n",
       "      <td>쌍용/티볼리/2018</td>\n",
       "    </tr>\n",
       "    <tr>\n",
       "      <th>4</th>\n",
       "      <td>C_211217_SS_097_18_BL_A_T_03_013.jpg</td>\n",
       "      <td>../Data/car_dataset/SS_쌍용/097_티볼리/2018_파랑_트림A</td>\n",
       "      <td>쌍용/티볼리/2018</td>\n",
       "    </tr>\n",
       "    <tr>\n",
       "      <th>...</th>\n",
       "      <td>...</td>\n",
       "      <td>...</td>\n",
       "      <td>...</td>\n",
       "    </tr>\n",
       "    <tr>\n",
       "      <th>206641</th>\n",
       "      <td>C_211116_BE_014_20_BL_A_P_01_007.jpg</td>\n",
       "      <td>../Data/car_dataset/BE_벤츠/014_E-Class/2020_파랑_트림A</td>\n",
       "      <td>벤츠/E-Class/2020</td>\n",
       "    </tr>\n",
       "    <tr>\n",
       "      <th>206642</th>\n",
       "      <td>C_211116_BE_014_20_BL_A_P_01_031.jpg</td>\n",
       "      <td>../Data/car_dataset/BE_벤츠/014_E-Class/2020_파랑_트림A</td>\n",
       "      <td>벤츠/E-Class/2020</td>\n",
       "    </tr>\n",
       "    <tr>\n",
       "      <th>206643</th>\n",
       "      <td>C_211116_BE_014_20_BL_A_P_01_016.jpg</td>\n",
       "      <td>../Data/car_dataset/BE_벤츠/014_E-Class/2020_파랑_트림A</td>\n",
       "      <td>벤츠/E-Class/2020</td>\n",
       "    </tr>\n",
       "    <tr>\n",
       "      <th>206644</th>\n",
       "      <td>C_211116_BE_014_20_BL_A_P_01_045.jpg</td>\n",
       "      <td>../Data/car_dataset/BE_벤츠/014_E-Class/2020_파랑_트림A</td>\n",
       "      <td>벤츠/E-Class/2020</td>\n",
       "    </tr>\n",
       "    <tr>\n",
       "      <th>206645</th>\n",
       "      <td>C_211116_BE_014_20_BL_A_P_01_050.jpg</td>\n",
       "      <td>../Data/car_dataset/BE_벤츠/014_E-Class/2020_파랑_트림A</td>\n",
       "      <td>벤츠/E-Class/2020</td>\n",
       "    </tr>\n",
       "  </tbody>\n",
       "</table>\n",
       "<p>206646 rows × 3 columns</p>\n",
       "</div>"
      ],
      "text/plain": [
       "                                    image_id  \\\n",
       "0       C_210813_SS_097_18_BL_A_P_01_031.jpg   \n",
       "1       C_211217_SS_097_18_BL_A_P_01_057.jpg   \n",
       "2       C_211217_SS_097_18_BL_A_P_01_011.jpg   \n",
       "3       C_211217_SS_097_18_BL_A_P_01_065.jpg   \n",
       "4       C_211217_SS_097_18_BL_A_T_03_013.jpg   \n",
       "...                                      ...   \n",
       "206641  C_211116_BE_014_20_BL_A_P_01_007.jpg   \n",
       "206642  C_211116_BE_014_20_BL_A_P_01_031.jpg   \n",
       "206643  C_211116_BE_014_20_BL_A_P_01_016.jpg   \n",
       "206644  C_211116_BE_014_20_BL_A_P_01_045.jpg   \n",
       "206645  C_211116_BE_014_20_BL_A_P_01_050.jpg   \n",
       "\n",
       "                                                      dir            label  \n",
       "0           ../Data/car_dataset/SS_쌍용/097_티볼리/2018_파랑_트림A      쌍용/티볼리/2018  \n",
       "1           ../Data/car_dataset/SS_쌍용/097_티볼리/2018_파랑_트림A      쌍용/티볼리/2018  \n",
       "2           ../Data/car_dataset/SS_쌍용/097_티볼리/2018_파랑_트림A      쌍용/티볼리/2018  \n",
       "3           ../Data/car_dataset/SS_쌍용/097_티볼리/2018_파랑_트림A      쌍용/티볼리/2018  \n",
       "4           ../Data/car_dataset/SS_쌍용/097_티볼리/2018_파랑_트림A      쌍용/티볼리/2018  \n",
       "...                                                   ...              ...  \n",
       "206641  ../Data/car_dataset/BE_벤츠/014_E-Class/2020_파랑_트림A  벤츠/E-Class/2020  \n",
       "206642  ../Data/car_dataset/BE_벤츠/014_E-Class/2020_파랑_트림A  벤츠/E-Class/2020  \n",
       "206643  ../Data/car_dataset/BE_벤츠/014_E-Class/2020_파랑_트림A  벤츠/E-Class/2020  \n",
       "206644  ../Data/car_dataset/BE_벤츠/014_E-Class/2020_파랑_트림A  벤츠/E-Class/2020  \n",
       "206645  ../Data/car_dataset/BE_벤츠/014_E-Class/2020_파랑_트림A  벤츠/E-Class/2020  \n",
       "\n",
       "[206646 rows x 3 columns]"
      ]
     },
     "execution_count": 4,
     "metadata": {},
     "output_type": "execute_result"
    }
   ],
   "source": [
    "# 해당 라벨과 일치하는 인덱스(열) 삭제\n",
    "for i in range(len(low_data)):\n",
    "    idx = train[train['label'] == low_data[i]].index\n",
    "    train.drop(idx, inplace=True)\n",
    "train.reset_index(inplace=True, drop=True)\n",
    "train\n",
    "# idx"
   ]
  },
  {
   "cell_type": "code",
   "execution_count": 5,
   "id": "12ea3492-5342-42cd-bf73-f7512199a302",
   "metadata": {},
   "outputs": [
    {
     "data": {
      "text/plain": [
       "Index(['벤츠/E-Class/2017', '현대/코나/2018', '기아/모닝/2017', '기아/K3/2019',\n",
       "       '기아/스포티지/2018', '제네시스/G80/2018', '기아/쏘렌토/2017', '현대/아반떼/2018',\n",
       "       '기아/모닝/2018', '기아/K7/2017',\n",
       "       ...\n",
       "       '기아/모하비/2017', '제네시스/G90/2019', '쉐보레/올란도/2018', '르노삼성/SM5/2017',\n",
       "       '현대/코나/2020', '기아/니로/2018', '쉐보레/스파크/2020', '현대/스타렉스/2020',\n",
       "       '현대/팰리세이드/2020', '기아/니로/2019'],\n",
       "      dtype='object', length=134)"
      ]
     },
     "execution_count": 5,
     "metadata": {},
     "output_type": "execute_result"
    }
   ],
   "source": [
    "labels = train.label.value_counts().index\n",
    "labels"
   ]
  },
  {
   "cell_type": "code",
   "execution_count": 7,
   "id": "6c158161-c0f6-4957-985e-aab23afdfdd8",
   "metadata": {},
   "outputs": [
    {
     "data": {
      "text/plain": [
       "{'벤츠': ['C-Class/2017',\n",
       "  'E-Class/2017',\n",
       "  'E-Class/2018',\n",
       "  'E-Class/2019',\n",
       "  'E-Class/2020',\n",
       "  'S-Class/2017',\n",
       "  'S-Class/2018'],\n",
       " '현대': ['그랜저/2017',\n",
       "  '그랜저/2018',\n",
       "  '그랜저/2019',\n",
       "  '그랜저/2020',\n",
       "  '그랜저/2021',\n",
       "  '베뉴/2020',\n",
       "  '스타렉스/2017',\n",
       "  '스타렉스/2018',\n",
       "  '스타렉스/2019',\n",
       "  '스타렉스/2020',\n",
       "  '싼타페/2017',\n",
       "  '싼타페/2018',\n",
       "  '싼타페/2019',\n",
       "  '싼타페/2020',\n",
       "  '쏘나타/2017',\n",
       "  '쏘나타/2018',\n",
       "  '쏘나타/2019',\n",
       "  '쏘나타/2020',\n",
       "  '쏘나타/2021',\n",
       "  '아반떼/2017',\n",
       "  '아반떼/2018',\n",
       "  '아반떼/2019',\n",
       "  '아반떼/2020',\n",
       "  '아반떼/2021',\n",
       "  '코나/2018',\n",
       "  '코나/2019',\n",
       "  '코나/2020',\n",
       "  '투싼/2017',\n",
       "  '투싼/2018',\n",
       "  '투싼/2019',\n",
       "  '투싼/2020',\n",
       "  '팰리세이드/2019',\n",
       "  '팰리세이드/2020',\n",
       "  '팰리세이드/2021',\n",
       "  '포터2/2017'],\n",
       " '기아': ['K3/2017',\n",
       "  'K3/2018',\n",
       "  'K3/2019',\n",
       "  'K3/2020',\n",
       "  'K3/2021',\n",
       "  'K5/2017',\n",
       "  'K5/2018',\n",
       "  'K5/2019',\n",
       "  'K5/2020',\n",
       "  'K7/2017',\n",
       "  'K7/2018',\n",
       "  'K7/2019',\n",
       "  'K7/2020',\n",
       "  'K9/2019',\n",
       "  'K9/2020',\n",
       "  'K9/2021',\n",
       "  '니로/2017',\n",
       "  '니로/2018',\n",
       "  '니로/2019',\n",
       "  '니로/2020',\n",
       "  '레이/2017',\n",
       "  '레이/2018',\n",
       "  '레이/2019',\n",
       "  '레이/2020',\n",
       "  '모닝/2017',\n",
       "  '모닝/2018',\n",
       "  '모닝/2019',\n",
       "  '모닝/2020',\n",
       "  '모닝/2021',\n",
       "  '모하비/2017',\n",
       "  '모하비/2018',\n",
       "  '봉고3/2017',\n",
       "  '셀토스/2021',\n",
       "  '스토닉/2018',\n",
       "  '스토닉/2019',\n",
       "  '스팅어/2018',\n",
       "  '스팅어/2019',\n",
       "  '스팅어/2020',\n",
       "  '스포티지/2017',\n",
       "  '스포티지/2018',\n",
       "  '스포티지/2019',\n",
       "  '쏘렌토/2017',\n",
       "  '쏘렌토/2018',\n",
       "  '쏘렌토/2019',\n",
       "  '쏘렌토/2020',\n",
       "  '쏘렌토/2021',\n",
       "  '카니발/2017',\n",
       "  '카니발/2018',\n",
       "  '카니발/2019',\n",
       "  '카니발/2020'],\n",
       " '제네시스': ['EQ900/2017',\n",
       "  'EQ900/2018',\n",
       "  'G70/2017',\n",
       "  'G70/2018',\n",
       "  'G70/2019',\n",
       "  'G80/2017',\n",
       "  'G80/2018',\n",
       "  'G80/2019',\n",
       "  'G80/2021',\n",
       "  'G90/2019'],\n",
       " '쉐보레': ['말리부/2017',\n",
       "  '말리부/2018',\n",
       "  '스파크/2017',\n",
       "  '스파크/2018',\n",
       "  '스파크/2019',\n",
       "  '스파크/2020',\n",
       "  '올란도/2018',\n",
       "  '크루즈/2017'],\n",
       " 'BMW': ['3시리즈/2017', '3시리즈/2018', '5시리즈/2017', '5시리즈/2018'],\n",
       " '쌍용': ['G4렉스턴/2018', '렉스턴스포츠/2019', '티볼리/2017', '티볼리/2018', '티볼리/2019'],\n",
       " '르노삼성': ['QM3/2017',\n",
       "  'QM6/2017',\n",
       "  'QM6/2018',\n",
       "  'QM6/2019',\n",
       "  'QM6/2020',\n",
       "  'SM3/2018',\n",
       "  'SM5/2017',\n",
       "  'SM6/2017',\n",
       "  'SM6/2018',\n",
       "  'SM6/2019'],\n",
       " '포드': ['익스플로러/2017', '익스플로러/2018'],\n",
       " '아우디': ['A6/2017'],\n",
       " '랜드로버': ['레인지로버/2017'],\n",
       " '폭스바겐': ['티구안/2017']}"
      ]
     },
     "execution_count": 7,
     "metadata": {},
     "output_type": "execute_result"
    }
   ],
   "source": [
    "car_com = []\n",
    "for i,label in enumerate(labels):\n",
    "    company = label.split('/')[0]\n",
    "    if company not in car_com:\n",
    "        car_com.append(company)\n",
    "car_com = dict.fromkeys(car_com)\n",
    "    \n",
    "for i,label in enumerate(labels):\n",
    "    company = label.split('/',1)[0]\n",
    "    car_com[company] = []\n",
    "\n",
    "for i,label in enumerate(labels):\n",
    "    company = label.split('/',1)[0]\n",
    "    value = label.split('/',1)[1]\n",
    "    car_com[company].append(value)\n",
    "    car_com[company].sort()\n",
    "    \n",
    "car_com"
   ]
  },
  {
   "cell_type": "code",
   "execution_count": 6,
   "id": "06bdb3a1-d6e5-470e-8895-f3622f6d36f4",
   "metadata": {},
   "outputs": [
    {
     "data": {
      "text/html": [
       "<style>#sk-container-id-1 {color: black;background-color: white;}#sk-container-id-1 pre{padding: 0;}#sk-container-id-1 div.sk-toggleable {background-color: white;}#sk-container-id-1 label.sk-toggleable__label {cursor: pointer;display: block;width: 100%;margin-bottom: 0;padding: 0.3em;box-sizing: border-box;text-align: center;}#sk-container-id-1 label.sk-toggleable__label-arrow:before {content: \"▸\";float: left;margin-right: 0.25em;color: #696969;}#sk-container-id-1 label.sk-toggleable__label-arrow:hover:before {color: black;}#sk-container-id-1 div.sk-estimator:hover label.sk-toggleable__label-arrow:before {color: black;}#sk-container-id-1 div.sk-toggleable__content {max-height: 0;max-width: 0;overflow: hidden;text-align: left;background-color: #f0f8ff;}#sk-container-id-1 div.sk-toggleable__content pre {margin: 0.2em;color: black;border-radius: 0.25em;background-color: #f0f8ff;}#sk-container-id-1 input.sk-toggleable__control:checked~div.sk-toggleable__content {max-height: 200px;max-width: 100%;overflow: auto;}#sk-container-id-1 input.sk-toggleable__control:checked~label.sk-toggleable__label-arrow:before {content: \"▾\";}#sk-container-id-1 div.sk-estimator input.sk-toggleable__control:checked~label.sk-toggleable__label {background-color: #d4ebff;}#sk-container-id-1 div.sk-label input.sk-toggleable__control:checked~label.sk-toggleable__label {background-color: #d4ebff;}#sk-container-id-1 input.sk-hidden--visually {border: 0;clip: rect(1px 1px 1px 1px);clip: rect(1px, 1px, 1px, 1px);height: 1px;margin: -1px;overflow: hidden;padding: 0;position: absolute;width: 1px;}#sk-container-id-1 div.sk-estimator {font-family: monospace;background-color: #f0f8ff;border: 1px dotted black;border-radius: 0.25em;box-sizing: border-box;margin-bottom: 0.5em;}#sk-container-id-1 div.sk-estimator:hover {background-color: #d4ebff;}#sk-container-id-1 div.sk-parallel-item::after {content: \"\";width: 100%;border-bottom: 1px solid gray;flex-grow: 1;}#sk-container-id-1 div.sk-label:hover label.sk-toggleable__label {background-color: #d4ebff;}#sk-container-id-1 div.sk-serial::before {content: \"\";position: absolute;border-left: 1px solid gray;box-sizing: border-box;top: 0;bottom: 0;left: 50%;z-index: 0;}#sk-container-id-1 div.sk-serial {display: flex;flex-direction: column;align-items: center;background-color: white;padding-right: 0.2em;padding-left: 0.2em;position: relative;}#sk-container-id-1 div.sk-item {position: relative;z-index: 1;}#sk-container-id-1 div.sk-parallel {display: flex;align-items: stretch;justify-content: center;background-color: white;position: relative;}#sk-container-id-1 div.sk-item::before, #sk-container-id-1 div.sk-parallel-item::before {content: \"\";position: absolute;border-left: 1px solid gray;box-sizing: border-box;top: 0;bottom: 0;left: 50%;z-index: -1;}#sk-container-id-1 div.sk-parallel-item {display: flex;flex-direction: column;z-index: 1;position: relative;background-color: white;}#sk-container-id-1 div.sk-parallel-item:first-child::after {align-self: flex-end;width: 50%;}#sk-container-id-1 div.sk-parallel-item:last-child::after {align-self: flex-start;width: 50%;}#sk-container-id-1 div.sk-parallel-item:only-child::after {width: 0;}#sk-container-id-1 div.sk-dashed-wrapped {border: 1px dashed gray;margin: 0 0.4em 0.5em 0.4em;box-sizing: border-box;padding-bottom: 0.4em;background-color: white;}#sk-container-id-1 div.sk-label label {font-family: monospace;font-weight: bold;display: inline-block;line-height: 1.2em;}#sk-container-id-1 div.sk-label-container {text-align: center;}#sk-container-id-1 div.sk-container {/* jupyter's `normalize.less` sets `[hidden] { display: none; }` but bootstrap.min.css set `[hidden] { display: none !important; }` so we also need the `!important` here to be able to override the default hidden behavior on the sphinx rendered scikit-learn.org. See: https://github.com/scikit-learn/scikit-learn/issues/21755 */display: inline-block !important;position: relative;}#sk-container-id-1 div.sk-text-repr-fallback {display: none;}</style><div id=\"sk-container-id-1\" class=\"sk-top-container\"><div class=\"sk-text-repr-fallback\"><pre>LabelEncoder()</pre><b>In a Jupyter environment, please rerun this cell to show the HTML representation or trust the notebook. <br />On GitHub, the HTML representation is unable to render, please try loading this page with nbviewer.org.</b></div><div class=\"sk-container\" hidden><div class=\"sk-item\"><div class=\"sk-estimator sk-toggleable\"><input class=\"sk-toggleable__control sk-hidden--visually\" id=\"sk-estimator-id-1\" type=\"checkbox\" checked><label for=\"sk-estimator-id-1\" class=\"sk-toggleable__label sk-toggleable__label-arrow\">LabelEncoder</label><div class=\"sk-toggleable__content\"><pre>LabelEncoder()</pre></div></div></div></div></div>"
      ],
      "text/plain": [
       "LabelEncoder()"
      ]
     },
     "execution_count": 6,
     "metadata": {},
     "output_type": "execute_result"
    }
   ],
   "source": [
    "label_value = train['label'].values\n",
    "# 라벨인코더 선언 및 Fitting\n",
    "le = LabelEncoder()\n",
    "le.fit(label_value)"
   ]
  },
  {
   "cell_type": "code",
   "execution_count": 53,
   "id": "3e6ae11a-9cb3-4575-ba1c-46e74d2835f2",
   "metadata": {},
   "outputs": [
    {
     "data": {
      "text/plain": [
       "array(['BMW/3시리즈/2017', 'BMW/3시리즈/2018', 'BMW/5시리즈/2017', 'BMW/5시리즈/2018',\n",
       "       '기아/K3/2017', '기아/K3/2018', '기아/K3/2019', '기아/K3/2020',\n",
       "       '기아/K3/2021', '기아/K5/2017', '기아/K5/2018', '기아/K5/2019',\n",
       "       '기아/K5/2020', '기아/K7/2017', '기아/K7/2018', '기아/K7/2019',\n",
       "       '기아/K7/2020', '기아/K9/2019', '기아/K9/2020', '기아/K9/2021',\n",
       "       '기아/니로/2017', '기아/니로/2018', '기아/니로/2019', '기아/니로/2020',\n",
       "       '기아/레이/2017', '기아/레이/2018', '기아/레이/2019', '기아/레이/2020',\n",
       "       '기아/모닝/2017', '기아/모닝/2018', '기아/모닝/2019', '기아/모닝/2020',\n",
       "       '기아/모닝/2021', '기아/모하비/2017', '기아/모하비/2018', '기아/봉고3/2017',\n",
       "       '기아/셀토스/2021', '기아/스토닉/2018', '기아/스토닉/2019', '기아/스팅어/2018',\n",
       "       '기아/스팅어/2019', '기아/스팅어/2020', '기아/스포티지/2017', '기아/스포티지/2018',\n",
       "       '기아/스포티지/2019', '기아/쏘렌토/2017', '기아/쏘렌토/2018', '기아/쏘렌토/2019',\n",
       "       '기아/쏘렌토/2020', '기아/쏘렌토/2021', '기아/카니발/2017', '기아/카니발/2018',\n",
       "       '기아/카니발/2019', '기아/카니발/2020', '랜드로버/레인지로버/2017', '르노삼성/QM3/2017',\n",
       "       '르노삼성/QM6/2017', '르노삼성/QM6/2018', '르노삼성/QM6/2019', '르노삼성/QM6/2020',\n",
       "       '르노삼성/SM3/2018', '르노삼성/SM5/2017', '르노삼성/SM6/2017', '르노삼성/SM6/2018',\n",
       "       '르노삼성/SM6/2019', '벤츠/C-Class/2017', '벤츠/E-Class/2017',\n",
       "       '벤츠/E-Class/2018', '벤츠/E-Class/2019', '벤츠/E-Class/2020',\n",
       "       '벤츠/S-Class/2017', '벤츠/S-Class/2018', '쉐보레/말리부/2017',\n",
       "       '쉐보레/말리부/2018', '쉐보레/스파크/2017', '쉐보레/스파크/2018', '쉐보레/스파크/2019',\n",
       "       '쉐보레/스파크/2020', '쉐보레/올란도/2018', '쉐보레/크루즈/2017', '쌍용/G4렉스턴/2018',\n",
       "       '쌍용/렉스턴스포츠/2019', '쌍용/티볼리/2017', '쌍용/티볼리/2018', '쌍용/티볼리/2019',\n",
       "       '아우디/A6/2017', '제네시스/EQ900/2017', '제네시스/EQ900/2018',\n",
       "       '제네시스/G70/2017', '제네시스/G70/2018', '제네시스/G70/2019', '제네시스/G80/2017',\n",
       "       '제네시스/G80/2018', '제네시스/G80/2019', '제네시스/G80/2021', '제네시스/G90/2019',\n",
       "       '포드/익스플로러/2017', '포드/익스플로러/2018', '폭스바겐/티구안/2017', '현대/그랜저/2017',\n",
       "       '현대/그랜저/2018', '현대/그랜저/2019', '현대/그랜저/2020', '현대/그랜저/2021',\n",
       "       '현대/베뉴/2020', '현대/스타렉스/2017', '현대/스타렉스/2018', '현대/스타렉스/2019',\n",
       "       '현대/스타렉스/2020', '현대/싼타페/2017', '현대/싼타페/2018', '현대/싼타페/2019',\n",
       "       '현대/싼타페/2020', '현대/쏘나타/2017', '현대/쏘나타/2018', '현대/쏘나타/2019',\n",
       "       '현대/쏘나타/2020', '현대/쏘나타/2021', '현대/아반떼/2017', '현대/아반떼/2018',\n",
       "       '현대/아반떼/2019', '현대/아반떼/2020', '현대/아반떼/2021', '현대/코나/2018',\n",
       "       '현대/코나/2019', '현대/코나/2020', '현대/투싼/2017', '현대/투싼/2018',\n",
       "       '현대/투싼/2019', '현대/투싼/2020', '현대/팰리세이드/2019', '현대/팰리세이드/2020',\n",
       "       '현대/팰리세이드/2021', '현대/포터2/2017'], dtype=object)"
      ]
     },
     "execution_count": 53,
     "metadata": {},
     "output_type": "execute_result"
    }
   ],
   "source": [
    "le.classes_\n",
    "\n"
   ]
  },
  {
   "cell_type": "code",
   "execution_count": 8,
   "id": "57cd0bb8",
   "metadata": {},
   "outputs": [
    {
     "name": "stdout",
     "output_type": "stream",
     "text": [
      "Images:  1897\n",
      "Image_labels: 1897\n"
     ]
    }
   ],
   "source": [
    "path = '../Data/car_dataset_sample/'\n",
    "#path = '../Data/car_dataset/'\n",
    "#path = '../../disk/data/car_dataset/'\n",
    "img_names = []\n",
    "img_labels = []\n",
    "\n",
    "for folder, subfolders, filenames in os.walk(path):\n",
    "    for img in filenames:\n",
    "        img_names.append(folder+'/'+img)\n",
    "        img_labels.append(img[9:18])\n",
    "\n",
    "print('Images: ',len(img_names))\n",
    "print(\"Image_labels:\", len(img_labels))"
   ]
  },
  {
   "cell_type": "code",
   "execution_count": 9,
   "id": "fd68589d-afce-48e1-af2a-964dbcafe013",
   "metadata": {},
   "outputs": [
    {
     "data": {
      "text/html": [
       "<div>\n",
       "<style scoped>\n",
       "    .dataframe tbody tr th:only-of-type {\n",
       "        vertical-align: middle;\n",
       "    }\n",
       "\n",
       "    .dataframe tbody tr th {\n",
       "        vertical-align: top;\n",
       "    }\n",
       "\n",
       "    .dataframe thead th {\n",
       "        text-align: right;\n",
       "    }\n",
       "</style>\n",
       "<table border=\"1\" class=\"dataframe\">\n",
       "  <thead>\n",
       "    <tr style=\"text-align: right;\">\n",
       "      <th></th>\n",
       "      <th>image_id</th>\n",
       "      <th>dir</th>\n",
       "      <th>label</th>\n",
       "    </tr>\n",
       "  </thead>\n",
       "  <tbody>\n",
       "    <tr>\n",
       "      <th>0</th>\n",
       "      <td>C_211111_SS_097_21_RE_B_T_03_013.jpg</td>\n",
       "      <td>../Data/car_dataset_sample/SS_쌍용/097_티볼리/2021_...</td>\n",
       "      <td>쌍용/티볼리/2021</td>\n",
       "    </tr>\n",
       "    <tr>\n",
       "      <th>1</th>\n",
       "      <td>C_211111_SS_097_21_RE_B_P_01_031.jpg</td>\n",
       "      <td>../Data/car_dataset_sample/SS_쌍용/097_티볼리/2021_...</td>\n",
       "      <td>쌍용/티볼리/2021</td>\n",
       "    </tr>\n",
       "    <tr>\n",
       "      <th>2</th>\n",
       "      <td>C_211111_SS_097_21_RE_B_P_01_058.jpg</td>\n",
       "      <td>../Data/car_dataset_sample/SS_쌍용/097_티볼리/2021_...</td>\n",
       "      <td>쌍용/티볼리/2021</td>\n",
       "    </tr>\n",
       "    <tr>\n",
       "      <th>3</th>\n",
       "      <td>C_210914_SS_097_20_WH_A_P_01_062.jpg</td>\n",
       "      <td>../Data/car_dataset_sample/SS_쌍용/097_티볼리/2020_...</td>\n",
       "      <td>쌍용/티볼리/2020</td>\n",
       "    </tr>\n",
       "    <tr>\n",
       "      <th>4</th>\n",
       "      <td>C_210914_SS_097_20_WH_A_T_02_003.jpg</td>\n",
       "      <td>../Data/car_dataset_sample/SS_쌍용/097_티볼리/2020_...</td>\n",
       "      <td>쌍용/티볼리/2020</td>\n",
       "    </tr>\n",
       "    <tr>\n",
       "      <th>...</th>\n",
       "      <td>...</td>\n",
       "      <td>...</td>\n",
       "      <td>...</td>\n",
       "    </tr>\n",
       "    <tr>\n",
       "      <th>1892</th>\n",
       "      <td>C_211001_KG_044_17_BL_A_P_01_045.jpg</td>\n",
       "      <td>../Data/car_dataset_sample/KG_한국지엠/044_다마스/201...</td>\n",
       "      <td>한국지엠/다마스/2017</td>\n",
       "    </tr>\n",
       "    <tr>\n",
       "      <th>1893</th>\n",
       "      <td>C_211001_KG_044_17_BL_A_P_01_050.jpg</td>\n",
       "      <td>../Data/car_dataset_sample/KG_한국지엠/044_다마스/201...</td>\n",
       "      <td>한국지엠/다마스/2017</td>\n",
       "    </tr>\n",
       "    <tr>\n",
       "      <th>1894</th>\n",
       "      <td>C_210930_KG_044_21_WH_A_P_01_036.jpg</td>\n",
       "      <td>../Data/car_dataset_sample/KG_한국지엠/044_다마스/202...</td>\n",
       "      <td>한국지엠/다마스/2021</td>\n",
       "    </tr>\n",
       "    <tr>\n",
       "      <th>1895</th>\n",
       "      <td>C_210930_KG_044_21_WH_A_P_01_033.jpg</td>\n",
       "      <td>../Data/car_dataset_sample/KG_한국지엠/044_다마스/202...</td>\n",
       "      <td>한국지엠/다마스/2021</td>\n",
       "    </tr>\n",
       "    <tr>\n",
       "      <th>1896</th>\n",
       "      <td>C_210930_KG_044_21_WH_A_P_01_026.jpg</td>\n",
       "      <td>../Data/car_dataset_sample/KG_한국지엠/044_다마스/202...</td>\n",
       "      <td>한국지엠/다마스/2021</td>\n",
       "    </tr>\n",
       "  </tbody>\n",
       "</table>\n",
       "<p>1897 rows × 3 columns</p>\n",
       "</div>"
      ],
      "text/plain": [
       "                                  image_id  \\\n",
       "0     C_211111_SS_097_21_RE_B_T_03_013.jpg   \n",
       "1     C_211111_SS_097_21_RE_B_P_01_031.jpg   \n",
       "2     C_211111_SS_097_21_RE_B_P_01_058.jpg   \n",
       "3     C_210914_SS_097_20_WH_A_P_01_062.jpg   \n",
       "4     C_210914_SS_097_20_WH_A_T_02_003.jpg   \n",
       "...                                    ...   \n",
       "1892  C_211001_KG_044_17_BL_A_P_01_045.jpg   \n",
       "1893  C_211001_KG_044_17_BL_A_P_01_050.jpg   \n",
       "1894  C_210930_KG_044_21_WH_A_P_01_036.jpg   \n",
       "1895  C_210930_KG_044_21_WH_A_P_01_033.jpg   \n",
       "1896  C_210930_KG_044_21_WH_A_P_01_026.jpg   \n",
       "\n",
       "                                                    dir          label  \n",
       "0     ../Data/car_dataset_sample/SS_쌍용/097_티볼리/2021_...    쌍용/티볼리/2021  \n",
       "1     ../Data/car_dataset_sample/SS_쌍용/097_티볼리/2021_...    쌍용/티볼리/2021  \n",
       "2     ../Data/car_dataset_sample/SS_쌍용/097_티볼리/2021_...    쌍용/티볼리/2021  \n",
       "3     ../Data/car_dataset_sample/SS_쌍용/097_티볼리/2020_...    쌍용/티볼리/2020  \n",
       "4     ../Data/car_dataset_sample/SS_쌍용/097_티볼리/2020_...    쌍용/티볼리/2020  \n",
       "...                                                 ...            ...  \n",
       "1892  ../Data/car_dataset_sample/KG_한국지엠/044_다마스/201...  한국지엠/다마스/2017  \n",
       "1893  ../Data/car_dataset_sample/KG_한국지엠/044_다마스/201...  한국지엠/다마스/2017  \n",
       "1894  ../Data/car_dataset_sample/KG_한국지엠/044_다마스/202...  한국지엠/다마스/2021  \n",
       "1895  ../Data/car_dataset_sample/KG_한국지엠/044_다마스/202...  한국지엠/다마스/2021  \n",
       "1896  ../Data/car_dataset_sample/KG_한국지엠/044_다마스/202...  한국지엠/다마스/2021  \n",
       "\n",
       "[1897 rows x 3 columns]"
      ]
     },
     "execution_count": 9,
     "metadata": {},
     "output_type": "execute_result"
    }
   ],
   "source": [
    "\n",
    "test_df = pd.DataFrame(img_names, columns=['image_id'])\n",
    "test_df['dir'] = test_df['image_id'].apply(lambda x: os.path.dirname(x))\n",
    "test_df['image_id'] = test_df['image_id'].apply(lambda x: os.path.basename(x))\n",
    "test_df['label'] = img_labels\n",
    "\n",
    "label_value = []\n",
    "for i, di in enumerate(test_df['dir']):\n",
    "    dir_l = di[30:-7].split('_')\n",
    "    dir_v = dir_l[0][:-3] + dir_l[1]\n",
    "    label_value.append(dir_v)\n",
    "\n",
    "# label_value\n",
    "test_df['label'] = label_value\n",
    "test = test_df\n",
    "test"
   ]
  },
  {
   "cell_type": "code",
   "execution_count": 15,
   "id": "f087eb8c-7dc9-4a94-aa90-d45fe7f27932",
   "metadata": {},
   "outputs": [
    {
     "ename": "KeyError",
     "evalue": "'label'",
     "output_type": "error",
     "traceback": [
      "\u001b[0;31m---------------------------------------------------------------------------\u001b[0m",
      "\u001b[0;31mKeyError\u001b[0m                                  Traceback (most recent call last)",
      "File \u001b[0;32m~/miniconda3/envs/torch/lib/python3.10/site-packages/pandas/core/indexes/base.py:3629\u001b[0m, in \u001b[0;36mIndex.get_loc\u001b[0;34m(self, key, method, tolerance)\u001b[0m\n\u001b[1;32m   3628\u001b[0m \u001b[38;5;28;01mtry\u001b[39;00m:\n\u001b[0;32m-> 3629\u001b[0m     \u001b[38;5;28;01mreturn\u001b[39;00m \u001b[38;5;28;43mself\u001b[39;49m\u001b[38;5;241;43m.\u001b[39;49m\u001b[43m_engine\u001b[49m\u001b[38;5;241;43m.\u001b[39;49m\u001b[43mget_loc\u001b[49m\u001b[43m(\u001b[49m\u001b[43mcasted_key\u001b[49m\u001b[43m)\u001b[49m\n\u001b[1;32m   3630\u001b[0m \u001b[38;5;28;01mexcept\u001b[39;00m \u001b[38;5;167;01mKeyError\u001b[39;00m \u001b[38;5;28;01mas\u001b[39;00m err:\n",
      "File \u001b[0;32m~/miniconda3/envs/torch/lib/python3.10/site-packages/pandas/_libs/index.pyx:136\u001b[0m, in \u001b[0;36mpandas._libs.index.IndexEngine.get_loc\u001b[0;34m()\u001b[0m\n",
      "File \u001b[0;32m~/miniconda3/envs/torch/lib/python3.10/site-packages/pandas/_libs/index.pyx:163\u001b[0m, in \u001b[0;36mpandas._libs.index.IndexEngine.get_loc\u001b[0;34m()\u001b[0m\n",
      "File \u001b[0;32mpandas/_libs/hashtable_class_helper.pxi:5198\u001b[0m, in \u001b[0;36mpandas._libs.hashtable.PyObjectHashTable.get_item\u001b[0;34m()\u001b[0m\n",
      "File \u001b[0;32mpandas/_libs/hashtable_class_helper.pxi:5206\u001b[0m, in \u001b[0;36mpandas._libs.hashtable.PyObjectHashTable.get_item\u001b[0;34m()\u001b[0m\n",
      "\u001b[0;31mKeyError\u001b[0m: 'label'",
      "\nThe above exception was the direct cause of the following exception:\n",
      "\u001b[0;31mKeyError\u001b[0m                                  Traceback (most recent call last)",
      "Input \u001b[0;32mIn [15]\u001b[0m, in \u001b[0;36m<cell line: 2>\u001b[0;34m()\u001b[0m\n\u001b[1;32m      1\u001b[0m \u001b[38;5;66;03m# 해당 라벨과 일치하는 인덱스(열) 삭제\u001b[39;00m\n\u001b[1;32m      2\u001b[0m \u001b[38;5;28;01mfor\u001b[39;00m i \u001b[38;5;129;01min\u001b[39;00m \u001b[38;5;28mrange\u001b[39m(\u001b[38;5;28mlen\u001b[39m(low_data)):\n\u001b[0;32m----> 3\u001b[0m     idx \u001b[38;5;241m=\u001b[39m test[\u001b[43mtest\u001b[49m\u001b[43m[\u001b[49m\u001b[38;5;124;43m'\u001b[39;49m\u001b[38;5;124;43mlabel\u001b[39;49m\u001b[38;5;124;43m'\u001b[39;49m\u001b[43m]\u001b[49m \u001b[38;5;241m==\u001b[39m low_data[i]]\u001b[38;5;241m.\u001b[39mindex\n\u001b[1;32m      4\u001b[0m     test\u001b[38;5;241m.\u001b[39mdrop(idx, inplace\u001b[38;5;241m=\u001b[39m\u001b[38;5;28;01mTrue\u001b[39;00m)\n\u001b[1;32m      5\u001b[0m test\u001b[38;5;241m.\u001b[39mreset_index(inplace\u001b[38;5;241m=\u001b[39m\u001b[38;5;28;01mTrue\u001b[39;00m, drop\u001b[38;5;241m=\u001b[39m\u001b[38;5;28;01mTrue\u001b[39;00m)\n",
      "File \u001b[0;32m~/miniconda3/envs/torch/lib/python3.10/site-packages/pandas/core/frame.py:3505\u001b[0m, in \u001b[0;36mDataFrame.__getitem__\u001b[0;34m(self, key)\u001b[0m\n\u001b[1;32m   3503\u001b[0m \u001b[38;5;28;01mif\u001b[39;00m \u001b[38;5;28mself\u001b[39m\u001b[38;5;241m.\u001b[39mcolumns\u001b[38;5;241m.\u001b[39mnlevels \u001b[38;5;241m>\u001b[39m \u001b[38;5;241m1\u001b[39m:\n\u001b[1;32m   3504\u001b[0m     \u001b[38;5;28;01mreturn\u001b[39;00m \u001b[38;5;28mself\u001b[39m\u001b[38;5;241m.\u001b[39m_getitem_multilevel(key)\n\u001b[0;32m-> 3505\u001b[0m indexer \u001b[38;5;241m=\u001b[39m \u001b[38;5;28;43mself\u001b[39;49m\u001b[38;5;241;43m.\u001b[39;49m\u001b[43mcolumns\u001b[49m\u001b[38;5;241;43m.\u001b[39;49m\u001b[43mget_loc\u001b[49m\u001b[43m(\u001b[49m\u001b[43mkey\u001b[49m\u001b[43m)\u001b[49m\n\u001b[1;32m   3506\u001b[0m \u001b[38;5;28;01mif\u001b[39;00m is_integer(indexer):\n\u001b[1;32m   3507\u001b[0m     indexer \u001b[38;5;241m=\u001b[39m [indexer]\n",
      "File \u001b[0;32m~/miniconda3/envs/torch/lib/python3.10/site-packages/pandas/core/indexes/base.py:3631\u001b[0m, in \u001b[0;36mIndex.get_loc\u001b[0;34m(self, key, method, tolerance)\u001b[0m\n\u001b[1;32m   3629\u001b[0m     \u001b[38;5;28;01mreturn\u001b[39;00m \u001b[38;5;28mself\u001b[39m\u001b[38;5;241m.\u001b[39m_engine\u001b[38;5;241m.\u001b[39mget_loc(casted_key)\n\u001b[1;32m   3630\u001b[0m \u001b[38;5;28;01mexcept\u001b[39;00m \u001b[38;5;167;01mKeyError\u001b[39;00m \u001b[38;5;28;01mas\u001b[39;00m err:\n\u001b[0;32m-> 3631\u001b[0m     \u001b[38;5;28;01mraise\u001b[39;00m \u001b[38;5;167;01mKeyError\u001b[39;00m(key) \u001b[38;5;28;01mfrom\u001b[39;00m \u001b[38;5;21;01merr\u001b[39;00m\n\u001b[1;32m   3632\u001b[0m \u001b[38;5;28;01mexcept\u001b[39;00m \u001b[38;5;167;01mTypeError\u001b[39;00m:\n\u001b[1;32m   3633\u001b[0m     \u001b[38;5;66;03m# If we have a listlike key, _check_indexing_error will raise\u001b[39;00m\n\u001b[1;32m   3634\u001b[0m     \u001b[38;5;66;03m#  InvalidIndexError. Otherwise we fall through and re-raise\u001b[39;00m\n\u001b[1;32m   3635\u001b[0m     \u001b[38;5;66;03m#  the TypeError.\u001b[39;00m\n\u001b[1;32m   3636\u001b[0m     \u001b[38;5;28mself\u001b[39m\u001b[38;5;241m.\u001b[39m_check_indexing_error(key)\n",
      "\u001b[0;31mKeyError\u001b[0m: 'label'"
     ]
    }
   ],
   "source": [
    "# 해당 라벨과 일치하는 인덱스(열) 삭제\n",
    "for i in range(len(low_data)):\n",
    "    idx = test[test['label'] == low_data[i]].index\n",
    "    test.drop(idx, inplace=True)\n",
    "test.reset_index(inplace=True, drop=True)\n",
    "test\n",
    "# idx"
   ]
  },
  {
   "cell_type": "code",
   "execution_count": 9,
   "id": "7d73906d-a016-4c93-bf6d-318208e13d98",
   "metadata": {},
   "outputs": [
    {
     "ename": "NameError",
     "evalue": "name 'test' is not defined",
     "output_type": "error",
     "traceback": [
      "\u001b[0;31m---------------------------------------------------------------------------\u001b[0m",
      "\u001b[0;31mNameError\u001b[0m                                 Traceback (most recent call last)",
      "Input \u001b[0;32mIn [9]\u001b[0m, in \u001b[0;36m<cell line: 2>\u001b[0;34m()\u001b[0m\n\u001b[1;32m      1\u001b[0m \u001b[38;5;66;03m# 인코딩한 데이터로 변환\u001b[39;00m\n\u001b[0;32m----> 2\u001b[0m le_encoded \u001b[38;5;241m=\u001b[39m le\u001b[38;5;241m.\u001b[39mtransform(\u001b[43mtest\u001b[49m[\u001b[38;5;124m'\u001b[39m\u001b[38;5;124mlabel\u001b[39m\u001b[38;5;124m'\u001b[39m])\n\u001b[1;32m      4\u001b[0m \u001b[38;5;66;03m#결과물을 확인하면 array 형태로 나옵니다.\u001b[39;00m\n\u001b[1;32m      5\u001b[0m \u001b[38;5;66;03m# 아래는 라벨 인코딩으로 만들어낸 데이터를 데이터 프레임으로 만들어주는 코드입니다.\u001b[39;00m\n\u001b[1;32m      6\u001b[0m new_cat \u001b[38;5;241m=\u001b[39m pd\u001b[38;5;241m.\u001b[39mDataFrame(le_encoded, columns \u001b[38;5;241m=\u001b[39m [\u001b[38;5;124m'\u001b[39m\u001b[38;5;124mresult\u001b[39m\u001b[38;5;124m'\u001b[39m])\n",
      "\u001b[0;31mNameError\u001b[0m: name 'test' is not defined"
     ]
    }
   ],
   "source": [
    "# 인코딩한 데이터로 변환\n",
    "le_encoded = le.transform(test['label'])\n",
    "\n",
    "#결과물을 확인하면 array 형태로 나옵니다.\n",
    "# 아래는 라벨 인코딩으로 만들어낸 데이터를 데이터 프레임으로 만들어주는 코드입니다.\n",
    "new_cat = pd.DataFrame(le_encoded, columns = ['result'])\n",
    "test['label'] = new_cat\n",
    "test"
   ]
  },
  {
   "cell_type": "code",
   "execution_count": 7,
   "id": "f6d37cba",
   "metadata": {},
   "outputs": [
    {
     "data": {
      "text/plain": [
       "['k3.jpg',\n",
       " 'soul.jpg',\n",
       " 'mohave.jpg',\n",
       " 'stonic.jpg',\n",
       " 'niro.jpg',\n",
       " 'sorento.jpg',\n",
       " 'stinger.jpg',\n",
       " 'seltos.jpg',\n",
       " 'ray.jpg',\n",
       " 'morning.jpg',\n",
       " 'bongo3.jpeg',\n",
       " 'k7.jpg',\n",
       " 'spotage.jpg',\n",
       " 'k5.jpg',\n",
       " 'k9.jpg']"
      ]
     },
     "execution_count": 7,
     "metadata": {},
     "output_type": "execute_result"
    }
   ],
   "source": [
    "#for whole inference (without label)\n",
    "test_imgs = os.listdir('test_data/')\n",
    "test_imgs"
   ]
  },
  {
   "cell_type": "code",
   "execution_count": 8,
   "id": "55b8595d",
   "metadata": {},
   "outputs": [],
   "source": [
    "#for whole inference (without label)\n",
    "df_test = pd.DataFrame(columns = ['image_id'])"
   ]
  },
  {
   "cell_type": "code",
   "execution_count": 9,
   "id": "ae25fb1c",
   "metadata": {},
   "outputs": [],
   "source": [
    "df_test['image_id'] = test_imgs"
   ]
  },
  {
   "cell_type": "code",
   "execution_count": 10,
   "id": "5fc93aac",
   "metadata": {},
   "outputs": [
    {
     "data": {
      "text/html": [
       "<div>\n",
       "<style scoped>\n",
       "    .dataframe tbody tr th:only-of-type {\n",
       "        vertical-align: middle;\n",
       "    }\n",
       "\n",
       "    .dataframe tbody tr th {\n",
       "        vertical-align: top;\n",
       "    }\n",
       "\n",
       "    .dataframe thead th {\n",
       "        text-align: right;\n",
       "    }\n",
       "</style>\n",
       "<table border=\"1\" class=\"dataframe\">\n",
       "  <thead>\n",
       "    <tr style=\"text-align: right;\">\n",
       "      <th></th>\n",
       "      <th>image_id</th>\n",
       "    </tr>\n",
       "  </thead>\n",
       "  <tbody>\n",
       "    <tr>\n",
       "      <th>0</th>\n",
       "      <td>k3.jpg</td>\n",
       "    </tr>\n",
       "    <tr>\n",
       "      <th>1</th>\n",
       "      <td>soul.jpg</td>\n",
       "    </tr>\n",
       "    <tr>\n",
       "      <th>2</th>\n",
       "      <td>mohave.jpg</td>\n",
       "    </tr>\n",
       "    <tr>\n",
       "      <th>3</th>\n",
       "      <td>stonic.jpg</td>\n",
       "    </tr>\n",
       "    <tr>\n",
       "      <th>4</th>\n",
       "      <td>niro.jpg</td>\n",
       "    </tr>\n",
       "  </tbody>\n",
       "</table>\n",
       "</div>"
      ],
      "text/plain": [
       "     image_id\n",
       "0      k3.jpg\n",
       "1    soul.jpg\n",
       "2  mohave.jpg\n",
       "3  stonic.jpg\n",
       "4    niro.jpg"
      ]
     },
     "execution_count": 10,
     "metadata": {},
     "output_type": "execute_result"
    }
   ],
   "source": [
    "df_test.head()"
   ]
  },
  {
   "cell_type": "code",
   "execution_count": 14,
   "id": "5ca5d5b0",
   "metadata": {},
   "outputs": [],
   "source": [
    "test = df_test.copy()"
   ]
  },
  {
   "cell_type": "code",
   "execution_count": 15,
   "id": "fe18008a",
   "metadata": {},
   "outputs": [
    {
     "data": {
      "text/plain": [
       "(15, 1)"
      ]
     },
     "execution_count": 15,
     "metadata": {},
     "output_type": "execute_result"
    }
   ],
   "source": [
    "test.shape"
   ]
  },
  {
   "cell_type": "code",
   "execution_count": 25,
   "id": "1e450ffa-7150-4d71-bdf2-06d18995db5d",
   "metadata": {},
   "outputs": [],
   "source": [
    "tst_preds.sort(axis=1)"
   ]
  },
  {
   "cell_type": "code",
   "execution_count": 47,
   "id": "a37aff19-561a-4365-8857-704546d65c93",
   "metadata": {},
   "outputs": [
    {
     "data": {
      "text/plain": [
       "array([ 8,  6, 16])"
      ]
     },
     "execution_count": 47,
     "metadata": {},
     "output_type": "execute_result"
    }
   ],
   "source": [
    "#pred_test = np.argmax(tst_preds, axis=1)\n",
    "pred_test = tst_preds[0]\n",
    "pred_test.argsort()[-3:][::-1]"
   ]
  },
  {
   "cell_type": "code",
   "execution_count": 52,
   "id": "497935a1-a436-408c-a132-88690d26d44f",
   "metadata": {},
   "outputs": [
    {
     "data": {
      "text/plain": [
       "0.00015336274"
      ]
     },
     "execution_count": 52,
     "metadata": {},
     "output_type": "execute_result"
    }
   ],
   "source": [
    "pred_test[16]"
   ]
  },
  {
   "cell_type": "code",
   "execution_count": 48,
   "id": "466625e4-d371-41d9-93fa-9eb15aeb953c",
   "metadata": {},
   "outputs": [
    {
     "data": {
      "text/plain": [
       "0.9963206"
      ]
     },
     "execution_count": 48,
     "metadata": {},
     "output_type": "execute_result"
    }
   ],
   "source": [
    "np.max(pred_test)"
   ]
  },
  {
   "cell_type": "code",
   "execution_count": 49,
   "id": "3e1e7064-5667-4b67-b1e6-19e2e01939f4",
   "metadata": {},
   "outputs": [
    {
     "data": {
      "text/plain": [
       "8"
      ]
     },
     "execution_count": 49,
     "metadata": {},
     "output_type": "execute_result"
    }
   ],
   "source": [
    "np.argmax(pred_test)"
   ]
  },
  {
   "cell_type": "code",
   "execution_count": 21,
   "id": "6aa65838-880c-43c2-bec1-683359b0354e",
   "metadata": {},
   "outputs": [
    {
     "data": {
      "text/plain": [
       "array([[2.34609227e-16, 1.00297154e-14, 1.27243669e-14, ...,\n",
       "        1.53362736e-04, 3.40515980e-03, 9.96320605e-01],\n",
       "       [2.05972067e-12, 4.37432339e-12, 5.24573484e-12, ...,\n",
       "        1.58235934e-02, 3.29564624e-02, 9.39375818e-01],\n",
       "       [1.01917430e-13, 1.09635689e-13, 1.23436580e-13, ...,\n",
       "        1.49398167e-02, 1.81223914e-01, 8.00965905e-01],\n",
       "       ...,\n",
       "       [4.31766151e-11, 9.58313359e-11, 1.66361730e-10, ...,\n",
       "        8.73116776e-02, 1.82412758e-01, 5.65053642e-01],\n",
       "       [2.75954661e-13, 1.87626780e-12, 3.19470297e-12, ...,\n",
       "        3.24063213e-03, 5.22440998e-03, 9.88071799e-01],\n",
       "       [5.52952519e-12, 1.76893597e-10, 2.73947892e-10, ...,\n",
       "        1.22849315e-01, 2.31509715e-01, 3.21604878e-01]], dtype=float32)"
      ]
     },
     "execution_count": 21,
     "metadata": {},
     "output_type": "execute_result"
    }
   ],
   "source": [
    "tst_preds"
   ]
  },
  {
   "cell_type": "code",
   "execution_count": 16,
   "id": "d54ca5dd",
   "metadata": {},
   "outputs": [
    {
     "data": {
      "text/html": [
       "<div>\n",
       "<style scoped>\n",
       "    .dataframe tbody tr th:only-of-type {\n",
       "        vertical-align: middle;\n",
       "    }\n",
       "\n",
       "    .dataframe tbody tr th {\n",
       "        vertical-align: top;\n",
       "    }\n",
       "\n",
       "    .dataframe thead th {\n",
       "        text-align: right;\n",
       "    }\n",
       "</style>\n",
       "<table border=\"1\" class=\"dataframe\">\n",
       "  <thead>\n",
       "    <tr style=\"text-align: right;\">\n",
       "      <th></th>\n",
       "      <th>image_id</th>\n",
       "    </tr>\n",
       "  </thead>\n",
       "  <tbody>\n",
       "    <tr>\n",
       "      <th>0</th>\n",
       "      <td>k3.jpg</td>\n",
       "    </tr>\n",
       "    <tr>\n",
       "      <th>1</th>\n",
       "      <td>soul.jpg</td>\n",
       "    </tr>\n",
       "    <tr>\n",
       "      <th>2</th>\n",
       "      <td>mohave.jpg</td>\n",
       "    </tr>\n",
       "    <tr>\n",
       "      <th>3</th>\n",
       "      <td>stonic.jpg</td>\n",
       "    </tr>\n",
       "    <tr>\n",
       "      <th>4</th>\n",
       "      <td>niro.jpg</td>\n",
       "    </tr>\n",
       "    <tr>\n",
       "      <th>5</th>\n",
       "      <td>sorento.jpg</td>\n",
       "    </tr>\n",
       "    <tr>\n",
       "      <th>6</th>\n",
       "      <td>stinger.jpg</td>\n",
       "    </tr>\n",
       "    <tr>\n",
       "      <th>7</th>\n",
       "      <td>seltos.jpg</td>\n",
       "    </tr>\n",
       "    <tr>\n",
       "      <th>8</th>\n",
       "      <td>ray.jpg</td>\n",
       "    </tr>\n",
       "    <tr>\n",
       "      <th>9</th>\n",
       "      <td>morning.jpg</td>\n",
       "    </tr>\n",
       "    <tr>\n",
       "      <th>10</th>\n",
       "      <td>bongo3.jpeg</td>\n",
       "    </tr>\n",
       "    <tr>\n",
       "      <th>11</th>\n",
       "      <td>k7.jpg</td>\n",
       "    </tr>\n",
       "    <tr>\n",
       "      <th>12</th>\n",
       "      <td>spotage.jpg</td>\n",
       "    </tr>\n",
       "    <tr>\n",
       "      <th>13</th>\n",
       "      <td>k5.jpg</td>\n",
       "    </tr>\n",
       "    <tr>\n",
       "      <th>14</th>\n",
       "      <td>k9.jpg</td>\n",
       "    </tr>\n",
       "  </tbody>\n",
       "</table>\n",
       "</div>"
      ],
      "text/plain": [
       "       image_id\n",
       "0        k3.jpg\n",
       "1      soul.jpg\n",
       "2    mohave.jpg\n",
       "3    stonic.jpg\n",
       "4      niro.jpg\n",
       "5   sorento.jpg\n",
       "6   stinger.jpg\n",
       "7    seltos.jpg\n",
       "8       ray.jpg\n",
       "9   morning.jpg\n",
       "10  bongo3.jpeg\n",
       "11       k7.jpg\n",
       "12  spotage.jpg\n",
       "13       k5.jpg\n",
       "14       k9.jpg"
      ]
     },
     "execution_count": 16,
     "metadata": {},
     "output_type": "execute_result"
    }
   ],
   "source": [
    "test"
   ]
  },
  {
   "cell_type": "code",
   "execution_count": 27,
   "id": "b904135c",
   "metadata": {},
   "outputs": [],
   "source": [
    "dist.destroy_process_group()"
   ]
  },
  {
   "cell_type": "code",
   "execution_count": 56,
   "id": "16de12a1-ef12-4790-a0a4-7459561e298f",
   "metadata": {},
   "outputs": [
    {
     "data": {
      "text/plain": [
       "array(['기아/K3/2017'], dtype=object)"
      ]
     },
     "execution_count": 56,
     "metadata": {},
     "output_type": "execute_result"
    }
   ],
   "source": [
    "le.inverse_transform([4])"
   ]
  },
  {
   "cell_type": "code",
   "execution_count": null,
   "id": "fea5f3dd-b25a-4391-882f-a340e7ec7f7c",
   "metadata": {},
   "outputs": [],
   "source": [
    "%run classification_inference_efficientnet.ipynb"
   ]
  },
  {
   "cell_type": "code",
   "execution_count": 12,
   "id": "ad634dd9-95c8-4eed-8bf1-05f66f6f543e",
   "metadata": {},
   "outputs": [
    {
     "name": "stdout",
     "output_type": "stream",
     "text": [
      "['niro.jpg']\n"
     ]
    },
    {
     "name": "stderr",
     "output_type": "stream",
     "text": [
      "100%|█████████████████████████████████████████████| 1/1 [00:00<00:00, 23.77it/s]"
     ]
    },
    {
     "name": "stdout",
     "output_type": "stream",
     "text": [
      "top_3 : [ 44  23 112]\n",
      "['기아/스포티지/2019' '기아/니로/2020' '현대/싼타페/2020']\n"
     ]
    },
    {
     "name": "stderr",
     "output_type": "stream",
     "text": [
      "\n"
     ]
    }
   ],
   "source": [
    "%run prediction.py niro.jpg"
   ]
  },
  {
   "cell_type": "code",
   "execution_count": 12,
   "id": "75049f09-4b5f-4355-a8b2-789afa4a25e7",
   "metadata": {},
   "outputs": [],
   "source": [
    "dist.destroy_process_group()"
   ]
  },
  {
   "cell_type": "code",
   "execution_count": 30,
   "id": "23f26ca5-a74d-4f5a-a31b-8117bc88be47",
   "metadata": {},
   "outputs": [
    {
     "data": {
      "text/html": [
       "<div>\n",
       "<style scoped>\n",
       "    .dataframe tbody tr th:only-of-type {\n",
       "        vertical-align: middle;\n",
       "    }\n",
       "\n",
       "    .dataframe tbody tr th {\n",
       "        vertical-align: top;\n",
       "    }\n",
       "\n",
       "    .dataframe thead th {\n",
       "        text-align: right;\n",
       "    }\n",
       "</style>\n",
       "<table border=\"1\" class=\"dataframe\">\n",
       "  <thead>\n",
       "    <tr style=\"text-align: right;\">\n",
       "      <th></th>\n",
       "      <th>image_id</th>\n",
       "      <th>pred</th>\n",
       "      <th>confidence score</th>\n",
       "      <th>trans</th>\n",
       "    </tr>\n",
       "  </thead>\n",
       "  <tbody>\n",
       "    <tr>\n",
       "      <th>0</th>\n",
       "      <td>k3.jpg</td>\n",
       "      <td>8</td>\n",
       "      <td>0.996321</td>\n",
       "      <td>기아/K3/2021</td>\n",
       "    </tr>\n",
       "    <tr>\n",
       "      <th>1</th>\n",
       "      <td>soul.jpg</td>\n",
       "      <td>131</td>\n",
       "      <td>0.939376</td>\n",
       "      <td>현대/팰리세이드/2020</td>\n",
       "    </tr>\n",
       "    <tr>\n",
       "      <th>2</th>\n",
       "      <td>mohave.jpg</td>\n",
       "      <td>34</td>\n",
       "      <td>0.800966</td>\n",
       "      <td>기아/모하비/2018</td>\n",
       "    </tr>\n",
       "    <tr>\n",
       "      <th>3</th>\n",
       "      <td>stonic.jpg</td>\n",
       "      <td>37</td>\n",
       "      <td>0.855775</td>\n",
       "      <td>기아/스토닉/2018</td>\n",
       "    </tr>\n",
       "    <tr>\n",
       "      <th>4</th>\n",
       "      <td>niro.jpg</td>\n",
       "      <td>23</td>\n",
       "      <td>0.883775</td>\n",
       "      <td>기아/니로/2020</td>\n",
       "    </tr>\n",
       "    <tr>\n",
       "      <th>5</th>\n",
       "      <td>sorento.jpg</td>\n",
       "      <td>49</td>\n",
       "      <td>0.999841</td>\n",
       "      <td>기아/쏘렌토/2021</td>\n",
       "    </tr>\n",
       "    <tr>\n",
       "      <th>6</th>\n",
       "      <td>stinger.jpg</td>\n",
       "      <td>39</td>\n",
       "      <td>0.999900</td>\n",
       "      <td>기아/스팅어/2018</td>\n",
       "    </tr>\n",
       "    <tr>\n",
       "      <th>7</th>\n",
       "      <td>seltos.jpg</td>\n",
       "      <td>36</td>\n",
       "      <td>0.999951</td>\n",
       "      <td>기아/셀토스/2021</td>\n",
       "    </tr>\n",
       "    <tr>\n",
       "      <th>8</th>\n",
       "      <td>ray.jpg</td>\n",
       "      <td>24</td>\n",
       "      <td>0.998347</td>\n",
       "      <td>기아/레이/2017</td>\n",
       "    </tr>\n",
       "    <tr>\n",
       "      <th>9</th>\n",
       "      <td>morning.jpg</td>\n",
       "      <td>32</td>\n",
       "      <td>0.970845</td>\n",
       "      <td>기아/모닝/2021</td>\n",
       "    </tr>\n",
       "    <tr>\n",
       "      <th>10</th>\n",
       "      <td>bongo3.jpeg</td>\n",
       "      <td>35</td>\n",
       "      <td>0.999698</td>\n",
       "      <td>기아/봉고3/2017</td>\n",
       "    </tr>\n",
       "    <tr>\n",
       "      <th>11</th>\n",
       "      <td>k7.jpg</td>\n",
       "      <td>102</td>\n",
       "      <td>0.530541</td>\n",
       "      <td>현대/그랜저/2020</td>\n",
       "    </tr>\n",
       "    <tr>\n",
       "      <th>12</th>\n",
       "      <td>spotage.jpg</td>\n",
       "      <td>55</td>\n",
       "      <td>0.565054</td>\n",
       "      <td>르노삼성/QM3/2017</td>\n",
       "    </tr>\n",
       "    <tr>\n",
       "      <th>13</th>\n",
       "      <td>k5.jpg</td>\n",
       "      <td>66</td>\n",
       "      <td>0.988072</td>\n",
       "      <td>벤츠/E-Class/2017</td>\n",
       "    </tr>\n",
       "    <tr>\n",
       "      <th>14</th>\n",
       "      <td>k9.jpg</td>\n",
       "      <td>9</td>\n",
       "      <td>0.321605</td>\n",
       "      <td>기아/K5/2017</td>\n",
       "    </tr>\n",
       "  </tbody>\n",
       "</table>\n",
       "</div>"
      ],
      "text/plain": [
       "       image_id  pred  confidence score            trans\n",
       "0        k3.jpg     8          0.996321       기아/K3/2021\n",
       "1      soul.jpg   131          0.939376    현대/팰리세이드/2020\n",
       "2    mohave.jpg    34          0.800966      기아/모하비/2018\n",
       "3    stonic.jpg    37          0.855775      기아/스토닉/2018\n",
       "4      niro.jpg    23          0.883775       기아/니로/2020\n",
       "5   sorento.jpg    49          0.999841      기아/쏘렌토/2021\n",
       "6   stinger.jpg    39          0.999900      기아/스팅어/2018\n",
       "7    seltos.jpg    36          0.999951      기아/셀토스/2021\n",
       "8       ray.jpg    24          0.998347       기아/레이/2017\n",
       "9   morning.jpg    32          0.970845       기아/모닝/2021\n",
       "10  bongo3.jpeg    35          0.999698      기아/봉고3/2017\n",
       "11       k7.jpg   102          0.530541      현대/그랜저/2020\n",
       "12  spotage.jpg    55          0.565054    르노삼성/QM3/2017\n",
       "13       k5.jpg    66          0.988072  벤츠/E-Class/2017\n",
       "14       k9.jpg     9          0.321605       기아/K5/2017"
      ]
     },
     "execution_count": 30,
     "metadata": {},
     "output_type": "execute_result"
    }
   ],
   "source": [
    "test['trans'] = le.inverse_transform(test['pred'])\n",
    "\n",
    "# pred = []\n",
    "# for i, pr in enumerate(test['pred']):\n",
    "#     #print(pr[i])\n",
    "#     tmp = le.inverse_transform(int(pr))\n",
    "#     print(tmp)\n",
    "#     pred.append(tmp)\n",
    "# #test['pred'] = pred\n",
    "test"
   ]
  },
  {
   "cell_type": "code",
   "execution_count": 23,
   "id": "be846877-6876-4b71-9b7c-7e21dc9b1bfa",
   "metadata": {},
   "outputs": [],
   "source": [
    "test['label'] = le.inverse_transform(test['label'])"
   ]
  },
  {
   "cell_type": "code",
   "execution_count": 26,
   "id": "5641b0f8-b099-4160-a165-6c6629932016",
   "metadata": {},
   "outputs": [
    {
     "name": "stdout",
     "output_type": "stream",
     "text": [
      "0.635386119257087\n"
     ]
    }
   ],
   "source": [
    "test_acc = np.sum(test.label == test.trans) / len(test)\n",
    "#test_matrix = confusion_matrix(test['label'], test['pred'])\n",
    "print(test_acc)\n",
    "#print(test_matrix)"
   ]
  },
  {
   "cell_type": "code",
   "execution_count": 32,
   "id": "9c4e279f-1d35-4b32-9536-27871c0b2f5c",
   "metadata": {},
   "outputs": [],
   "source": [
    "del tst_preds\n",
    "torch.cuda.empty_cache()"
   ]
  },
  {
   "cell_type": "code",
   "execution_count": 24,
   "id": "67408469-3e48-4bb9-aadb-ed1f786781cd",
   "metadata": {},
   "outputs": [
    {
     "data": {
      "text/html": [
       "<div>\n",
       "<style scoped>\n",
       "    .dataframe tbody tr th:only-of-type {\n",
       "        vertical-align: middle;\n",
       "    }\n",
       "\n",
       "    .dataframe tbody tr th {\n",
       "        vertical-align: top;\n",
       "    }\n",
       "\n",
       "    .dataframe thead th {\n",
       "        text-align: right;\n",
       "    }\n",
       "</style>\n",
       "<table border=\"1\" class=\"dataframe\">\n",
       "  <thead>\n",
       "    <tr style=\"text-align: right;\">\n",
       "      <th></th>\n",
       "      <th>image_id</th>\n",
       "      <th>dir</th>\n",
       "      <th>label</th>\n",
       "      <th>pred</th>\n",
       "      <th>confidence score</th>\n",
       "      <th>trans</th>\n",
       "    </tr>\n",
       "  </thead>\n",
       "  <tbody>\n",
       "    <tr>\n",
       "      <th>0</th>\n",
       "      <td>C_210819_SS_097_18_WH_A_T_03_023.jpg</td>\n",
       "      <td>../Data/car_dataset_sample/SS_쌍용/097_티볼리/2018_...</td>\n",
       "      <td>쌍용/티볼리/2018</td>\n",
       "      <td>8.816254e-06</td>\n",
       "      <td>0.251387</td>\n",
       "      <td>포드/익스플로러/2017</td>\n",
       "    </tr>\n",
       "    <tr>\n",
       "      <th>1</th>\n",
       "      <td>C_210819_SS_097_18_WH_A_T_03_002.jpg</td>\n",
       "      <td>../Data/car_dataset_sample/SS_쌍용/097_티볼리/2018_...</td>\n",
       "      <td>쌍용/티볼리/2018</td>\n",
       "      <td>6.098955e-06</td>\n",
       "      <td>0.270263</td>\n",
       "      <td>기아/쏘렌토/2021</td>\n",
       "    </tr>\n",
       "    <tr>\n",
       "      <th>2</th>\n",
       "      <td>C_210819_SS_097_18_WH_A_P_01_001.jpg</td>\n",
       "      <td>../Data/car_dataset_sample/SS_쌍용/097_티볼리/2018_...</td>\n",
       "      <td>쌍용/티볼리/2018</td>\n",
       "      <td>1.286609e-15</td>\n",
       "      <td>1.000000</td>\n",
       "      <td>쌍용/티볼리/2018</td>\n",
       "    </tr>\n",
       "    <tr>\n",
       "      <th>3</th>\n",
       "      <td>C_211025_SS_097_18_GR_A_P_01_059.jpg</td>\n",
       "      <td>../Data/car_dataset_sample/SS_쌍용/097_티볼리/2018_...</td>\n",
       "      <td>쌍용/티볼리/2018</td>\n",
       "      <td>1.486396e-11</td>\n",
       "      <td>0.916679</td>\n",
       "      <td>쌍용/티볼리/2018</td>\n",
       "    </tr>\n",
       "    <tr>\n",
       "      <th>4</th>\n",
       "      <td>C_211025_SS_097_18_GR_A_P_01_054.jpg</td>\n",
       "      <td>../Data/car_dataset_sample/SS_쌍용/097_티볼리/2018_...</td>\n",
       "      <td>쌍용/티볼리/2018</td>\n",
       "      <td>8.903253e-14</td>\n",
       "      <td>0.856011</td>\n",
       "      <td>쌍용/티볼리/2017</td>\n",
       "    </tr>\n",
       "    <tr>\n",
       "      <th>...</th>\n",
       "      <td>...</td>\n",
       "      <td>...</td>\n",
       "      <td>...</td>\n",
       "      <td>...</td>\n",
       "      <td>...</td>\n",
       "      <td>...</td>\n",
       "    </tr>\n",
       "    <tr>\n",
       "      <th>1018</th>\n",
       "      <td>C_211124_BE_014_19_BK_C_P_01_061.jpg</td>\n",
       "      <td>../Data/car_dataset_sample/BE_벤츠/014_E-Class/2...</td>\n",
       "      <td>벤츠/E-Class/2019</td>\n",
       "      <td>4.255014e-21</td>\n",
       "      <td>1.000000</td>\n",
       "      <td>벤츠/E-Class/2019</td>\n",
       "    </tr>\n",
       "    <tr>\n",
       "      <th>1019</th>\n",
       "      <td>C_211124_BE_014_19_BK_C_P_01_023.jpg</td>\n",
       "      <td>../Data/car_dataset_sample/BE_벤츠/014_E-Class/2...</td>\n",
       "      <td>벤츠/E-Class/2019</td>\n",
       "      <td>1.170289e-17</td>\n",
       "      <td>0.957611</td>\n",
       "      <td>벤츠/E-Class/2019</td>\n",
       "    </tr>\n",
       "    <tr>\n",
       "      <th>1020</th>\n",
       "      <td>C_211112_BE_014_19_WH_C_T_03_012.jpg</td>\n",
       "      <td>../Data/car_dataset_sample/BE_벤츠/014_E-Class/2...</td>\n",
       "      <td>벤츠/E-Class/2019</td>\n",
       "      <td>2.167510e-05</td>\n",
       "      <td>0.568624</td>\n",
       "      <td>쉐보레/스파크/2018</td>\n",
       "    </tr>\n",
       "    <tr>\n",
       "      <th>1021</th>\n",
       "      <td>C_211112_BE_014_19_WH_C_T_03_010.jpg</td>\n",
       "      <td>../Data/car_dataset_sample/BE_벤츠/014_E-Class/2...</td>\n",
       "      <td>벤츠/E-Class/2019</td>\n",
       "      <td>4.478291e-03</td>\n",
       "      <td>0.302938</td>\n",
       "      <td>벤츠/E-Class/2018</td>\n",
       "    </tr>\n",
       "    <tr>\n",
       "      <th>1022</th>\n",
       "      <td>C_211112_BE_014_19_WH_C_P_01_009.jpg</td>\n",
       "      <td>../Data/car_dataset_sample/BE_벤츠/014_E-Class/2...</td>\n",
       "      <td>벤츠/E-Class/2019</td>\n",
       "      <td>3.319475e-12</td>\n",
       "      <td>0.999783</td>\n",
       "      <td>벤츠/E-Class/2020</td>\n",
       "    </tr>\n",
       "  </tbody>\n",
       "</table>\n",
       "<p>1023 rows × 6 columns</p>\n",
       "</div>"
      ],
      "text/plain": [
       "                                  image_id  \\\n",
       "0     C_210819_SS_097_18_WH_A_T_03_023.jpg   \n",
       "1     C_210819_SS_097_18_WH_A_T_03_002.jpg   \n",
       "2     C_210819_SS_097_18_WH_A_P_01_001.jpg   \n",
       "3     C_211025_SS_097_18_GR_A_P_01_059.jpg   \n",
       "4     C_211025_SS_097_18_GR_A_P_01_054.jpg   \n",
       "...                                    ...   \n",
       "1018  C_211124_BE_014_19_BK_C_P_01_061.jpg   \n",
       "1019  C_211124_BE_014_19_BK_C_P_01_023.jpg   \n",
       "1020  C_211112_BE_014_19_WH_C_T_03_012.jpg   \n",
       "1021  C_211112_BE_014_19_WH_C_T_03_010.jpg   \n",
       "1022  C_211112_BE_014_19_WH_C_P_01_009.jpg   \n",
       "\n",
       "                                                    dir            label  \\\n",
       "0     ../Data/car_dataset_sample/SS_쌍용/097_티볼리/2018_...      쌍용/티볼리/2018   \n",
       "1     ../Data/car_dataset_sample/SS_쌍용/097_티볼리/2018_...      쌍용/티볼리/2018   \n",
       "2     ../Data/car_dataset_sample/SS_쌍용/097_티볼리/2018_...      쌍용/티볼리/2018   \n",
       "3     ../Data/car_dataset_sample/SS_쌍용/097_티볼리/2018_...      쌍용/티볼리/2018   \n",
       "4     ../Data/car_dataset_sample/SS_쌍용/097_티볼리/2018_...      쌍용/티볼리/2018   \n",
       "...                                                 ...              ...   \n",
       "1018  ../Data/car_dataset_sample/BE_벤츠/014_E-Class/2...  벤츠/E-Class/2019   \n",
       "1019  ../Data/car_dataset_sample/BE_벤츠/014_E-Class/2...  벤츠/E-Class/2019   \n",
       "1020  ../Data/car_dataset_sample/BE_벤츠/014_E-Class/2...  벤츠/E-Class/2019   \n",
       "1021  ../Data/car_dataset_sample/BE_벤츠/014_E-Class/2...  벤츠/E-Class/2019   \n",
       "1022  ../Data/car_dataset_sample/BE_벤츠/014_E-Class/2...  벤츠/E-Class/2019   \n",
       "\n",
       "              pred  confidence score            trans  \n",
       "0     8.816254e-06          0.251387    포드/익스플로러/2017  \n",
       "1     6.098955e-06          0.270263      기아/쏘렌토/2021  \n",
       "2     1.286609e-15          1.000000      쌍용/티볼리/2018  \n",
       "3     1.486396e-11          0.916679      쌍용/티볼리/2018  \n",
       "4     8.903253e-14          0.856011      쌍용/티볼리/2017  \n",
       "...            ...               ...              ...  \n",
       "1018  4.255014e-21          1.000000  벤츠/E-Class/2019  \n",
       "1019  1.170289e-17          0.957611  벤츠/E-Class/2019  \n",
       "1020  2.167510e-05          0.568624     쉐보레/스파크/2018  \n",
       "1021  4.478291e-03          0.302938  벤츠/E-Class/2018  \n",
       "1022  3.319475e-12          0.999783  벤츠/E-Class/2020  \n",
       "\n",
       "[1023 rows x 6 columns]"
      ]
     },
     "execution_count": 24,
     "metadata": {},
     "output_type": "execute_result"
    }
   ],
   "source": [
    "test"
   ]
  },
  {
   "cell_type": "code",
   "execution_count": 7,
   "id": "9ca214e1",
   "metadata": {
    "scrolled": true
   },
   "outputs": [
    {
     "name": "stdout",
     "output_type": "stream",
     "text": [
      "20%_drop_efficientnet_lite0_0 0\n"
     ]
    },
    {
     "name": "stderr",
     "output_type": "stream",
     "text": [
      "100%|█████████████████████████████████████████| 119/119 [00:16<00:00,  7.15it/s]\n"
     ]
    },
    {
     "name": "stdout",
     "output_type": "stream",
     "text": [
      "0.4164470216130733\n",
      "---------------------------------------\n",
      "20%_drop_efficientnet_lite0_1 1\n"
     ]
    },
    {
     "name": "stderr",
     "output_type": "stream",
     "text": [
      "100%|█████████████████████████████████████████| 119/119 [00:13<00:00,  9.00it/s]\n"
     ]
    },
    {
     "name": "stdout",
     "output_type": "stream",
     "text": [
      "0.5482340537691092\n",
      "---------------------------------------\n",
      "20%_drop_efficientnet_lite0_10 2\n"
     ]
    },
    {
     "name": "stderr",
     "output_type": "stream",
     "text": [
      "100%|█████████████████████████████████████████| 119/119 [00:14<00:00,  8.45it/s]\n"
     ]
    },
    {
     "name": "stdout",
     "output_type": "stream",
     "text": [
      "0.7158671586715867\n",
      "---------------------------------------\n",
      "20%_drop_efficientnet_lite0_11 3\n"
     ]
    },
    {
     "name": "stderr",
     "output_type": "stream",
     "text": [
      "100%|█████████████████████████████████████████| 119/119 [00:13<00:00,  8.77it/s]\n"
     ]
    },
    {
     "name": "stdout",
     "output_type": "stream",
     "text": [
      "0.7174486030574592\n",
      "---------------------------------------\n",
      "20%_drop_efficientnet_lite0_12 4\n"
     ]
    },
    {
     "name": "stderr",
     "output_type": "stream",
     "text": [
      "100%|█████████████████████████████████████████| 119/119 [00:13<00:00,  8.83it/s]\n"
     ]
    },
    {
     "name": "stdout",
     "output_type": "stream",
     "text": [
      "0.720611491829204\n",
      "---------------------------------------\n",
      "20%_drop_efficientnet_lite0_13 5\n"
     ]
    },
    {
     "name": "stderr",
     "output_type": "stream",
     "text": [
      "100%|█████████████████████████████████████████| 119/119 [00:13<00:00,  8.93it/s]\n"
     ]
    },
    {
     "name": "stdout",
     "output_type": "stream",
     "text": [
      "0.7221929362150764\n",
      "---------------------------------------\n",
      "20%_drop_efficientnet_lite0_14 6\n"
     ]
    },
    {
     "name": "stderr",
     "output_type": "stream",
     "text": [
      "100%|█████████████████████████████████████████| 119/119 [00:13<00:00,  8.97it/s]\n"
     ]
    },
    {
     "name": "stdout",
     "output_type": "stream",
     "text": [
      "0.7395888244596732\n",
      "---------------------------------------\n",
      "20%_drop_efficientnet_lite0_15 7\n"
     ]
    },
    {
     "name": "stderr",
     "output_type": "stream",
     "text": [
      "100%|█████████████████████████████████████████| 119/119 [00:13<00:00,  8.82it/s]\n"
     ]
    },
    {
     "name": "stdout",
     "output_type": "stream",
     "text": [
      "0.7227200843437006\n",
      "---------------------------------------\n",
      "20%_drop_efficientnet_lite0_16 8\n"
     ]
    },
    {
     "name": "stderr",
     "output_type": "stream",
     "text": [
      "100%|█████████████████████████████████████████| 119/119 [00:13<00:00,  8.93it/s]\n"
     ]
    },
    {
     "name": "stdout",
     "output_type": "stream",
     "text": [
      "0.7274644175013179\n",
      "---------------------------------------\n",
      "20%_drop_efficientnet_lite0_17 9\n"
     ]
    },
    {
     "name": "stderr",
     "output_type": "stream",
     "text": [
      "100%|█████████████████████████████████████████| 119/119 [00:13<00:00,  8.87it/s]\n"
     ]
    },
    {
     "name": "stdout",
     "output_type": "stream",
     "text": [
      "0.7253558249868213\n",
      "---------------------------------------\n",
      "20%_drop_efficientnet_lite0_18 10\n"
     ]
    },
    {
     "name": "stderr",
     "output_type": "stream",
     "text": [
      "100%|█████████████████████████████████████████| 119/119 [00:13<00:00,  8.92it/s]\n"
     ]
    },
    {
     "name": "stdout",
     "output_type": "stream",
     "text": [
      "0.727991565629942\n",
      "---------------------------------------\n",
      "20%_drop_efficientnet_lite0_19 11\n"
     ]
    },
    {
     "name": "stderr",
     "output_type": "stream",
     "text": [
      "100%|█████████████████████████████████████████| 119/119 [00:13<00:00,  8.77it/s]\n"
     ]
    },
    {
     "name": "stdout",
     "output_type": "stream",
     "text": [
      "0.7216657880864523\n",
      "---------------------------------------\n",
      "20%_drop_efficientnet_lite0_2 12\n"
     ]
    },
    {
     "name": "stderr",
     "output_type": "stream",
     "text": [
      "100%|█████████████████████████████████████████| 119/119 [00:13<00:00,  8.80it/s]\n"
     ]
    },
    {
     "name": "stdout",
     "output_type": "stream",
     "text": [
      "0.6204533473906167\n",
      "---------------------------------------\n",
      "20%_drop_efficientnet_lite0_20 13\n"
     ]
    },
    {
     "name": "stderr",
     "output_type": "stream",
     "text": [
      "100%|█████████████████████████████████████████| 119/119 [00:13<00:00,  8.72it/s]\n"
     ]
    },
    {
     "name": "stdout",
     "output_type": "stream",
     "text": [
      "0.7311544544016869\n",
      "---------------------------------------\n",
      "20%_drop_efficientnet_lite0_21 14\n"
     ]
    },
    {
     "name": "stderr",
     "output_type": "stream",
     "text": [
      "100%|█████████████████████████████████████████| 119/119 [00:13<00:00,  8.96it/s]\n"
     ]
    },
    {
     "name": "stdout",
     "output_type": "stream",
     "text": [
      "0.739061676331049\n",
      "---------------------------------------\n",
      "20%_drop_efficientnet_lite0_22 15\n"
     ]
    },
    {
     "name": "stderr",
     "output_type": "stream",
     "text": [
      "100%|█████████████████████████████████████████| 119/119 [00:14<00:00,  8.49it/s]\n"
     ]
    },
    {
     "name": "stdout",
     "output_type": "stream",
     "text": [
      "0.7221929362150764\n",
      "---------------------------------------\n",
      "20%_drop_efficientnet_lite0_23 16\n"
     ]
    },
    {
     "name": "stderr",
     "output_type": "stream",
     "text": [
      "100%|█████████████████████████████████████████| 119/119 [00:13<00:00,  9.02it/s]\n"
     ]
    },
    {
     "name": "stdout",
     "output_type": "stream",
     "text": [
      "0.727991565629942\n",
      "---------------------------------------\n",
      "20%_drop_efficientnet_lite0_24 17\n"
     ]
    },
    {
     "name": "stderr",
     "output_type": "stream",
     "text": [
      "100%|█████████████████████████████████████████| 119/119 [00:13<00:00,  8.81it/s]\n"
     ]
    },
    {
     "name": "stdout",
     "output_type": "stream",
     "text": [
      "0.739061676331049\n",
      "---------------------------------------\n",
      "20%_drop_efficientnet_lite0_25 18\n"
     ]
    },
    {
     "name": "stderr",
     "output_type": "stream",
     "text": [
      "100%|█████████████████████████████████████████| 119/119 [00:13<00:00,  8.78it/s]\n"
     ]
    },
    {
     "name": "stdout",
     "output_type": "stream",
     "text": [
      "0.7416974169741697\n",
      "---------------------------------------\n",
      "20%_drop_efficientnet_lite0_26 19\n"
     ]
    },
    {
     "name": "stderr",
     "output_type": "stream",
     "text": [
      "100%|█████████████████████████████████████████| 119/119 [00:13<00:00,  8.83it/s]\n"
     ]
    },
    {
     "name": "stdout",
     "output_type": "stream",
     "text": [
      "0.7322087506589352\n",
      "---------------------------------------\n",
      "20%_drop_efficientnet_lite0_27 20\n"
     ]
    },
    {
     "name": "stderr",
     "output_type": "stream",
     "text": [
      "100%|█████████████████████████████████████████| 119/119 [00:13<00:00,  8.77it/s]\n"
     ]
    },
    {
     "name": "stdout",
     "output_type": "stream",
     "text": [
      "0.720611491829204\n",
      "---------------------------------------\n",
      "20%_drop_efficientnet_lite0_28 21\n"
     ]
    },
    {
     "name": "stderr",
     "output_type": "stream",
     "text": [
      "100%|█████████████████████████████████████████| 119/119 [00:13<00:00,  8.82it/s]\n"
     ]
    },
    {
     "name": "stdout",
     "output_type": "stream",
     "text": [
      "0.7443331576172905\n",
      "---------------------------------------\n",
      "20%_drop_efficientnet_lite0_29 22\n"
     ]
    },
    {
     "name": "stderr",
     "output_type": "stream",
     "text": [
      "100%|█████████████████████████████████████████| 119/119 [00:13<00:00,  8.86it/s]\n"
     ]
    },
    {
     "name": "stdout",
     "output_type": "stream",
     "text": [
      "0.7422245651027939\n",
      "---------------------------------------\n",
      "20%_drop_efficientnet_lite0_3 23\n"
     ]
    },
    {
     "name": "stderr",
     "output_type": "stream",
     "text": [
      "100%|█████████████████████████████████████████| 119/119 [00:13<00:00,  8.80it/s]\n"
     ]
    },
    {
     "name": "stdout",
     "output_type": "stream",
     "text": [
      "0.6568265682656826\n",
      "---------------------------------------\n",
      "20%_drop_efficientnet_lite0_4 24\n"
     ]
    },
    {
     "name": "stderr",
     "output_type": "stream",
     "text": [
      "100%|█████████████████████████████████████████| 119/119 [00:13<00:00,  8.87it/s]\n"
     ]
    },
    {
     "name": "stdout",
     "output_type": "stream",
     "text": [
      "0.6647337901950449\n",
      "---------------------------------------\n",
      "20%_drop_efficientnet_lite0_5 25\n"
     ]
    },
    {
     "name": "stderr",
     "output_type": "stream",
     "text": [
      "100%|█████████████████████████████████████████| 119/119 [00:13<00:00,  8.70it/s]\n"
     ]
    },
    {
     "name": "stdout",
     "output_type": "stream",
     "text": [
      "0.6868740115972588\n",
      "---------------------------------------\n",
      "20%_drop_efficientnet_lite0_6 26\n"
     ]
    },
    {
     "name": "stderr",
     "output_type": "stream",
     "text": [
      "100%|█████████████████████████████████████████| 119/119 [00:13<00:00,  8.64it/s]\n"
     ]
    },
    {
     "name": "stdout",
     "output_type": "stream",
     "text": [
      "0.6995255666842383\n",
      "---------------------------------------\n",
      "20%_drop_efficientnet_lite0_7 27\n"
     ]
    },
    {
     "name": "stderr",
     "output_type": "stream",
     "text": [
      "100%|█████████████████████████████████████████| 119/119 [00:13<00:00,  9.08it/s]\n"
     ]
    },
    {
     "name": "stdout",
     "output_type": "stream",
     "text": [
      "0.7026884554559831\n",
      "---------------------------------------\n",
      "20%_drop_efficientnet_lite0_8 28\n"
     ]
    },
    {
     "name": "stderr",
     "output_type": "stream",
     "text": [
      "100%|█████████████████████████████████████████| 119/119 [00:13<00:00,  8.98it/s]\n"
     ]
    },
    {
     "name": "stdout",
     "output_type": "stream",
     "text": [
      "0.7100685292567211\n",
      "---------------------------------------\n",
      "20%_drop_efficientnet_lite0_9 29\n"
     ]
    },
    {
     "name": "stderr",
     "output_type": "stream",
     "text": [
      "100%|█████████████████████████████████████████| 119/119 [00:13<00:00,  8.89it/s]\n"
     ]
    },
    {
     "name": "stdout",
     "output_type": "stream",
     "text": [
      "0.7032156035846073\n",
      "---------------------------------------\n"
     ]
    }
   ],
   "source": [
    "#model performance check by epoch\n",
    "#test_dir = '/Data/data/data_gsun/data/cecum/cecum_test_frames'\n",
    "\n",
    "list_models = os.listdir('efficientnet_lite0/')\n",
    "# list_models = os.listdir('8th_epoch_11/')\n",
    "list_models = sorted(list_models)\n",
    "box_acc = []\n",
    "box_conf = []\n",
    "for i,model in enumerate(list_models):\n",
    "    print(model, i)\n",
    "    perf = []\n",
    "    model_dir = 'efficientnet_lite0/' + model\n",
    "#     model_dir = '8th_epoch_11/' + model\n",
    "    %run classification_inference_efficientnet.ipynb\n",
    "    \n",
    "    test['pred'] = np.argmax(tst_preds, axis=1)\n",
    "    test_acc = np.sum(test.label == test.pred) / len(test)\n",
    "    test_matrix = confusion_matrix(test['label'], test['pred'])\n",
    "    box_acc.append(test_acc)\n",
    "    box_conf.append(test_matrix)\n",
    "    \n",
    "    print(test_acc)\n",
    "    #print(test_matrix)\n",
    "    print('---------------------------------------')\n",
    "    dist.destroy_process_group()\n"
   ]
  },
  {
   "cell_type": "code",
   "execution_count": 8,
   "id": "28777efb",
   "metadata": {},
   "outputs": [
    {
     "data": {
      "text/html": [
       "<div>\n",
       "<style scoped>\n",
       "    .dataframe tbody tr th:only-of-type {\n",
       "        vertical-align: middle;\n",
       "    }\n",
       "\n",
       "    .dataframe tbody tr th {\n",
       "        vertical-align: top;\n",
       "    }\n",
       "\n",
       "    .dataframe thead th {\n",
       "        text-align: right;\n",
       "    }\n",
       "</style>\n",
       "<table border=\"1\" class=\"dataframe\">\n",
       "  <thead>\n",
       "    <tr style=\"text-align: right;\">\n",
       "      <th></th>\n",
       "      <th>image_id</th>\n",
       "      <th>dir</th>\n",
       "      <th>label</th>\n",
       "      <th>pred</th>\n",
       "      <th>confidence score</th>\n",
       "    </tr>\n",
       "  </thead>\n",
       "  <tbody>\n",
       "    <tr>\n",
       "      <th>0</th>\n",
       "      <td>C_211111_SS_097_21_RE_B_T_03_013.jpg</td>\n",
       "      <td>../Data/car_dataset_sample/SS_쌍용/097_티볼리/2021_...</td>\n",
       "      <td>350</td>\n",
       "      <td>350</td>\n",
       "      <td>0.808191</td>\n",
       "    </tr>\n",
       "    <tr>\n",
       "      <th>1</th>\n",
       "      <td>C_211111_SS_097_21_RE_B_P_01_031.jpg</td>\n",
       "      <td>../Data/car_dataset_sample/SS_쌍용/097_티볼리/2021_...</td>\n",
       "      <td>350</td>\n",
       "      <td>349</td>\n",
       "      <td>0.553947</td>\n",
       "    </tr>\n",
       "    <tr>\n",
       "      <th>2</th>\n",
       "      <td>C_211111_SS_097_21_RE_B_P_01_058.jpg</td>\n",
       "      <td>../Data/car_dataset_sample/SS_쌍용/097_티볼리/2021_...</td>\n",
       "      <td>350</td>\n",
       "      <td>349</td>\n",
       "      <td>0.927482</td>\n",
       "    </tr>\n",
       "    <tr>\n",
       "      <th>3</th>\n",
       "      <td>C_210914_SS_097_20_WH_A_P_01_062.jpg</td>\n",
       "      <td>../Data/car_dataset_sample/SS_쌍용/097_티볼리/2020_...</td>\n",
       "      <td>349</td>\n",
       "      <td>31</td>\n",
       "      <td>0.864332</td>\n",
       "    </tr>\n",
       "    <tr>\n",
       "      <th>4</th>\n",
       "      <td>C_210914_SS_097_20_WH_A_T_02_003.jpg</td>\n",
       "      <td>../Data/car_dataset_sample/SS_쌍용/097_티볼리/2020_...</td>\n",
       "      <td>349</td>\n",
       "      <td>348</td>\n",
       "      <td>0.638279</td>\n",
       "    </tr>\n",
       "    <tr>\n",
       "      <th>...</th>\n",
       "      <td>...</td>\n",
       "      <td>...</td>\n",
       "      <td>...</td>\n",
       "      <td>...</td>\n",
       "      <td>...</td>\n",
       "    </tr>\n",
       "    <tr>\n",
       "      <th>1892</th>\n",
       "      <td>C_211001_KG_044_17_BL_A_P_01_045.jpg</td>\n",
       "      <td>../Data/car_dataset_sample/KG_한국지엠/044_다마스/201...</td>\n",
       "      <td>194</td>\n",
       "      <td>194</td>\n",
       "      <td>1.000000</td>\n",
       "    </tr>\n",
       "    <tr>\n",
       "      <th>1893</th>\n",
       "      <td>C_211001_KG_044_17_BL_A_P_01_050.jpg</td>\n",
       "      <td>../Data/car_dataset_sample/KG_한국지엠/044_다마스/201...</td>\n",
       "      <td>194</td>\n",
       "      <td>194</td>\n",
       "      <td>0.999248</td>\n",
       "    </tr>\n",
       "    <tr>\n",
       "      <th>1894</th>\n",
       "      <td>C_210930_KG_044_21_WH_A_P_01_036.jpg</td>\n",
       "      <td>../Data/car_dataset_sample/KG_한국지엠/044_다마스/202...</td>\n",
       "      <td>198</td>\n",
       "      <td>198</td>\n",
       "      <td>1.000000</td>\n",
       "    </tr>\n",
       "    <tr>\n",
       "      <th>1895</th>\n",
       "      <td>C_210930_KG_044_21_WH_A_P_01_033.jpg</td>\n",
       "      <td>../Data/car_dataset_sample/KG_한국지엠/044_다마스/202...</td>\n",
       "      <td>198</td>\n",
       "      <td>198</td>\n",
       "      <td>0.999999</td>\n",
       "    </tr>\n",
       "    <tr>\n",
       "      <th>1896</th>\n",
       "      <td>C_210930_KG_044_21_WH_A_P_01_026.jpg</td>\n",
       "      <td>../Data/car_dataset_sample/KG_한국지엠/044_다마스/202...</td>\n",
       "      <td>198</td>\n",
       "      <td>194</td>\n",
       "      <td>0.999944</td>\n",
       "    </tr>\n",
       "  </tbody>\n",
       "</table>\n",
       "<p>1897 rows × 5 columns</p>\n",
       "</div>"
      ],
      "text/plain": [
       "                                  image_id  \\\n",
       "0     C_211111_SS_097_21_RE_B_T_03_013.jpg   \n",
       "1     C_211111_SS_097_21_RE_B_P_01_031.jpg   \n",
       "2     C_211111_SS_097_21_RE_B_P_01_058.jpg   \n",
       "3     C_210914_SS_097_20_WH_A_P_01_062.jpg   \n",
       "4     C_210914_SS_097_20_WH_A_T_02_003.jpg   \n",
       "...                                    ...   \n",
       "1892  C_211001_KG_044_17_BL_A_P_01_045.jpg   \n",
       "1893  C_211001_KG_044_17_BL_A_P_01_050.jpg   \n",
       "1894  C_210930_KG_044_21_WH_A_P_01_036.jpg   \n",
       "1895  C_210930_KG_044_21_WH_A_P_01_033.jpg   \n",
       "1896  C_210930_KG_044_21_WH_A_P_01_026.jpg   \n",
       "\n",
       "                                                    dir  label  pred  \\\n",
       "0     ../Data/car_dataset_sample/SS_쌍용/097_티볼리/2021_...    350   350   \n",
       "1     ../Data/car_dataset_sample/SS_쌍용/097_티볼리/2021_...    350   349   \n",
       "2     ../Data/car_dataset_sample/SS_쌍용/097_티볼리/2021_...    350   349   \n",
       "3     ../Data/car_dataset_sample/SS_쌍용/097_티볼리/2020_...    349    31   \n",
       "4     ../Data/car_dataset_sample/SS_쌍용/097_티볼리/2020_...    349   348   \n",
       "...                                                 ...    ...   ...   \n",
       "1892  ../Data/car_dataset_sample/KG_한국지엠/044_다마스/201...    194   194   \n",
       "1893  ../Data/car_dataset_sample/KG_한국지엠/044_다마스/201...    194   194   \n",
       "1894  ../Data/car_dataset_sample/KG_한국지엠/044_다마스/202...    198   198   \n",
       "1895  ../Data/car_dataset_sample/KG_한국지엠/044_다마스/202...    198   198   \n",
       "1896  ../Data/car_dataset_sample/KG_한국지엠/044_다마스/202...    198   194   \n",
       "\n",
       "      confidence score  \n",
       "0             0.808191  \n",
       "1             0.553947  \n",
       "2             0.927482  \n",
       "3             0.864332  \n",
       "4             0.638279  \n",
       "...                ...  \n",
       "1892          1.000000  \n",
       "1893          0.999248  \n",
       "1894          1.000000  \n",
       "1895          0.999999  \n",
       "1896          0.999944  \n",
       "\n",
       "[1897 rows x 5 columns]"
      ]
     },
     "execution_count": 8,
     "metadata": {},
     "output_type": "execute_result"
    }
   ],
   "source": [
    "test"
   ]
  },
  {
   "cell_type": "code",
   "execution_count": 128,
   "id": "2ffa63e0",
   "metadata": {},
   "outputs": [
    {
     "name": "stdout",
     "output_type": "stream",
     "text": [
      "0.7961290322580645 16\n"
     ]
    }
   ],
   "source": [
    "print(max(box_acc), box_acc.index(max(box_acc)))"
   ]
  },
  {
   "cell_type": "code",
   "execution_count": 126,
   "id": "934e6d44",
   "metadata": {
    "scrolled": true
   },
   "outputs": [
    {
     "name": "stdout",
     "output_type": "stream",
     "text": [
      "0 0.7445161290322581 \n",
      " [[1304  556]\n",
      " [  38  427]]\n",
      "1 0.7359139784946237 \n",
      " [[1263  597]\n",
      " [  17  448]]\n",
      "2 0.5324731182795699 \n",
      " [[ 779 1081]\n",
      " [   6  459]]\n",
      "3 0.6365591397849463 \n",
      " [[1020  840]\n",
      " [   5  460]]\n",
      "4 0.6103225806451613 \n",
      " [[972 888]\n",
      " [ 18 447]]\n",
      "5 0.6305376344086021 \n",
      " [[1010  850]\n",
      " [   9  456]]\n",
      "6 0.6365591397849463 \n",
      " [[1025  835]\n",
      " [  10  455]]\n",
      "7 0.7832258064516129 \n",
      " [[1393  467]\n",
      " [  37  428]]\n",
      "8 0.7604301075268817 \n",
      " [[1397  463]\n",
      " [  94  371]]\n",
      "9 0.8473118279569892 \n",
      " [[1527  333]\n",
      " [  22  443]]\n",
      "10 0.704516129032258 \n",
      " [[1184  676]\n",
      " [  11  454]]\n",
      "11 0.6116129032258064 \n",
      " [[973 887]\n",
      " [ 16 449]]\n",
      "12 0.6640860215053763 \n",
      " [[1098  762]\n",
      " [  19  446]]\n",
      "13 0.5604301075268817 \n",
      " [[ 845 1015]\n",
      " [   7  458]]\n",
      "14 0.7845161290322581 \n",
      " [[1392  468]\n",
      " [  33  432]]\n",
      "15 0.6163440860215054 \n",
      " [[980 880]\n",
      " [ 12 453]]\n",
      "16 0.6159139784946237 \n",
      " [[970 890]\n",
      " [  3 462]]\n",
      "17 0.6692473118279569 \n",
      " [[1101  759]\n",
      " [  10  455]]\n",
      "18 0.501505376344086 \n",
      " [[ 703 1157]\n",
      " [   2  463]]\n",
      "19 0.6404301075268817 \n",
      " [[1054  806]\n",
      " [  30  435]]\n",
      "20 0.7664516129032258 \n",
      " [[1329  531]\n",
      " [  12  453]]\n",
      "21 0.7316129032258064 \n",
      " [[1248  612]\n",
      " [  12  453]]\n",
      "22 0.6851612903225807 \n",
      " [[1132  728]\n",
      " [   4  461]]\n",
      "23 0.7427956989247312 \n",
      " [[1284  576]\n",
      " [  22  443]]\n",
      "24 0.6516129032258065 \n",
      " [[1060  800]\n",
      " [  10  455]]\n",
      "25 0.6180645161290322 \n",
      " [[976 884]\n",
      " [  4 461]]\n",
      "26 0.7255913978494624 \n",
      " [[1228  632]\n",
      " [   6  459]]\n",
      "27 0.6477419354838709 \n",
      " [[1043  817]\n",
      " [   2  463]]\n",
      "28 0.621505376344086 \n",
      " [[983 877]\n",
      " [  3 462]]\n",
      "29 0.6159139784946237 \n",
      " [[970 890]\n",
      " [  3 462]]\n",
      "30 0.6236559139784946 \n",
      " [[990 870]\n",
      " [  5 460]]\n",
      "31 0.7767741935483871 \n",
      " [[1367  493]\n",
      " [  26  439]]\n",
      "32 0.7406451612903225 \n",
      " [[1273  587]\n",
      " [  16  449]]\n",
      "33 0.5913978494623656 \n",
      " [[911 949]\n",
      " [  1 464]]\n",
      "34 0.7324731182795698 \n",
      " [[1249  611]\n",
      " [  11  454]]\n",
      "35 0.6129032258064516 \n",
      " [[960 900]\n",
      " [  0 465]]\n",
      "36 0.6524731182795699 \n",
      " [[1063  797]\n",
      " [  11  454]]\n",
      "37 0.6352688172043011 \n",
      " [[1030  830]\n",
      " [  18  447]]\n",
      "38 0.7144086021505376 \n",
      " [[1206  654]\n",
      " [  10  455]]\n",
      "39 0.7019354838709677 \n",
      " [[1181  679]\n",
      " [  14  451]]\n",
      "40 0.730752688172043 \n",
      " [[1251  609]\n",
      " [  17  448]]\n"
     ]
    }
   ],
   "source": [
    "for i,e in enumerate(box_acc):\n",
    "    print(i, e, '\\n', box_conf[i])"
   ]
  },
  {
   "cell_type": "code",
   "execution_count": null,
   "id": "d7880fb8",
   "metadata": {},
   "outputs": [],
   "source": []
  },
  {
   "cell_type": "code",
   "execution_count": null,
   "id": "c8ca603e",
   "metadata": {},
   "outputs": [],
   "source": []
  },
  {
   "cell_type": "code",
   "execution_count": 15,
   "id": "19742036",
   "metadata": {},
   "outputs": [],
   "source": [
    "#for whole inference (without label)\n",
    "test_dir = '/home/super/endo_venv/gsun/blur_classification/inferenced_data/'\n",
    "model_dir = '3rd_epoch_44/20%_drop_efficientnet_lite0_44'"
   ]
  },
  {
   "cell_type": "code",
   "execution_count": null,
   "id": "8fad71b2",
   "metadata": {},
   "outputs": [],
   "source": []
  },
  {
   "cell_type": "code",
   "execution_count": 114,
   "id": "5ae5c002",
   "metadata": {},
   "outputs": [],
   "source": [
    "#for inference with labeled data\n",
    "test_dir = '/Data/data/data_gsun/data/cecum/cecum_test_frames'\n",
    "model_dir = '7th_epoch_0/20%_drop_efficientnet_lite0_0'"
   ]
  },
  {
   "cell_type": "code",
   "execution_count": null,
   "id": "b628b133",
   "metadata": {},
   "outputs": [],
   "source": []
  },
  {
   "cell_type": "code",
   "execution_count": 115,
   "id": "5265c595",
   "metadata": {},
   "outputs": [
    {
     "name": "stderr",
     "output_type": "stream",
     "text": [
      "100%|█████████████████████████████████████████████████████████████████████████████████| 233/233 [00:13<00:00, 17.02it/s]\n"
     ]
    }
   ],
   "source": [
    "%run classification_inference_efficientnet.ipynb"
   ]
  },
  {
   "cell_type": "code",
   "execution_count": null,
   "id": "efbd0f89",
   "metadata": {},
   "outputs": [],
   "source": []
  },
  {
   "cell_type": "code",
   "execution_count": null,
   "id": "bd0de2f5",
   "metadata": {},
   "outputs": [],
   "source": []
  },
  {
   "cell_type": "code",
   "execution_count": null,
   "id": "dab3e079",
   "metadata": {},
   "outputs": [],
   "source": []
  },
  {
   "cell_type": "code",
   "execution_count": 17,
   "id": "447a97d9",
   "metadata": {},
   "outputs": [],
   "source": [
    "# test\n",
    "# test['label'] = test['image_id'].apply(lambda x : 0 if 'cancer' in x else 1)\n",
    "test['pred'] = np.argmax(tst_preds, axis=1)\n",
    "test['confidence score'] =np.max(tst_preds, axis=1)\n",
    "# test_acc = np.sum(test.label == test.pred) / len(test)\n",
    "# test_matrix = confusion_matrix(test['label'], test['pred'])\n",
    "# print(round(test_acc, 5))\n",
    "# print(test_matrix)"
   ]
  },
  {
   "cell_type": "code",
   "execution_count": null,
   "id": "db57b665",
   "metadata": {},
   "outputs": [],
   "source": []
  },
  {
   "cell_type": "code",
   "execution_count": 18,
   "id": "5bbc40a7",
   "metadata": {},
   "outputs": [
    {
     "data": {
      "text/html": [
       "<div>\n",
       "<style scoped>\n",
       "    .dataframe tbody tr th:only-of-type {\n",
       "        vertical-align: middle;\n",
       "    }\n",
       "\n",
       "    .dataframe tbody tr th {\n",
       "        vertical-align: top;\n",
       "    }\n",
       "\n",
       "    .dataframe thead th {\n",
       "        text-align: right;\n",
       "    }\n",
       "</style>\n",
       "<table border=\"1\" class=\"dataframe\">\n",
       "  <thead>\n",
       "    <tr style=\"text-align: right;\">\n",
       "      <th></th>\n",
       "      <th>image_id</th>\n",
       "      <th>pred</th>\n",
       "      <th>confidence score</th>\n",
       "    </tr>\n",
       "  </thead>\n",
       "  <tbody>\n",
       "    <tr>\n",
       "      <th>0</th>\n",
       "      <td>/clean/V1492_2021_0042_002196.png</td>\n",
       "      <td>0</td>\n",
       "      <td>0.999430</td>\n",
       "    </tr>\n",
       "    <tr>\n",
       "      <th>1</th>\n",
       "      <td>/clean/V1492_2021_0042_000279.png</td>\n",
       "      <td>0</td>\n",
       "      <td>0.990559</td>\n",
       "    </tr>\n",
       "    <tr>\n",
       "      <th>2</th>\n",
       "      <td>/clean/V1492_2021_0042_003584.png</td>\n",
       "      <td>0</td>\n",
       "      <td>0.999930</td>\n",
       "    </tr>\n",
       "    <tr>\n",
       "      <th>3</th>\n",
       "      <td>/clean/V1492_2021_0042_002230.png</td>\n",
       "      <td>0</td>\n",
       "      <td>0.983210</td>\n",
       "    </tr>\n",
       "    <tr>\n",
       "      <th>4</th>\n",
       "      <td>/clean/V1492_2021_0042_000013.png</td>\n",
       "      <td>0</td>\n",
       "      <td>0.993555</td>\n",
       "    </tr>\n",
       "    <tr>\n",
       "      <th>5</th>\n",
       "      <td>/clean/V1492_2021_0042_004370.png</td>\n",
       "      <td>0</td>\n",
       "      <td>0.999907</td>\n",
       "    </tr>\n",
       "    <tr>\n",
       "      <th>6</th>\n",
       "      <td>/clean/V1492_2021_0042_003993.png</td>\n",
       "      <td>0</td>\n",
       "      <td>0.999983</td>\n",
       "    </tr>\n",
       "    <tr>\n",
       "      <th>7</th>\n",
       "      <td>/clean/V1492_2021_0042_000096.png</td>\n",
       "      <td>0</td>\n",
       "      <td>0.999649</td>\n",
       "    </tr>\n",
       "    <tr>\n",
       "      <th>8</th>\n",
       "      <td>/clean/V1492_2021_0042_004724.png</td>\n",
       "      <td>0</td>\n",
       "      <td>0.972563</td>\n",
       "    </tr>\n",
       "    <tr>\n",
       "      <th>9</th>\n",
       "      <td>/clean/V1492_2021_0042_000993.png</td>\n",
       "      <td>0</td>\n",
       "      <td>0.866875</td>\n",
       "    </tr>\n",
       "  </tbody>\n",
       "</table>\n",
       "</div>"
      ],
      "text/plain": [
       "                            image_id  pred  confidence score\n",
       "0  /clean/V1492_2021_0042_002196.png     0          0.999430\n",
       "1  /clean/V1492_2021_0042_000279.png     0          0.990559\n",
       "2  /clean/V1492_2021_0042_003584.png     0          0.999930\n",
       "3  /clean/V1492_2021_0042_002230.png     0          0.983210\n",
       "4  /clean/V1492_2021_0042_000013.png     0          0.993555\n",
       "5  /clean/V1492_2021_0042_004370.png     0          0.999907\n",
       "6  /clean/V1492_2021_0042_003993.png     0          0.999983\n",
       "7  /clean/V1492_2021_0042_000096.png     0          0.999649\n",
       "8  /clean/V1492_2021_0042_004724.png     0          0.972563\n",
       "9  /clean/V1492_2021_0042_000993.png     0          0.866875"
      ]
     },
     "execution_count": 18,
     "metadata": {},
     "output_type": "execute_result"
    }
   ],
   "source": [
    "test.head(10)"
   ]
  },
  {
   "cell_type": "code",
   "execution_count": 19,
   "id": "ed2bd136",
   "metadata": {},
   "outputs": [
    {
     "data": {
      "text/plain": [
       "(2055, 3)"
      ]
     },
     "execution_count": 19,
     "metadata": {},
     "output_type": "execute_result"
    }
   ],
   "source": [
    "test.shape"
   ]
  },
  {
   "cell_type": "code",
   "execution_count": 20,
   "id": "415a0f0f",
   "metadata": {},
   "outputs": [
    {
     "data": {
      "text/plain": [
       "0    2037\n",
       "1      18\n",
       "Name: pred, dtype: int64"
      ]
     },
     "execution_count": 20,
     "metadata": {},
     "output_type": "execute_result"
    }
   ],
   "source": [
    "test.pred.value_counts()"
   ]
  },
  {
   "cell_type": "code",
   "execution_count": 21,
   "id": "327fb72e",
   "metadata": {},
   "outputs": [
    {
     "data": {
      "text/plain": [
       "<AxesSubplot:>"
      ]
     },
     "execution_count": 21,
     "metadata": {},
     "output_type": "execute_result"
    },
    {
     "data": {
      "image/png": "[encoded data removed]",
      "text/plain": [
       "<Figure size 432x288 with 1 Axes>"
      ]
     },
     "metadata": {
      "needs_background": "light"
     },
     "output_type": "display_data"
    }
   ],
   "source": [
    "test['confidence score'].hist()"
   ]
  },
  {
   "cell_type": "code",
   "execution_count": null,
   "id": "edc83c9d",
   "metadata": {},
   "outputs": [],
   "source": []
  },
  {
   "cell_type": "code",
   "execution_count": null,
   "id": "2c91285f",
   "metadata": {},
   "outputs": [],
   "source": []
  },
  {
   "cell_type": "code",
   "execution_count": 22,
   "id": "1d056878",
   "metadata": {},
   "outputs": [],
   "source": [
    "test_true = test.loc[(test.pred == 1) & (test['confidence score'] >= 0.975)].copy()"
   ]
  },
  {
   "cell_type": "code",
   "execution_count": 23,
   "id": "c2c64980",
   "metadata": {},
   "outputs": [],
   "source": [
    "test_true = test.loc[test.pred == 1].copy()"
   ]
  },
  {
   "cell_type": "code",
   "execution_count": null,
   "id": "bdb1c97a",
   "metadata": {},
   "outputs": [],
   "source": []
  },
  {
   "cell_type": "code",
   "execution_count": 24,
   "id": "adca52c3",
   "metadata": {},
   "outputs": [
    {
     "data": {
      "text/plain": [
       "(18, 3)"
      ]
     },
     "execution_count": 24,
     "metadata": {},
     "output_type": "execute_result"
    }
   ],
   "source": [
    "test_true.shape"
   ]
  },
  {
   "cell_type": "code",
   "execution_count": 25,
   "id": "838cdfe1",
   "metadata": {},
   "outputs": [
    {
     "data": {
      "text/html": [
       "<div>\n",
       "<style scoped>\n",
       "    .dataframe tbody tr th:only-of-type {\n",
       "        vertical-align: middle;\n",
       "    }\n",
       "\n",
       "    .dataframe tbody tr th {\n",
       "        vertical-align: top;\n",
       "    }\n",
       "\n",
       "    .dataframe thead th {\n",
       "        text-align: right;\n",
       "    }\n",
       "</style>\n",
       "<table border=\"1\" class=\"dataframe\">\n",
       "  <thead>\n",
       "    <tr style=\"text-align: right;\">\n",
       "      <th></th>\n",
       "      <th>image_id</th>\n",
       "      <th>pred</th>\n",
       "      <th>confidence score</th>\n",
       "    </tr>\n",
       "  </thead>\n",
       "  <tbody>\n",
       "    <tr>\n",
       "      <th>296</th>\n",
       "      <td>/clean/V1492_2021_0042_001225.png</td>\n",
       "      <td>1</td>\n",
       "      <td>0.848870</td>\n",
       "    </tr>\n",
       "    <tr>\n",
       "      <th>303</th>\n",
       "      <td>/clean/V1492_2021_0042_001879.png</td>\n",
       "      <td>1</td>\n",
       "      <td>0.684942</td>\n",
       "    </tr>\n",
       "    <tr>\n",
       "      <th>361</th>\n",
       "      <td>/clean/V1492_2021_0042_001227.png</td>\n",
       "      <td>1</td>\n",
       "      <td>0.934809</td>\n",
       "    </tr>\n",
       "  </tbody>\n",
       "</table>\n",
       "</div>"
      ],
      "text/plain": [
       "                              image_id  pred  confidence score\n",
       "296  /clean/V1492_2021_0042_001225.png     1          0.848870\n",
       "303  /clean/V1492_2021_0042_001879.png     1          0.684942\n",
       "361  /clean/V1492_2021_0042_001227.png     1          0.934809"
      ]
     },
     "execution_count": 25,
     "metadata": {},
     "output_type": "execute_result"
    }
   ],
   "source": [
    "test_true.head(3)"
   ]
  },
  {
   "cell_type": "code",
   "execution_count": 26,
   "id": "7075873b",
   "metadata": {},
   "outputs": [],
   "source": [
    "true_names = test_true.image_id.tolist()"
   ]
  },
  {
   "cell_type": "code",
   "execution_count": 27,
   "id": "14b11f6d",
   "metadata": {},
   "outputs": [
    {
     "name": "stdout",
     "output_type": "stream",
     "text": [
      "18\n"
     ]
    }
   ],
   "source": [
    "print(len(true_names))"
   ]
  },
  {
   "cell_type": "code",
   "execution_count": null,
   "id": "760e7e5b",
   "metadata": {},
   "outputs": [],
   "source": []
  },
  {
   "cell_type": "code",
   "execution_count": 28,
   "id": "5dc646bb",
   "metadata": {},
   "outputs": [],
   "source": [
    "from shutil import copyfile\n",
    "for e in true_names:\n",
    "    copyfile('/home/super/endo_venv/gsun/blur_classification/inferenced_data' + e, '/Data/data/data_gsun/Cecum/inferenced/cecum/' + e.split('/')[2])"
   ]
  },
  {
   "cell_type": "code",
   "execution_count": null,
   "id": "803aa0d4",
   "metadata": {},
   "outputs": [],
   "source": []
  },
  {
   "cell_type": "code",
   "execution_count": null,
   "id": "bdf8a42f",
   "metadata": {},
   "outputs": [],
   "source": []
  },
  {
   "cell_type": "code",
   "execution_count": 29,
   "id": "bb040eff",
   "metadata": {},
   "outputs": [],
   "source": [
    "test_false = test.loc[test.pred == 0].copy()"
   ]
  },
  {
   "cell_type": "code",
   "execution_count": null,
   "id": "3a043d73",
   "metadata": {},
   "outputs": [],
   "source": []
  },
  {
   "cell_type": "code",
   "execution_count": 30,
   "id": "3f358e83",
   "metadata": {},
   "outputs": [],
   "source": [
    "false_names = test_false.image_id.tolist()"
   ]
  },
  {
   "cell_type": "code",
   "execution_count": 31,
   "id": "8f02e8f5",
   "metadata": {},
   "outputs": [],
   "source": [
    "from shutil import copyfile\n",
    "for e in false_names:\n",
    "    copyfile('/home/super/endo_venv/gsun/blur_classification/inferenced_data' + e, '/Data/data/data_gsun/Cecum/inferenced/non_cecum/' + e.split('/')[2])"
   ]
  },
  {
   "cell_type": "code",
   "execution_count": null,
   "id": "4a968664",
   "metadata": {},
   "outputs": [],
   "source": []
  },
  {
   "cell_type": "code",
   "execution_count": null,
   "id": "92cd47c4",
   "metadata": {},
   "outputs": [],
   "source": []
  },
  {
   "cell_type": "code",
   "execution_count": null,
   "id": "fa472108",
   "metadata": {},
   "outputs": [],
   "source": []
  },
  {
   "cell_type": "code",
   "execution_count": 39,
   "id": "f44ab996",
   "metadata": {},
   "outputs": [],
   "source": [
    "test_clean = test.loc[(test.pred == 0) & (test['confidence score'] >= 0.975)].copy()"
   ]
  },
  {
   "cell_type": "code",
   "execution_count": 40,
   "id": "89af641e",
   "metadata": {},
   "outputs": [
    {
     "data": {
      "text/plain": [
       "(4037, 3)"
      ]
     },
     "execution_count": 40,
     "metadata": {},
     "output_type": "execute_result"
    }
   ],
   "source": [
    "test_clean.shape"
   ]
  },
  {
   "cell_type": "code",
   "execution_count": 41,
   "id": "d48a9bed",
   "metadata": {},
   "outputs": [
    {
     "data": {
      "text/html": [
       "<div>\n",
       "<style scoped>\n",
       "    .dataframe tbody tr th:only-of-type {\n",
       "        vertical-align: middle;\n",
       "    }\n",
       "\n",
       "    .dataframe tbody tr th {\n",
       "        vertical-align: top;\n",
       "    }\n",
       "\n",
       "    .dataframe thead th {\n",
       "        text-align: right;\n",
       "    }\n",
       "</style>\n",
       "<table border=\"1\" class=\"dataframe\">\n",
       "  <thead>\n",
       "    <tr style=\"text-align: right;\">\n",
       "      <th></th>\n",
       "      <th>image_id</th>\n",
       "      <th>pred</th>\n",
       "      <th>confidence score</th>\n",
       "    </tr>\n",
       "  </thead>\n",
       "  <tbody>\n",
       "    <tr>\n",
       "      <th>7</th>\n",
       "      <td>/1732/V1732_00008.png</td>\n",
       "      <td>0</td>\n",
       "      <td>0.985698</td>\n",
       "    </tr>\n",
       "    <tr>\n",
       "      <th>16</th>\n",
       "      <td>/1732/V1732_00017.png</td>\n",
       "      <td>0</td>\n",
       "      <td>0.981278</td>\n",
       "    </tr>\n",
       "    <tr>\n",
       "      <th>17</th>\n",
       "      <td>/1732/V1732_00018.png</td>\n",
       "      <td>0</td>\n",
       "      <td>0.992170</td>\n",
       "    </tr>\n",
       "  </tbody>\n",
       "</table>\n",
       "</div>"
      ],
      "text/plain": [
       "                 image_id  pred  confidence score\n",
       "7   /1732/V1732_00008.png     0          0.985698\n",
       "16  /1732/V1732_00017.png     0          0.981278\n",
       "17  /1732/V1732_00018.png     0          0.992170"
      ]
     },
     "execution_count": 41,
     "metadata": {},
     "output_type": "execute_result"
    }
   ],
   "source": [
    "test_clean.head(3)"
   ]
  },
  {
   "cell_type": "code",
   "execution_count": 42,
   "id": "c656e7fc",
   "metadata": {},
   "outputs": [],
   "source": [
    "clean_names = test_clean.image_id.tolist()"
   ]
  },
  {
   "cell_type": "code",
   "execution_count": null,
   "id": "e6f43e49",
   "metadata": {},
   "outputs": [],
   "source": []
  },
  {
   "cell_type": "code",
   "execution_count": 43,
   "id": "1cb2b7d9",
   "metadata": {},
   "outputs": [],
   "source": [
    "names = blur_names + clean_names"
   ]
  },
  {
   "cell_type": "code",
   "execution_count": 44,
   "id": "e6d094b7",
   "metadata": {},
   "outputs": [
    {
     "name": "stdout",
     "output_type": "stream",
     "text": [
      "6943\n"
     ]
    }
   ],
   "source": [
    "print(len(names))"
   ]
  },
  {
   "cell_type": "code",
   "execution_count": null,
   "id": "8054e079",
   "metadata": {},
   "outputs": [],
   "source": []
  },
  {
   "cell_type": "code",
   "execution_count": 45,
   "id": "98df1f52",
   "metadata": {},
   "outputs": [],
   "source": [
    "from shutil import copyfile"
   ]
  },
  {
   "cell_type": "code",
   "execution_count": 46,
   "id": "7048052f",
   "metadata": {},
   "outputs": [],
   "source": [
    "for i,e in enumerate(names):\n",
    "    if i < len(blur_names):\n",
    "        copyfile('/Data/data/blur_detection' + e, '/Data/data/blur_detection/result_1732_blur' + e[5:])\n",
    "    else:\n",
    "        copyfile('/Data/data/blur_detection' + e, '/Data/data/blur_detection/result_1732_clean' + e[5:])\n",
    "# copyfile('/Data/data/blur_detection','C:\\\\test\\\\test_copy.txt')"
   ]
  },
  {
   "cell_type": "code",
   "execution_count": null,
   "id": "ed5577d6",
   "metadata": {},
   "outputs": [],
   "source": []
  },
  {
   "cell_type": "code",
   "execution_count": null,
   "id": "ed6e47f2",
   "metadata": {},
   "outputs": [],
   "source": []
  },
  {
   "cell_type": "code",
   "execution_count": null,
   "id": "3107892b",
   "metadata": {},
   "outputs": [],
   "source": []
  },
  {
   "cell_type": "code",
   "execution_count": 86,
   "id": "1484ab12",
   "metadata": {},
   "outputs": [],
   "source": [
    "def segger(x):\n",
    "    y = None\n",
    "    if type(x) == str:\n",
    "        xx = x.split('/')[-1]\n",
    "        if 'AC' in xx:\n",
    "            y = 'AC'\n",
    "        elif 'TC' in xx:\n",
    "            y = 'TC'\n",
    "        elif 'DC' in xx:\n",
    "            y = 'DC'\n",
    "        elif 'SC' in xx:\n",
    "            y = 'SC'\n",
    "        elif 'Rec' in xx:\n",
    "            y = 'Rectum'\n",
    "        else:\n",
    "            y = 'Cecum'\n",
    "            \n",
    "    return y"
   ]
  },
  {
   "cell_type": "code",
   "execution_count": null,
   "id": "6e07199d",
   "metadata": {},
   "outputs": [],
   "source": []
  },
  {
   "cell_type": "code",
   "execution_count": 116,
   "id": "391ce109",
   "metadata": {},
   "outputs": [
    {
     "name": "stdout",
     "output_type": "stream",
     "text": [
      "0.81505\n",
      "[[1484  376]\n",
      " [  54  411]]\n"
     ]
    }
   ],
   "source": [
    "# test\n",
    "# test['label'] = test['image_id'].apply(lambda x : 0 if 'cancer' in x else 1)\n",
    "test['pred'] = np.argmax(tst_preds, axis=1)\n",
    "#test['confidence score'] =np.max(tst_preds, axis=1)\n",
    "test_acc = np.sum(test.label == test.pred) / len(test)\n",
    "test_matrix = confusion_matrix(test['label'], test['pred'])\n",
    "print(round(test_acc, 5))\n",
    "print(test_matrix)"
   ]
  },
  {
   "cell_type": "code",
   "execution_count": null,
   "id": "88d83e26",
   "metadata": {},
   "outputs": [],
   "source": []
  },
  {
   "cell_type": "code",
   "execution_count": 117,
   "id": "24d66f47",
   "metadata": {},
   "outputs": [
    {
     "data": {
      "text/html": [
       "<div>\n",
       "<style scoped>\n",
       "    .dataframe tbody tr th:only-of-type {\n",
       "        vertical-align: middle;\n",
       "    }\n",
       "\n",
       "    .dataframe tbody tr th {\n",
       "        vertical-align: top;\n",
       "    }\n",
       "\n",
       "    .dataframe thead th {\n",
       "        text-align: right;\n",
       "    }\n",
       "</style>\n",
       "<table border=\"1\" class=\"dataframe\">\n",
       "  <thead>\n",
       "    <tr style=\"text-align: right;\">\n",
       "      <th></th>\n",
       "      <th>image_id</th>\n",
       "      <th>label</th>\n",
       "      <th>pred</th>\n",
       "      <th>confidence score</th>\n",
       "      <th>segment</th>\n",
       "    </tr>\n",
       "  </thead>\n",
       "  <tbody>\n",
       "    <tr>\n",
       "      <th>0</th>\n",
       "      <td>/cecum/V0246_2020_0016_001613.png</td>\n",
       "      <td>1</td>\n",
       "      <td>1</td>\n",
       "      <td>0.960615</td>\n",
       "      <td>Cecum</td>\n",
       "    </tr>\n",
       "    <tr>\n",
       "      <th>1</th>\n",
       "      <td>/cecum/V0246_2020_0016_001435.png</td>\n",
       "      <td>1</td>\n",
       "      <td>1</td>\n",
       "      <td>0.998785</td>\n",
       "      <td>Cecum</td>\n",
       "    </tr>\n",
       "    <tr>\n",
       "      <th>2</th>\n",
       "      <td>/cecum/V0246_2020_0016_001430.png</td>\n",
       "      <td>1</td>\n",
       "      <td>1</td>\n",
       "      <td>0.997008</td>\n",
       "      <td>Cecum</td>\n",
       "    </tr>\n",
       "    <tr>\n",
       "      <th>3</th>\n",
       "      <td>/cecum/V0246_2020_0016_001425.png</td>\n",
       "      <td>1</td>\n",
       "      <td>1</td>\n",
       "      <td>0.999448</td>\n",
       "      <td>Cecum</td>\n",
       "    </tr>\n",
       "    <tr>\n",
       "      <th>4</th>\n",
       "      <td>/cecum/V0244_2020_0014_001780.png</td>\n",
       "      <td>1</td>\n",
       "      <td>1</td>\n",
       "      <td>0.961064</td>\n",
       "      <td>Cecum</td>\n",
       "    </tr>\n",
       "  </tbody>\n",
       "</table>\n",
       "</div>"
      ],
      "text/plain": [
       "                            image_id  label  pred  confidence score segment\n",
       "0  /cecum/V0246_2020_0016_001613.png      1     1          0.960615   Cecum\n",
       "1  /cecum/V0246_2020_0016_001435.png      1     1          0.998785   Cecum\n",
       "2  /cecum/V0246_2020_0016_001430.png      1     1          0.997008   Cecum\n",
       "3  /cecum/V0246_2020_0016_001425.png      1     1          0.999448   Cecum\n",
       "4  /cecum/V0244_2020_0014_001780.png      1     1          0.961064   Cecum"
      ]
     },
     "execution_count": 117,
     "metadata": {},
     "output_type": "execute_result"
    }
   ],
   "source": [
    "test.head(5)"
   ]
  },
  {
   "cell_type": "code",
   "execution_count": null,
   "id": "3021819b",
   "metadata": {},
   "outputs": [],
   "source": []
  },
  {
   "cell_type": "code",
   "execution_count": 118,
   "id": "6608556e",
   "metadata": {},
   "outputs": [],
   "source": [
    "test['segment'] = test['image_id'].apply(segger)"
   ]
  },
  {
   "cell_type": "code",
   "execution_count": 119,
   "id": "7d607662",
   "metadata": {},
   "outputs": [
    {
     "data": {
      "text/html": [
       "<div>\n",
       "<style scoped>\n",
       "    .dataframe tbody tr th:only-of-type {\n",
       "        vertical-align: middle;\n",
       "    }\n",
       "\n",
       "    .dataframe tbody tr th {\n",
       "        vertical-align: top;\n",
       "    }\n",
       "\n",
       "    .dataframe thead th {\n",
       "        text-align: right;\n",
       "    }\n",
       "</style>\n",
       "<table border=\"1\" class=\"dataframe\">\n",
       "  <thead>\n",
       "    <tr style=\"text-align: right;\">\n",
       "      <th></th>\n",
       "      <th>image_id</th>\n",
       "      <th>label</th>\n",
       "      <th>pred</th>\n",
       "      <th>confidence score</th>\n",
       "      <th>segment</th>\n",
       "    </tr>\n",
       "  </thead>\n",
       "  <tbody>\n",
       "    <tr>\n",
       "      <th>0</th>\n",
       "      <td>/cecum/V0246_2020_0016_001613.png</td>\n",
       "      <td>1</td>\n",
       "      <td>1</td>\n",
       "      <td>0.960615</td>\n",
       "      <td>Cecum</td>\n",
       "    </tr>\n",
       "    <tr>\n",
       "      <th>1</th>\n",
       "      <td>/cecum/V0246_2020_0016_001435.png</td>\n",
       "      <td>1</td>\n",
       "      <td>1</td>\n",
       "      <td>0.998785</td>\n",
       "      <td>Cecum</td>\n",
       "    </tr>\n",
       "    <tr>\n",
       "      <th>2</th>\n",
       "      <td>/cecum/V0246_2020_0016_001430.png</td>\n",
       "      <td>1</td>\n",
       "      <td>1</td>\n",
       "      <td>0.997008</td>\n",
       "      <td>Cecum</td>\n",
       "    </tr>\n",
       "    <tr>\n",
       "      <th>3</th>\n",
       "      <td>/cecum/V0246_2020_0016_001425.png</td>\n",
       "      <td>1</td>\n",
       "      <td>1</td>\n",
       "      <td>0.999448</td>\n",
       "      <td>Cecum</td>\n",
       "    </tr>\n",
       "    <tr>\n",
       "      <th>4</th>\n",
       "      <td>/cecum/V0244_2020_0014_001780.png</td>\n",
       "      <td>1</td>\n",
       "      <td>1</td>\n",
       "      <td>0.961064</td>\n",
       "      <td>Cecum</td>\n",
       "    </tr>\n",
       "    <tr>\n",
       "      <th>5</th>\n",
       "      <td>/cecum/V0244_2020_0014_001709.png</td>\n",
       "      <td>1</td>\n",
       "      <td>1</td>\n",
       "      <td>0.977875</td>\n",
       "      <td>Cecum</td>\n",
       "    </tr>\n",
       "    <tr>\n",
       "      <th>6</th>\n",
       "      <td>/cecum/V0242_2020_0012_002368.png</td>\n",
       "      <td>1</td>\n",
       "      <td>1</td>\n",
       "      <td>0.997580</td>\n",
       "      <td>Cecum</td>\n",
       "    </tr>\n",
       "    <tr>\n",
       "      <th>7</th>\n",
       "      <td>/cecum/V0242_2020_0012_002363.png</td>\n",
       "      <td>1</td>\n",
       "      <td>1</td>\n",
       "      <td>0.907787</td>\n",
       "      <td>Cecum</td>\n",
       "    </tr>\n",
       "    <tr>\n",
       "      <th>8</th>\n",
       "      <td>/cecum/V0242_2020_0012_002064.png</td>\n",
       "      <td>1</td>\n",
       "      <td>1</td>\n",
       "      <td>0.997911</td>\n",
       "      <td>Cecum</td>\n",
       "    </tr>\n",
       "    <tr>\n",
       "      <th>9</th>\n",
       "      <td>/cecum/V0242_2020_0012_002021.png</td>\n",
       "      <td>1</td>\n",
       "      <td>1</td>\n",
       "      <td>0.999396</td>\n",
       "      <td>Cecum</td>\n",
       "    </tr>\n",
       "  </tbody>\n",
       "</table>\n",
       "</div>"
      ],
      "text/plain": [
       "                            image_id  label  pred  confidence score segment\n",
       "0  /cecum/V0246_2020_0016_001613.png      1     1          0.960615   Cecum\n",
       "1  /cecum/V0246_2020_0016_001435.png      1     1          0.998785   Cecum\n",
       "2  /cecum/V0246_2020_0016_001430.png      1     1          0.997008   Cecum\n",
       "3  /cecum/V0246_2020_0016_001425.png      1     1          0.999448   Cecum\n",
       "4  /cecum/V0244_2020_0014_001780.png      1     1          0.961064   Cecum\n",
       "5  /cecum/V0244_2020_0014_001709.png      1     1          0.977875   Cecum\n",
       "6  /cecum/V0242_2020_0012_002368.png      1     1          0.997580   Cecum\n",
       "7  /cecum/V0242_2020_0012_002363.png      1     1          0.907787   Cecum\n",
       "8  /cecum/V0242_2020_0012_002064.png      1     1          0.997911   Cecum\n",
       "9  /cecum/V0242_2020_0012_002021.png      1     1          0.999396   Cecum"
      ]
     },
     "execution_count": 119,
     "metadata": {},
     "output_type": "execute_result"
    }
   ],
   "source": [
    "test.head(10)"
   ]
  },
  {
   "cell_type": "code",
   "execution_count": null,
   "id": "d072e943",
   "metadata": {},
   "outputs": [],
   "source": []
  },
  {
   "cell_type": "code",
   "execution_count": 120,
   "id": "0bbc95aa",
   "metadata": {},
   "outputs": [],
   "source": [
    "test_unmatch = test.loc[test['label'] != test['pred']].copy()"
   ]
  },
  {
   "cell_type": "code",
   "execution_count": 121,
   "id": "97980b1f",
   "metadata": {},
   "outputs": [
    {
     "data": {
      "text/plain": [
       "segment\n",
       "Cecum     465\n",
       "DC        465\n",
       "Rectum    465\n",
       "SC        465\n",
       "TC        465\n",
       "dtype: int64"
      ]
     },
     "execution_count": 121,
     "metadata": {},
     "output_type": "execute_result"
    }
   ],
   "source": [
    "test.groupby('segment').size()"
   ]
  },
  {
   "cell_type": "code",
   "execution_count": 122,
   "id": "1bb38196",
   "metadata": {},
   "outputs": [
    {
     "data": {
      "text/plain": [
       "segment\n",
       "Cecum      54\n",
       "DC         88\n",
       "Rectum    125\n",
       "SC         79\n",
       "TC         84\n",
       "dtype: int64"
      ]
     },
     "execution_count": 122,
     "metadata": {},
     "output_type": "execute_result"
    }
   ],
   "source": [
    "test_unmatch.groupby('segment').size()"
   ]
  },
  {
   "cell_type": "code",
   "execution_count": null,
   "id": "c45a2120",
   "metadata": {},
   "outputs": [],
   "source": []
  },
  {
   "cell_type": "code",
   "execution_count": null,
   "id": "ce080fab",
   "metadata": {},
   "outputs": [],
   "source": []
  },
  {
   "cell_type": "code",
   "execution_count": null,
   "id": "0e87d431",
   "metadata": {},
   "outputs": [],
   "source": []
  },
  {
   "cell_type": "code",
   "execution_count": 97,
   "id": "4bbae1c0",
   "metadata": {},
   "outputs": [],
   "source": [
    "test.to_csv('test_6th_epoch_1.csv')"
   ]
  },
  {
   "cell_type": "code",
   "execution_count": null,
   "id": "c400710c",
   "metadata": {},
   "outputs": [],
   "source": []
  },
  {
   "cell_type": "code",
   "execution_count": null,
   "id": "c5d41f64",
   "metadata": {},
   "outputs": [],
   "source": []
  },
  {
   "cell_type": "code",
   "execution_count": null,
   "id": "25214362",
   "metadata": {},
   "outputs": [],
   "source": []
  },
  {
   "cell_type": "code",
   "execution_count": 30,
   "id": "b982f184",
   "metadata": {},
   "outputs": [],
   "source": [
    "unmatch_names = test_unmatch['image_id'].tolist()"
   ]
  },
  {
   "cell_type": "code",
   "execution_count": null,
   "id": "43bd9fc1",
   "metadata": {},
   "outputs": [],
   "source": []
  },
  {
   "cell_type": "code",
   "execution_count": 29,
   "id": "bd794752",
   "metadata": {},
   "outputs": [],
   "source": [
    "from shutil import copyfile\n",
    "for e in unmatch_names:\n",
    "    copyfile('test_data/V0672_p1_SSL' + e, 'inferenced_data/3rd_epoch_48/V0672_p1_SSL' + e)"
   ]
  },
  {
   "cell_type": "code",
   "execution_count": null,
   "id": "86104379",
   "metadata": {},
   "outputs": [],
   "source": []
  },
  {
   "cell_type": "code",
   "execution_count": null,
   "id": "6522825d",
   "metadata": {},
   "outputs": [],
   "source": []
  },
  {
   "cell_type": "code",
   "execution_count": null,
   "id": "780ceff0",
   "metadata": {},
   "outputs": [],
   "source": [
    "!kill -9 3181316"
   ]
  },
  {
   "cell_type": "code",
   "execution_count": null,
   "id": "1126ef54",
   "metadata": {},
   "outputs": [],
   "source": []
  },
  {
   "cell_type": "code",
   "execution_count": null,
   "id": "e30b28e2",
   "metadata": {},
   "outputs": [],
   "source": []
  },
  {
   "cell_type": "code",
   "execution_count": null,
   "id": "b41db0d5",
   "metadata": {},
   "outputs": [],
   "source": []
  },
  {
   "cell_type": "code",
   "execution_count": 43,
   "id": "a0744faf",
   "metadata": {},
   "outputs": [
    {
     "name": "stdout",
     "output_type": "stream",
     "text": [
      "0.95745\n",
      "[[122  10]\n",
      " [  2 148]]\n"
     ]
    }
   ],
   "source": [
    "# test\n",
    "# test['label'] = test['image_id'].apply(lambda x : 0 if 'cancer' in x else 1)\n",
    "test['pred'] = np.argmax(tst_preds, axis=1)\n",
    "#test['confidence score'] =np.max(tst_preds, axis=1)\n",
    "test_acc = np.sum(test.label == test.pred) / len(test)\n",
    "test_matrix = confusion_matrix(test['label'], test['pred'])\n",
    "print(round(test_acc, 5))\n",
    "print(test_matrix)"
   ]
  },
  {
   "cell_type": "code",
   "execution_count": 44,
   "id": "16c5736c",
   "metadata": {},
   "outputs": [
    {
     "data": {
      "text/html": [
       "<div>\n",
       "<style scoped>\n",
       "    .dataframe tbody tr th:only-of-type {\n",
       "        vertical-align: middle;\n",
       "    }\n",
       "\n",
       "    .dataframe tbody tr th {\n",
       "        vertical-align: top;\n",
       "    }\n",
       "\n",
       "    .dataframe thead th {\n",
       "        text-align: right;\n",
       "    }\n",
       "</style>\n",
       "<table border=\"1\" class=\"dataframe\">\n",
       "  <thead>\n",
       "    <tr style=\"text-align: right;\">\n",
       "      <th></th>\n",
       "      <th>image_id</th>\n",
       "      <th>label</th>\n",
       "      <th>pred</th>\n",
       "    </tr>\n",
       "  </thead>\n",
       "  <tbody>\n",
       "    <tr>\n",
       "      <th>0</th>\n",
       "      <td>/blur_1732/V1732_09834.png</td>\n",
       "      <td>1</td>\n",
       "      <td>1</td>\n",
       "    </tr>\n",
       "    <tr>\n",
       "      <th>1</th>\n",
       "      <td>/blur_1732/V1732_09835.png</td>\n",
       "      <td>1</td>\n",
       "      <td>1</td>\n",
       "    </tr>\n",
       "    <tr>\n",
       "      <th>2</th>\n",
       "      <td>/blur_1732/V1732_09836.png</td>\n",
       "      <td>1</td>\n",
       "      <td>1</td>\n",
       "    </tr>\n",
       "    <tr>\n",
       "      <th>3</th>\n",
       "      <td>/blur_1732/V1732_09805.png</td>\n",
       "      <td>1</td>\n",
       "      <td>1</td>\n",
       "    </tr>\n",
       "    <tr>\n",
       "      <th>5</th>\n",
       "      <td>/blur_1732/V1732_09806.png</td>\n",
       "      <td>1</td>\n",
       "      <td>1</td>\n",
       "    </tr>\n",
       "    <tr>\n",
       "      <th>...</th>\n",
       "      <td>...</td>\n",
       "      <td>...</td>\n",
       "      <td>...</td>\n",
       "    </tr>\n",
       "    <tr>\n",
       "      <th>105</th>\n",
       "      <td>/clean_1732/V1732_01843.png</td>\n",
       "      <td>0</td>\n",
       "      <td>1</td>\n",
       "    </tr>\n",
       "    <tr>\n",
       "      <th>106</th>\n",
       "      <td>/clean_1732/V1732_01841.png</td>\n",
       "      <td>0</td>\n",
       "      <td>1</td>\n",
       "    </tr>\n",
       "    <tr>\n",
       "      <th>107</th>\n",
       "      <td>/clean_1732/V1732_01835.png</td>\n",
       "      <td>0</td>\n",
       "      <td>1</td>\n",
       "    </tr>\n",
       "    <tr>\n",
       "      <th>108</th>\n",
       "      <td>/clean_1732/V1732_01834.png</td>\n",
       "      <td>0</td>\n",
       "      <td>1</td>\n",
       "    </tr>\n",
       "    <tr>\n",
       "      <th>109</th>\n",
       "      <td>/clean_1732/V1732_01833.png</td>\n",
       "      <td>0</td>\n",
       "      <td>1</td>\n",
       "    </tr>\n",
       "  </tbody>\n",
       "</table>\n",
       "<p>158 rows × 3 columns</p>\n",
       "</div>"
      ],
      "text/plain": [
       "                        image_id  label  pred\n",
       "0     /blur_1732/V1732_09834.png      1     1\n",
       "1     /blur_1732/V1732_09835.png      1     1\n",
       "2     /blur_1732/V1732_09836.png      1     1\n",
       "3     /blur_1732/V1732_09805.png      1     1\n",
       "5     /blur_1732/V1732_09806.png      1     1\n",
       "..                           ...    ...   ...\n",
       "105  /clean_1732/V1732_01843.png      0     1\n",
       "106  /clean_1732/V1732_01841.png      0     1\n",
       "107  /clean_1732/V1732_01835.png      0     1\n",
       "108  /clean_1732/V1732_01834.png      0     1\n",
       "109  /clean_1732/V1732_01833.png      0     1\n",
       "\n",
       "[158 rows x 3 columns]"
      ]
     },
     "execution_count": 44,
     "metadata": {},
     "output_type": "execute_result"
    }
   ],
   "source": [
    "test[test.pred == 1]"
   ]
  },
  {
   "cell_type": "code",
   "execution_count": null,
   "id": "fab55bfb",
   "metadata": {},
   "outputs": [],
   "source": []
  },
  {
   "cell_type": "code",
   "execution_count": null,
   "id": "254aba35",
   "metadata": {},
   "outputs": [],
   "source": []
  },
  {
   "cell_type": "code",
   "execution_count": 52,
   "id": "548199ce",
   "metadata": {
    "scrolled": true
   },
   "outputs": [],
   "source": [
    "test['Conf_scroe']=np.max(tst_preds, axis=1)"
   ]
  },
  {
   "cell_type": "code",
   "execution_count": 47,
   "id": "bf2cdc5e",
   "metadata": {},
   "outputs": [],
   "source": [
    "import shutil"
   ]
  },
  {
   "cell_type": "code",
   "execution_count": 49,
   "id": "a23dd740",
   "metadata": {},
   "outputs": [],
   "source": [
    "for image in test[test.pred == 0].image_id.values :\n",
    "    shutil.copy('/mnt/d/@diagnosis/NBI_same/'+image, '/mnt/d/@diagnosis/NBI_same_0/'+image)\n",
    "    #print(image)"
   ]
  },
  {
   "cell_type": "code",
   "execution_count": 54,
   "id": "713c0486",
   "metadata": {},
   "outputs": [],
   "source": [
    "test.to_csv('iq.csv',index=False)"
   ]
  },
  {
   "cell_type": "code",
   "execution_count": null,
   "id": "bd3d7d29",
   "metadata": {},
   "outputs": [],
   "source": []
  },
  {
   "cell_type": "code",
   "execution_count": null,
   "id": "9425db45",
   "metadata": {},
   "outputs": [],
   "source": []
  },
  {
   "cell_type": "code",
   "execution_count": null,
   "id": "a4e74a66",
   "metadata": {},
   "outputs": [],
   "source": []
  },
  {
   "cell_type": "code",
   "execution_count": null,
   "id": "e1db3776",
   "metadata": {},
   "outputs": [],
   "source": []
  },
  {
   "cell_type": "code",
   "execution_count": null,
   "id": "8522392b",
   "metadata": {},
   "outputs": [],
   "source": []
  },
  {
   "cell_type": "code",
   "execution_count": 42,
   "id": "6f21ec1a",
   "metadata": {},
   "outputs": [
    {
     "name": "stdout",
     "output_type": "stream",
     "text": [
      "0.98007\n",
      "[[ 880   29]\n",
      " [  12 1136]]\n"
     ]
    }
   ],
   "source": [
    "# train\n",
    "train_ = train.loc[trn_idx,:]\n",
    "train_['pred'] = np.argmax(trn_preds, axis=1)\n",
    "\n",
    "trn_acc = (train_.label.values==np.argmax(trn_preds, axis=1)).mean()\n",
    "trn_matrix = confusion_matrix(train_['label'], train_['pred'])\n",
    "print(round(trn_acc, 5))\n",
    "print(trn_matrix)"
   ]
  },
  {
   "cell_type": "code",
   "execution_count": 43,
   "id": "a0da9dc1",
   "metadata": {},
   "outputs": [
    {
     "data": {
      "text/plain": [
       "1    1148\n",
       "0     909\n",
       "Name: label, dtype: int64"
      ]
     },
     "execution_count": 43,
     "metadata": {},
     "output_type": "execute_result"
    }
   ],
   "source": [
    "train_.label.value_counts()"
   ]
  },
  {
   "cell_type": "code",
   "execution_count": 44,
   "id": "44ddfd54",
   "metadata": {},
   "outputs": [
    {
     "name": "stdout",
     "output_type": "stream",
     "text": [
      "0.97476\n",
      "[[222   6]\n",
      " [  7 280]]\n"
     ]
    }
   ],
   "source": [
    "# valid\n",
    "valid_['pred'] = np.argmax(val_preds, axis=1)\n",
    "\n",
    "# np.sum(train.label == train.pred) / len(train)\n",
    "val_acc = (valid_.label.values==np.argmax(val_preds, axis=1)).mean()\n",
    "val_matrix = confusion_matrix(valid_['label'], valid_['pred'])\n",
    "print(round(val_acc, 5))\n",
    "print(val_matrix)"
   ]
  },
  {
   "cell_type": "code",
   "execution_count": 52,
   "id": "d1893a03",
   "metadata": {},
   "outputs": [
    {
     "name": "stdout",
     "output_type": "stream",
     "text": [
      "0.97356\n",
      "[[ 121   11]\n",
      " [  29 1352]]\n"
     ]
    }
   ],
   "source": [
    "# test\n",
    "# test['label'] = test['image_id'].apply(lambda x : 0 if 'cancer' in x else 1)\n",
    "test['pred'] = np.argmax(tst_preds, axis=1)\n",
    "test['confidence score'] =np.max(tst_preds, axis=1)\n",
    "test_acc = np.sum(test.label == test.pred) / len(test)\n",
    "test_matrix = confusion_matrix(test['label'], test['pred'])\n",
    "print(round(test_acc, 5))\n",
    "print(test_matrix)"
   ]
  },
  {
   "cell_type": "code",
   "execution_count": 98,
   "id": "0e223bdd",
   "metadata": {},
   "outputs": [],
   "source": [
    "def score(df):\n",
    "    TP=len(df.query(\"label==1 and pred==1 \"))\n",
    "    TN=len(df.query(\"label==0 and pred==0 \"))\n",
    "    FP=len(df.query(\"label==0 and pred==1 \"))\n",
    "    FN=len(df.query(\"label==1 and pred==0 \"))\n",
    "    Sen=round(TP/(TP+FN),4)\n",
    "    Spe=round(TN/(TN+FP),4) if TN+FP != 0 else 0\n",
    "    PPV=round(TP/(TP+FP),4)\n",
    "    NPV=round(TN/(TN+FN),4) if TN+FN != 0 else 0\n",
    "    ACC=round((TP+TN)/(TP+TN+FP+FN),4)\n",
    "    print(\"TP:\",TP)\n",
    "    print(\"FP:\",FP)\n",
    "    print(\"TN:\",TN)\n",
    "    print(\"FN:\",FN)\n",
    "    print(\"Sen:\",Sen)\n",
    "    print(\"Spe:\",Spe)\n",
    "    print(\"PPV:\",PPV)\n",
    "    print(\"NPV:\",NPV)\n",
    "    print(\"ACC:\",ACC)"
   ]
  },
  {
   "cell_type": "code",
   "execution_count": 47,
   "id": "a3d47d62",
   "metadata": {},
   "outputs": [
    {
     "name": "stdout",
     "output_type": "stream",
     "text": [
      "TP: 1136\n",
      "FP: 29\n",
      "TN: 880\n",
      "FN: 12\n",
      "Sen: 0.9895\n",
      "Spe: 0.9681\n",
      "PPV: 0.9751\n",
      "NPV: 0.9865\n",
      "ACC: 0.9801\n"
     ]
    }
   ],
   "source": [
    "score(train_)"
   ]
  },
  {
   "cell_type": "code",
   "execution_count": 48,
   "id": "d572bf59",
   "metadata": {},
   "outputs": [
    {
     "name": "stdout",
     "output_type": "stream",
     "text": [
      "TP: 280\n",
      "FP: 6\n",
      "TN: 222\n",
      "FN: 7\n",
      "Sen: 0.9756\n",
      "Spe: 0.9737\n",
      "PPV: 0.979\n",
      "NPV: 0.9694\n",
      "ACC: 0.9748\n"
     ]
    }
   ],
   "source": [
    "score(valid_)"
   ]
  },
  {
   "cell_type": "code",
   "execution_count": 123,
   "id": "097b56bc",
   "metadata": {},
   "outputs": [
    {
     "name": "stdout",
     "output_type": "stream",
     "text": [
      "TP: 411\n",
      "FP: 376\n",
      "TN: 1484\n",
      "FN: 54\n",
      "Sen: 0.8839\n",
      "Spe: 0.7978\n",
      "PPV: 0.5222\n",
      "NPV: 0.9649\n",
      "ACC: 0.8151\n"
     ]
    }
   ],
   "source": [
    "score(test)"
   ]
  },
  {
   "cell_type": "code",
   "execution_count": 55,
   "id": "15c51c78",
   "metadata": {},
   "outputs": [
    {
     "data": {
      "text/html": [
       "<div>\n",
       "<style scoped>\n",
       "    .dataframe tbody tr th:only-of-type {\n",
       "        vertical-align: middle;\n",
       "    }\n",
       "\n",
       "    .dataframe tbody tr th {\n",
       "        vertical-align: top;\n",
       "    }\n",
       "\n",
       "    .dataframe thead th {\n",
       "        text-align: right;\n",
       "    }\n",
       "</style>\n",
       "<table border=\"1\" class=\"dataframe\">\n",
       "  <thead>\n",
       "    <tr style=\"text-align: right;\">\n",
       "      <th></th>\n",
       "      <th>image_id</th>\n",
       "      <th>label</th>\n",
       "      <th>pred</th>\n",
       "      <th>confidence score</th>\n",
       "    </tr>\n",
       "  </thead>\n",
       "  <tbody>\n",
       "    <tr>\n",
       "      <th>0</th>\n",
       "      <td>/blur_1732/V1732_09834.png</td>\n",
       "      <td>1</td>\n",
       "      <td>1</td>\n",
       "      <td>0.999997</td>\n",
       "    </tr>\n",
       "    <tr>\n",
       "      <th>1</th>\n",
       "      <td>/blur_1732/V1732_09835.png</td>\n",
       "      <td>1</td>\n",
       "      <td>1</td>\n",
       "      <td>1.000000</td>\n",
       "    </tr>\n",
       "    <tr>\n",
       "      <th>2</th>\n",
       "      <td>/blur_1732/V1732_09836.png</td>\n",
       "      <td>1</td>\n",
       "      <td>1</td>\n",
       "      <td>0.999225</td>\n",
       "    </tr>\n",
       "    <tr>\n",
       "      <th>3</th>\n",
       "      <td>/blur_1732/V1732_09805.png</td>\n",
       "      <td>1</td>\n",
       "      <td>1</td>\n",
       "      <td>1.000000</td>\n",
       "    </tr>\n",
       "    <tr>\n",
       "      <th>4</th>\n",
       "      <td>/blur_1732/V1732_09804.png</td>\n",
       "      <td>1</td>\n",
       "      <td>1</td>\n",
       "      <td>0.999984</td>\n",
       "    </tr>\n",
       "    <tr>\n",
       "      <th>...</th>\n",
       "      <td>...</td>\n",
       "      <td>...</td>\n",
       "      <td>...</td>\n",
       "      <td>...</td>\n",
       "    </tr>\n",
       "    <tr>\n",
       "      <th>127</th>\n",
       "      <td>/clean_1732/V1732_00899.png</td>\n",
       "      <td>0</td>\n",
       "      <td>0</td>\n",
       "      <td>0.997530</td>\n",
       "    </tr>\n",
       "    <tr>\n",
       "      <th>128</th>\n",
       "      <td>/clean_1732/V1732_00898.png</td>\n",
       "      <td>0</td>\n",
       "      <td>0</td>\n",
       "      <td>0.999677</td>\n",
       "    </tr>\n",
       "    <tr>\n",
       "      <th>129</th>\n",
       "      <td>/clean_1732/V1732_00897.png</td>\n",
       "      <td>0</td>\n",
       "      <td>0</td>\n",
       "      <td>0.999659</td>\n",
       "    </tr>\n",
       "    <tr>\n",
       "      <th>130</th>\n",
       "      <td>/clean_1732/V1732_00896.png</td>\n",
       "      <td>0</td>\n",
       "      <td>0</td>\n",
       "      <td>0.998792</td>\n",
       "    </tr>\n",
       "    <tr>\n",
       "      <th>131</th>\n",
       "      <td>/clean_1732/V1732_00873.png</td>\n",
       "      <td>0</td>\n",
       "      <td>0</td>\n",
       "      <td>0.999992</td>\n",
       "    </tr>\n",
       "  </tbody>\n",
       "</table>\n",
       "<p>1513 rows × 4 columns</p>\n",
       "</div>"
      ],
      "text/plain": [
       "                        image_id  label  pred  confidence score\n",
       "0     /blur_1732/V1732_09834.png      1     1          0.999997\n",
       "1     /blur_1732/V1732_09835.png      1     1          1.000000\n",
       "2     /blur_1732/V1732_09836.png      1     1          0.999225\n",
       "3     /blur_1732/V1732_09805.png      1     1          1.000000\n",
       "4     /blur_1732/V1732_09804.png      1     1          0.999984\n",
       "..                           ...    ...   ...               ...\n",
       "127  /clean_1732/V1732_00899.png      0     0          0.997530\n",
       "128  /clean_1732/V1732_00898.png      0     0          0.999677\n",
       "129  /clean_1732/V1732_00897.png      0     0          0.999659\n",
       "130  /clean_1732/V1732_00896.png      0     0          0.998792\n",
       "131  /clean_1732/V1732_00873.png      0     0          0.999992\n",
       "\n",
       "[1513 rows x 4 columns]"
      ]
     },
     "execution_count": 55,
     "metadata": {},
     "output_type": "execute_result"
    }
   ],
   "source": [
    "test"
   ]
  },
  {
   "cell_type": "code",
   "execution_count": 60,
   "id": "c1be8a13",
   "metadata": {},
   "outputs": [],
   "source": [
    "test.to_csv(\"blur_classification_model_106_21_test_1732.xlsx\",index=False)"
   ]
  },
  {
   "cell_type": "markdown",
   "id": "4942c632",
   "metadata": {},
   "source": [
    "## Roc Score, Precision, Recal"
   ]
  },
  {
   "cell_type": "code",
   "execution_count": 56,
   "id": "73c0fb36",
   "metadata": {},
   "outputs": [],
   "source": [
    "from sklearn.metrics import *"
   ]
  },
  {
   "cell_type": "code",
   "execution_count": 31,
   "id": "fd351c82",
   "metadata": {},
   "outputs": [],
   "source": [
    "def softmax(x):\n",
    "    \n",
    "    max = np.max(x,axis=1,keepdims=True) #returns max of each row and keeps same dims\n",
    "    e_x = np.exp(x - max) #subtracts each row with its max value\n",
    "    sum = np.sum(e_x,axis=1,keepdims=True) #returns sum of each row and keeps same dims\n",
    "    f_x = e_x / sum \n",
    "    return f_x\n",
    "\n",
    "def get_clf_eval(y_test, pred=None, pred_proba=None):\n",
    "    confusion = confusion_matrix(y_test, pred)\n",
    "    accuracy = accuracy_score(y_test, pred)\n",
    "    precision = precision_score(y_test, pred)\n",
    "    recall = recall_score(y_test, pred)\n",
    "    f1 = f1_score(y_test, pred)\n",
    "    \n",
    "    # ROC AUC\n",
    "    roc_auc = roc_auc_score(y_test, pred_proba)\n",
    "    print('Confusion Matrix')\n",
    "    print(confusion)\n",
    "    \n",
    "    print('accuracy: {0:.5f}, roc_auc: {1:.5f}, precision: {2:.5f}, recall: {3:.5f}, f1: {4:.5f}'.format(\n",
    "         accuracy, roc_auc, precision, recall, f1))"
   ]
  },
  {
   "cell_type": "code",
   "execution_count": 52,
   "id": "1c2e9061",
   "metadata": {},
   "outputs": [
    {
     "name": "stdout",
     "output_type": "stream",
     "text": [
      "Confusion Matrix\n",
      "[[ 880   29]\n",
      " [  12 1136]]\n",
      "accuracy: 0.98007, roc_auc: 0.99743, precision: 0.97511, recall: 0.98955, f1: 0.98227\n"
     ]
    }
   ],
   "source": [
    "train_eval = get_clf_eval(train_.label, pred=train_.pred, pred_proba=softmax(trn_preds)[:, 1])\n",
    "train_eval"
   ]
  },
  {
   "cell_type": "code",
   "execution_count": 53,
   "id": "875936ba",
   "metadata": {},
   "outputs": [
    {
     "name": "stdout",
     "output_type": "stream",
     "text": [
      "Confusion Matrix\n",
      "[[222   6]\n",
      " [  7 280]]\n",
      "accuracy: 0.97476, roc_auc: 0.99621, precision: 0.97902, recall: 0.97561, f1: 0.97731\n"
     ]
    }
   ],
   "source": [
    "valid_eval = get_clf_eval(valid_.label, pred=valid_.pred, pred_proba=softmax(val_preds)[:, 1])\n",
    "valid_eval"
   ]
  },
  {
   "cell_type": "code",
   "execution_count": 32,
   "id": "46ac393c",
   "metadata": {},
   "outputs": [
    {
     "ename": "NameError",
     "evalue": "name 'accuracy_score' is not defined",
     "output_type": "error",
     "traceback": [
      "\u001b[0;31m---------------------------------------------------------------------------\u001b[0m",
      "\u001b[0;31mNameError\u001b[0m                                 Traceback (most recent call last)",
      "Input \u001b[0;32mIn [32]\u001b[0m, in \u001b[0;36m<cell line: 1>\u001b[0;34m()\u001b[0m\n\u001b[0;32m----> 1\u001b[0m test_eval \u001b[38;5;241m=\u001b[39m \u001b[43mget_clf_eval\u001b[49m\u001b[43m(\u001b[49m\u001b[43mtest\u001b[49m\u001b[38;5;241;43m.\u001b[39;49m\u001b[43mlabel\u001b[49m\u001b[43m,\u001b[49m\u001b[43m \u001b[49m\u001b[43mpred\u001b[49m\u001b[38;5;241;43m=\u001b[39;49m\u001b[43mtest\u001b[49m\u001b[38;5;241;43m.\u001b[39;49m\u001b[43mpred\u001b[49m\u001b[43m,\u001b[49m\u001b[43m \u001b[49m\u001b[43mpred_proba\u001b[49m\u001b[38;5;241;43m=\u001b[39;49m\u001b[43msoftmax\u001b[49m\u001b[43m(\u001b[49m\u001b[43mtst_preds\u001b[49m\u001b[43m)\u001b[49m\u001b[43m[\u001b[49m\u001b[43m:\u001b[49m\u001b[43m,\u001b[49m\u001b[43m \u001b[49m\u001b[38;5;241;43m1\u001b[39;49m\u001b[43m]\u001b[49m\u001b[43m)\u001b[49m\n\u001b[1;32m      2\u001b[0m test_eval\n",
      "Input \u001b[0;32mIn [31]\u001b[0m, in \u001b[0;36mget_clf_eval\u001b[0;34m(y_test, pred, pred_proba)\u001b[0m\n\u001b[1;32m      9\u001b[0m \u001b[38;5;28;01mdef\u001b[39;00m \u001b[38;5;21mget_clf_eval\u001b[39m(y_test, pred\u001b[38;5;241m=\u001b[39m\u001b[38;5;28;01mNone\u001b[39;00m, pred_proba\u001b[38;5;241m=\u001b[39m\u001b[38;5;28;01mNone\u001b[39;00m):\n\u001b[1;32m     10\u001b[0m     confusion \u001b[38;5;241m=\u001b[39m confusion_matrix(y_test, pred)\n\u001b[0;32m---> 11\u001b[0m     accuracy \u001b[38;5;241m=\u001b[39m \u001b[43maccuracy_score\u001b[49m(y_test, pred)\n\u001b[1;32m     12\u001b[0m     precision \u001b[38;5;241m=\u001b[39m precision_score(y_test, pred)\n\u001b[1;32m     13\u001b[0m     recall \u001b[38;5;241m=\u001b[39m recall_score(y_test, pred)\n",
      "\u001b[0;31mNameError\u001b[0m: name 'accuracy_score' is not defined"
     ]
    }
   ],
   "source": [
    "test_eval = get_clf_eval(test.label, pred=test.pred, pred_proba=softmax(tst_preds)[:, 1])\n",
    "test_eval"
   ]
  },
  {
   "cell_type": "code",
   "execution_count": null,
   "id": "e572e130",
   "metadata": {},
   "outputs": [],
   "source": []
  }
 ],
 "metadata": {
  "kernelspec": {
   "display_name": "torch-gpu",
   "language": "python",
   "name": "torch"
  },
  "language_info": {
   "codemirror_mode": {
    "name": "ipython",
    "version": 3
   },
   "file_extension": ".py",
   "mimetype": "text/x-python",
   "name": "python",
   "nbconvert_exporter": "python",
   "pygments_lexer": "ipython3",
   "version": "3.10.6"
  }
 },
 "nbformat": 4,
 "nbformat_minor": 5
}
